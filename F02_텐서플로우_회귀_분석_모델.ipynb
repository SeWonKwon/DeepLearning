{
  "nbformat": 4,
  "nbformat_minor": 0,
  "metadata": {
    "colab": {
      "name": "F02_텐서플로우 회귀 분석 모델.ipynb",
      "provenance": [],
      "collapsed_sections": [],
      "include_colab_link": true
    },
    "kernelspec": {
      "name": "python3",
      "display_name": "Python 3"
    },
    "accelerator": "GPU"
  },
  "cells": [
    {
      "cell_type": "markdown",
      "metadata": {
        "id": "view-in-github",
        "colab_type": "text"
      },
      "source": [
        "<a href=\"https://colab.research.google.com/github/SeWonKwon/DeepLearning/blob/main/F02_%ED%85%90%EC%84%9C%ED%94%8C%EB%A1%9C%EC%9A%B0_%ED%9A%8C%EA%B7%80_%EB%B6%84%EC%84%9D_%EB%AA%A8%EB%8D%B8.ipynb\" target=\"_parent\"><img src=\"https://colab.research.google.com/assets/colab-badge.svg\" alt=\"Open In Colab\"/></a>"
      ]
    },
    {
      "cell_type": "markdown",
      "metadata": {
        "id": "ME4xVKRSvWxH"
      },
      "source": [
        "# 텐서플로우 회귀 분석 모델\n",
        "\n",
        "- 다양한 방법이 존재\n",
        "- 텐서플로우2만 사용하는 방법, 케라스를 이용한 방법, 둘을 모두 섞은 방법 등등  \n"
      ]
    },
    {
      "cell_type": "markdown",
      "metadata": {
        "id": "Lw9JHQ2btU9O"
      },
      "source": [
        "## 선형 회귀(Linear Regression)"
      ]
    },
    {
      "cell_type": "code",
      "metadata": {
        "id": "rc0SydSstXAj"
      },
      "source": [
        "import numpy as np\n",
        "import tensorflow as tf\n",
        "import matplotlib.pyplot as plt\n",
        "plt.style.use('seaborn-white')"
      ],
      "execution_count": null,
      "outputs": []
    },
    {
      "cell_type": "code",
      "metadata": {
        "id": "qvFld-m-tcnD"
      },
      "source": [
        "learning_rate = 0.01\n",
        "training_steps = 1000"
      ],
      "execution_count": null,
      "outputs": []
    },
    {
      "cell_type": "code",
      "metadata": {
        "id": "0-3wzjHjtgBg"
      },
      "source": [
        "X = np.random.randn(50)\n",
        "Y = 2*X + np.random.randn(50)"
      ],
      "execution_count": null,
      "outputs": []
    },
    {
      "cell_type": "code",
      "metadata": {
        "id": "yAdt62LKti-W"
      },
      "source": [
        "# 변수선언\n",
        "W = tf.Variable(np.random.randn(), name = 'weight')\n",
        "b = tf.Variable(np.random.randn(), name= 'bias')\n",
        "\n",
        "# 식선언\n",
        "def linear_regression(x):\n",
        "  return W * x + b\n",
        "\n",
        "# 로스 펑션\n",
        "def mean_square(y_pred, y_true):\n",
        "  return tf.reduce_mean(tf.square(y_pred - y_true))\n",
        "\n",
        "# 옵티마이져\n",
        "optimizer = tf.optimizers.SGD(learning_rate)"
      ],
      "execution_count": null,
      "outputs": []
    },
    {
      "cell_type": "code",
      "metadata": {
        "id": "P8mLzC5vuCwp"
      },
      "source": [
        "def run_optimization():\n",
        "  with tf.GradientTape() as tape:\n",
        "    pred = linear_regression(X)\n",
        "    loss = mean_square(pred, Y)\n",
        "\n",
        "  gradients = tape.gradient(loss, [W, b])\n",
        "\n",
        "  optimizer.apply_gradients(zip(gradients, [W, b]))"
      ],
      "execution_count": null,
      "outputs": []
    },
    {
      "cell_type": "code",
      "metadata": {
        "id": "dpMeJIaquPld",
        "colab": {
          "base_uri": "https://localhost:8080/"
        },
        "outputId": "c72f47f5-55ff-4760-a7d0-5ed6a255aa36"
      },
      "source": [
        "for step in range(1, training_steps + 1):\n",
        "  run_optimization()\n",
        "\n",
        "  if step % 50 == 0 :\n",
        "    pred = linear_regression(X)\n",
        "    loss = mean_square(pred, Y)\n",
        "    print(\"step: {:4d}\\tloss: {:.4f}\\tW: {:.4f}\\tb: {:.4f}\".format(step, loss, W.numpy(),b.numpy() ))"
      ],
      "execution_count": null,
      "outputs": [
        {
          "output_type": "stream",
          "text": [
            "step:   50\tloss: 1.0542\tW: 1.9078\tb: -0.0105\n",
            "step:  100\tloss: 1.0181\tW: 2.0253\tb: 0.0422\n",
            "step:  150\tloss: 1.0136\tW: 2.0618\tb: 0.0701\n",
            "step:  200\tloss: 1.0129\tW: 2.0739\tb: 0.0830\n",
            "step:  250\tloss: 1.0128\tW: 2.0782\tb: 0.0886\n",
            "step:  300\tloss: 1.0128\tW: 2.0798\tb: 0.0910\n",
            "step:  350\tloss: 1.0128\tW: 2.0804\tb: 0.0920\n",
            "step:  400\tloss: 1.0128\tW: 2.0806\tb: 0.0924\n",
            "step:  450\tloss: 1.0128\tW: 2.0807\tb: 0.0926\n",
            "step:  500\tloss: 1.0128\tW: 2.0808\tb: 0.0927\n",
            "step:  550\tloss: 1.0128\tW: 2.0808\tb: 0.0927\n",
            "step:  600\tloss: 1.0128\tW: 2.0808\tb: 0.0927\n",
            "step:  650\tloss: 1.0128\tW: 2.0808\tb: 0.0927\n",
            "step:  700\tloss: 1.0128\tW: 2.0808\tb: 0.0927\n",
            "step:  750\tloss: 1.0128\tW: 2.0808\tb: 0.0927\n",
            "step:  800\tloss: 1.0128\tW: 2.0808\tb: 0.0927\n",
            "step:  850\tloss: 1.0128\tW: 2.0808\tb: 0.0927\n",
            "step:  900\tloss: 1.0128\tW: 2.0808\tb: 0.0927\n",
            "step:  950\tloss: 1.0128\tW: 2.0808\tb: 0.0927\n",
            "step: 1000\tloss: 1.0128\tW: 2.0808\tb: 0.0927\n"
          ],
          "name": "stdout"
        }
      ]
    },
    {
      "cell_type": "code",
      "metadata": {
        "id": "is397GkquXu1"
      },
      "source": [
        ""
      ],
      "execution_count": null,
      "outputs": []
    },
    {
      "cell_type": "markdown",
      "metadata": {
        "id": "hmwhh8v7ooEh"
      },
      "source": [
        "## 다항 회귀 (Nonlinear Regression)\n"
      ]
    },
    {
      "cell_type": "markdown",
      "metadata": {
        "id": "JzPHMupUouoj"
      },
      "source": [
        "### modules import"
      ]
    },
    {
      "cell_type": "code",
      "metadata": {
        "id": "nwjaLZxmosFb"
      },
      "source": [
        ""
      ],
      "execution_count": null,
      "outputs": []
    },
    {
      "cell_type": "markdown",
      "metadata": {
        "id": "a4Eypd3lqIH7"
      },
      "source": [
        "### Hyper Parameters"
      ]
    },
    {
      "cell_type": "code",
      "metadata": {
        "id": "PwYv4RjrqKDk"
      },
      "source": [
        ""
      ],
      "execution_count": null,
      "outputs": []
    },
    {
      "cell_type": "markdown",
      "metadata": {
        "id": "SBFf3xYkpK__"
      },
      "source": [
        "### 변수 지정"
      ]
    },
    {
      "cell_type": "code",
      "metadata": {
        "id": "rdYHM586osJT"
      },
      "source": [
        ""
      ],
      "execution_count": null,
      "outputs": []
    },
    {
      "cell_type": "code",
      "metadata": {
        "id": "n0BoMoSgqmR2"
      },
      "source": [
        ""
      ],
      "execution_count": null,
      "outputs": []
    },
    {
      "cell_type": "markdown",
      "metadata": {
        "id": "3-ks5u2ypTtb"
      },
      "source": [
        "### 데이터 지정"
      ]
    },
    {
      "cell_type": "code",
      "metadata": {
        "id": "rgVzGBLEor8l"
      },
      "source": [
        ""
      ],
      "execution_count": null,
      "outputs": []
    },
    {
      "cell_type": "code",
      "metadata": {
        "id": "uodrzxT1rU1G"
      },
      "source": [
        ""
      ],
      "execution_count": null,
      "outputs": []
    },
    {
      "cell_type": "markdown",
      "metadata": {
        "id": "7C56lq45uM-V"
      },
      "source": [
        "### Util Functions"
      ]
    },
    {
      "cell_type": "code",
      "metadata": {
        "id": "_pvdH6U9uJ8i"
      },
      "source": [
        ""
      ],
      "execution_count": null,
      "outputs": []
    },
    {
      "cell_type": "markdown",
      "metadata": {
        "id": "kcme5VWPp6fz"
      },
      "source": [
        "### Optimizer"
      ]
    },
    {
      "cell_type": "code",
      "metadata": {
        "id": "R4TSy8j2or5J"
      },
      "source": [
        ""
      ],
      "execution_count": null,
      "outputs": []
    },
    {
      "cell_type": "markdown",
      "metadata": {
        "id": "5QVfbg2uqEx8"
      },
      "source": [
        "### 학습"
      ]
    },
    {
      "cell_type": "code",
      "metadata": {
        "id": "DBjCdWz9or1p"
      },
      "source": [
        ""
      ],
      "execution_count": null,
      "outputs": []
    },
    {
      "cell_type": "markdown",
      "metadata": {
        "id": "Fbyej01IumFX"
      },
      "source": [
        "### 학습 후의 회귀선"
      ]
    },
    {
      "cell_type": "code",
      "metadata": {
        "id": "gKqDyDwXugdP"
      },
      "source": [
        ""
      ],
      "execution_count": null,
      "outputs": []
    },
    {
      "cell_type": "markdown",
      "metadata": {
        "id": "jtCFXjS6uwry"
      },
      "source": [
        "## 로지스틱 회귀(Logistic Regression)\n",
        "- 다항 분류, MNIST"
      ]
    },
    {
      "cell_type": "markdown",
      "metadata": {
        "id": "GIdxzXa1vJmt"
      },
      "source": [
        "### modules import"
      ]
    },
    {
      "cell_type": "code",
      "metadata": {
        "id": "LGHeQjgYumXM"
      },
      "source": [
        ""
      ],
      "execution_count": null,
      "outputs": []
    },
    {
      "cell_type": "markdown",
      "metadata": {
        "id": "96xeDaPJvFW1"
      },
      "source": [
        "### 하이퍼 파라미터 (Hyper Parameter)\n"
      ]
    },
    {
      "cell_type": "code",
      "metadata": {
        "id": "-lPlvJz1u6k-"
      },
      "source": [
        ""
      ],
      "execution_count": null,
      "outputs": []
    },
    {
      "cell_type": "markdown",
      "metadata": {
        "id": "ZM5M9h8NvDWV"
      },
      "source": [
        "### 데이터 로드"
      ]
    },
    {
      "cell_type": "code",
      "metadata": {
        "id": "qnobrT26vAvQ"
      },
      "source": [
        ""
      ],
      "execution_count": null,
      "outputs": []
    },
    {
      "cell_type": "markdown",
      "metadata": {
        "id": "o3bJVBPtve43"
      },
      "source": [
        "### tf.data API 사용\n",
        "- 03 에서 다시 다룸 "
      ]
    },
    {
      "cell_type": "code",
      "metadata": {
        "id": "-OWS2nV_vPly"
      },
      "source": [
        ""
      ],
      "execution_count": null,
      "outputs": []
    },
    {
      "cell_type": "markdown",
      "metadata": {
        "id": "fHbbQ29awub_"
      },
      "source": [
        "### 변수 지정"
      ]
    },
    {
      "cell_type": "code",
      "metadata": {
        "id": "NTMKizyIww0x"
      },
      "source": [
        ""
      ],
      "execution_count": null,
      "outputs": []
    },
    {
      "cell_type": "markdown",
      "metadata": {
        "id": "kiK9LRUNwxC1"
      },
      "source": [
        "### Util Functions"
      ]
    },
    {
      "cell_type": "code",
      "metadata": {
        "id": "ylkNeSdhvbi6"
      },
      "source": [
        ""
      ],
      "execution_count": null,
      "outputs": []
    },
    {
      "cell_type": "markdown",
      "metadata": {
        "id": "ePdcyFeUxVNu"
      },
      "source": [
        "### Optimizer"
      ]
    },
    {
      "cell_type": "code",
      "metadata": {
        "id": "uAQHksH_xW6h"
      },
      "source": [
        ""
      ],
      "execution_count": null,
      "outputs": []
    },
    {
      "cell_type": "code",
      "metadata": {
        "id": "hksbn4Njvvyk"
      },
      "source": [
        ""
      ],
      "execution_count": null,
      "outputs": []
    },
    {
      "cell_type": "markdown",
      "metadata": {
        "id": "6B0i4_VvzheR"
      },
      "source": [
        "### 학습 진행"
      ]
    },
    {
      "cell_type": "code",
      "metadata": {
        "id": "k1z97_GVwrOV"
      },
      "source": [
        ""
      ],
      "execution_count": null,
      "outputs": []
    },
    {
      "cell_type": "markdown",
      "metadata": {
        "id": "RTv-fBSMzj3e"
      },
      "source": [
        "###  테스트"
      ]
    },
    {
      "cell_type": "code",
      "metadata": {
        "id": "MlKYyRnWxbzs"
      },
      "source": [
        ""
      ],
      "execution_count": null,
      "outputs": []
    },
    {
      "cell_type": "markdown",
      "metadata": {
        "id": "NX_R9BP3zkzH"
      },
      "source": [
        "### 시각화"
      ]
    },
    {
      "cell_type": "code",
      "metadata": {
        "id": "Y2sVd13zyh3a"
      },
      "source": [
        ""
      ],
      "execution_count": null,
      "outputs": []
    }
  ]
}