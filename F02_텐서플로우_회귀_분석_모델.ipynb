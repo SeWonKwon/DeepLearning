{
  "nbformat": 4,
  "nbformat_minor": 0,
  "metadata": {
    "colab": {
      "name": "F02_텐서플로우 회귀 분석 모델.ipynb",
      "provenance": [],
      "collapsed_sections": [],
      "include_colab_link": true
    },
    "kernelspec": {
      "name": "python3",
      "display_name": "Python 3"
    },
    "accelerator": "GPU"
  },
  "cells": [
    {
      "cell_type": "markdown",
      "metadata": {
        "id": "view-in-github",
        "colab_type": "text"
      },
      "source": [
        "<a href=\"https://colab.research.google.com/github/SeWonKwon/DeepLearning/blob/main/F02_%ED%85%90%EC%84%9C%ED%94%8C%EB%A1%9C%EC%9A%B0_%ED%9A%8C%EA%B7%80_%EB%B6%84%EC%84%9D_%EB%AA%A8%EB%8D%B8.ipynb\" target=\"_parent\"><img src=\"https://colab.research.google.com/assets/colab-badge.svg\" alt=\"Open In Colab\"/></a>"
      ]
    },
    {
      "cell_type": "markdown",
      "metadata": {
        "id": "ME4xVKRSvWxH"
      },
      "source": [
        "# 텐서플로우 회귀 분석 모델\n",
        "\n",
        "- 다양한 방법이 존재\n",
        "- 텐서플로우2만 사용하는 방법, 케라스를 이용한 방법, 둘을 모두 섞은 방법 등등  \n"
      ]
    },
    {
      "cell_type": "markdown",
      "metadata": {
        "id": "Lw9JHQ2btU9O"
      },
      "source": [
        "## 선형 회귀(Linear Regression)"
      ]
    },
    {
      "cell_type": "code",
      "metadata": {
        "id": "rc0SydSstXAj"
      },
      "source": [
        "import numpy as np\n",
        "import tensorflow as tf\n",
        "import matplotlib.pyplot as plt\n",
        "plt.style.use('seaborn-white')"
      ],
      "execution_count": 11,
      "outputs": []
    },
    {
      "cell_type": "code",
      "metadata": {
        "id": "qvFld-m-tcnD"
      },
      "source": [
        "learning_rate = 0.01\n",
        "training_steps = 1000"
      ],
      "execution_count": 2,
      "outputs": []
    },
    {
      "cell_type": "code",
      "metadata": {
        "id": "0-3wzjHjtgBg"
      },
      "source": [
        "X = np.random.randn(50)\n",
        "Y = 2*X + np.random.randn(50)"
      ],
      "execution_count": 3,
      "outputs": []
    },
    {
      "cell_type": "code",
      "metadata": {
        "id": "yAdt62LKti-W"
      },
      "source": [
        "# 변수선언\n",
        "W = tf.Variable(np.random.randn(), name = 'weight')\n",
        "b = tf.Variable(np.random.randn(), name= 'bias')\n",
        "\n",
        "# 식선언\n",
        "def linear_regression(x):\n",
        "  return W * x + b\n",
        "\n",
        "# 로스 펑션\n",
        "def mean_square(y_pred, y_true):\n",
        "  return tf.reduce_mean(tf.square(y_pred - y_true))\n",
        "\n",
        "# 옵티마이져\n",
        "optimizer = tf.optimizers.SGD(learning_rate)"
      ],
      "execution_count": 4,
      "outputs": []
    },
    {
      "cell_type": "code",
      "metadata": {
        "id": "P8mLzC5vuCwp"
      },
      "source": [
        "def run_optimization():\n",
        "  with tf.GradientTape() as tape:\n",
        "    pred = linear_regression(X)\n",
        "    loss = mean_square(pred, Y)\n",
        "\n",
        "  gradients = tape.gradient(loss, [W, b])\n",
        "\n",
        "  optimizer.apply_gradients(zip(gradients, [W, b]))"
      ],
      "execution_count": 5,
      "outputs": []
    },
    {
      "cell_type": "code",
      "metadata": {
        "id": "dpMeJIaquPld",
        "colab": {
          "base_uri": "https://localhost:8080/"
        },
        "outputId": "254f54c7-9949-44f3-c281-368461dcf583"
      },
      "source": [
        "for step in range(1, training_steps + 1):\n",
        "  run_optimization()\n",
        "\n",
        "  if step % 50 == 0 :\n",
        "    pred = linear_regression(X)\n",
        "    loss = mean_square(pred, Y)\n",
        "    print(\"step: {:4d}\\tloss: {:.4f}\\tW: {:.4f}\\tb: {:.4f}\".format(step, loss, W.numpy(),b.numpy() ))"
      ],
      "execution_count": 6,
      "outputs": [
        {
          "output_type": "stream",
          "text": [
            "step:   50\tloss: 3.9906\tW: 0.5909\tb: -1.2741\n",
            "step:  100\tloss: 1.3738\tW: 1.4931\tb: -0.6128\n",
            "step:  150\tloss: 0.7905\tW: 1.8650\tb: -0.2347\n",
            "step:  200\tloss: 0.6522\tW: 2.0323\tb: -0.0377\n",
            "step:  250\tloss: 0.6189\tW: 2.1112\tb: 0.0615\n",
            "step:  300\tloss: 0.6109\tW: 2.1492\tb: 0.1107\n",
            "step:  350\tloss: 0.6090\tW: 2.1677\tb: 0.1350\n",
            "step:  400\tloss: 0.6086\tW: 2.1768\tb: 0.1469\n",
            "step:  450\tloss: 0.6084\tW: 2.1812\tb: 0.1528\n",
            "step:  500\tloss: 0.6084\tW: 2.1834\tb: 0.1557\n",
            "step:  550\tloss: 0.6084\tW: 2.1845\tb: 0.1571\n",
            "step:  600\tloss: 0.6084\tW: 2.1850\tb: 0.1578\n",
            "step:  650\tloss: 0.6084\tW: 2.1853\tb: 0.1581\n",
            "step:  700\tloss: 0.6084\tW: 2.1854\tb: 0.1583\n",
            "step:  750\tloss: 0.6084\tW: 2.1854\tb: 0.1584\n",
            "step:  800\tloss: 0.6084\tW: 2.1855\tb: 0.1584\n",
            "step:  850\tloss: 0.6084\tW: 2.1855\tb: 0.1584\n",
            "step:  900\tloss: 0.6084\tW: 2.1855\tb: 0.1584\n",
            "step:  950\tloss: 0.6084\tW: 2.1855\tb: 0.1584\n",
            "step: 1000\tloss: 0.6084\tW: 2.1855\tb: 0.1584\n"
          ],
          "name": "stdout"
        }
      ]
    },
    {
      "cell_type": "code",
      "metadata": {
        "id": "is397GkquXu1",
        "colab": {
          "base_uri": "https://localhost:8080/",
          "height": 262
        },
        "outputId": "b5fe4c43-e0d3-4eda-8d03-81b31b4fa293"
      },
      "source": [
        "plt.plot(X, Y, 'ro', label='Data')\n",
        "plt.plot(X, np.array(W * X + b), label='Fitted Line')\n",
        "plt.legend()\n",
        "plt.grid()\n",
        "plt.show()"
      ],
      "execution_count": 12,
      "outputs": [
        {
          "output_type": "display_data",
          "data": {
            "image/png": "[encoded data removed]",
            "text/plain": [
              "<Figure size 432x288 with 1 Axes>"
            ]
          },
          "metadata": {
            "tags": []
          }
        }
      ]
    },
    {
      "cell_type": "markdown",
      "metadata": {
        "id": "hmwhh8v7ooEh"
      },
      "source": [
        "## 다항 회귀 (Nonlinear Regression)\n"
      ]
    },
    {
      "cell_type": "markdown",
      "metadata": {
        "id": "JzPHMupUouoj"
      },
      "source": [
        "### modules import"
      ]
    },
    {
      "cell_type": "code",
      "metadata": {
        "id": "nwjaLZxmosFb"
      },
      "source": [
        "from tensorflow.keras.optimizers import Adam"
      ],
      "execution_count": 14,
      "outputs": []
    },
    {
      "cell_type": "markdown",
      "metadata": {
        "id": "a4Eypd3lqIH7"
      },
      "source": [
        "### Hyper Parameters"
      ]
    },
    {
      "cell_type": "code",
      "metadata": {
        "id": "PwYv4RjrqKDk"
      },
      "source": [
        "epochs = 1000\n",
        "learning_rate = 0.04"
      ],
      "execution_count": 15,
      "outputs": []
    },
    {
      "cell_type": "markdown",
      "metadata": {
        "id": "SBFf3xYkpK__"
      },
      "source": [
        "### 변수 지정"
      ]
    },
    {
      "cell_type": "code",
      "metadata": {
        "id": "rdYHM586osJT"
      },
      "source": [
        "a = tf.Variable(np.random.randn())\n",
        "b = tf.Variable(np.random.randn())\n",
        "c = tf.Variable(np.random.randn())"
      ],
      "execution_count": 34,
      "outputs": []
    },
    {
      "cell_type": "code",
      "metadata": {
        "id": "n0BoMoSgqmR2",
        "colab": {
          "base_uri": "https://localhost:8080/"
        },
        "outputId": "b8bec2b6-555c-4aa5-a17a-424844a6576f"
      },
      "source": [
        "print(a.numpy())\n",
        "print(b.numpy())\n",
        "print(c.numpy())"
      ],
      "execution_count": 35,
      "outputs": [
        {
          "output_type": "stream",
          "text": [
            "-0.755541\n",
            "-0.8689512\n",
            "0.19146264\n"
          ],
          "name": "stdout"
        }
      ]
    },
    {
      "cell_type": "markdown",
      "metadata": {
        "id": "3-ks5u2ypTtb"
      },
      "source": [
        "### 데이터 지정"
      ]
    },
    {
      "cell_type": "code",
      "metadata": {
        "id": "rgVzGBLEor8l"
      },
      "source": [
        "X = np.random.randn(50)\n",
        "Y = X**2 + X*np.random.randn(50)"
      ],
      "execution_count": 36,
      "outputs": []
    },
    {
      "cell_type": "code",
      "metadata": {
        "id": "uodrzxT1rU1G",
        "colab": {
          "base_uri": "https://localhost:8080/",
          "height": 262
        },
        "outputId": "2d4e2e61-85ce-4406-ba05-417ff0f2be62"
      },
      "source": [
        "line_x = np.arange(min(X), max(X), 0.001)\n",
        "line_y = a * line_x**2 + b*line_x + c\n",
        "\n",
        "x_ = np.arange(-4.0, 4.0, 0.001)\n",
        "y_ = a*x_**2 + b*x_ + c\n",
        "\n",
        "plt.scatter(X, Y, label='X data')\n",
        "plt.plot(x_, y_, 'g--', label='origin line')\n",
        "plt.plot(line_x, line_y, 'r-', label='befortrain')\n",
        "plt.xlim(-4.0, 4.0)\n",
        "plt.legend()\n",
        "plt.grid()\n",
        "plt.show()"
      ],
      "execution_count": 37,
      "outputs": [
        {
          "output_type": "display_data",
          "data": {
            "image/png": "[encoded data removed]",
            "text/plain": [
              "<Figure size 432x288 with 1 Axes>"
            ]
          },
          "metadata": {
            "tags": []
          }
        }
      ]
    },
    {
      "cell_type": "markdown",
      "metadata": {
        "id": "7C56lq45uM-V"
      },
      "source": [
        "### Util Functions"
      ]
    },
    {
      "cell_type": "code",
      "metadata": {
        "id": "_pvdH6U9uJ8i"
      },
      "source": [
        "def compute_loss():\n",
        "  pred_y = a*(np.array(X)**2) + b*np.array(X) + c\n",
        "  loss = tf.reduce_mean((Y - pred_y)**2)\n",
        "  return loss"
      ],
      "execution_count": 38,
      "outputs": []
    },
    {
      "cell_type": "markdown",
      "metadata": {
        "id": "kcme5VWPp6fz"
      },
      "source": [
        "### Optimizer"
      ]
    },
    {
      "cell_type": "code",
      "metadata": {
        "id": "R4TSy8j2or5J"
      },
      "source": [
        "optimizer = Adam(learning_rate=learning_rate)"
      ],
      "execution_count": 39,
      "outputs": []
    },
    {
      "cell_type": "markdown",
      "metadata": {
        "id": "5QVfbg2uqEx8"
      },
      "source": [
        "### 학습"
      ]
    },
    {
      "cell_type": "code",
      "metadata": {
        "id": "DBjCdWz9or1p",
        "colab": {
          "base_uri": "https://localhost:8080/"
        },
        "outputId": "c68e5d6c-05cf-4394-9537-5f20bad5cdab"
      },
      "source": [
        "for epoch in range(1, epochs+1, 1):\n",
        "  optimizer.minimize(compute_loss, var_list=[a, b, c])\n",
        "\n",
        "  if epoch % 100 ==0:\n",
        "    print(\"epoch: {:4d}\\ta:{:.4f}\\tb:{:.4f}\\tc:{:.4f}\".format(epoch, a.numpy(), b.numpy(), c.numpy()))"
      ],
      "execution_count": 40,
      "outputs": [
        {
          "output_type": "stream",
          "text": [
            "epoch:  100\ta:0.6192\tb:-0.2954\tc:0.3123\n",
            "epoch:  200\ta:0.6884\tb:-0.3973\tc:0.2323\n",
            "epoch:  300\ta:0.6882\tb:-0.3971\tc:0.2325\n",
            "epoch:  400\ta:0.6882\tb:-0.3971\tc:0.2325\n",
            "epoch:  500\ta:0.6882\tb:-0.3971\tc:0.2325\n",
            "epoch:  600\ta:0.6882\tb:-0.3971\tc:0.2325\n",
            "epoch:  700\ta:0.6882\tb:-0.3971\tc:0.2325\n",
            "epoch:  800\ta:0.6882\tb:-0.3971\tc:0.2325\n",
            "epoch:  900\ta:0.6882\tb:-0.3971\tc:0.2325\n",
            "epoch: 1000\ta:0.6882\tb:-0.3971\tc:0.2325\n"
          ],
          "name": "stdout"
        }
      ]
    },
    {
      "cell_type": "markdown",
      "metadata": {
        "id": "Fbyej01IumFX"
      },
      "source": [
        "### 학습 후의 회귀선"
      ]
    },
    {
      "cell_type": "code",
      "metadata": {
        "id": "gKqDyDwXugdP",
        "colab": {
          "base_uri": "https://localhost:8080/",
          "height": 262
        },
        "outputId": "c34a442a-1923-4aa8-f2d3-ec85022820d9"
      },
      "source": [
        "line_x = np.arange(min(X), max(X), 0.001)\n",
        "line_y = a * line_x**2 + b*line_x + c\n",
        "\n",
        "plt.scatter(X, Y, label='X data')\n",
        "plt.plot(x_, y_, 'g--', label='origin line')\n",
        "plt.plot(line_x, line_y, 'r-', label='after train')\n",
        "plt.xlim(-4.0, 4.0)\n",
        "plt.legend()\n",
        "plt.grid()\n",
        "plt.show()"
      ],
      "execution_count": 41,
      "outputs": [
        {
          "output_type": "display_data",
          "data": {
            "image/png": "[encoded data removed]",
            "text/plain": [
              "<Figure size 432x288 with 1 Axes>"
            ]
          },
          "metadata": {
            "tags": []
          }
        }
      ]
    },
    {
      "cell_type": "markdown",
      "metadata": {
        "id": "jtCFXjS6uwry"
      },
      "source": [
        "## 로지스틱 회귀(Logistic Regression)\n",
        "- 다항 분류, MNIST"
      ]
    },
    {
      "cell_type": "markdown",
      "metadata": {
        "id": "GIdxzXa1vJmt"
      },
      "source": [
        "### modules import"
      ]
    },
    {
      "cell_type": "code",
      "metadata": {
        "id": "LGHeQjgYumXM"
      },
      "source": [
        "from tensorflow.keras.datasets import mnist"
      ],
      "execution_count": 42,
      "outputs": []
    },
    {
      "cell_type": "markdown",
      "metadata": {
        "id": "96xeDaPJvFW1"
      },
      "source": [
        "### 하이퍼 파라미터 (Hyper Parameter)\n"
      ]
    },
    {
      "cell_type": "code",
      "metadata": {
        "id": "-lPlvJz1u6k-"
      },
      "source": [
        "num_classes = 10\n",
        "num_features = 784\n",
        "\n",
        "learning_rate = 0.1\n",
        "training_steps = 1000\n",
        "batch_size = 256"
      ],
      "execution_count": 43,
      "outputs": []
    },
    {
      "cell_type": "markdown",
      "metadata": {
        "id": "ZM5M9h8NvDWV"
      },
      "source": [
        "### 데이터 로드"
      ]
    },
    {
      "cell_type": "code",
      "metadata": {
        "id": "qnobrT26vAvQ"
      },
      "source": [
        "(x_train, y_train), (x_test, y_test) = mnist.load_data()\n",
        "\n",
        "x_train, x_test = np.array(x_train, np.float32), np.array(x_test, np.float32)\n",
        "\n",
        "x_train, x_test = x_train.reshape([-1, num_features]), x_test.reshape([-1, num_features])\n",
        "\n",
        "x_train, x_test = x_train / 255. , x_test / 255. "
      ],
      "execution_count": 46,
      "outputs": []
    },
    {
      "cell_type": "markdown",
      "metadata": {
        "id": "o3bJVBPtve43"
      },
      "source": [
        "### tf.data API 사용\n",
        "- 03 에서 다시 다룸 "
      ]
    },
    {
      "cell_type": "code",
      "metadata": {
        "id": "-OWS2nV_vPly"
      },
      "source": [
        "train_data = tf.data.Dataset.from_tensor_slices((x_train, y_train))\n",
        "train_data = train_data.repeat().shuffle(5000).batch(batch_size).prefetch(1)"
      ],
      "execution_count": 52,
      "outputs": []
    },
    {
      "cell_type": "markdown",
      "metadata": {
        "id": "fHbbQ29awub_"
      },
      "source": [
        "### 변수 지정"
      ]
    },
    {
      "cell_type": "code",
      "metadata": {
        "id": "NTMKizyIww0x"
      },
      "source": [
        "W = tf.Variable(tf.random.normal([num_features, num_classes]), name='weight')\n",
        "b = tf.Variable(tf.zeros([num_classes]), name='bias')"
      ],
      "execution_count": 53,
      "outputs": []
    },
    {
      "cell_type": "markdown",
      "metadata": {
        "id": "kiK9LRUNwxC1"
      },
      "source": [
        "### Util Functions"
      ]
    },
    {
      "cell_type": "code",
      "metadata": {
        "id": "ylkNeSdhvbi6"
      },
      "source": [
        "def logistic_regression(x):\n",
        "  return tf.nn.softmax(tf.matmul(x, W) + b)\n",
        "\n",
        "def cross_entropy(pred_y, true_y):\n",
        "  true_y = tf.one_hot(true_y, depth=num_classes)\n",
        "  pred_y = tf.clip_by_value(pred_y, 1e-9, 1.)\n",
        "\n",
        "  return tf.reduce_mean(-tf.reduce_sum(true_y * tf.math.log(pred_y),1))\n",
        "\n",
        "def accuracy(y_pred, y_true):\n",
        "  correct_prediction = tf.equal(tf.argmax(y_pred, 1), tf.cast(y_true, tf.int64))\n",
        "  return tf.reduce_mean(tf.cast(correct_prediction, tf.float32))"
      ],
      "execution_count": 54,
      "outputs": []
    },
    {
      "cell_type": "markdown",
      "metadata": {
        "id": "ePdcyFeUxVNu"
      },
      "source": [
        "### Optimizer"
      ]
    },
    {
      "cell_type": "code",
      "metadata": {
        "id": "uAQHksH_xW6h"
      },
      "source": [
        "optimizer = tf.optimizers.SGD(learning_rate)"
      ],
      "execution_count": 55,
      "outputs": []
    },
    {
      "cell_type": "code",
      "metadata": {
        "id": "hksbn4Njvvyk"
      },
      "source": [
        "def run_optimization(x, y):\n",
        "  with tf.GradientTape() as tape:\n",
        "    pred = logistic_regression(x)\n",
        "    loss = cross_entropy(pred, y)\n",
        "\n",
        "  gradients = tape.gradient(loss, [W, b])\n",
        "\n",
        "  optimizer.apply_gradients(zip(gradients, [W, b]))"
      ],
      "execution_count": 56,
      "outputs": []
    },
    {
      "cell_type": "markdown",
      "metadata": {
        "id": "6B0i4_VvzheR"
      },
      "source": [
        "### 학습 진행"
      ]
    },
    {
      "cell_type": "code",
      "metadata": {
        "id": "k1z97_GVwrOV",
        "colab": {
          "base_uri": "https://localhost:8080/"
        },
        "outputId": "3d96f69a-8eb2-4582-c3ab-e9a784428f1a"
      },
      "source": [
        "for step, (batch_x, batch_y) in enumerate(train_data.take(training_steps), 1):\n",
        "  run_optimization(batch_x, batch_y)\n",
        "\n",
        "  if step % 50 == 0:\n",
        "    pred = logistic_regression(batch_x)\n",
        "    loss = cross_entropy(pred, batch_y)\n",
        "    acc = accuracy(pred, batch_y)\n",
        "    print(\"step: {:4d}\\tloss: {:.4f}\\taccuracy: {:4f}\".format(step, loss, acc))"
      ],
      "execution_count": 57,
      "outputs": [
        {
          "output_type": "stream",
          "text": [
            "step:   50\tloss: 6.9053\taccuracy: 0.250000\n",
            "step:  100\tloss: 4.2041\taccuracy: 0.375000\n",
            "step:  150\tloss: 3.5933\taccuracy: 0.464844\n",
            "step:  200\tloss: 2.1908\taccuracy: 0.585938\n",
            "step:  250\tloss: 2.2052\taccuracy: 0.625000\n",
            "step:  300\tloss: 2.0307\taccuracy: 0.648438\n",
            "step:  350\tloss: 1.7274\taccuracy: 0.671875\n",
            "step:  400\tloss: 1.6291\taccuracy: 0.718750\n",
            "step:  450\tloss: 1.4719\taccuracy: 0.761719\n",
            "step:  500\tloss: 1.0489\taccuracy: 0.777344\n",
            "step:  550\tloss: 1.2460\taccuracy: 0.765625\n",
            "step:  600\tloss: 1.1041\taccuracy: 0.769531\n",
            "step:  650\tloss: 1.3013\taccuracy: 0.710938\n",
            "step:  700\tloss: 0.9622\taccuracy: 0.804688\n",
            "step:  750\tloss: 0.8152\taccuracy: 0.835938\n",
            "step:  800\tloss: 0.8549\taccuracy: 0.796875\n",
            "step:  850\tloss: 1.3004\taccuracy: 0.765625\n",
            "step:  900\tloss: 1.0370\taccuracy: 0.789062\n",
            "step:  950\tloss: 1.1399\taccuracy: 0.781250\n",
            "step: 1000\tloss: 0.9497\taccuracy: 0.789062\n"
          ],
          "name": "stdout"
        }
      ]
    },
    {
      "cell_type": "markdown",
      "metadata": {
        "id": "RTv-fBSMzj3e"
      },
      "source": [
        "###  테스트"
      ]
    },
    {
      "cell_type": "code",
      "metadata": {
        "id": "MlKYyRnWxbzs",
        "colab": {
          "base_uri": "https://localhost:8080/"
        },
        "outputId": "145a81f9-cb37-4be1-f04a-eff860d9398d"
      },
      "source": [
        "pred = logistic_regression(x_test)\n",
        "print(\"Test Accuracy: {}\".format(accuracy(pred, y_test)))"
      ],
      "execution_count": 58,
      "outputs": [
        {
          "output_type": "stream",
          "text": [
            "Test Accuracy: 0.8097000122070312\n"
          ],
          "name": "stdout"
        }
      ]
    },
    {
      "cell_type": "markdown",
      "metadata": {
        "id": "NX_R9BP3zkzH"
      },
      "source": [
        "### 시각화"
      ]
    },
    {
      "cell_type": "code",
      "metadata": {
        "id": "Y2sVd13zyh3a",
        "colab": {
          "base_uri": "https://localhost:8080/",
          "height": 213
        },
        "outputId": "3a3c1188-9869-427b-ec39-01c2bf68f32b"
      },
      "source": [
        "num_images = 5\n",
        "test_images = x_test[:num_images]\n",
        "predictions = logistic_regression(test_images)\n",
        "\n",
        "plt.figure(figsize=(16, 8))\n",
        "for i in range(1, num_images+1, 1):\n",
        "  plt.subplot(1, num_images, i)\n",
        "  plt.imshow(np.reshape(test_images[i-1], [28, 28]), cmap='gray')\n",
        "  plt.title(\"Model rediction: {}\".format(np.argmax(predictions.numpy()[i-1])))\n",
        "\n",
        "plt.show()"
      ],
      "execution_count": 62,
      "outputs": [
        {
          "output_type": "display_data",
          "data": {
            "image/png": "[encoded data removed]",
            "text/plain": [
              "<Figure size 1152x576 with 5 Axes>"
            ]
          },
          "metadata": {
            "tags": []
          }
        }
      ]
    },
    {
      "cell_type": "code",
      "metadata": {
        "id": "ujOp3HoEWIbI"
      },
      "source": [
        ""
      ],
      "execution_count": null,
      "outputs": []
    }
  ]
}