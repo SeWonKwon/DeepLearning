{
  "nbformat": 4,
  "nbformat_minor": 0,
  "metadata": {
    "colab": {
      "name": " 텐서플로우(TensorFlow) 기초.ipynb",
      "provenance": [],
      "collapsed_sections": [],
      "include_colab_link": true
    },
    "kernelspec": {
      "name": "python3",
      "display_name": "Python 3"
    },
    "accelerator": "GPU"
  },
  "cells": [
    {
      "cell_type": "markdown",
      "metadata": {
        "id": "view-in-github",
        "colab_type": "text"
      },
      "source": [
        "<a href=\"https://colab.research.google.com/github/SeWonKwon/DeepLearning/blob/main/%ED%85%90%EC%84%9C%ED%94%8C%EB%A1%9C%EC%9A%B0(TensorFlow)_%EA%B8%B0%EC%B4%88.ipynb\" target=\"_parent\"><img src=\"https://colab.research.google.com/assets/colab-badge.svg\" alt=\"Open In Colab\"/></a>"
      ]
    },
    {
      "cell_type": "markdown",
      "metadata": {
        "id": "mpf4TRENWJMZ"
      },
      "source": [
        "# 텐서플로우 (Tensorflow)\n",
        "\n",
        "<img src=\"https://upload.wikimedia.org/wikipedia/commons/thumb/1/11/TensorFlowLogo.svg/1200px-TensorFlowLogo.svg.png\" width=\"300\">\n",
        "\n",
        "- 가장 널리 쓰이는 딥러닝 프레임워크 중 하나\n",
        "\n",
        "- 구글이 주도적으로 개발하는 플랫폼\n",
        "\n",
        "- 파이썬, C++ API를 기본적으로 제공하고,  \n",
        "  자바스크립트(JavaScript), 자바(Java), 고(Go), 스위프트(Swift) 등 다양한 프로그래밍 언어를 지원\n",
        "\n",
        "- tf.keras를 중심으로 고수준 API 통합 (2.x 버전)\n",
        "\n",
        "- TPU(Tensor Processing Unit) 지원\n",
        "  - TPU는 GPU보다 전력을 적게 소모, 경제적\n",
        "  \n",
        "  - 일반적으로 32비트(float32)로 수행되는 곱셈 연산을 16비트(float16)로 낮춤"
      ]
    },
    {
      "cell_type": "markdown",
      "metadata": {
        "id": "a9-NEf2BWd4M"
      },
      "source": [
        "## 텐서플로우 아키텍쳐\n",
        "\n",
        "<img src=\"https://developers.google.com/machine-learning/crash-course/images/TFHierarchy.svg\">\n",
        "\n",
        "<sub>출처: https://developers.google.com/machine-learning/crash-course/first-steps-with-tensorflow/toolkit</sub>"
      ]
    },
    {
      "cell_type": "markdown",
      "metadata": {
        "id": "wsUoHFDi06Vf"
      },
      "source": [
        "[이수안컴퓨터연구소 유튜브 출처](https://www.youtube.com/watch?v=B961QM47g64&t=1389s)\n"
      ]
    },
    {
      "cell_type": "markdown",
      "metadata": {
        "id": "c_ktVhFhYUiE"
      },
      "source": [
        "## 텐서플로우 시작하기"
      ]
    },
    {
      "cell_type": "code",
      "metadata": {
        "id": "SP9HL3ZvV0zR"
      },
      "source": [
        "import numpy as np\n",
        "import tensorflow as tf"
      ],
      "execution_count": null,
      "outputs": []
    },
    {
      "cell_type": "code",
      "metadata": {
        "id": "KvPQ0N4_YhDt",
        "colab": {
          "base_uri": "https://localhost:8080/"
        },
        "outputId": "201dcffa-3ee5-4b72-b17e-6693935cbe21"
      },
      "source": [
        "print(tf.__version__)"
      ],
      "execution_count": null,
      "outputs": [
        {
          "output_type": "stream",
          "text": [
            "2.4.1\n"
          ],
          "name": "stdout"
        }
      ]
    },
    {
      "cell_type": "markdown",
      "metadata": {
        "id": "d-9usyAXY7Gw"
      },
      "source": [
        "### 텐서(Tensor)의 객체\n",
        "- 타입(Type): `string`, `float32`, `float16`, `int32`, `int8` 등\n",
        "\n",
        "- 형상(Shape): 0, 1, 2차원 등의 데이터 차원 \n",
        "\n",
        "- 축(Rank): 차원의 개수"
      ]
    },
    {
      "cell_type": "markdown",
      "metadata": {
        "id": "dZeigiNEZODl"
      },
      "source": [
        "### 텐서의 차원과 연산"
      ]
    },
    {
      "cell_type": "code",
      "metadata": {
        "id": "GMVq68gUYksh",
        "colab": {
          "base_uri": "https://localhost:8080/"
        },
        "outputId": "78bbe5fc-ad25-414c-a49a-de27f419aca1"
      },
      "source": [
        "a  = tf.constant(2) # default dtype int32\n",
        "print(tf.rank(a)) # 0차원\n",
        "print(a)"
      ],
      "execution_count": null,
      "outputs": [
        {
          "output_type": "stream",
          "text": [
            "tf.Tensor(0, shape=(), dtype=int32)\n",
            "tf.Tensor(2, shape=(), dtype=int32)\n"
          ],
          "name": "stdout"
        }
      ]
    },
    {
      "cell_type": "code",
      "metadata": {
        "id": "MgOKILDqZZKP",
        "colab": {
          "base_uri": "https://localhost:8080/"
        },
        "outputId": "3708aaae-4dcb-475a-aea8-8a9cc72e197e"
      },
      "source": [
        "b = tf.constant([2,3])\n",
        "print(tf.rank(b)) # 1차원\n",
        "print(b)"
      ],
      "execution_count": null,
      "outputs": [
        {
          "output_type": "stream",
          "text": [
            "tf.Tensor(1, shape=(), dtype=int32)\n",
            "tf.Tensor([2 3], shape=(2,), dtype=int32)\n"
          ],
          "name": "stdout"
        }
      ]
    },
    {
      "cell_type": "code",
      "metadata": {
        "id": "k74H8ImTZbWi",
        "colab": {
          "base_uri": "https://localhost:8080/"
        },
        "outputId": "4c6a58ce-8211-4df6-c268-5a525041ad42"
      },
      "source": [
        "c = tf.constant([[2,3],[6,7]])\n",
        "print(tf.rank(c))\n",
        "print(c)"
      ],
      "execution_count": null,
      "outputs": [
        {
          "output_type": "stream",
          "text": [
            "tf.Tensor(2, shape=(), dtype=int32)\n",
            "tf.Tensor(\n",
            "[[2 3]\n",
            " [6 7]], shape=(2, 2), dtype=int32)\n"
          ],
          "name": "stdout"
        }
      ]
    },
    {
      "cell_type": "code",
      "metadata": {
        "id": "WmCCc587wkTy",
        "colab": {
          "base_uri": "https://localhost:8080/"
        },
        "outputId": "52b011d6-eef8-4746-ce35-7bfbf26a4cb1"
      },
      "source": [
        "d = tf.constant(['Hello'])\n",
        "print(tf.rank(d))\n",
        "print(d)"
      ],
      "execution_count": null,
      "outputs": [
        {
          "output_type": "stream",
          "text": [
            "tf.Tensor(1, shape=(), dtype=int32)\n",
            "tf.Tensor([b'Hello'], shape=(1,), dtype=string)\n"
          ],
          "name": "stdout"
        }
      ]
    },
    {
      "cell_type": "markdown",
      "metadata": {
        "id": "z3mgwo7FZ_0S"
      },
      "source": [
        "### 난수 생성"
      ]
    },
    {
      "cell_type": "code",
      "metadata": {
        "id": "eaT2dUJlZ2Cd",
        "colab": {
          "base_uri": "https://localhost:8080/"
        },
        "outputId": "f12963a0-8fe9-4794-bd3e-611e1527154a"
      },
      "source": [
        "rand = tf.random.uniform([1], 0, 1) # 동등한 확률 : uniform distribution\n",
        "print(rand.shape)\n",
        "print(tf.rank(rand))\n",
        "print(rand)\n",
        "rand"
      ],
      "execution_count": null,
      "outputs": [
        {
          "output_type": "stream",
          "text": [
            "(1,)\n",
            "tf.Tensor(1, shape=(), dtype=int32)\n",
            "tf.Tensor([0.8434584], shape=(1,), dtype=float32)\n"
          ],
          "name": "stdout"
        },
        {
          "output_type": "execute_result",
          "data": {
            "text/plain": [
              "<tf.Tensor: shape=(1,), dtype=float32, numpy=array([0.8434584], dtype=float32)>"
            ]
          },
          "metadata": {
            "tags": []
          },
          "execution_count": 7
        }
      ]
    },
    {
      "cell_type": "code",
      "metadata": {
        "id": "KfgimJg9aFgB",
        "colab": {
          "base_uri": "https://localhost:8080/"
        },
        "outputId": "78a0d942-61d0-4d4f-89d6-e20f2c19b96f"
      },
      "source": [
        "rand2 = tf.random.normal([1,2], 0, 1) # 정규 분포 : normal distribution\n",
        "print(rand2.shape)\n",
        "print(rand2)"
      ],
      "execution_count": null,
      "outputs": [
        {
          "output_type": "stream",
          "text": [
            "(1, 2)\n",
            "tf.Tensor([[ 1.1101966  -0.06488999]], shape=(1, 2), dtype=float32)\n"
          ],
          "name": "stdout"
        }
      ]
    },
    {
      "cell_type": "code",
      "metadata": {
        "id": "R_xdzhG5aPxB",
        "colab": {
          "base_uri": "https://localhost:8080/"
        },
        "outputId": "eb2409da-417c-478e-c27a-721855d4b53f"
      },
      "source": [
        "rand3 = tf.random.normal(shape=(3,2), mean=0, stddev=1)\n",
        "print(rand3.shape)\n",
        "rand3"
      ],
      "execution_count": null,
      "outputs": [
        {
          "output_type": "stream",
          "text": [
            "(3, 2)\n"
          ],
          "name": "stdout"
        },
        {
          "output_type": "execute_result",
          "data": {
            "text/plain": [
              "<tf.Tensor: shape=(3, 2), dtype=float32, numpy=\n",
              "array([[ 0.76547503, -0.3435235 ],\n",
              "       [-0.93831587,  1.2865462 ],\n",
              "       [ 0.5784094 , -0.09580006]], dtype=float32)>"
            ]
          },
          "metadata": {
            "tags": []
          },
          "execution_count": 9
        }
      ]
    },
    {
      "cell_type": "markdown",
      "metadata": {
        "id": "Za7HlqVba5wD"
      },
      "source": [
        "### 즉시 실행 모드 (Eager Mode) 지원\n",
        "- 즉시 실행모드를 통해 텐서플로우를 파이썬처럼 사용할 수 있음\n",
        "\n",
        "- 1.x 버전에서는 '그래프'를 생성하고, 초기화 한 뒤에 세션을 통해 **값을 흐르게 하는 작업**을 진행해야함\n"
      ]
    },
    {
      "cell_type": "code",
      "metadata": {
        "id": "fVBqOSFrbQ1e"
      },
      "source": [
        "a = tf.constant(3)\n",
        "b = tf.constant(2)"
      ],
      "execution_count": null,
      "outputs": []
    },
    {
      "cell_type": "code",
      "metadata": {
        "id": "1btItwSEbdEO",
        "colab": {
          "base_uri": "https://localhost:8080/"
        },
        "outputId": "833c5f24-f59c-4f9f-d192-1c9bb6344062"
      },
      "source": [
        "print(tf.add(a,b))\n",
        "print(a+b)"
      ],
      "execution_count": null,
      "outputs": [
        {
          "output_type": "stream",
          "text": [
            "tf.Tensor(5, shape=(), dtype=int32)\n",
            "tf.Tensor(5, shape=(), dtype=int32)\n"
          ],
          "name": "stdout"
        }
      ]
    },
    {
      "cell_type": "code",
      "metadata": {
        "id": "SaOXtxLpbfDC",
        "colab": {
          "base_uri": "https://localhost:8080/"
        },
        "outputId": "aa8d597e-d42c-4eda-fc6e-cd7e9f04ab92"
      },
      "source": [
        "print(tf.subtract(a,b))\n",
        "print(a-b)"
      ],
      "execution_count": null,
      "outputs": [
        {
          "output_type": "stream",
          "text": [
            "tf.Tensor(1, shape=(), dtype=int32)\n",
            "tf.Tensor(1, shape=(), dtype=int32)\n"
          ],
          "name": "stdout"
        }
      ]
    },
    {
      "cell_type": "code",
      "metadata": {
        "id": "UCApXIDNbtLF",
        "colab": {
          "base_uri": "https://localhost:8080/"
        },
        "outputId": "662315e1-0b87-4f3b-bd11-8f61676844d9"
      },
      "source": [
        "print(tf.multiply(a,b))\n",
        "print(a*b)"
      ],
      "execution_count": null,
      "outputs": [
        {
          "output_type": "stream",
          "text": [
            "tf.Tensor(6, shape=(), dtype=int32)\n",
            "tf.Tensor(6, shape=(), dtype=int32)\n"
          ],
          "name": "stdout"
        }
      ]
    },
    {
      "cell_type": "markdown",
      "metadata": {
        "id": "XyLkPW4Db67W"
      },
      "source": [
        "### 텐서 플로우 ↔ 넘파이\n",
        "- `numpy()`\n",
        "- `tf.convet_to_tensor()`"
      ]
    },
    {
      "cell_type": "code",
      "metadata": {
        "id": "c9AWzdJRb4Ez",
        "colab": {
          "base_uri": "https://localhost:8080/"
        },
        "outputId": "e15fe058-45cb-4efb-ecd2-dfbd8d9545ab"
      },
      "source": [
        "c = tf.add(a,b).numpy()\n",
        "print(type(c))\n",
        "c"
      ],
      "execution_count": null,
      "outputs": [
        {
          "output_type": "stream",
          "text": [
            "<class 'numpy.int32'>\n"
          ],
          "name": "stdout"
        },
        {
          "output_type": "execute_result",
          "data": {
            "text/plain": [
              "5"
            ]
          },
          "metadata": {
            "tags": []
          },
          "execution_count": 14
        }
      ]
    },
    {
      "cell_type": "code",
      "metadata": {
        "id": "ql4O755kcfnk",
        "colab": {
          "base_uri": "https://localhost:8080/"
        },
        "outputId": "52cf8ce9-7beb-418e-f2ec-9dc4bd02cdc6"
      },
      "source": [
        "c_square = np.square(c, dtype=np.float32)\n",
        "c_tensor= tf.convert_to_tensor(c_square)\n",
        "print(type(c_tensor))\n",
        "print(c_tensor)"
      ],
      "execution_count": null,
      "outputs": [
        {
          "output_type": "stream",
          "text": [
            "<class 'tensorflow.python.framework.ops.EagerTensor'>\n",
            "tf.Tensor(25.0, shape=(), dtype=float32)\n"
          ],
          "name": "stdout"
        }
      ]
    },
    {
      "cell_type": "markdown",
      "metadata": {
        "id": "LmWKhcWVk00O"
      },
      "source": [
        "### 넘파이처럼 사용하기\n"
      ]
    },
    {
      "cell_type": "code",
      "metadata": {
        "id": "0on9RGRllNnX",
        "colab": {
          "base_uri": "https://localhost:8080/"
        },
        "outputId": "6734021d-2eb8-4aba-aabb-8c73840544af"
      },
      "source": [
        "t = tf.constant([[1., 2., 3.],[4., 5., 6.]])\n",
        "print(t.shape)\n",
        "print(t.dtype)\n",
        "t"
      ],
      "execution_count": null,
      "outputs": [
        {
          "output_type": "stream",
          "text": [
            "(2, 3)\n",
            "<dtype: 'float32'>\n"
          ],
          "name": "stdout"
        },
        {
          "output_type": "execute_result",
          "data": {
            "text/plain": [
              "<tf.Tensor: shape=(2, 3), dtype=float32, numpy=\n",
              "array([[1., 2., 3.],\n",
              "       [4., 5., 6.]], dtype=float32)>"
            ]
          },
          "metadata": {
            "tags": []
          },
          "execution_count": 16
        }
      ]
    },
    {
      "cell_type": "code",
      "metadata": {
        "id": "lhlyV7oklUIh",
        "colab": {
          "base_uri": "https://localhost:8080/"
        },
        "outputId": "a52c98b3-88d6-41f0-a344-ed74fe37cecd"
      },
      "source": [
        "# numpy 처럼 slicing 역시 됩니다.\n",
        "print(t[:,1:])"
      ],
      "execution_count": null,
      "outputs": [
        {
          "output_type": "stream",
          "text": [
            "tf.Tensor(\n",
            "[[2. 3.]\n",
            " [5. 6.]], shape=(2, 2), dtype=float32)\n"
          ],
          "name": "stdout"
        }
      ]
    },
    {
      "cell_type": "markdown",
      "metadata": {
        "id": "kJCDpwgl9amQ"
      },
      "source": [
        "### newaxis\n",
        "\n",
        "resize 와  비슷 개념이다. \n",
        "\n",
        "new axis (새로 추가될 axis) 를 적어주는 곳에 생겨 나게 된다.  인덱싱을하듯이사용하면 된다."
      ]
    },
    {
      "cell_type": "code",
      "metadata": {
        "id": "wQJx7L5R-ZS3",
        "colab": {
          "base_uri": "https://localhost:8080/"
        },
        "outputId": "3bdef0a4-8428-416b-f008-2c4f1b4b7339"
      },
      "source": [
        "t"
      ],
      "execution_count": null,
      "outputs": [
        {
          "output_type": "execute_result",
          "data": {
            "text/plain": [
              "<tf.Tensor: shape=(2, 3), dtype=float32, numpy=\n",
              "array([[1., 2., 3.],\n",
              "       [4., 5., 6.]], dtype=float32)>"
            ]
          },
          "metadata": {
            "tags": []
          },
          "execution_count": 18
        }
      ]
    },
    {
      "cell_type": "code",
      "metadata": {
        "id": "lp22qvG4-alX",
        "colab": {
          "base_uri": "https://localhost:8080/"
        },
        "outputId": "79ffeb6c-7882-44ef-d21b-38a321f4c47f"
      },
      "source": [
        "t[tf.newaxis,...] # t 와 비교해 보면 0번 axis에 1이 추가 된것을 볼수 있다. "
      ],
      "execution_count": null,
      "outputs": [
        {
          "output_type": "execute_result",
          "data": {
            "text/plain": [
              "<tf.Tensor: shape=(1, 2, 3), dtype=float32, numpy=\n",
              "array([[[1., 2., 3.],\n",
              "        [4., 5., 6.]]], dtype=float32)>"
            ]
          },
          "metadata": {
            "tags": []
          },
          "execution_count": 19
        }
      ]
    },
    {
      "cell_type": "code",
      "metadata": {
        "id": "aJ0vNC2Z-rdf",
        "colab": {
          "base_uri": "https://localhost:8080/"
        },
        "outputId": "9dc9b508-2424-40e9-c896-de0c61f07460"
      },
      "source": [
        "t[:,tf.newaxis,...] # 1번 axis에 1이 추가 된것을 볼수 있다. "
      ],
      "execution_count": null,
      "outputs": [
        {
          "output_type": "execute_result",
          "data": {
            "text/plain": [
              "<tf.Tensor: shape=(2, 1, 3), dtype=float32, numpy=\n",
              "array([[[1., 2., 3.]],\n",
              "\n",
              "       [[4., 5., 6.]]], dtype=float32)>"
            ]
          },
          "metadata": {
            "tags": []
          },
          "execution_count": 20
        }
      ]
    },
    {
      "cell_type": "code",
      "metadata": {
        "id": "3SCf36nj9HVg",
        "colab": {
          "base_uri": "https://localhost:8080/"
        },
        "outputId": "5dabe0e8-c587-4071-db63-bc50c5d3230b"
      },
      "source": [
        "t[...,1] # 아래는 슬라이싱과 axis 추가 까지 같이 해준것이다."
      ],
      "execution_count": null,
      "outputs": [
        {
          "output_type": "execute_result",
          "data": {
            "text/plain": [
              "<tf.Tensor: shape=(2,), dtype=float32, numpy=array([2., 5.], dtype=float32)>"
            ]
          },
          "metadata": {
            "tags": []
          },
          "execution_count": 21
        }
      ]
    },
    {
      "cell_type": "code",
      "metadata": {
        "id": "tAenU-IL9zHL",
        "colab": {
          "base_uri": "https://localhost:8080/"
        },
        "outputId": "64cd8f48-7e9c-4a1c-933e-693ae65ca9e2"
      },
      "source": [
        "t[tf.newaxis,...,1]"
      ],
      "execution_count": null,
      "outputs": [
        {
          "output_type": "execute_result",
          "data": {
            "text/plain": [
              "<tf.Tensor: shape=(1, 2), dtype=float32, numpy=array([[2., 5.]], dtype=float32)>"
            ]
          },
          "metadata": {
            "tags": []
          },
          "execution_count": 22
        }
      ]
    },
    {
      "cell_type": "code",
      "metadata": {
        "id": "glWL8MITlo7H",
        "colab": {
          "base_uri": "https://localhost:8080/"
        },
        "outputId": "e8b6a319-9b14-4c37-c51f-d96d717b5b79"
      },
      "source": [
        "t[..., 1, tf.newaxis]"
      ],
      "execution_count": null,
      "outputs": [
        {
          "output_type": "execute_result",
          "data": {
            "text/plain": [
              "<tf.Tensor: shape=(2, 1), dtype=float32, numpy=\n",
              "array([[2.],\n",
              "       [5.]], dtype=float32)>"
            ]
          },
          "metadata": {
            "tags": []
          },
          "execution_count": 23
        }
      ]
    },
    {
      "cell_type": "code",
      "metadata": {
        "id": "Y8oXZmTn9kwD",
        "colab": {
          "base_uri": "https://localhost:8080/"
        },
        "outputId": "b90b4aba-da42-41d2-a0d3-7b076ad0885c"
      },
      "source": [
        "t[..., 1, tf.newaxis, tf.newaxis]"
      ],
      "execution_count": null,
      "outputs": [
        {
          "output_type": "execute_result",
          "data": {
            "text/plain": [
              "<tf.Tensor: shape=(2, 1, 1), dtype=float32, numpy=\n",
              "array([[[2.]],\n",
              "\n",
              "       [[5.]]], dtype=float32)>"
            ]
          },
          "metadata": {
            "tags": []
          },
          "execution_count": 24
        }
      ]
    },
    {
      "cell_type": "code",
      "metadata": {
        "id": "RtzQuhwnmRdu",
        "colab": {
          "base_uri": "https://localhost:8080/"
        },
        "outputId": "44363867-6f1f-4987-e508-9373897c848d"
      },
      "source": [
        "t[1, ..., tf.newaxis]"
      ],
      "execution_count": null,
      "outputs": [
        {
          "output_type": "execute_result",
          "data": {
            "text/plain": [
              "<tf.Tensor: shape=(3, 1), dtype=float32, numpy=\n",
              "array([[4.],\n",
              "       [5.],\n",
              "       [6.]], dtype=float32)>"
            ]
          },
          "metadata": {
            "tags": []
          },
          "execution_count": 25
        }
      ]
    },
    {
      "cell_type": "code",
      "metadata": {
        "id": "LGS0QSS763eQ",
        "colab": {
          "base_uri": "https://localhost:8080/"
        },
        "outputId": "116b88a0-e559-4440-d4d4-520effa6facf"
      },
      "source": [
        "t[1, tf.newaxis]"
      ],
      "execution_count": null,
      "outputs": [
        {
          "output_type": "execute_result",
          "data": {
            "text/plain": [
              "<tf.Tensor: shape=(1, 3), dtype=float32, numpy=array([[4., 5., 6.]], dtype=float32)>"
            ]
          },
          "metadata": {
            "tags": []
          },
          "execution_count": 26
        }
      ]
    },
    {
      "cell_type": "code",
      "metadata": {
        "id": "Z5wQhZ0xmRi6",
        "colab": {
          "base_uri": "https://localhost:8080/"
        },
        "outputId": "1d0106e9-f9a7-41fd-e2bc-0412e4bbf079"
      },
      "source": [
        "t+10 # 텐서 플로우 에서도 broadcast 가 가능하다."
      ],
      "execution_count": null,
      "outputs": [
        {
          "output_type": "execute_result",
          "data": {
            "text/plain": [
              "<tf.Tensor: shape=(2, 3), dtype=float32, numpy=\n",
              "array([[11., 12., 13.],\n",
              "       [14., 15., 16.]], dtype=float32)>"
            ]
          },
          "metadata": {
            "tags": []
          },
          "execution_count": 27
        }
      ]
    },
    {
      "cell_type": "code",
      "metadata": {
        "id": "Fj9RmYc6mRVh",
        "colab": {
          "base_uri": "https://localhost:8080/"
        },
        "outputId": "bc1d0fdf-38d2-4d9e-df35-41213b4762c1"
      },
      "source": [
        "tf.square(t)"
      ],
      "execution_count": null,
      "outputs": [
        {
          "output_type": "execute_result",
          "data": {
            "text/plain": [
              "<tf.Tensor: shape=(2, 3), dtype=float32, numpy=\n",
              "array([[ 1.,  4.,  9.],\n",
              "       [16., 25., 36.]], dtype=float32)>"
            ]
          },
          "metadata": {
            "tags": []
          },
          "execution_count": 28
        }
      ]
    },
    {
      "cell_type": "code",
      "metadata": {
        "id": "LsqQ_VGi_KEI",
        "colab": {
          "base_uri": "https://localhost:8080/"
        },
        "outputId": "141d67a3-9fb4-4b64-db01-3ccb90afc596"
      },
      "source": [
        "t @ tf.transpose(t)"
      ],
      "execution_count": null,
      "outputs": [
        {
          "output_type": "execute_result",
          "data": {
            "text/plain": [
              "<tf.Tensor: shape=(2, 2), dtype=float32, numpy=\n",
              "array([[14., 32.],\n",
              "       [32., 77.]], dtype=float32)>"
            ]
          },
          "metadata": {
            "tags": []
          },
          "execution_count": 29
        }
      ]
    },
    {
      "cell_type": "markdown",
      "metadata": {
        "id": "8y5wUIfpuhzL"
      },
      "source": [
        "### 타입 변환\n",
        "- 텐서의 기본 dtype\n",
        "  - float형 텐서: `float32`\n",
        "  - int형 텐서: `int32`\n",
        "\n",
        "- 연산시 텐서의 타입을 맞춰줘야 함\n",
        "  - `float32` ~ `float32`\n",
        "  - `int32` ~ `int32`\n",
        "  - `flot32` ~ `int32` (x)\n",
        "\n",
        "- 타입변환에는 `tf.cast()` 사용"
      ]
    },
    {
      "cell_type": "markdown",
      "metadata": {
        "id": "R6smQk2z_fmI"
      },
      "source": [
        "#### int 정수형 표현\n",
        "- int8 => 1비트당 2개의 숫자를 표현할 수 있으므로 8비트면 2^8 = 256개의 정수를 표현할 수 있습니다. 즉 -128에서 127까지 표현가능합니다.\n",
        "\n",
        "- int16 => 2^16개의 정수표현 가능. -32,768에서 32,767까지.\n",
        "\n",
        "- int32 => 2^32개의 정수표현 가능. -2,147,483,648에서 2,147,483,647까지. \n",
        "\n",
        "- int64 => 2^64개의 정수표현 가능. -9,223,372,036,854,775,808에서 9,223,372,036,854,775,807"
      ]
    },
    {
      "cell_type": "markdown",
      "metadata": {
        "id": "UwY6CSkFAnax"
      },
      "source": [
        "#### unit 0 이상의 정수\n",
        "\n",
        "- uint8 => 2^8개의 부호없는 정수표현 가능. 0에서 255까지. 그레이스케일 또는 3채널 컬러 이미지를 담을 때 많이 사용됩니다. \n",
        "\n",
        "- uint16 => 2^16개의 부호없는 정수표현 가능. 0에서 65,535까지. \n",
        "\n",
        "- uint32 => 2^32개의 부호없는 정수표현 가능. 0에서 4,294,967,295까지.\n",
        "\n",
        "- uint64 => 2^64개의 부호없는 정수표현 가능. 0에서 18,446,744,073,709,551,615까지."
      ]
    },
    {
      "cell_type": "markdown",
      "metadata": {
        "id": "JB0PiiWKAnQv"
      },
      "source": [
        "#### float 소수\n",
        "\n",
        "- float16 => 1비트는 부호에, 5비트는 정수부분을 나타내는데, 10비트는 소수부분을 나타내는데 사용됩니다. 이에 대한 자세한 내용은 https://en.wikipedia.org/wiki/Single-precision_floating-point_format를 참고해주세요.^^\n",
        "\n",
        "- float32 => 1비트 부호, 8비트 정수, 23비트 소수.\n",
        "\n",
        "- float64 => 1비트 부호, 11비트 정수, 52비트 소수. "
      ]
    },
    {
      "cell_type": "markdown",
      "metadata": {
        "id": "5mFDwxlMAmw4"
      },
      "source": [
        "#### 논리형 자료형\n",
        "bool => 참(True)과 거짓(False)을 표현하기 위한 자료형입니다. 즉 uint2 겠죠.\n",
        "\n",
        "[출처](https://bskyvision.com/736)https://bskyvision.com/736"
      ]
    },
    {
      "cell_type": "code",
      "metadata": {
        "id": "6bB6n5Hk_8tY",
        "colab": {
          "base_uri": "https://localhost:8080/"
        },
        "outputId": "570f5934-6716-43b8-bd73-890f81120be1"
      },
      "source": [
        "a = tf.constant(2)\n",
        "print(a)\n",
        "\n",
        "b = tf.constant(2.)\n",
        "print(b)"
      ],
      "execution_count": null,
      "outputs": [
        {
          "output_type": "stream",
          "text": [
            "tf.Tensor(2, shape=(), dtype=int32)\n",
            "tf.Tensor(2.0, shape=(), dtype=float32)\n"
          ],
          "name": "stdout"
        }
      ]
    },
    {
      "cell_type": "code",
      "metadata": {
        "id": "RMwFpHCAvEFG",
        "colab": {
          "base_uri": "https://localhost:8080/",
          "height": 170
        },
        "outputId": "bc961d4e-53a7-4975-e263-d0a596ee4c9b"
      },
      "source": [
        "tf.constatnt(2.) + tf.constant(4) # data type  다르면 계산에 에러"
      ],
      "execution_count": null,
      "outputs": [
        {
          "output_type": "error",
          "ename": "AttributeError",
          "evalue": "ignored",
          "traceback": [
            "\u001b[0;31m---------------------------------------------------------------------------\u001b[0m",
            "\u001b[0;31mAttributeError\u001b[0m                            Traceback (most recent call last)",
            "\u001b[0;32m<ipython-input-31-2af7f3e60406>\u001b[0m in \u001b[0;36m<module>\u001b[0;34m()\u001b[0m\n\u001b[0;32m----> 1\u001b[0;31m \u001b[0mtf\u001b[0m\u001b[0;34m.\u001b[0m\u001b[0mconstatnt\u001b[0m\u001b[0;34m(\u001b[0m\u001b[0;36m2.\u001b[0m\u001b[0;34m)\u001b[0m \u001b[0;34m+\u001b[0m \u001b[0mtf\u001b[0m\u001b[0;34m.\u001b[0m\u001b[0mconstant\u001b[0m\u001b[0;34m(\u001b[0m\u001b[0;36m4\u001b[0m\u001b[0;34m)\u001b[0m \u001b[0;31m# data type  다르면 계산에 에러\u001b[0m\u001b[0;34m\u001b[0m\u001b[0;34m\u001b[0m\u001b[0m\n\u001b[0m",
            "\u001b[0;31mAttributeError\u001b[0m: module 'tensorflow' has no attribute 'constatnt'"
          ]
        }
      ]
    },
    {
      "cell_type": "code",
      "metadata": {
        "id": "rVb9KZSKui_c",
        "colab": {
          "base_uri": "https://localhost:8080/",
          "height": 170
        },
        "outputId": "c755c180-08e8-4599-f9de-a6e5eab2f860"
      },
      "source": [
        "tf.constatnt(2.) + tf.constant(30., dtyp=tf.float64)  # default 는 float32 이기 때문에 같은 float라도 32비트와 64비트는 계산 할수 없다."
      ],
      "execution_count": null,
      "outputs": [
        {
          "output_type": "error",
          "ename": "AttributeError",
          "evalue": "ignored",
          "traceback": [
            "\u001b[0;31m---------------------------------------------------------------------------\u001b[0m",
            "\u001b[0;31mAttributeError\u001b[0m                            Traceback (most recent call last)",
            "\u001b[0;32m<ipython-input-32-2654f7dbead8>\u001b[0m in \u001b[0;36m<module>\u001b[0;34m()\u001b[0m\n\u001b[0;32m----> 1\u001b[0;31m \u001b[0mtf\u001b[0m\u001b[0;34m.\u001b[0m\u001b[0mconstatnt\u001b[0m\u001b[0;34m(\u001b[0m\u001b[0;36m2.\u001b[0m\u001b[0;34m)\u001b[0m \u001b[0;34m+\u001b[0m \u001b[0mtf\u001b[0m\u001b[0;34m.\u001b[0m\u001b[0mconstant\u001b[0m\u001b[0;34m(\u001b[0m\u001b[0;36m30.\u001b[0m\u001b[0;34m,\u001b[0m \u001b[0mdtyp\u001b[0m\u001b[0;34m=\u001b[0m\u001b[0mtf\u001b[0m\u001b[0;34m.\u001b[0m\u001b[0mfloat64\u001b[0m\u001b[0;34m)\u001b[0m  \u001b[0;31m# default 는 float32 이기 때문에 같은 float라도 32비트와 64비트는 계산 할수 없다.\u001b[0m\u001b[0;34m\u001b[0m\u001b[0;34m\u001b[0m\u001b[0m\n\u001b[0m",
            "\u001b[0;31mAttributeError\u001b[0m: module 'tensorflow' has no attribute 'constatnt'"
          ]
        }
      ]
    },
    {
      "cell_type": "code",
      "metadata": {
        "id": "-Lz79b8Fumsy",
        "colab": {
          "base_uri": "https://localhost:8080/"
        },
        "outputId": "821fce35-5f80-432e-bf04-3f253f1ad363"
      },
      "source": [
        "t = tf.constant(30., dtype=tf.float64)\n",
        "t2 = tf.constant(4.)\n",
        "\n",
        "print(t2 + tf.cast(t, tf.float32))# cast method로 dtype 을 변환해서 같은 dtype으로 변환"
      ],
      "execution_count": null,
      "outputs": [
        {
          "output_type": "stream",
          "text": [
            "tf.Tensor(34.0, shape=(), dtype=float32)\n"
          ],
          "name": "stdout"
        }
      ]
    },
    {
      "cell_type": "markdown",
      "metadata": {
        "id": "E3IX5JwVZePH"
      },
      "source": [
        "### AutoGraph (오토그래프)\n",
        "\n",
        "- Tensorflow가 작업을 좀 더 빠르게 동작하게 하기 위한 방법으로 Graph로 만들어 연산을 진행\n",
        "\n",
        "- `tf.Graph`\n",
        "\n",
        "- 유연성이 있음\n",
        "\n",
        "  - 모바일 애플리케이션, 임베디드 기기, 백엔드 서버와 같이 Python 인터프리터가 없는 환경에서 Tensorflow 사용 가능 "
      ]
    },
    {
      "cell_type": "code",
      "metadata": {
        "id": "78VD-XWRaea5"
      },
      "source": [
        "import timeit"
      ],
      "execution_count": null,
      "outputs": []
    },
    {
      "cell_type": "markdown",
      "metadata": {
        "id": "YxNt6nejc8Ei"
      },
      "source": [
        "### @tf.function\n",
        "- 자동으로 그래프를 생성(Auto Graph)\n",
        "\n",
        "- 그래프로 변환하여 사용 -> GPU 연산 가능\n",
        "\n",
        "- 파이썬으로 구성된 함수를 텐서플로우의 그래프 형태로 다루고 싶을 때 사용가능\n",
        "\n",
        "\n",
        "- 원본 함수가 필요하다면 `(tf.function).python_function()`"
      ]
    },
    {
      "cell_type": "code",
      "metadata": {
        "id": "gq5NFuLjcukw",
        "colab": {
          "base_uri": "https://localhost:8080/"
        },
        "outputId": "96fa1d79-cb57-4dd6-d4f8-b9796ca55027"
      },
      "source": [
        "@tf.function\n",
        "def my_function(x):\n",
        "  return x**2 - 10*x +3\n",
        "\n",
        "print(my_function(2))\n",
        "print(my_function(tf.constant(2)))"
      ],
      "execution_count": null,
      "outputs": [
        {
          "output_type": "stream",
          "text": [
            "tf.Tensor(-13, shape=(), dtype=int32)\n",
            "tf.Tensor(-13, shape=(), dtype=int32)\n"
          ],
          "name": "stdout"
        }
      ]
    },
    {
      "cell_type": "code",
      "metadata": {
        "id": "hR3RAAIQd8J7",
        "colab": {
          "base_uri": "https://localhost:8080/"
        },
        "outputId": "5439e271-c522-41db-f19c-0759ca44a82d"
      },
      "source": [
        "def my_function2(x):\n",
        "  return x**2 - 10*x +3\n",
        "\n",
        "\n",
        "print(my_function2(2))\n",
        "print(my_function2(tf.constant(2)))"
      ],
      "execution_count": null,
      "outputs": [
        {
          "output_type": "stream",
          "text": [
            "-13\n",
            "tf.Tensor(-13, shape=(), dtype=int32)\n"
          ],
          "name": "stdout"
        }
      ]
    },
    {
      "cell_type": "markdown",
      "metadata": {
        "id": "jAHV3EuQEYPM"
      },
      "source": [
        "두개의 차이점은 텐서로 변환 하지 않게 된다. @tf.function 의 차이\n",
        "\n",
        "- 이 것이 Eager mode!!\n"
      ]
    },
    {
      "cell_type": "code",
      "metadata": {
        "id": "bsy3eabmy8X8",
        "colab": {
          "base_uri": "https://localhost:8080/"
        },
        "outputId": "fc6a6408-aa62-48ce-f0d7-c4dc942ed45e"
      },
      "source": [
        "tf_my_function = tf.function(my_function2) # 일반 파이썬 함수를 tf function 으로\n",
        "\n",
        "print(tf_my_function(2))"
      ],
      "execution_count": null,
      "outputs": [
        {
          "output_type": "stream",
          "text": [
            "tf.Tensor(-13, shape=(), dtype=int32)\n"
          ],
          "name": "stdout"
        }
      ]
    },
    {
      "cell_type": "code",
      "metadata": {
        "id": "TgwwgQvjzKqn",
        "colab": {
          "base_uri": "https://localhost:8080/"
        },
        "outputId": "38e799cf-a8e4-45ef-e4c2-cdccef4e44d9"
      },
      "source": [
        "tf_my_function.python_function(2) # 일반적인 파이썬 함수로 재 변환"
      ],
      "execution_count": null,
      "outputs": [
        {
          "output_type": "execute_result",
          "data": {
            "text/plain": [
              "-13"
            ]
          },
          "metadata": {
            "tags": []
          },
          "execution_count": 42
        }
      ]
    },
    {
      "cell_type": "code",
      "metadata": {
        "id": "1pkBOpWhaehO",
        "colab": {
          "base_uri": "https://localhost:8080/"
        },
        "outputId": "00fbbcf3-e9b7-429e-f320-48c1e2258b02"
      },
      "source": [
        "def function_to_get_faster(x, y, b):\n",
        "  x = tf.matmul(x, y) # 행렬곱\n",
        "  x = x + b\n",
        "  return x\n",
        "\n",
        "a_function_that_uses_a_graph = tf.function(function_to_get_faster)\n",
        "\n",
        "x1 = tf.constant([[1.0, 2.0]])\n",
        "y1 = tf.constant([[2.0], [3.0]])\n",
        "b1 = tf.constant(4.0)\n",
        "\n",
        "a_function_that_uses_a_graph(x1,y1,b1).numpy()"
      ],
      "execution_count": null,
      "outputs": [
        {
          "output_type": "execute_result",
          "data": {
            "text/plain": [
              "array([[12.]], dtype=float32)"
            ]
          },
          "metadata": {
            "tags": []
          },
          "execution_count": 45
        }
      ]
    },
    {
      "cell_type": "code",
      "metadata": {
        "id": "rcLAgLKfaepn",
        "colab": {
          "base_uri": "https://localhost:8080/"
        },
        "outputId": "306c5e01-4319-4596-c07e-b165332ada10"
      },
      "source": [
        "def inner_function(x, y, b):\n",
        "  x = tf.matmul(x, y)\n",
        "  x = x + b\n",
        "  return x\n",
        "\n",
        "@tf.function\n",
        "def outer_function(x):\n",
        "  y = tf.constant([[2.0], [3.0]])\n",
        "  b = tf.constant(4.0)\n",
        "  return inner_function(x, y, b)\n",
        "\n",
        "outer_function(tf.constant([[1.0, 2.0]])).numpy()"
      ],
      "execution_count": null,
      "outputs": [
        {
          "output_type": "execute_result",
          "data": {
            "text/plain": [
              "array([[12.]], dtype=float32)"
            ]
          },
          "metadata": {
            "tags": []
          },
          "execution_count": 50
        }
      ]
    },
    {
      "cell_type": "markdown",
      "metadata": {
        "id": "KHXgmfl9HdcV"
      },
      "source": [
        "내외부 함수를 혼합해서 사용도 가능하다.\n"
      ]
    },
    {
      "cell_type": "markdown",
      "metadata": {
        "id": "mXLYEP4fbSYe"
      },
      "source": [
        "텐서플로우가 `tf.function`으로 변환한 코드"
      ]
    },
    {
      "cell_type": "code",
      "metadata": {
        "id": "i6cqueZuWN1g",
        "colab": {
          "base_uri": "https://localhost:8080/"
        },
        "outputId": "2c512771-9d0d-4829-909b-91daa146448d"
      },
      "source": [
        "print(tf.autograph.to_code(my_function.python_function))\n",
        "print(tf.autograph.to_code(tf_my_function.python_function))\n",
        "print(tf.autograph.to_code(outer_function.python_function))"
      ],
      "execution_count": null,
      "outputs": [
        {
          "output_type": "stream",
          "text": [
            "def tf__my_function(x):\n",
            "    with ag__.FunctionScope('my_function', 'fscope', ag__.ConversionOptions(recursive=True, user_requested=True, optional_features=(), internal_convert_user_code=True)) as fscope:\n",
            "        do_return = False\n",
            "        retval_ = ag__.UndefinedReturnValue()\n",
            "        try:\n",
            "            do_return = True\n",
            "            retval_ = (((ag__.ld(x) ** 2) - (10 * ag__.ld(x))) + 3)\n",
            "        except:\n",
            "            do_return = False\n",
            "            raise\n",
            "        return fscope.ret(retval_, do_return)\n",
            "\n",
            "def tf__my_function2(x):\n",
            "    with ag__.FunctionScope('my_function2', 'fscope', ag__.ConversionOptions(recursive=True, user_requested=True, optional_features=(), internal_convert_user_code=True)) as fscope:\n",
            "        do_return = False\n",
            "        retval_ = ag__.UndefinedReturnValue()\n",
            "        try:\n",
            "            do_return = True\n",
            "            retval_ = (((ag__.ld(x) ** 2) - (10 * ag__.ld(x))) + 3)\n",
            "        except:\n",
            "            do_return = False\n",
            "            raise\n",
            "        return fscope.ret(retval_, do_return)\n",
            "\n",
            "def tf__outer_function(x):\n",
            "    with ag__.FunctionScope('outer_function', 'fscope', ag__.ConversionOptions(recursive=True, user_requested=True, optional_features=(), internal_convert_user_code=True)) as fscope:\n",
            "        do_return = False\n",
            "        retval_ = ag__.UndefinedReturnValue()\n",
            "        y = ag__.converted_call(ag__.ld(tf).constant, ([[2.0], [3.0]],), None, fscope)\n",
            "        b = ag__.converted_call(ag__.ld(tf).constant, (4.0,), None, fscope)\n",
            "        try:\n",
            "            do_return = True\n",
            "            retval_ = ag__.converted_call(ag__.ld(inner_function), (ag__.ld(x), ag__.ld(y), ag__.ld(b)), None, fscope)\n",
            "        except:\n",
            "            do_return = False\n",
            "            raise\n",
            "        return fscope.ret(retval_, do_return)\n",
            "\n"
          ],
          "name": "stdout"
        }
      ]
    },
    {
      "cell_type": "markdown",
      "metadata": {
        "id": "hf2KCJu1bdg_"
      },
      "source": [
        "\n",
        " 속도 향상\n"
      ]
    },
    {
      "cell_type": "code",
      "metadata": {
        "id": "6GC4f2HvbfNT"
      },
      "source": [
        "41:24"
      ],
      "execution_count": null,
      "outputs": []
    },
    {
      "cell_type": "markdown",
      "metadata": {
        "id": "EizHAodregRR"
      },
      "source": [
        "### 변수 생성\n",
        "\n",
        "- `tf.Variable`\n",
        "- 딥러닝 모델 학습 시, 그래프 연산이 필요할 때 사용"
      ]
    },
    {
      "cell_type": "code",
      "metadata": {
        "id": "PybmfPcAeH-S"
      },
      "source": [
        ""
      ],
      "execution_count": null,
      "outputs": []
    },
    {
      "cell_type": "markdown",
      "metadata": {
        "id": "qY_oUvVneiHH"
      },
      "source": [
        "### Autograd (자동 미분)\n",
        "\n",
        "- `tf.GradientTape` API를 사용\n",
        "- `tf.Variable` 같은 일부 입력에 대한 기울기 계산\n",
        "  - 기본적으로 한번만 사용됨\n",
        "- 변수가 포함된 연산만 기록"
      ]
    },
    {
      "cell_type": "code",
      "metadata": {
        "id": "4_lrTYZfeiHO"
      },
      "source": [
        ""
      ],
      "execution_count": null,
      "outputs": []
    },
    {
      "cell_type": "code",
      "metadata": {
        "id": "1Tq7MMJTeiHQ"
      },
      "source": [
        ""
      ],
      "execution_count": null,
      "outputs": []
    },
    {
      "cell_type": "code",
      "metadata": {
        "id": "y0wty7V3eiHT"
      },
      "source": [
        ""
      ],
      "execution_count": null,
      "outputs": []
    },
    {
      "cell_type": "code",
      "metadata": {
        "id": "itJftqGlfWmy"
      },
      "source": [
        ""
      ],
      "execution_count": null,
      "outputs": []
    },
    {
      "cell_type": "code",
      "metadata": {
        "id": "Np-JoGSneiHW"
      },
      "source": [
        ""
      ],
      "execution_count": null,
      "outputs": []
    },
    {
      "cell_type": "code",
      "metadata": {
        "id": "OMhB1rONeiHY"
      },
      "source": [
        ""
      ],
      "execution_count": null,
      "outputs": []
    },
    {
      "cell_type": "code",
      "metadata": {
        "id": "7mS4UrqgeiHa"
      },
      "source": [
        ""
      ],
      "execution_count": null,
      "outputs": []
    },
    {
      "cell_type": "code",
      "metadata": {
        "id": "UIFUed4yeiHc"
      },
      "source": [
        ""
      ],
      "execution_count": null,
      "outputs": []
    },
    {
      "cell_type": "code",
      "metadata": {
        "id": "b1X3900EeiHd"
      },
      "source": [
        ""
      ],
      "execution_count": null,
      "outputs": []
    },
    {
      "cell_type": "markdown",
      "metadata": {
        "id": "FcG5ddWTgjMq"
      },
      "source": [
        "## 간단한 신경망 구조 "
      ]
    },
    {
      "cell_type": "markdown",
      "metadata": {
        "id": "fXE8tlU7gkrV"
      },
      "source": [
        "### 뉴런\n",
        "- 입력 → 연산 → 활성화함수 → 출력"
      ]
    },
    {
      "cell_type": "code",
      "metadata": {
        "id": "B-DUt6cZe7iD"
      },
      "source": [
        ""
      ],
      "execution_count": null,
      "outputs": []
    },
    {
      "cell_type": "code",
      "metadata": {
        "id": "r8baxM6mg_XQ"
      },
      "source": [
        ""
      ],
      "execution_count": null,
      "outputs": []
    },
    {
      "cell_type": "code",
      "metadata": {
        "id": "I7D57W93htFt"
      },
      "source": [
        ""
      ],
      "execution_count": null,
      "outputs": []
    },
    {
      "cell_type": "code",
      "metadata": {
        "id": "IKeoXsJBhzPk"
      },
      "source": [
        ""
      ],
      "execution_count": null,
      "outputs": []
    },
    {
      "cell_type": "markdown",
      "metadata": {
        "id": "ATmvx1utmmMl"
      },
      "source": [
        "### 퍼셉트론 학습 알고리즘 (가중치 업데이트)\n",
        "\n",
        "## $\\qquad w^{(next step)} = w + \\eta \\ (y - \\tilde{y}) \\ x$\n",
        "\n",
        "- $w \\ $: 가중치\n",
        "\n",
        "- $\\eta \\ $ : 학습률\n",
        "\n",
        "- $y \\ $ : 정답 레이블\n",
        "\n",
        "- $\\tilde{y} \\ $: 예측 레이블\n"
      ]
    },
    {
      "cell_type": "code",
      "metadata": {
        "id": "7f-3qRCHXO9m"
      },
      "source": [
        ""
      ],
      "execution_count": null,
      "outputs": []
    },
    {
      "cell_type": "code",
      "metadata": {
        "id": "S8JG-rbdml_v"
      },
      "source": [
        ""
      ],
      "execution_count": null,
      "outputs": []
    },
    {
      "cell_type": "code",
      "metadata": {
        "id": "vrJKCpf0VyOR"
      },
      "source": [
        ""
      ],
      "execution_count": null,
      "outputs": []
    },
    {
      "cell_type": "code",
      "metadata": {
        "id": "dkLHtKQ8htRg"
      },
      "source": [
        ""
      ],
      "execution_count": null,
      "outputs": []
    },
    {
      "cell_type": "code",
      "metadata": {
        "id": "udZu2_rQo1SH"
      },
      "source": [
        ""
      ],
      "execution_count": null,
      "outputs": []
    },
    {
      "cell_type": "code",
      "metadata": {
        "id": "X7rw7DAxbCcu"
      },
      "source": [
        ""
      ],
      "execution_count": null,
      "outputs": []
    },
    {
      "cell_type": "code",
      "metadata": {
        "id": "Of-hjiq1pKF2"
      },
      "source": [
        ""
      ],
      "execution_count": null,
      "outputs": []
    },
    {
      "cell_type": "code",
      "metadata": {
        "id": "KHVs1hALZ_bA"
      },
      "source": [
        ""
      ],
      "execution_count": null,
      "outputs": []
    },
    {
      "cell_type": "markdown",
      "metadata": {
        "id": "LQ-syOVwfjB9"
      },
      "source": [
        "### AND Gate"
      ]
    },
    {
      "cell_type": "code",
      "metadata": {
        "id": "HyRma3NorTRs"
      },
      "source": [
        ""
      ],
      "execution_count": null,
      "outputs": []
    },
    {
      "cell_type": "code",
      "metadata": {
        "id": "OylWtem2stH0"
      },
      "source": [
        ""
      ],
      "execution_count": null,
      "outputs": []
    },
    {
      "cell_type": "markdown",
      "metadata": {
        "id": "pADtZrsagJ64"
      },
      "source": [
        "### OR Gate"
      ]
    },
    {
      "cell_type": "code",
      "metadata": {
        "id": "X1drqmeNuxIU"
      },
      "source": [
        ""
      ],
      "execution_count": null,
      "outputs": []
    },
    {
      "cell_type": "code",
      "metadata": {
        "id": "FGG4_ZXGgLNd"
      },
      "source": [
        ""
      ],
      "execution_count": null,
      "outputs": []
    },
    {
      "cell_type": "markdown",
      "metadata": {
        "id": "IQyeNLdagPw1"
      },
      "source": [
        "### XOR Gate"
      ]
    },
    {
      "cell_type": "code",
      "metadata": {
        "id": "W-BYPnNBgNd9"
      },
      "source": [
        ""
      ],
      "execution_count": null,
      "outputs": []
    },
    {
      "cell_type": "code",
      "metadata": {
        "id": "z1EWz3N5gRfH"
      },
      "source": [
        ""
      ],
      "execution_count": null,
      "outputs": []
    },
    {
      "cell_type": "code",
      "metadata": {
        "id": "duXh8GGkgUET"
      },
      "source": [
        ""
      ],
      "execution_count": null,
      "outputs": []
    },
    {
      "cell_type": "code",
      "metadata": {
        "id": "HYf3E6w6gV3z"
      },
      "source": [
        ""
      ],
      "execution_count": null,
      "outputs": []
    },
    {
      "cell_type": "code",
      "metadata": {
        "id": "0ZuQIfAZgXzD"
      },
      "source": [
        ""
      ],
      "execution_count": null,
      "outputs": []
    },
    {
      "cell_type": "markdown",
      "metadata": {
        "id": "NgHTUlX68Fyk"
      },
      "source": [
        "## 시각화 사용"
      ]
    },
    {
      "cell_type": "code",
      "metadata": {
        "id": "a8azIYHQ8H16"
      },
      "source": [
        ""
      ],
      "execution_count": null,
      "outputs": []
    },
    {
      "cell_type": "code",
      "metadata": {
        "id": "hX-S0ZvF8Hq6"
      },
      "source": [
        ""
      ],
      "execution_count": null,
      "outputs": []
    },
    {
      "cell_type": "code",
      "metadata": {
        "id": "2teBa4878XEI"
      },
      "source": [
        ""
      ],
      "execution_count": null,
      "outputs": []
    },
    {
      "cell_type": "code",
      "metadata": {
        "id": "43W0ygJj8XA1"
      },
      "source": [
        ""
      ],
      "execution_count": null,
      "outputs": []
    },
    {
      "cell_type": "code",
      "metadata": {
        "id": "HkF8DN5a8fWR"
      },
      "source": [
        ""
      ],
      "execution_count": null,
      "outputs": []
    },
    {
      "cell_type": "markdown",
      "metadata": {
        "id": "aL-QTl5Q8mdB"
      },
      "source": [
        "### XOR Gate의 'LOSS' 시각화\n"
      ]
    },
    {
      "cell_type": "code",
      "metadata": {
        "id": "vs8dlY1o8iby"
      },
      "source": [
        ""
      ],
      "execution_count": null,
      "outputs": []
    }
  ]
}