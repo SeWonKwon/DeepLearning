{
  "nbformat": 4,
  "nbformat_minor": 0,
  "metadata": {
    "colab": {
      "name": "B07_신경망 학습",
      "provenance": [],
      "collapsed_sections": [],
      "include_colab_link": true
    },
    "kernelspec": {
      "name": "python3",
      "display_name": "Python 3"
    },
    "widgets": {
      "application/vnd.jupyter.widget-state+json": {
        "54a264a460e648f3acc82b39d7976b42": {
          "model_module": "@jupyter-widgets/controls",
          "model_name": "HBoxModel",
          "state": {
            "_view_name": "HBoxView",
            "_dom_classes": [],
            "_model_name": "HBoxModel",
            "_view_module": "@jupyter-widgets/controls",
            "_model_module_version": "1.5.0",
            "_view_count": null,
            "_view_module_version": "1.5.0",
            "box_style": "",
            "layout": "IPY_MODEL_7887edd1a30247cda36c49581b171b64",
            "_model_module": "@jupyter-widgets/controls",
            "children": [
              "IPY_MODEL_1a0256cb77a7477fa78aff484bd2566a",
              "IPY_MODEL_7c1bf280adbb4fbdb3a4ff62150af701"
            ]
          }
        },
        "7887edd1a30247cda36c49581b171b64": {
          "model_module": "@jupyter-widgets/base",
          "model_name": "LayoutModel",
          "state": {
            "_view_name": "LayoutView",
            "grid_template_rows": null,
            "right": null,
            "justify_content": null,
            "_view_module": "@jupyter-widgets/base",
            "overflow": null,
            "_model_module_version": "1.2.0",
            "_view_count": null,
            "flex_flow": null,
            "width": null,
            "min_width": null,
            "border": null,
            "align_items": null,
            "bottom": null,
            "_model_module": "@jupyter-widgets/base",
            "top": null,
            "grid_column": null,
            "overflow_y": null,
            "overflow_x": null,
            "grid_auto_flow": null,
            "grid_area": null,
            "grid_template_columns": null,
            "flex": null,
            "_model_name": "LayoutModel",
            "justify_items": null,
            "grid_row": null,
            "max_height": null,
            "align_content": null,
            "visibility": null,
            "align_self": null,
            "height": null,
            "min_height": null,
            "padding": null,
            "grid_auto_rows": null,
            "grid_gap": null,
            "max_width": null,
            "order": null,
            "_view_module_version": "1.2.0",
            "grid_template_areas": null,
            "object_position": null,
            "object_fit": null,
            "grid_auto_columns": null,
            "margin": null,
            "display": null,
            "left": null
          }
        },
        "1a0256cb77a7477fa78aff484bd2566a": {
          "model_module": "@jupyter-widgets/controls",
          "model_name": "FloatProgressModel",
          "state": {
            "_view_name": "ProgressView",
            "style": "IPY_MODEL_cd19c704217f4cc898a77c7f730ebf5d",
            "_dom_classes": [],
            "description": "100%",
            "_model_name": "FloatProgressModel",
            "bar_style": "success",
            "max": 50,
            "_view_module": "@jupyter-widgets/controls",
            "_model_module_version": "1.5.0",
            "value": 50,
            "_view_count": null,
            "_view_module_version": "1.5.0",
            "orientation": "horizontal",
            "min": 0,
            "description_tooltip": null,
            "_model_module": "@jupyter-widgets/controls",
            "layout": "IPY_MODEL_8b69df98f3d8495c8ad93e1cb956ca1c"
          }
        },
        "7c1bf280adbb4fbdb3a4ff62150af701": {
          "model_module": "@jupyter-widgets/controls",
          "model_name": "HTMLModel",
          "state": {
            "_view_name": "HTMLView",
            "style": "IPY_MODEL_2d327d8957414ee1b1c81abaf840339a",
            "_dom_classes": [],
            "description": "",
            "_model_name": "HTMLModel",
            "placeholder": "​",
            "_view_module": "@jupyter-widgets/controls",
            "_model_module_version": "1.5.0",
            "value": " 50/50 [1:47:19&lt;00:00, 128.79s/it]",
            "_view_count": null,
            "_view_module_version": "1.5.0",
            "description_tooltip": null,
            "_model_module": "@jupyter-widgets/controls",
            "layout": "IPY_MODEL_2280c7ff1df3489cad2a886d85b03dab"
          }
        },
        "cd19c704217f4cc898a77c7f730ebf5d": {
          "model_module": "@jupyter-widgets/controls",
          "model_name": "ProgressStyleModel",
          "state": {
            "_view_name": "StyleView",
            "_model_name": "ProgressStyleModel",
            "description_width": "initial",
            "_view_module": "@jupyter-widgets/base",
            "_model_module_version": "1.5.0",
            "_view_count": null,
            "_view_module_version": "1.2.0",
            "bar_color": null,
            "_model_module": "@jupyter-widgets/controls"
          }
        },
        "8b69df98f3d8495c8ad93e1cb956ca1c": {
          "model_module": "@jupyter-widgets/base",
          "model_name": "LayoutModel",
          "state": {
            "_view_name": "LayoutView",
            "grid_template_rows": null,
            "right": null,
            "justify_content": null,
            "_view_module": "@jupyter-widgets/base",
            "overflow": null,
            "_model_module_version": "1.2.0",
            "_view_count": null,
            "flex_flow": null,
            "width": null,
            "min_width": null,
            "border": null,
            "align_items": null,
            "bottom": null,
            "_model_module": "@jupyter-widgets/base",
            "top": null,
            "grid_column": null,
            "overflow_y": null,
            "overflow_x": null,
            "grid_auto_flow": null,
            "grid_area": null,
            "grid_template_columns": null,
            "flex": null,
            "_model_name": "LayoutModel",
            "justify_items": null,
            "grid_row": null,
            "max_height": null,
            "align_content": null,
            "visibility": null,
            "align_self": null,
            "height": null,
            "min_height": null,
            "padding": null,
            "grid_auto_rows": null,
            "grid_gap": null,
            "max_width": null,
            "order": null,
            "_view_module_version": "1.2.0",
            "grid_template_areas": null,
            "object_position": null,
            "object_fit": null,
            "grid_auto_columns": null,
            "margin": null,
            "display": null,
            "left": null
          }
        },
        "2d327d8957414ee1b1c81abaf840339a": {
          "model_module": "@jupyter-widgets/controls",
          "model_name": "DescriptionStyleModel",
          "state": {
            "_view_name": "StyleView",
            "_model_name": "DescriptionStyleModel",
            "description_width": "",
            "_view_module": "@jupyter-widgets/base",
            "_model_module_version": "1.5.0",
            "_view_count": null,
            "_view_module_version": "1.2.0",
            "_model_module": "@jupyter-widgets/controls"
          }
        },
        "2280c7ff1df3489cad2a886d85b03dab": {
          "model_module": "@jupyter-widgets/base",
          "model_name": "LayoutModel",
          "state": {
            "_view_name": "LayoutView",
            "grid_template_rows": null,
            "right": null,
            "justify_content": null,
            "_view_module": "@jupyter-widgets/base",
            "overflow": null,
            "_model_module_version": "1.2.0",
            "_view_count": null,
            "flex_flow": null,
            "width": null,
            "min_width": null,
            "border": null,
            "align_items": null,
            "bottom": null,
            "_model_module": "@jupyter-widgets/base",
            "top": null,
            "grid_column": null,
            "overflow_y": null,
            "overflow_x": null,
            "grid_auto_flow": null,
            "grid_area": null,
            "grid_template_columns": null,
            "flex": null,
            "_model_name": "LayoutModel",
            "justify_items": null,
            "grid_row": null,
            "max_height": null,
            "align_content": null,
            "visibility": null,
            "align_self": null,
            "height": null,
            "min_height": null,
            "padding": null,
            "grid_auto_rows": null,
            "grid_gap": null,
            "max_width": null,
            "order": null,
            "_view_module_version": "1.2.0",
            "grid_template_areas": null,
            "object_position": null,
            "object_fit": null,
            "grid_auto_columns": null,
            "margin": null,
            "display": null,
            "left": null
          }
        }
      }
    }
  },
  "cells": [
    {
      "cell_type": "markdown",
      "metadata": {
        "id": "view-in-github",
        "colab_type": "text"
      },
      "source": [
        "<a href=\"https://colab.research.google.com/github/SeWonKwon/DeepLearning/blob/main/B07_%EC%8B%A0%EA%B2%BD%EB%A7%9D_%ED%95%99%EC%8A%B5.ipynb\" target=\"_parent\"><img src=\"https://colab.research.google.com/assets/colab-badge.svg\" alt=\"Open In Colab\"/></a>"
      ]
    },
    {
      "cell_type": "markdown",
      "metadata": {
        "id": "nyjyu4FzUAVw"
      },
      "source": [
        "# 신경망 학습"
      ]
    },
    {
      "cell_type": "markdown",
      "metadata": {
        "id": "VQvNez4qydhL"
      },
      "source": [
        "## 단순한 신경망 구현 : Logic Gate"
      ]
    },
    {
      "cell_type": "markdown",
      "metadata": {
        "id": "-7te43hqyiiJ"
      },
      "source": [
        "### 필요한 모듈 import"
      ]
    },
    {
      "cell_type": "code",
      "metadata": {
        "id": "Qf2F_YbdybBE"
      },
      "source": [
        "import numpy as np\n",
        "import matplotlib.pyplot as plt\n",
        "plt.style.use('seaborn-whitegrid')"
      ],
      "execution_count": 1,
      "outputs": []
    },
    {
      "cell_type": "markdown",
      "metadata": {
        "id": "orUoPmDcymhj"
      },
      "source": [
        "### 하이퍼 파라미터(Hyper Parameter)"
      ]
    },
    {
      "cell_type": "code",
      "metadata": {
        "id": "bOAmMxo0ymDF"
      },
      "source": [
        "epochs = 1000\n",
        "lr = 0.1"
      ],
      "execution_count": 2,
      "outputs": []
    },
    {
      "cell_type": "markdown",
      "metadata": {
        "id": "BjmLWgFVysnq"
      },
      "source": [
        "### 유틸 함수들(Util Functions)"
      ]
    },
    {
      "cell_type": "code",
      "metadata": {
        "id": "Y4OMFGrjyq1c"
      },
      "source": [
        "def sigmoid(x):\n",
        "  return 1/ (1 + np.exp(-x))\n",
        "\n",
        "def mean_squared_error(pred_y, true_y):\n",
        "  return np.mean(np.square(true_y - pred.y))\n",
        "\n",
        "def cross_entropy_error(pred_y, true_y):\n",
        "  if true_y.ndim == 1:\n",
        "    true_y = true_y.reshape(1, -1)\n",
        "    pred_y = pred_y.reshape(1, -1)\n",
        "\n",
        "  delta = 1e-7\n",
        "  return -np.sum(true_y * np.log(pred_y + delta))\n",
        "\n",
        "def cross_entropy_error_for_batch(pred_y, true_y ):\n",
        "  if true_y.ndim == 1:\n",
        "    true_y = true_y.reshape(1, -1)\n",
        "    pred_y = pred_y.reshape(1, -1)\n",
        "\n",
        "  delta = 1e-7\n",
        "  batch_size = pred_y.shape[0]\n",
        "  return -np.sum(true_y * np.log(pred_y + delta)) / batch_size\n",
        "\n",
        "def cross_entropy_error_for_bin(pred_y, true_y):\n",
        "  return 0.5 * np.sum((-true_y * np.log(pred_y)- (1 - true_y) * np.log(1 - pred_y)))\n",
        "\n",
        "def softmax(a):\n",
        "  exp_a = np.exp(a)\n",
        "  sum_exp_a = np.sum(exp_a)\n",
        "  y = exp_a / sum_exp_a\n",
        "  return y \n",
        "\n",
        "def differential(f, x):\n",
        "  eps = 1e-5\n",
        "  diff_value = np.zeros_like(x)\n",
        "\n",
        "  for i in range(x.shape[0]):\n",
        "    temp_val = x[i]\n",
        "\n",
        "    x[i] = temp_val + eps\n",
        "    f_h1 = f(x)\n",
        "\n",
        "    x[i] = temp_val - eps\n",
        "    f_h2 = f(x)\n",
        "\n",
        "    diff_value[i] = (f_h1 - f_h2)/( 2 * eps )\n",
        "    x[i] = temp_val\n",
        "\n",
        "  return diff_value"
      ],
      "execution_count": 3,
      "outputs": []
    },
    {
      "cell_type": "markdown",
      "metadata": {
        "id": "h5Z2LTT_y3i5"
      },
      "source": [
        "### 신경망"
      ]
    },
    {
      "cell_type": "code",
      "metadata": {
        "id": "gMTjjYgdy3D8"
      },
      "source": [
        "class LogicGateNet():\n",
        "\n",
        "  def __init__(self):\n",
        "    def weight_init():\n",
        "      np.random.seed(1)\n",
        "      weights = np.random.randn(2)\n",
        "      bias = np.random.rand(1)\n",
        "\n",
        "      return weights, bias\n",
        "\n",
        "    self.weights, self.bias = weight_init()\n",
        "\n",
        "  def predict(self, x):\n",
        "    W = self.weights.reshape(-1, 1)\n",
        "    b = self.bias\n",
        "\n",
        "    pred_y = sigmoid(np.dot(x, W) + b)\n",
        "    return pred_y\n",
        "\n",
        "  def loss(self, x, true_y):\n",
        "    pred_y = self.predict(x)\n",
        "    return cross_entropy_error_for_bin(pred_y, true_y)\n",
        "\n",
        "  def get_gradient(self, x, t):\n",
        "    def loss_grad(grad):\n",
        "      return self.loss(x, t)\n",
        "\n",
        "    grad_W = differential(loss_grad, self.weights)\n",
        "    grad_B = differential(loss_grad, self.bias)\n",
        "\n",
        "    return grad_W, grad_B"
      ],
      "execution_count": 4,
      "outputs": []
    },
    {
      "cell_type": "markdown",
      "metadata": {
        "id": "wbNDoH_3zbGZ"
      },
      "source": [
        "### AND Gate"
      ]
    },
    {
      "cell_type": "markdown",
      "metadata": {
        "id": "2P-ib8_RzHTh"
      },
      "source": [
        "#### 모델 생성 및 학습"
      ]
    },
    {
      "cell_type": "code",
      "metadata": {
        "id": "rRiaACA6zGom",
        "colab": {
          "base_uri": "https://localhost:8080/"
        },
        "outputId": "661f7239-cde2-4f09-a715-7eb65d6ff329"
      },
      "source": [
        "AND = LogicGateNet()\n",
        "\n",
        "X = np.array([[0, 0], [0, 1], [1, 0], [1, 1]])\n",
        "Y = np.array([[0],[0],[0],[1]])\n",
        "\n",
        "train_loss_list = list()\n",
        "\n",
        "for i in range(epochs):\n",
        "  grad_W, grad_B = AND.get_gradient(X, Y)\n",
        "\n",
        "  AND.weights -= lr * grad_W\n",
        "  AND.bias -= lr * grad_B\n",
        "\n",
        "  loss = AND.loss(X, Y)\n",
        "  train_loss_list.append(loss)\n",
        "\n",
        "  if i%100 == 99:\n",
        "    print(\"Epoch:{}, Cost:{}, Weights:{}, Bias:{}\".format(i+1, loss, AND.weights, AND.bias))"
      ],
      "execution_count": 5,
      "outputs": [
        {
          "output_type": "stream",
          "text": [
            "Epoch:100, Cost:0.6886489498077508, Weights:[1.56426876 0.79168393], Bias:[-2.14871589]\n",
            "Epoch:200, Cost:0.4946368603067626, Weights:[2.01360719 1.71241131], Bias:[-3.07894028]\n",
            "Epoch:300, Cost:0.3920165980751678, Weights:[2.42841657 2.29753793], Bias:[-3.79103207]\n",
            "Epoch:400, Cost:0.3257214374794629, Weights:[2.794852   2.73235738], Bias:[-4.37257095]\n",
            "Epoch:500, Cost:0.2786360133470194, Weights:[3.11636193 3.08408364], Bias:[-4.86571237]\n",
            "Epoch:600, Cost:0.24328504683857205, Weights:[3.40015395 3.38235762], Bias:[-5.29433736]\n",
            "Epoch:700, Cost:0.2157253655246455, Weights:[3.65300561 3.64264217], Bias:[-5.67349792]\n",
            "Epoch:800, Cost:0.19363244428376314, Weights:[3.88044124 3.87412053], Bias:[-6.01340133]\n",
            "Epoch:900, Cost:0.175532131279099, Weights:[4.08680123 4.08279091], Bias:[-6.32133891]\n",
            "Epoch:1000, Cost:0.16043926933305935, Weights:[4.27548114 4.27284863], Bias:[-6.6027234]\n"
          ],
          "name": "stdout"
        }
      ]
    },
    {
      "cell_type": "markdown",
      "metadata": {
        "id": "PZoyQv_czT7R"
      },
      "source": [
        "#### 테스트"
      ]
    },
    {
      "cell_type": "code",
      "metadata": {
        "id": "-7CvWgc9zREa",
        "colab": {
          "base_uri": "https://localhost:8080/"
        },
        "outputId": "d4bc74f0-67a7-433f-b954-11d908553491"
      },
      "source": [
        "print(AND.predict(X))"
      ],
      "execution_count": 6,
      "outputs": [
        {
          "output_type": "stream",
          "text": [
            "[[0.00135483]\n",
            " [0.08867878]\n",
            " [0.08889176]\n",
            " [0.87496677]]\n"
          ],
          "name": "stdout"
        }
      ]
    },
    {
      "cell_type": "markdown",
      "metadata": {
        "id": "HoMXNiXWzts-"
      },
      "source": [
        "### OR Gate"
      ]
    },
    {
      "cell_type": "markdown",
      "metadata": {
        "id": "DZ79pc4jzw3O"
      },
      "source": [
        "#### 모델 생성 및 학습"
      ]
    },
    {
      "cell_type": "code",
      "metadata": {
        "id": "8gnLmAyQzuoL",
        "colab": {
          "base_uri": "https://localhost:8080/"
        },
        "outputId": "f6eb1c6d-a307-4307-cfe2-e49ce6c87700"
      },
      "source": [
        "OR = LogicGateNet()\n",
        "\n",
        "X = np.array([[0, 0], [0, 1], [1, 0], [1, 1]])\n",
        "Y_2 = np.array([[0],[1],[1],[1]])\n",
        "\n",
        "train_loss_list = list()\n",
        "\n",
        "for i in range(epochs):\n",
        "  grad_W, grad_B = OR.get_gradient(X, Y_2)\n",
        "\n",
        "  OR.weights -= lr * grad_W\n",
        "  OR.bias -= lr * grad_B\n",
        "\n",
        "  loss = OR.loss(X, Y_2)\n",
        "  train_loss_list.append(loss)\n",
        "\n",
        " \n",
        "  if i%100 == 99:\n",
        "    print(\"Epoch:{}, Cost:{}, Weights:{}, Bias:{}\".format(i+1, loss, OR.weights, OR.bias)) "
      ],
      "execution_count": 7,
      "outputs": [
        {
          "output_type": "stream",
          "text": [
            "Epoch:100, Cost:0.49580923848037245, Weights:[2.45484353 1.40566594], Bias:[-0.14439625]\n",
            "Epoch:200, Cost:0.3398674231512476, Weights:[2.98631846 2.39448393], Bias:[-0.67661178]\n",
            "Epoch:300, Cost:0.2573360986184237, Weights:[3.45016595 3.08431266], Bias:[-1.03721585]\n",
            "Epoch:400, Cost:0.20630142190061632, Weights:[3.85230067 3.60865952], Bias:[-1.30598633]\n",
            "Epoch:500, Cost:0.1716549922114765, Weights:[4.20195872 4.03000824], Bias:[-1.52060015]\n",
            "Epoch:600, Cost:0.14665018845489367, Weights:[4.50867681 4.38171478], Bias:[-1.6994397]\n",
            "Epoch:700, Cost:0.12779768649443757, Weights:[4.78049264 4.68334611], Bias:[-1.8527641]\n",
            "Epoch:800, Cost:0.11310517185394649, Weights:[5.0237707 4.9472786], Bias:[-1.98691756]\n",
            "Epoch:900, Cost:0.10135180918369109, Weights:[5.24347159 5.18181684], Bias:[-2.10611973]\n",
            "Epoch:1000, Cost:0.09174843008614507, Weights:[5.44346811 5.39279833], Bias:[-2.21332947]\n"
          ],
          "name": "stdout"
        }
      ]
    },
    {
      "cell_type": "markdown",
      "metadata": {
        "id": "jWmEtX_VnLSI"
      },
      "source": [
        "#### 테스트"
      ]
    },
    {
      "cell_type": "code",
      "metadata": {
        "colab": {
          "base_uri": "https://localhost:8080/"
        },
        "id": "j8mVWMDqz7Mb",
        "outputId": "c5c59e43-4ff5-42cf-8516-306336deccb6"
      },
      "source": [
        "print(OR.predict(X))"
      ],
      "execution_count": 8,
      "outputs": [
        {
          "output_type": "stream",
          "text": [
            "[[0.09855987]\n",
            " [0.9600543 ]\n",
            " [0.96195283]\n",
            " [0.9998201 ]]\n"
          ],
          "name": "stdout"
        }
      ]
    },
    {
      "cell_type": "markdown",
      "metadata": {
        "id": "JEBhczCIz57Q"
      },
      "source": [
        "### NAND Gate"
      ]
    },
    {
      "cell_type": "markdown",
      "metadata": {
        "id": "TzQaaHKKz8sZ"
      },
      "source": [
        "#### 모델 생성 및 학습"
      ]
    },
    {
      "cell_type": "code",
      "metadata": {
        "id": "h463QUQRz8PS",
        "colab": {
          "base_uri": "https://localhost:8080/"
        },
        "outputId": "57edd1fe-ef7a-4d18-ccad-842fc35d20e1"
      },
      "source": [
        "NAND = LogicGateNet()\n",
        "\n",
        "X = np.array([[0, 0], [0, 1], [1, 0], [1, 1]])\n",
        "Y_3 = np.array([[1],[1],[1],[0]])\n",
        "\n",
        "train_loss_list = list()\n",
        "\n",
        "for i in range(epochs):\n",
        "  grad_W, grad_B = NAND.get_gradient(X, Y_3)\n",
        "\n",
        "  NAND.weights -= lr * grad_W\n",
        "  NAND.bias -= lr * grad_B\n",
        "\n",
        "  loss = NAND.loss(X, Y_3)\n",
        "  train_loss_list.append(loss)\n",
        "\n",
        "  if i%100 == 99:\n",
        "    print(\"Epoch:{}, Cost:{}, Weights:{}, Bias:{}\".format(i+1, loss, NAND.weights, NAND.bias))"
      ],
      "execution_count": 9,
      "outputs": [
        {
          "output_type": "stream",
          "text": [
            "Epoch:100, Cost:0.7911738653764443, Weights:[-0.48972722 -1.25798774], Bias:[1.74566135]\n",
            "Epoch:200, Cost:0.5430490957875922, Weights:[-1.51545093 -1.80261804], Bias:[2.79151756]\n",
            "Epoch:300, Cost:0.42125913027366896, Weights:[-2.14614496 -2.26642639], Bias:[3.56506179]\n",
            "Epoch:400, Cost:0.3456117101528016, Weights:[-2.607325   -2.66303355], Bias:[4.18521187]\n",
            "Epoch:500, Cost:0.293129860518541, Weights:[-2.97696333 -3.00501941], Bias:[4.70528682]\n",
            "Epoch:600, Cost:0.2543396786003746, Weights:[-3.28850585 -3.30365261], Bias:[5.1539571]\n",
            "Epoch:700, Cost:0.22443918596780807, Weights:[-3.55912171 -3.56778782], Bias:[5.54869527]\n",
            "Epoch:800, Cost:0.20067626330797955, Weights:[-3.7989077  -3.80411461], Bias:[5.90108417]\n",
            "Epoch:900, Cost:0.1813412551760061, Weights:[-4.01441395 -4.01767547], Bias:[6.21926514]\n",
            "Epoch:1000, Cost:0.16530944081725432, Weights:[-4.21019696 -4.21231432], Bias:[6.50920952]\n"
          ],
          "name": "stdout"
        }
      ]
    },
    {
      "cell_type": "markdown",
      "metadata": {
        "id": "jR-rHaTU0Mga"
      },
      "source": [
        "#### 테스트"
      ]
    },
    {
      "cell_type": "code",
      "metadata": {
        "id": "WpzKW6sm0Ghp",
        "colab": {
          "base_uri": "https://localhost:8080/"
        },
        "outputId": "d95a3154-e53d-42d3-8af0-6341e7682b52"
      },
      "source": [
        "print(NAND.predict(X))"
      ],
      "execution_count": 10,
      "outputs": [
        {
          "output_type": "stream",
          "text": [
            "[[0.99851256]\n",
            " [0.90861957]\n",
            " [0.90879523]\n",
            " [0.12861037]]\n"
          ],
          "name": "stdout"
        }
      ]
    },
    {
      "cell_type": "markdown",
      "metadata": {
        "id": "NiTWfSQ60Zl2"
      },
      "source": [
        "### XOR Gate"
      ]
    },
    {
      "cell_type": "markdown",
      "metadata": {
        "id": "hmmL0VIu0bXq"
      },
      "source": [
        "#### 모델 생성 및 학습"
      ]
    },
    {
      "cell_type": "code",
      "metadata": {
        "id": "0CGm0r1M0a9M",
        "colab": {
          "base_uri": "https://localhost:8080/"
        },
        "outputId": "7482c946-f22e-48f3-c83b-71cee9ad51df"
      },
      "source": [
        "XOR = LogicGateNet()\n",
        "\n",
        "X = np.array([[0, 0], [0, 1], [1, 0], [1, 1]])\n",
        "Y_4 = np.array([[0],[1],[1],[0]])\n",
        "\n",
        "train_loss_list = list()\n",
        "\n",
        "for i in range(epochs):\n",
        "  grad_W, grad_B = XOR.get_gradient(X, Y_4)\n",
        "\n",
        "  XOR.weights -= lr * grad_W\n",
        "  XOR.bias -= lr * grad_B\n",
        "\n",
        "  loss = XOR.loss(X, Y_4)\n",
        "  train_loss_list.append(loss)\n",
        "\n",
        " \n",
        "  if i%100 == 99:\n",
        "    print(\"Epoch:{}, Cost:{}, Weights:{}, Bias:{}\".format(i+1, loss, XOR.weights, XOR.bias)) "
      ],
      "execution_count": 11,
      "outputs": [
        {
          "output_type": "stream",
          "text": [
            "Epoch:100, Cost:1.402685224545991, Weights:[ 0.47012771 -0.19931523], Bias:[-0.16097708]\n",
            "Epoch:200, Cost:1.3879445622846385, Weights:[ 0.1572739  -0.03387161], Bias:[-0.07321056]\n",
            "Epoch:300, Cost:1.386492030048373, Weights:[0.05525161 0.00089673], Bias:[-0.03330094]\n",
            "Epoch:400, Cost:1.3863236205351996, Weights:[0.02049628 0.00504503], Bias:[-0.01514784]\n",
            "Epoch:500, Cost:1.386299474364679, Weights:[0.0080051  0.00361297], Bias:[-0.00689034]\n",
            "Epoch:600, Cost:1.3862953430687444, Weights:[0.00326661 0.00201812], Bias:[-0.00313421]\n",
            "Epoch:700, Cost:1.3862945581495083, Weights:[0.00137938 0.00102449], Bias:[-0.00142566]\n",
            "Epoch:800, Cost:1.38629440139037, Weights:[0.00059716 0.00049628], Bias:[-0.00064849]\n",
            "Epoch:900, Cost:1.3862943694120307, Weights:[0.00026303 0.00023435], Bias:[-0.00029498]\n",
            "Epoch:1000, Cost:1.386294362832352, Weights:[0.0001172  0.00010905], Bias:[-0.00013418]\n"
          ],
          "name": "stdout"
        }
      ]
    },
    {
      "cell_type": "markdown",
      "metadata": {
        "id": "Cy-ktElI0o5P"
      },
      "source": [
        "#### 테스트"
      ]
    },
    {
      "cell_type": "code",
      "metadata": {
        "id": "GWAJAJ_T0oqm",
        "colab": {
          "base_uri": "https://localhost:8080/"
        },
        "outputId": "176ff7ca-7d79-42d5-b9f5-453e2f43589d"
      },
      "source": [
        "print(XOR.predict(X))"
      ],
      "execution_count": 12,
      "outputs": [
        {
          "output_type": "stream",
          "text": [
            "[[0.49996646]\n",
            " [0.49999372]\n",
            " [0.49999575]\n",
            " [0.50002302]]\n"
          ],
          "name": "stdout"
        }
      ]
    },
    {
      "cell_type": "markdown",
      "metadata": {
        "id": "VAlq_-6E1nIq"
      },
      "source": [
        "#### 2층 신경망으로 XOR 게이트 구현(1)\n",
        "\n",
        "- 얕은 신경망, Shallow Neural Network\n",
        "\n",
        "- 두 논리게이트(NAND, OR)를 통과하고  \n",
        "  AND 게이트로 합쳐서 구현\n",
        "\n",
        "- 06 신경망 구조 참고"
      ]
    },
    {
      "cell_type": "markdown",
      "metadata": {
        "id": "U_1hUxSa5c8E"
      },
      "source": [
        "<img src='data:image/png;base64,iVBORw0KGgoAAAANSUhEUgAAA1wAAACqCAYAAAC5xk5dAAAgAElEQVR4Ae2dO64kxxFF3w4G0Aa4hNkBuYQx5BKYJQy0AhpaAAFuYDYgYEyaBGQLGMiQTVMm5dFs4Q4Rw+h4+a2sf54EHqo/lVlZpypvx43M7vfyoEAAAhCAAAQgAAEIQAACEIDAJgReNmmVRiEAAQhAAAIQgAAEIAABCEDggeHiJoAABCAAAQhAAAIQgAAEILARAQzXRmBpFgIQgAAEIAABCEAAAhCAAIaLewACEIAABCAAAQhAAAIQgMBGBDBcG4GlWQhAAAIQgAAEIAABCEAAAhgu7gEIQAACEIAABCAAAQhAAAIbEcBwbQSWZiEAAQhAAAIQgAAEIAABCGC4uAcgAAEIQAACEIAABCAAAQhsRADDtRHYWrO//fbb45dffvny9+nTp8cPP/zw9e/Dhw+P77777tXfN99883h5eWn+e/v27as23r9///U4P/7449c+qD8UCEAAAnsT+PXXX7/qkGli3Hp99LoV99NztUeBAAQg8Pnz56K2xNjr48ePxf2Jk7inRghguEboZeraIFdgoEBBJscMVI9hOmJfM2kyfRbYIDKZC83LEIDAEwGfSDL9kwaa/mn75s2b5qTRGhpomqZjm3FToCVzRoEABK5BwOIqb5JicnoNvWhtQzpmumaJbIuZ1FcKBCIBDFck0vlc2VQb9L0zUK0D+wz7mbgoYJHgYcI6bxR2h8ANCJihUiZYWvDu3bsvQceVtc+0zSeZbnCpOAUIXIqAGSpLipiZOUP8s7QP0kVL9EgzMWKXuiVX7yyGaxCpsqRLB+PV6ylzrCCFTPHgTUR1CFyAgAKHq2tWT/9N30gwXeDmpIuXJqA44spJmx5dsQSPjCWx06Vv2+7OY7i6kT1XGDFcfqmLTUlbdseWvKh9/9f6/QTLFvm6fipex7EM0hpCJxHROegYFAhA4H4EtjRcXgtNl5Zue4Kfnn3VR+kmWer73duc0TkIKF7RrHnPuKztu1RHYr014qRcX3XOmgFrje/OcbXoRS8BDFcvsbC/BCI1iGywmoEy43PmAZVaLqQgI3V+pdfMfBGYhJuFpxC4MAFpWmnc23tmnhREmP7FL6PvhUF6a9pr3ymz79SOBFCqq6z8mfV8L8YcBwJrE9C40jg1TUltNQalLz45vWfM4ZPapnO2xDrV39bXpJ/SS762sfZddXx7GK7Ba5AyXINNnrK6zlMBi0SwJ1BRkCbxoEAAAtcmEA2XtECBhhmaq56dAieb/dc5KmHUGhxpPwuQrnr+9BsCZyUg41Wa8dJ4PasxsQS24iYlZ6J+tmiMNFb6SrkHAQzX4HWcxXBFTBJCCUlJDL2gyKRhvCJFnkPgOgRiwHDnQED6Jr3qSTDJqMmAnjUAvM6dRk8h8ExAWpNbbaNxdyUtUoLHYqfW5A5Jnef74arPMFyDV25WwxWxKUPcYr4wXpEczyFwDQIzGa54RSzBlAv6fHIJ4xXp8RwC6xBQQsOPNf/4qgldxZCtPxpC/LTOfXRUKxiuQfIYrmeAyu5K+GrLDhW4XCkr9XyWPIPAfARmNlz+apv5qmkcxstT4zEE1iGgGaJc4kMz0lcuOjedQ23mS9pD/HS9K43hGrxmGK48QLGJQZrPSOmxxIUlOHmGvAOBsxCIY5kP/MeXoEcaFnXNP1dwxK+3nuUuph93IKCYITfu9PodihLXOWNp+iJNVgKIcg0CGK7B64ThqgOUIJSWGyqbQ0BS58geEDiSAIYrT18ap+VOpcy0NJDkUp4h70Cgl4C+C2Xmw2/vYrrEo5a4tpn0Xnbsvz8BDNcgcwxXO8CacGgdMwUCEDgnAQxX/brIUJW+Z0Jyqc6QPSDQQ0AzQalEx51Ml3jU4idmu3rummP2xXANcsdw9QPMCaQyVJpCJwvcz5QaENiaAIarnXBtVp/kUjtL9oRAjYC++5QyXYo17lYUc+a+P0pC59xXG8M1eH0wXMsAylTllhlKNCSgFAhA4DwEMFz916IUHJFc6udJDQjkCORMl8bgHUtpJl3vUc5HAMM1eE0wXGMA9d2tVGZKr91VKMeIURsCxxDAcC3jruSSZrT8d0zssTLVJJeWcaUWBCIBzWjZ2LKtYom7rpqRduR+WONuSyrjtb7icwzX4FXDcA0CfDy+/MpOTjTuuCRgnBgtQGB/AhiuMeal5BKma4wttSFgBFI/pKHVNHcuuYQOs+jnuuqLDJdlDti+vMqmiAmln0BpiSEzXf08qTFOAH1L65txYVz232O5jDTLqPtZUuOZgI1LtmndunvyNjW7p3sB0/U8To58tsgdMKDTA9q4HHlBr35sTYMbR9sSjFz9ql6z/3b/sU3rHYZr2X2t5FJqRh+dW8aTWn8QQKfSOmVc7ry00MaAEjo6Tztn22p1AuV4Ahiul/IgtRu2Z3v8Zb12D3Km667rsK99te7b+54xP+O+GK6xez+lc/pOFzo3xnXW2jNqUO85z/DroDnTxXe6jlcGDBeG6/i7MNGDVDCirDAFAnsR6P0wn21/DNf4nYjOjTOkhT8IzKY/S89X/7Lh7iVnuvT9NspxBDBcGK7j7r7KkVPBCD93WoHG26sRWPqBPks9DNc6t1pqeeEMmfh16NGKEZhFd0bPc5aZnpzp0uuUYwgsMlzHdPWcR1XQEQXgnD29Xq9y33VAMK53Lenx9QnwK4XbXMOczmFot+FNq3MRSP2/qhlmuXSVU/Epy5aPu/8xXIPsUzf0YJNUdwRSWRqWFjpAPITATgQwXNuBTukcgdF2vGl5HgJKaMQfkphppUzqZ/KZQT/m/sdwDXLHcA0CbKieEoy7/8RrAxZ2gcCuBDBc2+JO/azzTIHhtnRpfWYCcZZLyYyZiv4PWVyJxUqh/e8ADNcgcwzXIMDG6jHYm00wGzGxGwQ2IxDHoLSPsi6BGBgpM59b/qTXlYxSHX9t9FivycDxi4frXh9auyYBjZWZDUdqlk86QdmXAIZrkDeGaxBgY3VlY6JgMsvVCI/dILACAR/UayxiuFaAGppQYBiXP8Uv+UsLozGL2uifq37OtIXD8xQCtyUQx8xsy+pSK4XQ8H1vdwzXIG8M1yDAjurxVwuZ5eqAx64QGCSA4RoE2Fg9Ln+SAbOZqvieN1alx2qDBFXjBWC3WxKIS3ZnjB90zl4nZEIp+xHAcA2yxnANAuyoPvuygA5U7AqB1QlguFZHmmwwtfxH2emYcPKBU+vj2bL6ScC8OCUBjas4Tmab+Y2mUzxmY3DkzY/hGqSP4RoE2Fk9Bn0EEJ0A2R0CCwnEscdylIUgG6pJ13xw+Je//OXpub33/fffP/7xj398CZr+97//Pf773/9+eazXvv3222QdmTcKBGYkEP/n3YyzvnGWCz3YbyRguAZZY7gGAXZWjxmaGZcFdCJjdwisQgDDtQrGpkZSs/lmsmz7z3/+s9jW77///vj555+TpotfKCui482bEoiJjBkTtnFZMv9mZ7+bHcM1yBrDNQiwszrLAjqBsTsEViKA4VoJZGMzMRtvRkszV5rJai3/+te/XpkugqxWeux3JwIxYStNm62kkjn2HdHZWOx9vhiuQeIYrkGAC6rHQOTTp08LWqEKBCDQQwDD1UNrfN+YiTbD9Z///Ke7cc2GWX3bopvdGKlwcQIxXpt1hUxcVogW7HNjY7gGOccBrA8zyrYE4rIABSYUCEBgWwIYrm35xtZTny0j3zn5+9///mS6+IWySJznMxCwhINtZzjneI7EUJHIPs9xB4OcUx+Kg01SvUIg9f8kTDzZvjwFVRWUvA2BZgIYrmZUq+z473//+2ksS9v0wxhLi2bG7qyPS7lQby4CcQzMuJyOGOo5Tor3hH++5ujAcA3SxHANAlxQPcXcDxAe/ykmC/BSBQJJAhiuJJbNXow6p18kHC131sZRNtSfg0BcTqdxNluJ2nJnXRg9tzXvDQzXIM3UjTvYJNUrBFLMRwfVXetXUPI2BJoJYLiaUa2yY/wO108//TTcblxWeCfdG4ZDA1MQQMceD2KoP5PSNQ1cc1BguAZppm7cwSapXiGQYl4bNLO+X0HJ2xBoJkCg0oxqlR2j4dJPvI8WDNcoQepfnQA69scVnDUm6j3vNe93DNcgzVTwP9gk1SsEUsx7B9Es+1dQ8jYEmgkQqDSjWmXH+D0LZrjKWelVoNPI7QmgY39c4llioNHzXHNAYLgGaaaC/8EmqV4hEJlLQCkQgMC2BAhUtuUbW486t8V3uPQ/eSgQmIkAOvZ6SeGbN29mugUOO1cM1yD6+KEoN03ZlkDM/GK4tuVN6xAQAQKVfe+D1D957/mHx7G38R8gE2RFQjyfgQA/mvHacBFD7XPn4w4GOWO4BgEuqB6/28D/4VoAkSoQ6CSA4eoEtsLucTnMyLLCv/3tb08/C//+/fsVekgTELgWgTimZvxZeP2jY88Bw7XPPYzhGuSM4RoEuKB6DPw040WBAAS2JRDHnbSPsh2Bz58/PwVFFiBppqq36Ac3rL5tuX69FNn/DgTs/rftHc6p9xxi0prkSy/BZftjuJZx+1oLw/UVxW4PtBTGxFJbAofd0HOgiQlguPa9+DEL7TVP/8S4tcSlhGqHjHYrPfa7E4EYr826rPbdu3dPMRSrhPa5yzFcg5zjANaHGWU7Aqms73ZHo2UIQMAIYLiMxD7bDx8+PAVF3nDpsWatfv/992xn9J6WIMZ6ei4dpUBgNgIfP358Gg+zJh5IWh9z5+MOBrljuAYBdlaPP5jx9u3bzhbYHQIQWEIAw7WE2vI68cv9KeP07bffPhREasZLvzioP81oxcDS19V7FAjMSCAmMfR8tkLS+rgrjuEaZI/hGgTYWV0GywcPTIV3AmR3CCwkgOFaCG5BtVRQ9Ne//vVJ+7wOtj7GbC24GFS5DYEYP8w4HqLpnHWW74ibGsM1SB3DNQiwo3oqCGFpTAdAdoXAAAEM1wC8zqoxKLKZfAWIcTlQi9lSHX0njAKBWQmk/s3CjP+HLs6c86Nj+40IDNcgawzXIMCO6volHR9cWBDS0QS7QgACCwlguBaCW1AtmiofFClIjFroddE/VjtaBTDjT18vwE6VGxNQssKPDRmP2Urqh3hmNJ1HXXcM1yB5DNcgwMbqEgUvlno843KARlzsBoHVCWC4VkeabDAGhtK6lGHSa9pX5kvXxv9phkzBVape8qC8CIGbE4i/zDfjT6FHDddzyn4EMFyDrDFcgwAbq0exVOaWAgEI7EcgflhL+yjrEpBBikt+ZgwM16VKa7MT0LiKCdvZltimYtXZGBw9DjBcg1cgdRMPNkn1QCA1De6X2ITdeQoBCGxAAMO1AdTQZPyHpAoSWfITIPEUAp0E4riacTlh/MGQGRl03jar747hGkSK4RoEWKmuzFT8PgNCUYHG2xDYgACGawOorsnUjwIxu+UA8RACCwnEWePZfg4+Gk4lclihsPBmGqi2yHDFqVmevzxNVw9cD6oGAjHIQygCIJ5uRgBde9a1yIMP7PVuPSWWYgZaiSZmt9ZjfPeW4vjkeV6/ZhpXqUSO4irK/gQwXC/5QblUsPa/jPc8YvxpZF2P2TJT97yy1zirpeN/lnoYrvXuY81kxfuGZdPr8Z2hpXj/8Dwd2800a5z6TiiJnOPUAMOF4Tru7iscOfVLXcoAS0AoENiDAAFLOmAxLhiude5CGStjalsy0OuwnakVu3fYlnVrltmt1Ky57g0SOcepAoYLw3Xc3Zc5cspsKSvDPznOAOPlTQgQuJQDFwzX+G2X0zoSS+NsZ2sBvSrrlfjMNLsVf9lZ56/XKMcRwHBhuI67+xJHTn25U0LBz5cmYPHSpgQIYMoBDIZr7PZLmS3dcySWxrjOWhu9KuuVkrYzJDJ0jqnvvrNC6HhlWGS4ju/2eXqgoCMK3Xl6d52eSCRS32MQWwUmFAhA4FgC8UMcw7X8eqS+n4rWLedJTQh4AqlYYoaldIqj4o/vSFdmMZv+HjjjYwzX4FXBcA0CfDy+ZHRTIkEAMs6WFiCwFgEM1zhJBUSppT5o3ThbWoCACKRmjmf4TqRmxmWspCX+j69jnGdcYLgGrwWGawygsk4pkSAAGeNKbQisTQDDNUZUnxXx/wFZYMQs/hhbakNABFI/ga744u4/lJH7KgZm61zjAsM1eD0wXMsAiltuVguRWMaUWhDYkgCGaxldzWrllhBK6/h+6jKu1IKAJ5Cb4bnz+NI55+IovS7toZyHAIZr8FpguPoAKtOUWl9tmV4FdYhEH1P2hsAeBDBc/ZQ1cyVTZfrmt5rtUsBEgQAExgjkzJZmfu5YSkkcaYxiLOKo8115DNfgNcFwtQGsGS2JxF3FsY0Qe0Hg3AQwXO3XpzSDL63T97gIiNp5sicEcgRyZkum425FmqE4KZfEkbbM8OMgV72uGK7BK4fhKgMUn9yXxCUO+lMgR6a3zJF3IXA0AQxX/QpoRiv3PS1pHUsI6wzZAwKtBFI/kKFxdjez1WK0tISQOKr1zjlmPwzXIHcM12uAms1SFqYUeFjwwZfFX/PjFQickQCGK31VWvWOZT5pfrwKgSUEct+LvJPZUnyp81G8lPtTEodZrSV30P51MFyDzDFcfwBUZkWDPvcFTi8WEggZMpbUDN58VIfAjgQwXH/ClslSsqhF78RNnxMUCEBgnIDGXm7c3cFsKZaSmawlrBVTkcQZv5/2bAHDNUh7VsNlAYcGfIswSBy0H0Zr8IajOgQOIjC74VIgJP3KBXs+qaTHGK2DblQOe1sCpX8jo7F5xaLEs35JsdVkmdFSDEa5FgEM1+D1Shmuuw0EBRoSBAmagojSFzZj0GGBB0sHB280qkPgYAKzGS5puzRP30Ht0Tztz4zWwTcrh78VAcUgUX8s1tDYvNJPvys+NIOVOyc7N7/VecqU3S2+vNWNWjkZDFcFUO3tlOHyg0QDSn/6ENaHt/6UpVE9+ztyACm7Yv2QKVL/NKjV59aZK3++9lh1EYfa3cP7ELgOgRgcaHZbeiHdMA252jJh0z/TPun0Et2z2fsjtfw6dxI9hUAbAY1P6YzFFXGr2eazjjmZROmi4j2LqXoSN3auOkfp09W0te0Kz7UXhmvwemtA2cBYc2tGLbU141bbpurGoGnNPksY1CcJDQUCELgXgV7tkB6YBvmEkzQiJp3MsI1qh7VjW5uZN620/iwxVVEr1YaCQR2LAgEIrEdA5kJjtmZQNJ5lZmx8a+sTQKYD2o4YFpk635YeW5JGxzRDpf7U+hx1JPVc2imNPKuZXO9Kz9UShmvwemvgpQbMDK9JFCQ0CmpGxGzwElAdAhDYgYCCiRl0rXSOYqAAa9QY7nC5OAQELkdA46o0o1Uam1d+TyZNSSmZOEzW5W7b5g5juJpRpXfU4NAHsERCH8Z3DEokBjovnaNlptM0eBUCELgrgTtqWylI0wyWzcwpsUaBAAS2IaC4Qgnc0ni803s6V4unSN5sc0+dsVUM14ZXxU9DS1BkzPSnD3EzZ2cIYjT4rT/WR81aKchg5mrDG4SmIXAxAgoO4nIa046rBkymf5qtt4QSunexG5PuXp6AdEV/FiutvUzvCMMmbbSkjS11vPyF4gQWE8BwLUa3XUULakyA/NbEyIxRaWvBg6+vx2RUtrt2tAwBCDy+JGq87kSdikknM22jQZFmpawt2yqTbMe3oEd9w1Rxp0LgegR8fBS/o6lxbuPeb9f4zqYlZny7pivaWpKa+Op699RePcZw7UWa40AAAhCAAAQgAAEIQAAC0xHAcE13yTlhCEAAAhCAAAQgAAEIQGAvAhiuvUhzHAhAAAIQgAAEIAABCEBgOgIYrukuOScMAQhAAAIQgAAEIAABCOxFAMO1F2mOAwEIQAACEIAABCAAAQhMRwDDNd0l54QhAAEIQAACEIAABCAAgb0IYLj2Is1xIAABCEAAAhCAAAQgAIHpCGC4prvknDAEIAABCEAAAhCAAAQgsBcBDNdepDkOBCAAAQhAAAIQgAAEIDAdAQzXdJecE4YABCAAAQhAAAIQgAAE9iKA4dqLNMeBAAQgAAEIQAACEIAABKYjgOGa7pJzwhCAAAQgAAEIQAACEIDAXgQwXHuR5jgQgAAEIAABCEAAAhCAwHQEMFzTXXJOGAIQgAAEIAABCEAAAhDYiwCGay/SHAcCEIAABCAAAQhAAAIQmI4Ahmu6S84JQwACEIAABCAAAQhAAAJ7EcBw7UWa40AAAhCAAAQgAAEIQAAC0xHAcE13yTlhCEAAAhCAAAQgAAEIQGAvAhiuvUhzHAhAAAIQgAAEIAABCEBgOgIYrukuOScMAQhAAAIQgAAEIAABCOxFAMO1F2mOAwEIQAACEIAABCAAAQhMRwDDNd0l54QhAAEIQAACEIAABCAAgb0IYLj2Is1xIAABCEAAAhCAAAQgAIHpCGC4prvknDAEIAABCEAAAhCAAAQgsBcBDNdepDkOBCAAAQhAAAIQgAAEIDAdAQzXdJecE4YABCAAAQhAAAIQgAAE9iKA4dqLNMeBAAQgAAEIQAACEIAABKYjgOGa7pJzwhCAAAQgAAEIQAACEIDAXgQwXHuR5jgQgAAEIAABCEAAAhCAwHQEMFzTXXJOGAIQgAAEIAABCEAAAhDYiwCGay/SHAcCEIAABCAAAQhAAAIQmI4Ahmu6S84JQwACEIAABCAAAQhAAAJ7EcBw7UWa40AAAhCAAAQgAAEIQAAC0xHAcE13yTlhCEAAAhCAAAQgAAEIQGAvAhiuvUhzHAhAAAIQgAAEIAABCEBgOgIYrukuOScMAQhAAAIQgAAEIAABCOxFAMO1F2mOAwEIQAACEIAABCAAAQhMRwDDNd0l54QhAAEIQAACEIAABCAAgb0IYLj2Is1xIAABCEAAAhCAAAQgAIHpCGC4prvknDAEIAABCEAAAhCAAAQgsBcBDNdepDkOBCAAAQhAAAIQgAAEIDAdAQzXdJecE4YABCAAAQhAAAIQgAAE9iKA4dqLNMeBAAQgAAEIQAACEIAABKYjgOGa7pJzwhCAAAQgAAEIQAACRuDz58+PX3755envt99+s7fZQmCYAIZrGGFfAxrU33333Ze/9+/f91V+PL7WVRtLxMAfX49j+fjx49MxrK+p7YcPHx4//PDD49OnT7EZnkMAAjck4HXg119/XXSG1oa0pqfoeFb33bt3PVW/7Cu9svop7Wtp0Oqn+u611fbLbb12LtHxlr6yDwQgUCYgTVEc9ubNm8fLy0vy75tvvvkS57SO0x4dkD4ohvrxxx8fSzWpfIa8eyYCGK6dr4YGtx/YvUGLr7sk6FAGx9rQ41g0+O39nq0ES3VbRSkel+cQgMD5CXhNULCwpFgb0oueoqDE6mrbm+hRf63+27dvew79dV+rn+q711bbr3WrzwW08ytmHkBgUwIaa0p6tI5P7acYJ5VoiR0d0QHpUioui8fg+TUJYLh2vG4a5DGTokHfU6JA9AYdXgxSA9sbLj3O/Vm2OPZH59drInvOn30hAIHjCMTxLhPUW6yNlGkptaVMs9XVtjfh5A2X6vceX32z46fqem2VgappZ/ws0HOy3KU7gPcgME5AcZiMjY1ljTuN1dTYU3wVk+R6XiqtOqBjSsN8X6xPLcau1AfeOycBDNeO10WDSANKA9yyK3rcU2xA2lb1ezKjXgxqhqu1XxIlLxp63NOn1uOwHwQgcCwB0x3bSn96EyxWN2Vacmfndcu0U+306Ew0XKqfCrJyfdDrpb77Pqa0NdWu9vP9Es/ePqXa5TUIQCBNwMcqMjwtGqIx6euVtGuJDtjSRtOXJbqaPltePRMBDNeOV8MGrDIkGsA2uHpmqayO2tCg1POeTG9NDCQkdoweNBItnwlSEEGBAATuRcC0QVpm+tM71q2NUtASqZm2WIBkbfTMsJmxUd9ttkyPe4odN9X3mraWjuNNpPpGgQAE1ifg4xtpSk9RjGMxnHRA4z1VRnTAdE7t92hbqh+8dj4CGK6drok3WJbBtMHbY5j8B77/TkOraauJgRekJWgsqCkJ0pJ2qQMBCBxPwPRH41yaY897ggOrkzItqTNUoGN1bKmNNFOv9ZgT0yZtvQ629kN9s36k6vg29bi3eNNl59nbBvtDAAJpAppFsvEr3WiZ2Yot+ThOOpIqIzrg+9gTF6b6wWvnI4Dh2umaWObCBwjeMLUuyzHBsA98CyKUbW4RkJoYqF07xhI0CMYSatSBwDUImDZYsGHGp2cJjLVhGlY7c9NJHcOKN3uWwLL3clvTSuu7NzhL9dcfq6atft/UY+m3zRr6z4nUvrwGAQj0EfDjfUlCxI7mY6RUO6M6YBpgOmXHZXt9Ahiuna6hDSKfCfaZW/96qUsxWFGgYG23ZERqYuDFpNSP0ntmLtVXCgQgcB8Cpj8WDHiTYK/VztbaaDVcMh+qE5cAme7F13PHV//UjvVTfbe27bVcXXu91Peatlobpa3X31YjWWqP9yAAgT8I2FgfTWb4pHJKe0Z1wHStVZO4vtchQES8w7WyH8vQh3XMpFqGuFUEUh/4lgHWe7WlhTUx8B/4S9H489XxKBCAwD0ImP74YMDPNrUshbM2WgyXX8ITDYhlrBWgyDzVivqsY/u+ez1sSXqV+u7bWqp7/nxb+lM7Z96HAAQeT9+Zb9GdGjPTklTcNqIDfvynzFytX7x/bgIYrh2ujw3O1AyUNycxoEh1LfeBb8eoBR81MVjDcPkM0BriluLAaxCAwP4ETH+8aVEvLHFU0x/ta220aIOCDu2fCmx8cNJi9EwjY9+9cYsJsUi41Peatsa2cs8tw03AlSPE6xDoI+DjrKXJEH9EHyfFZM+IDpjeSWdaNM33icfnJ4Dh2vgaefORG0A9H7C5D3wdx9pJGTs7zZoYeCGxOku21k8FMxQIQOAeBGxcR9PilxaW9EcUrI2a4fJt5va1Hx6K/UnRzhkuf5xaO6W+17Q11afUa7l+pvblNQhAoPmcvQQAAAjJSURBVE7AxzXRINVrv97Dz+pHA7dEB9Qnb7ZSCabXveCVqxHAcG18xXz2NHcoG2ij2WG/tDCKgB27JgZemKzOkq2Zv1oAs6Rt6kAAAscQMMORGtc+i1xa2mxt5EyUnZlvLzfz5DUvt4+1VzIyPoAqLeUr9b2mrdaP2rbUz1pd3ocABF4TsDhM43eNUhrr/j1piZ6n/qRv0kDFfxYvqX8yWy2rndY4D9rYl8A6d9++fb7U0WwgaVDlSs/SmNIHvtq3D2sN2lQmx4uBHseyluGyfmhLgQAE7kHA9Cc3rm3cl5JH1kbNcLXMXknjrL3abLr1Ldd3vywyZ97sWKm+17S19Q6wfoohBQIQGCdgY0rjd41SGuv+PdOL1q00LBW3rdFn2jiewDp33/Hnccoe+AxtLWMhg6RBmQsG7ARt4KY+8LWPAgXbJxWAeDHQ41jWMlyt5xOPz3MIQOC8BExbcjol/bEkU25pobWR0zCdfU8SyoySNKdULOjK9V2BjvU9t0+p7zVtLfXNv1frp9+XxxCAQJ2ArSLS+F2jlMa6f8/0onWrJFMtVlyj/7RxDIF17r5j+n76o7YGAjqR1qUxNnBLwYo3TdFUeTGI76kfvu4IYOtnLugaaZu6EIDAMQRsXOcMiXrltSy1tNDaKGmYBUilmTIj4JcDpo5n+7UYGd9Wamlhqe81bbV+1LYt/ay1wfsQgMCfBNaKa6zF0lgvvWf1/VYGy/RO+lJLHPm6PL4WAQzXRtfLzzTZh3TrNjUzZd20NkrBiva15TgavH6KuiYGawiTP/daP+282EIAAucnYPpTMlw6CzMNKcNkbZS0wWaabN/WbSnBY32q9d0SZeqDtMwX60eq7zVt9e2UHtu5l86lVJ/3IACBZwI+rlljBqnU3lId8G2mkj3PZ8SzKxLAcG101fzgsQ/p1m0pw2FtqP1S8UtyvIGriYHvd6n90nt+KWUp41xqg/cgAIHzETD9qZmW0tJCayOnYV4/bN+erU8weYKthqu0tND6kep7TVt9X3KPvW6njpGrx+sQgECegB+b0pfR4pMysS1/LD1uLT5RXfrOf2t77Hc+Ahiuja6JTJM+nPUhr0HX8ldbiqOulj7w46l482QDX1trw17z9Xwd/3rPYz89HjPEPe2wLwQgcC4Cph01w6Ve5/TM2sgZCjNG0tAW3dQ+taWA6o+129L3XHulvte0teVKemYpfW5pg30gAIHXBGzsjs4c+4RMqq0RHfBx4+sz4JWrE8BwbXAF/Yd17wxPbTmJiUYuWImnE5cW1sRg1HD5LI2OTYEABO5DwPSnxbTorM3kSNds5snaSGmY14/eZTWmdTndsb609t1nsS1xVOp7TVtrd4H4WMClLQUCEFiPgI1njWEbz0ta9zPwqdmyER0wjcpp2JL+Uuc8BDBcG1wLG9gKMnqLlv/Zh7oFKL4Ney8VrPj97LFfoqK2a2Iwarj87FZKjKxfbCEAgesRMP1pNS0KbGISydpIaZjXv96gyM8Opb6nYcFMa999JtvqlPpe09ba1fba65eB1+rxPgQgUCfgx+fSJXs+KZKL7/xx9LinmEZJZyj3I8BVXfmaKkiwD+UlH5reIKUyvNZ2KljJnYr/IPePU2Lg38+1l3vd1yVDk6PE6xC4LgHTHzMgLWfijZCf/ZdexBLNWXy/9FzBkPUvFVBZMNPTd99ffx6pvo8EWj5rLgapZFvp3HkPAhCoEzANkE4sSQi3JJRHdMD3r3427HE1Ahiula+YNx2pLGvL4UrLSiygSH3gl9q25TZWX9u1DJdMphcitb303EvnwHsQgMCxBEw/ekyLemyBhBkqtRM1zJuO3qXYRqW0usD6sEXfdfwlgZa008/q5XTZzo8tBCCwnIDGm9egVtOlBIiPcUoaskQH7Ix8/Givsb0PAQzXytfSzNLIDI/PpEbjYgFPDFZqp+FnzqyNmuHS+7k/BUTqQzRyErNUu7X+8T4EIHB+AqYdpYAjdRYx0FE7UcPMEElDlhY/IxWDKWt/i76rv9I94yMNz2mnXs9pZ+zzUg7UgwAE0gQUC3nTpSRNjLN8TY1Ji+s0vhXzlGagvQ7ocU+RLpiGlPrU0yb7nocAhmvFa+EHmj5wlxYFJzbo4tIYez0GKy3H8oNZ7aTEIO5jx2vZSrjUdwoEIHBPAqYDvaZFNKK2eA3zmrdkKbanbcFU7ONSw6W2fRJMDHzf7dhe/41T61Z9I8AykmwhsC0BjTVvojRO9VzjUPqjuEuPTUtsHCvGKZkt9drrQCrGKp1ZKWFUqsd71yCA4VrxOvkp59qgrB02tzTGBn7qA7/Wpt73M1IpMYhBkR0vtZUgqZ+qg9Fqoc8+ELg2AdMBjf0lxeuP1zBvaEaNh9dhr0vqs/q/tO9WX234vhsHH2gZp9xWHEw7R8/Xjs8WAhDoI6BxHI1Xasxq7KfipdTRvA601rF2FDfa8dUvyr0IYLjudT05GwhAAAIQgAAEIACBRgJKeijpIwPm/7Sc0CdtGptjNwgkCWC4klh4EQIQgAAEIAABCEAAAhCAwDgBDNc4Q1qAAAQgAAEIQAACEIAABCCQJIDhSmLhRQhAAAIQgAAEIAABCEAAAuMEMFzjDGkBAhCAAAQgAAEIQAACEIBAkgCGK4mFFyEAAQhAAAIQgAAEIAABCIwTwHCNM6QFCEAAAhCAAAQgAAEIQAACSQIYriQWXoQABCAAAQhAAAIQgAAEIDBOAMM1zpAWIAABCEAAAhCAAAQgAAEIJAlguJJYeBECEIAABCAAAQhAAAIQgMA4AQzXOENagAAEIAABCEAAAhCAAAQgkCSA4Upi4UUIQAACEIAABCAAAQhAAALjBDBc4wxpAQIQgAAEIAABCEAAAhCAQJIAhiuJhRchAAEIQAACEIAABCAAAQiME8BwjTOkBQhAAAIQgAAEIAABCEAAAkkCGK4kFl6EAAQgAAEIQAACEIAABCAwTgDDNc6QFiAAAQhAAAIQgAAEIAABCCQJ/B/NIO36r+zcXQAAAABJRU5ErkJggg==' width='500' >"
      ]
    },
    {
      "cell_type": "markdown",
      "metadata": {
        "id": "h-llQeDP4s32"
      },
      "source": [
        "![image.png](data:image/png;base64,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)"
      ]
    },
    {
      "cell_type": "markdown",
      "metadata": {
        "id": "-HcyqWMn4x1G"
      },
      "source": [
        "[출처] 밑바닥부터 시작하는 딥러닝"
      ]
    },
    {
      "cell_type": "code",
      "metadata": {
        "id": "mr7nYMG20jTo",
        "colab": {
          "base_uri": "https://localhost:8080/"
        },
        "outputId": "cdeea69e-57d2-4013-e6fd-eea6d98ae062"
      },
      "source": [
        "X = np.array([[0, 0], [0, 1], [1, 0], [1, 1]])\n",
        "Y_5 = np.array([[0],[1],[1],[0]])\n",
        "\n",
        "s1 = NAND.predict(X)\n",
        "s2 = OR.predict(X)\n",
        "X_2 = np.array([s1, s2]).T.reshape(-1,2)\n",
        "X_2"
      ],
      "execution_count": 13,
      "outputs": [
        {
          "output_type": "execute_result",
          "data": {
            "text/plain": [
              "array([[0.99851256, 0.09855987],\n",
              "       [0.90861957, 0.9600543 ],\n",
              "       [0.90879523, 0.96195283],\n",
              "       [0.12861037, 0.9998201 ]])"
            ]
          },
          "metadata": {
            "tags": []
          },
          "execution_count": 13
        }
      ]
    },
    {
      "cell_type": "markdown",
      "metadata": {
        "id": "nkTDx8Ah1xHY"
      },
      "source": [
        "#### 테스트"
      ]
    },
    {
      "cell_type": "code",
      "metadata": {
        "id": "LK2iD5A91yWQ",
        "colab": {
          "base_uri": "https://localhost:8080/"
        },
        "outputId": "46e706ba-401e-4ee2-f207-91b93755cff8"
      },
      "source": [
        "print(AND.predict(X_2))"
      ],
      "execution_count": 14,
      "outputs": [
        {
          "output_type": "stream",
          "text": [
            "[[0.12870357]\n",
            " [0.79966936]\n",
            " [0.80108545]\n",
            " [0.14420781]]\n"
          ],
          "name": "stdout"
        }
      ]
    },
    {
      "cell_type": "markdown",
      "metadata": {
        "id": "i-SK4G262Agn"
      },
      "source": [
        "#### 2층 신경망으로 XOR 게이트 구현(2)\n",
        "- 클래스로 구현"
      ]
    },
    {
      "cell_type": "code",
      "metadata": {
        "id": "8RpnHCRZ1zwr"
      },
      "source": [
        "class XORNet():\n",
        "\n",
        "  def __init__(self):\n",
        "    np.random.seed(1)\n",
        "\n",
        "    def weight_init():\n",
        "      params = {}\n",
        "      params['w_1'] = np.random.randn(2)\n",
        "      params['b_1'] = np.random.rand(2)\n",
        "      params['w_2'] = np.random.randn(2)\n",
        "      params['b_2'] = np.random.rand(1)\n",
        "      return params\n",
        "\n",
        "    self.params = weight_init()\n",
        "\n",
        "  def predict(self, x):\n",
        "    W_1, W_2 = self.params['w_1'].reshape(-1, 1), self.params['w_2'].reshape(-1, 1)\n",
        "    B_1, B_2 = self.params['b_1'], self.params['b_2']\n",
        "\n",
        "    A1 = np.dot(x, W_1) + B_1\n",
        "    Z1 = sigmoid(A1)\n",
        "    A2 = np.dot(Z1, W_2) + B_2\n",
        "    pred_y = sigmoid(A2)\n",
        "\n",
        "    return pred_y\n",
        "\n",
        "  def loss(self, x, true_y):\n",
        "    pred_y = self.predict(x)\n",
        "    return cross_entropy_error_for_bin(pred_y, true_y)\n",
        "\n",
        "  def get_gradient(self, x, t):\n",
        "    def loss_grad(grad):\n",
        "      return self.loss(x, t)\n",
        "\n",
        "    grads = {}\n",
        "    grads['w_1'] = differential(loss_grad, self.params['w_1'])\n",
        "    grads['w_2'] = differential(loss_grad, self.params['w_2'])\n",
        "    grads['b_1'] = differential(loss_grad, self.params['b_1'])\n",
        "    grads['b_2'] = differential(loss_grad, self.params['b_2'])\n",
        "    return grads"
      ],
      "execution_count": 15,
      "outputs": []
    },
    {
      "cell_type": "markdown",
      "metadata": {
        "id": "lplK_x0l2YLh"
      },
      "source": [
        "#### 하이퍼 파라미터(Hyper Parameter)\n",
        "- 재조정"
      ]
    },
    {
      "cell_type": "code",
      "metadata": {
        "id": "qf-3wWSv2b7l"
      },
      "source": [
        "lr = 0.3\n",
        "epochs = 1000"
      ],
      "execution_count": 16,
      "outputs": []
    },
    {
      "cell_type": "markdown",
      "metadata": {
        "id": "lmHKd45d2JbJ"
      },
      "source": [
        "#### 모델 생성 및 학습"
      ]
    },
    {
      "cell_type": "code",
      "metadata": {
        "id": "cQNd3XVd2Gj7",
        "colab": {
          "base_uri": "https://localhost:8080/"
        },
        "outputId": "de187ed8-d553-4a36-ed24-5c47564941d7"
      },
      "source": [
        "XOR = XORNet()\n",
        "\n",
        "X = np.array([[0, 0], [0, 1], [1, 0], [1, 1]])\n",
        "Y_5 = np.array([[0],[1],[1],[0]])\n",
        "\n",
        "train_loss_list = list()\n",
        "\n",
        "for i in range(epochs):\n",
        "  grads = XOR.get_gradient(X, Y_5)\n",
        "\n",
        "  for key in ('w_1', 'b_1', 'w_2', 'b_2'):\n",
        "    XOR.params[key] -= lr * grads[key]\n",
        "\n",
        "  loss = XOR.loss(X, Y_5)\n",
        "  train_loss_list.append(loss)\n",
        "\n",
        "  if i % 100 == 99:\n",
        "    print(\"Epochs: {}, loss:{}\".format(i+1, loss))"
      ],
      "execution_count": 17,
      "outputs": [
        {
          "output_type": "stream",
          "text": [
            "Epochs: 100, loss:1.353561444245376\n",
            "Epochs: 200, loss:1.2827154568291983\n",
            "Epochs: 300, loss:0.8968907892231803\n",
            "Epochs: 400, loss:0.338719714121707\n",
            "Epochs: 500, loss:0.18121344476204979\n",
            "Epochs: 600, loss:0.11991186457349581\n",
            "Epochs: 700, loss:0.08861936864730534\n",
            "Epochs: 800, loss:0.0699218065308316\n",
            "Epochs: 900, loss:0.05758041353096763\n",
            "Epochs: 1000, loss:0.0488609356844432\n"
          ],
          "name": "stdout"
        }
      ]
    },
    {
      "cell_type": "markdown",
      "metadata": {
        "id": "IIV_GsoG2eDs"
      },
      "source": [
        "#### 테스트"
      ]
    },
    {
      "cell_type": "code",
      "metadata": {
        "id": "Dpr0nZhc2Szr",
        "colab": {
          "base_uri": "https://localhost:8080/"
        },
        "outputId": "445af5e4-33bf-4878-8628-f97d09f1dcf7"
      },
      "source": [
        "print(XOR.predict(X))"
      ],
      "execution_count": 18,
      "outputs": [
        {
          "output_type": "stream",
          "text": [
            "[[0.0217367 ]\n",
            " [0.96884394]\n",
            " [0.97816819]\n",
            " [0.0217794 ]]\n"
          ],
          "name": "stdout"
        }
      ]
    },
    {
      "cell_type": "markdown",
      "metadata": {
        "id": "_1IuDL8R7wrx"
      },
      "source": [
        "## 다중 클래스 분류 : MNIST Dataset"
      ]
    },
    {
      "cell_type": "markdown",
      "metadata": {
        "id": "9CiJ5Gmq9Wpa"
      },
      "source": [
        "### 배치 처리\n",
        "- 학습 데이터 전체를 한번에 진행하지 않고  \n",
        "  일부 데이터(샘플)을 확률적으로 구해서 조금씩 나누어 진행\n",
        "\n",
        "- 확률적 경사 하강법(Stochastic Gradient Descent) 또는  \n",
        "  미니 배치 학습법(mini-batch learning)이라고도 부름"
      ]
    },
    {
      "cell_type": "markdown",
      "metadata": {
        "id": "YUDNWwj49byH"
      },
      "source": [
        "#### 신경망 구현 : MNIST "
      ]
    },
    {
      "cell_type": "markdown",
      "metadata": {
        "id": "WjBRQYlP74GM"
      },
      "source": [
        "#### 필요한 모듈 임포트"
      ]
    },
    {
      "cell_type": "code",
      "metadata": {
        "id": "h0lJbkuW71lm"
      },
      "source": [
        "import numpy as np\n",
        "import matplotlib.pyplot as plt\n",
        "import tensorflow as tf\n",
        "import time\n",
        "from tqdm.notebook import tqdm"
      ],
      "execution_count": 19,
      "outputs": []
    },
    {
      "cell_type": "markdown",
      "metadata": {
        "id": "MDvtEiD77_gu"
      },
      "source": [
        "#### 데이터 로드"
      ]
    },
    {
      "cell_type": "code",
      "metadata": {
        "id": "4WL7zXMl_uo9"
      },
      "source": [
        "mnist = tf.keras.datasets.mnist\n",
        "\n",
        "(x_train, y_train), (x_test, y_test) = mnist.load_data()"
      ],
      "execution_count": 20,
      "outputs": []
    },
    {
      "cell_type": "markdown",
      "metadata": {
        "id": "e_rNg5Jn8FRA"
      },
      "source": [
        "#### 데이터 확인"
      ]
    },
    {
      "cell_type": "code",
      "metadata": {
        "id": "u4wpsQGA8BOO",
        "colab": {
          "base_uri": "https://localhost:8080/"
        },
        "outputId": "8b1c42a8-313d-4eec-a93d-f35029061432"
      },
      "source": [
        "print(x_train.shape)\n",
        "print(y_train.shape)\n",
        "\n",
        "print(x_test.shape)\n",
        "print(y_test.shape)"
      ],
      "execution_count": 21,
      "outputs": [
        {
          "output_type": "stream",
          "text": [
            "(60000, 28, 28)\n",
            "(60000,)\n",
            "(10000, 28, 28)\n",
            "(10000,)\n"
          ],
          "name": "stdout"
        }
      ]
    },
    {
      "cell_type": "code",
      "metadata": {
        "id": "pU7nvkHO8IFR",
        "colab": {
          "base_uri": "https://localhost:8080/",
          "height": 280
        },
        "outputId": "bc94c064-aee4-4061-d696-6bc9b8e77769"
      },
      "source": [
        "img = x_train[0]\n",
        "print(img.shape)\n",
        "\n",
        "plt.imshow(img, cmap= 'gray')\n",
        "plt.show()"
      ],
      "execution_count": 22,
      "outputs": [
        {
          "output_type": "stream",
          "text": [
            "(28, 28)\n"
          ],
          "name": "stdout"
        },
        {
          "output_type": "display_data",
          "data": {
            "image/png": "[encoded data removed]",
            "text/plain": [
              "<Figure size 432x288 with 1 Axes>"
            ]
          },
          "metadata": {
            "tags": [],
            "needs_background": "light"
          }
        }
      ]
    },
    {
      "cell_type": "code",
      "metadata": {
        "id": "WbBA1Kl18KGT",
        "colab": {
          "base_uri": "https://localhost:8080/"
        },
        "outputId": "ff181aaa-b28f-4c75-ea39-1fc46ea5e404"
      },
      "source": [
        "y_train[0]"
      ],
      "execution_count": 23,
      "outputs": [
        {
          "output_type": "execute_result",
          "data": {
            "text/plain": [
              "5"
            ]
          },
          "metadata": {
            "tags": []
          },
          "execution_count": 23
        }
      ]
    },
    {
      "cell_type": "markdown",
      "metadata": {
        "id": "MTFu8i-z8U_C"
      },
      "source": [
        "#### 데이터 전처리 (Data Preprocessing)"
      ]
    },
    {
      "cell_type": "code",
      "metadata": {
        "id": "q76pjKDVftHJ"
      },
      "source": [
        "def flatten_for_mnist(x):\n",
        "  temp = np.zeros((x.shape[0], x[0].size))\n",
        "\n",
        "  for idx, data in enumerate(x):\n",
        "    temp[idx, :] = data.flatten()\n",
        "\n",
        "  return temp"
      ],
      "execution_count": 24,
      "outputs": []
    },
    {
      "cell_type": "code",
      "metadata": {
        "id": "vvMWrDOR8Mns",
        "colab": {
          "base_uri": "https://localhost:8080/"
        },
        "outputId": "28f9bb5f-2196-4945-eb4b-e8fa57fd5177"
      },
      "source": [
        "x_train, x_test = x_train / 255.0, x_test / 255.0\n",
        "\n",
        "x_train = flatten_for_mnist(x_train)\n",
        "x_test = flatten_for_mnist(x_test)\n",
        "\n",
        "print(x_train.shape)\n",
        "print(x_test.shape)\n",
        "\n",
        "y_train_ohe = tf.one_hot(y_train, depth=10).numpy()\n",
        "y_test_ohe = tf.one_hot(y_test, depth=10).numpy()\n",
        "\n",
        "print(y_train_ohe.shape)\n",
        "print(y_test_ohe.shape)"
      ],
      "execution_count": 25,
      "outputs": [
        {
          "output_type": "stream",
          "text": [
            "(60000, 784)\n",
            "(10000, 784)\n",
            "(60000, 10)\n",
            "(10000, 10)\n"
          ],
          "name": "stdout"
        }
      ]
    },
    {
      "cell_type": "code",
      "metadata": {
        "id": "9LjpWz0dotJs",
        "colab": {
          "base_uri": "https://localhost:8080/"
        },
        "outputId": "2c99d9fb-ac6c-4e15-e5ef-fd1a02beaea7"
      },
      "source": [
        "print(x_train[0].max(), x_train[0].min())\n",
        "print(y_train_ohe[0])"
      ],
      "execution_count": 26,
      "outputs": [
        {
          "output_type": "stream",
          "text": [
            "1.0 0.0\n",
            "[0. 0. 0. 0. 0. 1. 0. 0. 0. 0.]\n"
          ],
          "name": "stdout"
        }
      ]
    },
    {
      "cell_type": "markdown",
      "metadata": {
        "id": "5GUaa92Y9RhY"
      },
      "source": [
        "#### 하이퍼 파라미터(Hyper Parameter)"
      ]
    },
    {
      "cell_type": "code",
      "metadata": {
        "id": "sk3FXXLi9Th5"
      },
      "source": [
        "epochs = 50\n",
        "lr = 0.1\n",
        "batch_size = 100\n",
        "train_size = x_train.shape[0]"
      ],
      "execution_count": 37,
      "outputs": []
    },
    {
      "cell_type": "markdown",
      "metadata": {
        "id": "5lMJ0h8p8iZl"
      },
      "source": [
        "#### 사용되는 함수들(Util Functions)"
      ]
    },
    {
      "cell_type": "code",
      "metadata": {
        "id": "bSlqZ2Xx8hFn"
      },
      "source": [
        "def sigmoid(x):\n",
        "  return 1/ (1 + np.exp(-x))\n",
        "\n",
        "def mean_squared_error(pred_y, true_y):\n",
        "  return np.mean(np.square(true_y - pred.y))\n",
        "\n",
        "def cross_entropy_error(pred_y, true_y):\n",
        "  if true_y.ndim == 1:\n",
        "    true_y = true_y.reshape(1, -1)\n",
        "    pred_y = pred_y.reshape(1, -1)\n",
        "\n",
        "  delta = 1e-7\n",
        "  return -np.sum(true_y * np.log(pred_y + delta))\n",
        "\n",
        "def cross_entropy_error_for_batch(pred_y, true_y ):\n",
        "  if true_y.ndim == 1:\n",
        "    true_y = true_y.reshape(1, -1)\n",
        "    pred_y = pred_y.reshape(1, -1)\n",
        "\n",
        "  delta = 1e-7\n",
        "  batch_size = pred_y.shape[0]\n",
        "  return -np.sum(true_y * np.log(pred_y + delta)) / batch_size\n",
        "\n",
        "def cross_entropy_error_for_bin(pred_y, true_y):\n",
        "  return 0.5 * np.sum((-true_y * np.log(pred_y)- (1 - true_y) * np.log(1 - pred_y)))\n",
        "\n",
        "def softmax(a):\n",
        "  exp_a = np.exp(a)\n",
        "  sum_exp_a = np.sum(exp_a)\n",
        "  y = exp_a / sum_exp_a\n",
        "  return y \n",
        "\n",
        "def differential_1d(f, x):\n",
        "  eps = 1e-5\n",
        "  diff_value = np.zeros_like(x)\n",
        "\n",
        "  for i in range(x.shape[0]):\n",
        "    temp_val = x[i]\n",
        "\n",
        "    x[i] = temp_val + eps\n",
        "    f_h1 = f(x)\n",
        "\n",
        "    x[i] = temp_val - eps\n",
        "    f_h2 = f(x)\n",
        "\n",
        "    diff_value[i] = (f_h1 - f_h2)/( 2 * eps )\n",
        "    x[i] = temp_val\n",
        "\n",
        "  return diff_value\n",
        "\n",
        "def differential_2d(f, X):\n",
        "  if X.ndim ==1:\n",
        "    return differential_1d(f, X)\n",
        "\n",
        "  else:\n",
        "    grad = np.zeros_like(X)\n",
        "\n",
        "    for idx, x in enumerate(X):\n",
        "      grad[idx] = differential_1d(f, x)\n",
        "    \n",
        "    return grad\n"
      ],
      "execution_count": 29,
      "outputs": []
    },
    {
      "cell_type": "markdown",
      "metadata": {
        "id": "sSoV9fyj8_u7"
      },
      "source": [
        "#### 2층 신경망으로 구현"
      ]
    },
    {
      "cell_type": "code",
      "metadata": {
        "id": "XBObD5Fw89HI"
      },
      "source": [
        "class Mymodel():\n",
        "  \n",
        "  def __init__(self):\n",
        "    def weight_init(input_nodes, hidden_nodes, output_units):\n",
        "      params = {}\n",
        "      params['w_1'] = 0.01 * np.random.randn(input_nodes, hidden_nodes)\n",
        "      params['b_1'] = np.random.rand(hidden_nodes)\n",
        "      params['w_2'] = 0.01 * np.random.randn( hidden_nodes, output_units)\n",
        "      params['b_2'] = np.random.rand(output_units)\n",
        "\n",
        "      return params\n",
        "\n",
        "    self.params = weight_init(784, 64, 10)\n",
        "\n",
        "  def predict(self, x):\n",
        "    W_1, W_2 = self.params['w_1'], self.params['w_2']\n",
        "    B_1, B_2 = self.params['b_1'], self.params['b_2']\n",
        "\n",
        "    A1 = np.dot(x, W_1) + B_1\n",
        "    Z1 = sigmoid(A1)\n",
        "\n",
        "    A2 = np.dot(Z1, W_2) + B_2\n",
        "    pred_y = softmax(A2)\n",
        "\n",
        "    return pred_y\n",
        "\n",
        "  def loss(self, x, true_y):\n",
        "    pred_y = self.predict(x)\n",
        "    return cross_entropy_error_for_bin(pred_y, true_y)\n",
        "\n",
        "  def accuracy(self, x, true_y):\n",
        "    pred_y = self.predict(x)\n",
        "    y_argmax = np.argmax(pred_y, axis=1)\n",
        "    t_argmax = np.argmax(true_y, axis=1)\n",
        "\n",
        "    accuracy = np.sum(y_argmax == t_argmax)/ float(x.shape[0])\n",
        "    return accuracy\n",
        "\n",
        "  def get_gradient(self, x, t):\n",
        "\n",
        "    def loss_grad(grad):\n",
        "      return self.loss(x, t)\n",
        "\n",
        "    grads = {}\n",
        "    grads['w_1'] = differential_2d(loss_grad, self.params['w_1'])\n",
        "    grads['w_2'] = differential_2d(loss_grad, self.params['w_2'])\n",
        "    grads['b_1'] = differential_2d(loss_grad, self.params['b_1'])\n",
        "    grads['b_2'] = differential_2d(loss_grad, self.params['b_2'])\n",
        "\n",
        "    return grads\n"
      ],
      "execution_count": 35,
      "outputs": []
    },
    {
      "cell_type": "markdown",
      "metadata": {
        "id": "maKNIlK-xJ5k"
      },
      "source": [
        "#### 모델 생성 및 학습\n",
        "- 시간 많이 소요"
      ]
    },
    {
      "cell_type": "code",
      "metadata": {
        "id": "XSEARgNIop8t",
        "colab": {
          "base_uri": "https://localhost:8080/",
          "height": 978,
          "referenced_widgets": [
            "54a264a460e648f3acc82b39d7976b42",
            "7887edd1a30247cda36c49581b171b64",
            "1a0256cb77a7477fa78aff484bd2566a",
            "7c1bf280adbb4fbdb3a4ff62150af701",
            "cd19c704217f4cc898a77c7f730ebf5d",
            "8b69df98f3d8495c8ad93e1cb956ca1c",
            "2d327d8957414ee1b1c81abaf840339a",
            "2280c7ff1df3489cad2a886d85b03dab"
          ]
        },
        "outputId": "326b0114-0038-4362-bd23-9e4053497df3"
      },
      "source": [
        "model = Mymodel()\n",
        "\n",
        "train_loss_list = list()\n",
        "train_acc_list = list()\n",
        "test_acc_list = list()\n",
        "iter_per_epoch = max(train_size / batch_size, 1)\n",
        "\n",
        "start_time = time.time()\n",
        "for i in tqdm(range(epochs)):\n",
        "\n",
        "  batch_idx = np.random.choice(train_size, batch_size)\n",
        "  x_batch = x_train[batch_idx]\n",
        "  y_batch = y_train_ohe[batch_idx]\n",
        "\n",
        "  grads = model.get_gradient(x_batch, y_batch)\n",
        "\n",
        "  for key in grads.keys():\n",
        "    model.params[key] -= lr * grads[key]\n",
        "\n",
        "  loss = model.loss(x_batch, y_batch)\n",
        "  train_loss_list.append(loss)\n",
        "\n",
        "  train_accuracy = model.accuracy(x_train, y_train_ohe)\n",
        "  test_accuracy = model.accuracy(x_test, y_test_ohe)\n",
        "  train_acc_list.append(train_accuracy)\n",
        "  test_acc_list.append(test_accuracy)\n",
        "\n",
        "  print(\"Epoch: {}, Cost: {}, Train Accuracy: {}, Test Accuracy: {}\". format(i+1, loss, train_accuracy, test_accuracy))\n",
        "\n",
        "end_time = time.time()\n",
        "\n",
        "print(\"총 학습 소요시간: {:.3f}s\".format(end_time-start_time))"
      ],
      "execution_count": 38,
      "outputs": [
        {
          "output_type": "display_data",
          "data": {
            "application/vnd.jupyter.widget-view+json": {
              "model_id": "54a264a460e648f3acc82b39d7976b42",
              "version_minor": 0,
              "version_major": 2
            },
            "text/plain": [
              "HBox(children=(FloatProgress(value=0.0, max=50.0), HTML(value='')))"
            ]
          },
          "metadata": {
            "tags": []
          }
        },
        {
          "output_type": "stream",
          "text": [
            "Epoch: 1, Cost: 683.5880912355617, Train Accuracy: 0.10218333333333333, Test Accuracy: 0.101\n",
            "Epoch: 2, Cost: 361.33847279882036, Train Accuracy: 0.1018, Test Accuracy: 0.1039\n",
            "Epoch: 3, Cost: 366.177799881875, Train Accuracy: 0.11236666666666667, Test Accuracy: 0.1135\n",
            "Epoch: 4, Cost: 361.94776745195304, Train Accuracy: 0.12801666666666667, Test Accuracy: 0.1269\n",
            "Epoch: 5, Cost: 347.3698677222495, Train Accuracy: 0.11206666666666666, Test Accuracy: 0.1089\n",
            "Epoch: 6, Cost: 348.8428678343349, Train Accuracy: 0.12811666666666666, Test Accuracy: 0.125\n",
            "Epoch: 7, Cost: 347.9344627412692, Train Accuracy: 0.1164, Test Accuracy: 0.1137\n",
            "Epoch: 8, Cost: 346.22114422087145, Train Accuracy: 0.10041666666666667, Test Accuracy: 0.1009\n",
            "Epoch: 9, Cost: 342.74212516845705, Train Accuracy: 0.1594, Test Accuracy: 0.1609\n",
            "Epoch: 10, Cost: 342.5737052082286, Train Accuracy: 0.11405, Test Accuracy: 0.1187\n",
            "Epoch: 11, Cost: 344.90575737915896, Train Accuracy: 0.14656666666666668, Test Accuracy: 0.1445\n",
            "Epoch: 12, Cost: 344.2003537129244, Train Accuracy: 0.11236666666666667, Test Accuracy: 0.1135\n",
            "Epoch: 13, Cost: 345.140590719765, Train Accuracy: 0.10281666666666667, Test Accuracy: 0.1023\n",
            "Epoch: 14, Cost: 343.2678219162133, Train Accuracy: 0.14396666666666666, Test Accuracy: 0.144\n",
            "Epoch: 15, Cost: 342.82976500476457, Train Accuracy: 0.10615, Test Accuracy: 0.1064\n",
            "Epoch: 16, Cost: 343.86464597364227, Train Accuracy: 0.13296666666666668, Test Accuracy: 0.127\n",
            "Epoch: 17, Cost: 343.8676713686556, Train Accuracy: 0.136, Test Accuracy: 0.1336\n",
            "Epoch: 18, Cost: 344.17577118091197, Train Accuracy: 0.12366666666666666, Test Accuracy: 0.1222\n",
            "Epoch: 19, Cost: 341.87772406188014, Train Accuracy: 0.10735, Test Accuracy: 0.1036\n",
            "Epoch: 20, Cost: 346.28038534934996, Train Accuracy: 0.14703333333333332, Test Accuracy: 0.146\n",
            "Epoch: 21, Cost: 342.50220266023905, Train Accuracy: 0.124, Test Accuracy: 0.1208\n",
            "Epoch: 22, Cost: 343.66012922230027, Train Accuracy: 0.11255, Test Accuracy: 0.1082\n",
            "Epoch: 23, Cost: 344.43016135659536, Train Accuracy: 0.11751666666666667, Test Accuracy: 0.1221\n",
            "Epoch: 24, Cost: 344.0847363742515, Train Accuracy: 0.11098333333333334, Test Accuracy: 0.1151\n",
            "Epoch: 25, Cost: 343.35923871023374, Train Accuracy: 0.1038, Test Accuracy: 0.1031\n",
            "Epoch: 26, Cost: 343.2209051844784, Train Accuracy: 0.11, Test Accuracy: 0.1099\n",
            "Epoch: 27, Cost: 344.6623993244482, Train Accuracy: 0.09436666666666667, Test Accuracy: 0.0924\n",
            "Epoch: 28, Cost: 342.7773734945388, Train Accuracy: 0.1593, Test Accuracy: 0.1542\n",
            "Epoch: 29, Cost: 342.0353377912875, Train Accuracy: 0.14116666666666666, Test Accuracy: 0.1384\n",
            "Epoch: 30, Cost: 343.2286532026095, Train Accuracy: 0.11801666666666667, Test Accuracy: 0.1187\n",
            "Epoch: 31, Cost: 342.02170705043, Train Accuracy: 0.11465, Test Accuracy: 0.1163\n",
            "Epoch: 32, Cost: 344.33148455615606, Train Accuracy: 0.14025, Test Accuracy: 0.14\n",
            "Epoch: 33, Cost: 345.3159150526008, Train Accuracy: 0.15788333333333332, Test Accuracy: 0.1613\n",
            "Epoch: 34, Cost: 345.41558202841605, Train Accuracy: 0.13765, Test Accuracy: 0.1345\n",
            "Epoch: 35, Cost: 344.0083197728694, Train Accuracy: 0.1693, Test Accuracy: 0.1695\n",
            "Epoch: 36, Cost: 344.062975400712, Train Accuracy: 0.11066666666666666, Test Accuracy: 0.1085\n",
            "Epoch: 37, Cost: 342.4353234497099, Train Accuracy: 0.13381666666666667, Test Accuracy: 0.1354\n",
            "Epoch: 38, Cost: 343.07910423583303, Train Accuracy: 0.10938333333333333, Test Accuracy: 0.1106\n",
            "Epoch: 39, Cost: 342.91339102188584, Train Accuracy: 0.12516666666666668, Test Accuracy: 0.126\n",
            "Epoch: 40, Cost: 342.5825453965676, Train Accuracy: 0.16078333333333333, Test Accuracy: 0.1649\n",
            "Epoch: 41, Cost: 341.2405804704898, Train Accuracy: 0.11236666666666667, Test Accuracy: 0.1135\n",
            "Epoch: 42, Cost: 344.1756731497751, Train Accuracy: 0.11236666666666667, Test Accuracy: 0.1135\n",
            "Epoch: 43, Cost: 344.46714409792315, Train Accuracy: 0.13805, Test Accuracy: 0.1406\n",
            "Epoch: 44, Cost: 343.7353614327581, Train Accuracy: 0.115, Test Accuracy: 0.1195\n",
            "Epoch: 45, Cost: 343.2188058758319, Train Accuracy: 0.11603333333333334, Test Accuracy: 0.1181\n",
            "Epoch: 46, Cost: 344.3712489327414, Train Accuracy: 0.116, Test Accuracy: 0.1176\n",
            "Epoch: 47, Cost: 344.71222247849465, Train Accuracy: 0.11498333333333334, Test Accuracy: 0.1136\n",
            "Epoch: 48, Cost: 344.3718606274314, Train Accuracy: 0.14416666666666667, Test Accuracy: 0.141\n",
            "Epoch: 49, Cost: 343.42213246876213, Train Accuracy: 0.10438333333333333, Test Accuracy: 0.101\n",
            "Epoch: 50, Cost: 344.30889040756205, Train Accuracy: 0.117, Test Accuracy: 0.1151\n",
            "\n",
            "총 학습 소요시간: 4833.104s\n"
          ],
          "name": "stdout"
        }
      ]
    },
    {
      "cell_type": "markdown",
      "metadata": {
        "id": "b7nL8f20x4zl"
      },
      "source": [
        "### 모델의 결과\n",
        "- 모델은 학습이 잘 될 수도, 잘 안될 수도 있음\n",
        "\n",
        "- 만약, 학습이 잘 되지 않았다면,  \n",
        "  학습이 잘 되기 위해서 어떠한 조치를 취해야 하는가?\n",
        "  - 다양한 학습관련 기술이 존재"
      ]
    }
  ]
}