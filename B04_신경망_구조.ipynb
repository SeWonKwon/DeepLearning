{
  "nbformat": 4,
  "nbformat_minor": 0,
  "metadata": {
    "colab": {
      "name": "B04_신경망 구조",
      "provenance": [],
      "collapsed_sections": [],
      "include_colab_link": true
    },
    "kernelspec": {
      "name": "python3",
      "display_name": "Python 3"
    }
  },
  "cells": [
    {
      "cell_type": "markdown",
      "metadata": {
        "id": "view-in-github",
        "colab_type": "text"
      },
      "source": [
        "<a href=\"https://colab.research.google.com/github/SeWonKwon/DeepLearning/blob/main/B04_%EC%8B%A0%EA%B2%BD%EB%A7%9D_%EA%B5%AC%EC%A1%B0.ipynb\" target=\"_parent\"><img src=\"https://colab.research.google.com/assets/colab-badge.svg\" alt=\"Open In Colab\"/></a>"
      ]
    },
    {
      "cell_type": "markdown",
      "metadata": {
        "id": "SSVzmRVLJrwm"
      },
      "source": [
        "# 신경망 구조"
      ]
    },
    {
      "cell_type": "markdown",
      "metadata": {
        "id": "0F8W4x9kembv"
      },
      "source": [
        "## 퍼셉트론\n",
        "\n",
        "- 인공신경망의 한 종류\n",
        "- 다수의 입력($x_1, x_2, ..., x_n$)과 가중치($w_1, w_2, ..., w_n$)를 곱하여 그 값에 편향($bias$)을 더한 값이 어느 임계치 값($\\theta$)을 초과하면 활성화 함수를 통과한 출력값을 내보냄\n",
        "![perceptron](https://miro.medium.com/max/1400/1*ofVdu6L3BDbHyt1Ro8w07Q.png)\n",
        "<br /><sub>출처: https://towardsdatascience.com/rosenblatts-perceptron-the-very-first-neural-network-37a3ec09038a</sub>"
      ]
    },
    {
      "cell_type": "markdown",
      "metadata": {
        "id": "YxALA-qreoJ-"
      },
      "source": [
        "## 뉴런의 수학적 표현\n",
        "\n",
        "![](https://cs231n.github.io/assets/nn1/neuron_model.jpeg)\n",
        "<br /><sub>출처: https://cs231n.github.io/convolutional-networks/</sub>\n",
        "\n",
        "$\\qquad y = f(\\sum_{i} w_ix_i + b) \\quad $\n",
        "\n",
        "  - $f\\ $ : 활성화 함수\n",
        "    - 임계값($\\theta$)을 경계로 출력이 바뀜\n",
        "\n",
        "  - $b\\ \\ $ :  편향\n",
        "    - <u>결정 경계선을 원점에서부터 벗어나게 해줌</u>\n",
        "    - 따로 표현이 없어도 기본적으로 존재한다고 생각\n",
        "\n",
        "  - $\\sum_{i} w_ix_i$ :$\\quad $두 벡터의 내적으로 표현 가능\n",
        "     \n",
        "     $\\\\ \\quad x_1w_1 + x_2w_2 +\\ ... \\ + x_nw_n = w^Tx$"
      ]
    },
    {
      "cell_type": "markdown",
      "metadata": {
        "id": "sl6DMX9Yetsv"
      },
      "source": [
        "\n",
        "## 완전 연결 계층(Fully-Connected Layer) 수학적 표현\n",
        "\n",
        "![](https://miro.medium.com/max/620/1*ZBYO3waYUyPsLm0rb15sEQ.png)\n",
        "<br /><sub>출처: https://towardsdatascience.com/the-sparse-future-of-deep-learning-bce05e8e094a</sub>\n",
        "\n",
        "  $\\qquad  W = [w_0, w_1,\\ ..., \\ w_{M-1}]^T $  \n",
        "  $\\qquad $  각각의 $w_k$는 $N\\times 1$ 형태의 벡터  \n",
        "  $\\qquad W$는 $N \\times M$ 행렬\n",
        "\n",
        "  $ \\qquad b$ = $[b_0, b_1, \\ ..., \\ b_{M-1}]$  \n",
        "\n",
        "  $\\qquad y_0 = f(w_0^Tx + b_0)$  \n",
        "\n",
        "  $\\qquad y_1 = f(w_1^Tx + b_1)$  \n",
        "\n",
        "  $\\qquad y_2 = f(w_2^Tx + b_2)$  \n",
        "  \n",
        "  $\\qquad \\quad ...$\n",
        "\n",
        "  $\\qquad y_{M-1} = f(w_{M-1}^Tx + b_{M-1})$  \n",
        "\n",
        "  $\\quad  \\rightarrow y = f(Wx + b)$"
      ]
    },
    {
      "cell_type": "markdown",
      "metadata": {
        "id": "iH7jWsHRewUi"
      },
      "source": [
        "## 논리회로\n",
        "  * 논리 게이트(Logic Gates)\n",
        "    - AND\n",
        "    - OR\n",
        "    - NOT\n",
        "    - NAND\n",
        "    - NOR  \n",
        "\n",
        "* 다이어그램과 진리표\n",
        "\n",
        "![](http://www.schoolphysics.co.uk/age14-16/Electronics/text/Logic_gates/images/1.png)\n",
        "<br /><sub>출처: http://www.schoolphysics.co.uk/age14-16/Electronics/text/Logic_gates/index.html</sub>"
      ]
    },
    {
      "cell_type": "markdown",
      "metadata": {
        "id": "Lmk848DbMT6O"
      },
      "source": [
        "FULLY connected : 노드와 노드가 모두 연결된 상태"
      ]
    },
    {
      "cell_type": "markdown",
      "metadata": {
        "id": "o3pY4J8MezBm"
      },
      "source": [
        "### AND 게이트\n",
        "\n",
        "- 두 입력이 모두 1일 때 1을 출력하는 논리회로   \n",
        "\n",
        "![](https://www.tutorialspoint.com/computer_logical_organization/images/and_logic.jpg)\n",
        "\n",
        "- 진리표\n",
        "\n",
        "![](https://www.tutorialspoint.com/computer_logical_organization/images/and_truthtable.jpg)\n",
        "<br /><sub>출처: https://www.tutorialspoint.com/computer_logical_organization/logic_gates.htm</sub>\n",
        "\n",
        "- AND 게이트를 만족시키는 가중치와 편향 구하기\n"
      ]
    },
    {
      "cell_type": "code",
      "metadata": {
        "id": "Ml6u-oCzenlh"
      },
      "source": [
        "import numpy as np\n",
        "import matplotlib.pyplot as plt\n",
        "plt.style.use(['seaborn-whitegrid'])"
      ],
      "execution_count": 1,
      "outputs": []
    },
    {
      "cell_type": "code",
      "metadata": {
        "id": "IQHe-5E2e2UJ"
      },
      "source": [
        "def AND(a, b):\n",
        "  input = np.array([a, b])\n",
        "  weights = np.array([0.4, 0.4])\n",
        "  bias = -0.6\n",
        "  value = np.sum(input*weights) + bias\n",
        "  if value <= 0 : return 0 \n",
        "  else: return 1"
      ],
      "execution_count": 2,
      "outputs": []
    },
    {
      "cell_type": "code",
      "metadata": {
        "id": "gObrhki8e4hk",
        "colab": {
          "base_uri": "https://localhost:8080/"
        },
        "outputId": "f48d74bd-b032-48a2-d766-a1c766284be3"
      },
      "source": [
        "print(AND(0, 0))\n",
        "print(AND(0, 1))\n",
        "print(AND(1, 0))\n",
        "print(AND(1, 1))"
      ],
      "execution_count": 3,
      "outputs": [
        {
          "output_type": "stream",
          "text": [
            "0\n",
            "0\n",
            "0\n",
            "1\n"
          ],
          "name": "stdout"
        }
      ]
    },
    {
      "cell_type": "code",
      "metadata": {
        "id": "uDPqdCl1e6fV",
        "colab": {
          "base_uri": "https://localhost:8080/",
          "height": 262
        },
        "outputId": "adb8187e-e266-46b3-ca4b-667a954c3acf"
      },
      "source": [
        "x1 = np.arange(-2, 2, 0.01)\n",
        "x2 = np.arange(-2, 2, 0.01)\n",
        "bias = -0.6\n",
        "y = (-0.4 * x1 -bias) / 0.4\n",
        "\n",
        "plt.axvline(x=0)\n",
        "plt.axhline(y=0)\n",
        "\n",
        "plt.plot(x1, y, 'r--')\n",
        "plt.scatter(0, 0, color='orange', marker='o', s=150)\n",
        "plt.scatter(0, 1, color='orange', marker='o', s=150)\n",
        "plt.scatter(1, 0, color='orange', marker='o', s=150)\n",
        "plt.scatter(1, 1, color='black', marker='^', s=150)\n",
        "plt.xlim = (-0.5, 1.5)\n",
        "plt.ylim = (-0.5, 1.5)\n",
        "plt.grid()\n",
        "plt.show()"
      ],
      "execution_count": 4,
      "outputs": [
        {
          "output_type": "display_data",
          "data": {
            "image/png": "[encoded data removed]",
            "text/plain": [
              "<Figure size 432x288 with 1 Axes>"
            ]
          },
          "metadata": {
            "tags": [],
            "needs_background": "light"
          }
        }
      ]
    },
    {
      "cell_type": "markdown",
      "metadata": {
        "id": "_Gz29P-ve-jD"
      },
      "source": [
        "### OR 게이트\n",
        "\n",
        "- 두 입력 중 하나라도 1이면 1을 출력하는 논리회로  \n",
        "  \n",
        "![](https://www.tutorialspoint.com/computer_logical_organization/images/or_logic.jpg)\n",
        "\n",
        "- 진리표  \n",
        "\n",
        "![](https://www.tutorialspoint.com/computer_logical_organization/images/or_truthtable.jpg)\n",
        "<br /><sub>출처: https://www.tutorialspoint.com/computer_logical_organization/logic_gates.htm</sub>\n",
        "\n",
        "- OR 게이트를 만족시키는 가중치와 편향 구하기\n"
      ]
    },
    {
      "cell_type": "code",
      "metadata": {
        "id": "8mSvmfXve8JR"
      },
      "source": [
        "def OR(a, b):\n",
        "  input = np.array([a, b])\n",
        "  weights = np.array([0.4, 0.5])\n",
        "  bias = -0.3\n",
        "  value = np.sum(input*weights) + bias\n",
        "  if value <= 0 : return 0 \n",
        "  else: return 1"
      ],
      "execution_count": 5,
      "outputs": []
    },
    {
      "cell_type": "code",
      "metadata": {
        "id": "8Xc_nF6lfNH3",
        "colab": {
          "base_uri": "https://localhost:8080/"
        },
        "outputId": "a7c7302d-24fb-4fd8-cd29-7d94da260377"
      },
      "source": [
        "print(OR(0, 0))\n",
        "print(OR(0, 1))\n",
        "print(OR(1, 0))\n",
        "print(OR(1, 1))"
      ],
      "execution_count": 6,
      "outputs": [
        {
          "output_type": "stream",
          "text": [
            "0\n",
            "1\n",
            "1\n",
            "1\n"
          ],
          "name": "stdout"
        }
      ]
    },
    {
      "cell_type": "code",
      "metadata": {
        "id": "pR9RrNj4fOez",
        "colab": {
          "base_uri": "https://localhost:8080/",
          "height": 262
        },
        "outputId": "8b2f8bb6-c454-4783-a515-2a406cd57484"
      },
      "source": [
        "x1 = np.arange(-2, 2, 0.01)\n",
        "x2 = np.arange(-2, 2, 0.01)\n",
        "bias = -0.3\n",
        "y = (-0.4 * x1 -bias) / 0.5\n",
        "\n",
        "plt.axvline(x=0)\n",
        "plt.axhline(y=0)\n",
        "\n",
        "plt.plot(x1, y, 'r--')\n",
        "plt.scatter(0, 0, color='orange', marker='o', s=150)\n",
        "plt.scatter(0, 1, color='black', marker='^', s=150)\n",
        "plt.scatter(1, 0, color='black', marker='^', s=150)\n",
        "plt.scatter(1, 1, color='black', marker='^', s=150)\n",
        "plt.xlim = (-0.5, 1.5)\n",
        "plt.ylim = (-0.5, 1.5)\n",
        "plt.grid()\n",
        "plt.show()"
      ],
      "execution_count": 7,
      "outputs": [
        {
          "output_type": "display_data",
          "data": {
            "image/png": "[encoded data removed]",
            "text/plain": [
              "<Figure size 432x288 with 1 Axes>"
            ]
          },
          "metadata": {
            "tags": [],
            "needs_background": "light"
          }
        }
      ]
    },
    {
      "cell_type": "markdown",
      "metadata": {
        "id": "G3anpbTsfR7A"
      },
      "source": [
        "### NAND 게이트\n",
        "\n",
        "\n",
        "- 두 입력이 모두 1일 때 0을 출력하는 논리회로\n",
        "\n",
        "![](https://www.tutorialspoint.com/computer_logical_organization/images/nand_logic.jpg)\n",
        "\n",
        "- 진리표  \n",
        "\n",
        "![](https://www.tutorialspoint.com/computer_logical_organization/images/nand_truthtable.jpg)\n",
        "<br /><sub>출처: https://www.tutorialspoint.com/computer_logical_organization/logic_gates.htm</sub>\n",
        "\n",
        "- NAND 게이트를 만족시키는 가중치와 편향 구하기\n",
        "\n"
      ]
    },
    {
      "cell_type": "code",
      "metadata": {
        "id": "pJP5BLDGfP4-"
      },
      "source": [
        "def NAND(a, b):\n",
        "  input = np.array([a, b])\n",
        "  weights = np.array([-0.6, -0.5])\n",
        "  bias  = 0.7\n",
        "  value = np.sum(input * weights) + bias\n",
        "\n",
        "  if value <= 0: return 0\n",
        "  else: return 1"
      ],
      "execution_count": 8,
      "outputs": []
    },
    {
      "cell_type": "code",
      "metadata": {
        "id": "juB8y1zIfY7z",
        "colab": {
          "base_uri": "https://localhost:8080/"
        },
        "outputId": "df2e36ab-e419-47fc-d355-2d9f43904248"
      },
      "source": [
        "print(NAND(0, 0))\n",
        "print(NAND(0, 1))\n",
        "print(NAND(1, 0))\n",
        "print(NAND(1, 1))"
      ],
      "execution_count": 9,
      "outputs": [
        {
          "output_type": "stream",
          "text": [
            "1\n",
            "1\n",
            "1\n",
            "0\n"
          ],
          "name": "stdout"
        }
      ]
    },
    {
      "cell_type": "code",
      "metadata": {
        "id": "G6WDqUWefaeX",
        "colab": {
          "base_uri": "https://localhost:8080/",
          "height": 264
        },
        "outputId": "ca30537c-b5af-4422-a5bb-0646e563b14a"
      },
      "source": [
        "x1 = np.arange(-2, 2, 0.01)\n",
        "x2 = np.arange(-2, 2, 0.01)\n",
        "bias = 0.7\n",
        "y = (0.6 * x1 -bias) / (-0.5)\n",
        "\n",
        "plt.axvline(x=0)\n",
        "plt.axhline(y=0)\n",
        "\n",
        "plt.plot(x1, y, 'r--')\n",
        "plt.scatter(0, 0, color='black', marker='^', s=150)\n",
        "plt.scatter(0, 1, color='black', marker='^', s=150)\n",
        "plt.scatter(1, 0, color='black', marker='^', s=150)\n",
        "plt.scatter(1, 1, color='orange', marker='o', s=150)\n",
        "plt.xlim = (-0.5, 1.5)\n",
        "plt.ylim = (-0.5, 1.5)\n",
        "plt.grid()\n",
        "plt.show()"
      ],
      "execution_count": 10,
      "outputs": [
        {
          "output_type": "display_data",
          "data": {
            "image/png": "[encoded data removed]",
            "text/plain": [
              "<Figure size 432x288 with 1 Axes>"
            ]
          },
          "metadata": {
            "tags": [],
            "needs_background": "light"
          }
        }
      ]
    },
    {
      "cell_type": "markdown",
      "metadata": {
        "id": "ZWVJN3iTfenX"
      },
      "source": [
        "### XOR 게이트\n",
        "\n",
        "- 인공지능 첫번째 겨울\n",
        "- 딥러닝의 첫번째 위기를 초래\n",
        "  - 마빈 민스키와 세이무어 페퍼트에 의해 문제 제기\n",
        "  - AND, NAND와 같은 선형문제는 퍼셉트론으로 해결 가능, 하지만 XOR은 어떻게? 직선(선형) 하나로는 불가능!\n",
        "\n",
        "![](http://ecee.colorado.edu/~ecen4831/lectures/xor2.gif)\n",
        "<br /><sub>출처: http://ecee.colorado.edu/~ecen4831/lectures/NNet3.html</sub>\n",
        "\n",
        "- **다층 퍼셉트론**으로 해결\n",
        "  - 비선형 문제를 해결할 수 있다!\n",
        "\n",
        "- AND, NAND, OR Gate를 조합"
      ]
    },
    {
      "cell_type": "markdown",
      "metadata": {
        "id": "W7hNassAfhxK"
      },
      "source": [
        "## 다층 퍼셉트론(Multi Layer Perceptron, MLP)  \n",
        "\n",
        "![](https://upload.wikimedia.org/wikipedia/commons/c/c2/MultiLayerNeuralNetworkBigger_english.png)\n",
        "<br /><sub>출처: https://commons.wikimedia.org/wiki/File:MultiLayerNeuralNetworkBigger_english.png</sub>\n"
      ]
    },
    {
      "cell_type": "markdown",
      "metadata": {
        "id": "-N6uSU0-L4Oi"
      },
      "source": [
        "### 다층 퍼셉트론의 구성\n",
        "\n",
        "  - 입력층(input layer)\n",
        "  - 은닉층(hidden layer)\n",
        "    - 1개 이상 존재\n",
        "    - 보통 5개 이상 존재하면 Deep Neural Network라고 칭함\n",
        "  - 출력층(output layer)  \n",
        "\n",
        "![](https://www.researchgate.net/profile/Sandip_Lahiri/publication/26614896/figure/fig1/AS:310007494135809@1450922954279/A-schematic-diagram-of-artificial-neural-network-and-architecture-of-the-feed-forward.png)\n",
        "<br /><sub>출처: https://www.researchgate.net/figure/A-schematic-diagram-of-artificial-neural-network-and-architecture-of-the-feed-forward_fig1_26614896</sub>\n",
        "\n",
        "  - 수식 \n",
        "\n",
        "    - (input layer $\\rightarrow$ hidden layer)   \n",
        "  $ \\quad z = f_L(W_Lx + b_L) $  \n",
        "\n",
        "    - (hidden layer $\\rightarrow$ output layer)   \n",
        "  $ \\quad y = a_K(W_Kz + b_K) $  "
      ]
    },
    {
      "cell_type": "markdown",
      "metadata": {
        "id": "38mOWdHzfsO_"
      },
      "source": [
        "### XOR 게이트\n",
        "- 서로 다른 두 값이 입력으로 들어가면 1을 반환\n",
        "\n",
        "- 진리표  \n",
        "\n",
        "![](https://www.tutorialspoint.com/computer_logical_organization/images/xor_truthtable.jpg)\n",
        "<br /><sub>출처: https://www.tutorialspoint.com/computer_logical_organization/logic_gates.htm</sub>\n"
      ]
    },
    {
      "cell_type": "code",
      "metadata": {
        "id": "VULVZbxVfb_M"
      },
      "source": [
        "def XOR(x1, x2):\n",
        "  s1 = NAND(x1, x2)\n",
        "  s2 = OR(x1, x2)\n",
        "  y = AND(s1, s2)\n",
        "  return y"
      ],
      "execution_count": 11,
      "outputs": []
    },
    {
      "cell_type": "code",
      "metadata": {
        "id": "KFcXlWJKfuLg",
        "colab": {
          "base_uri": "https://localhost:8080/"
        },
        "outputId": "42bb3cbe-6730-4493-c6c3-31f016a1314d"
      },
      "source": [
        "print(XOR(0, 0))\n",
        "print(XOR(0, 1))\n",
        "print(XOR(1, 0))\n",
        "print(XOR(1, 1))"
      ],
      "execution_count": 12,
      "outputs": [
        {
          "output_type": "stream",
          "text": [
            "0\n",
            "1\n",
            "1\n",
            "0\n"
          ],
          "name": "stdout"
        }
      ]
    },
    {
      "cell_type": "markdown",
      "metadata": {
        "id": "FgdNIo5dfx2Y"
      },
      "source": [
        "## 활성화 함수(Activation Function)\n",
        "\n",
        "- 입력 신호의 총합을 출력 신호로 변환하는 함수\n",
        "- 활성화 함수에 따라 출력값이 결정\n",
        "- 단층, 다층 퍼셉트론 모두 사용\n",
        "- 대표적인 활성화 함수\n",
        "  - Sigmoid\n",
        "  - ReLU\n",
        "  - tanh \n",
        "  - Identity Function\n",
        "  - Softmax\n",
        "\n",
        "-  하나의 layer에서 다음 layer로 넘어갈 때는 항상 활성화 함수를 통과\n",
        "    \n",
        "- [참고] 여러가지 활성화 함수  \n",
        " https://en.wikipedia.org/wiki/Activation_function  \n",
        "\n",
        "\n",
        "\n"
      ]
    },
    {
      "cell_type": "markdown",
      "metadata": {
        "id": "sqLlBrSEf31I"
      },
      "source": [
        "### Step Function(계단 함수)\n",
        "\n",
        "### $\\quad y = \\begin{cases}\n",
        "0 \\quad (x < 0) \\\\\n",
        "1 \\quad (x \\ge 0)\n",
        "\\end{cases} $   \n",
        "\n",
        "![](https://www.intmath.com/laplace-transformation/svg/svgphp-unit-step-functions-definition-1a-s1.svg)\n",
        "<br /><sub>출처: https://www.intmath.com/laplace-transformation/1a-unit-step-functions-definition.php</sub>\n",
        "  \n",
        "\n"
      ]
    },
    {
      "cell_type": "code",
      "metadata": {
        "id": "aH0q353YMTTw"
      },
      "source": [
        "def step_function(x):\n",
        "  if x > 0: return 1\n",
        "  else: return 0 "
      ],
      "execution_count": 13,
      "outputs": []
    },
    {
      "cell_type": "code",
      "metadata": {
        "id": "hQS9fxpfIZLS"
      },
      "source": [
        "def step_function_for_numpy(x):\n",
        "  y = x > 0 \n",
        "  return y.astype(np.int)"
      ],
      "execution_count": 14,
      "outputs": []
    },
    {
      "cell_type": "code",
      "metadata": {
        "id": "I9wJ-Ht1fvpi",
        "colab": {
          "base_uri": "https://localhost:8080/"
        },
        "outputId": "4bd52adc-8575-4b7a-dd7d-9a790efaf60e"
      },
      "source": [
        "print(step_function(-3))\n",
        "print(step_function(5))\n",
        "\n",
        "a = np.array([5, 3, -4, 2.0])\n",
        "# print(step_function(a)) # error\n",
        "print(step_function_for_numpy(a))"
      ],
      "execution_count": 15,
      "outputs": [
        {
          "output_type": "stream",
          "text": [
            "0\n",
            "1\n",
            "[1 1 0 1]\n"
          ],
          "name": "stdout"
        }
      ]
    },
    {
      "cell_type": "markdown",
      "metadata": {
        "id": "5OKFVCMqf9uc"
      },
      "source": [
        "\n",
        "### Sigmoid Function(시그모이드 함수)\n",
        "- 이진분류(binary classification)에 주로 사용\n",
        "  - 마지막 출력층의 활성화 함수로 사용\n",
        "- 출력값이 0~1 의 값이며, 이는 **확률**로 표현 가능\n",
        "\n",
        "\n",
        "$\\quad y = \\frac{1}{1 + e^{-x}}$\n",
        "\n",
        "![](https://media.geeksforgeeks.org/wp-content/uploads/20190911181329/Screenshot-2019-09-11-18.05.46.png)\n",
        "<br /><sub>출처: https://www.geeksforgeeks.org/implement-sigmoid-function-using-numpy/</sub>\n",
        "\n"
      ]
    },
    {
      "cell_type": "code",
      "metadata": {
        "id": "9Q7Ywp-Pf7gC"
      },
      "source": [
        "def sigmoid(x):\n",
        "  return 1/ (1 + np.exp(-x))"
      ],
      "execution_count": 16,
      "outputs": []
    },
    {
      "cell_type": "code",
      "metadata": {
        "id": "6ZcSKcAYgB9d",
        "colab": {
          "base_uri": "https://localhost:8080/"
        },
        "outputId": "3cb638bf-3af2-41e7-e24d-763a6115ae15"
      },
      "source": [
        "print(sigmoid(3))\n",
        "print(sigmoid(-3))"
      ],
      "execution_count": 17,
      "outputs": [
        {
          "output_type": "stream",
          "text": [
            "0.9525741268224334\n",
            "0.04742587317756678\n"
          ],
          "name": "stdout"
        }
      ]
    },
    {
      "cell_type": "markdown",
      "metadata": {
        "id": "s1x6bb83gFWv"
      },
      "source": [
        "### 시그모이드 함수와 계단 함수 비교\n",
        "\n",
        "- 공통점\n",
        "  - 출력값이 0~1 내의 범위\n",
        "  - 입력값의 정도에 따라 출력값의 정도가 달라짐 \n",
        "    즉, 입력이 중요하면(입력값이 크면) 큰 값을 출력\n",
        "    \n",
        "- 차이점  \n",
        " 계단함수에 비해 시그모이드 함수는 \n",
        "  - 입력에 따라 출력이 연속적으로 변화\n",
        "  - 출력이 '매끄러움'  \n",
        "    이는 모든 점에서 **미분 가능**함을 의미\n"
      ]
    },
    {
      "cell_type": "code",
      "metadata": {
        "id": "67UOGQfJgDg8",
        "colab": {
          "base_uri": "https://localhost:8080/",
          "height": 262
        },
        "outputId": "e2dcc570-54ba-48f5-9eaa-db9cf50cd4b5"
      },
      "source": [
        "plt.grid()\n",
        "x = np.arange(-5.0, 5.0, 0.01)\n",
        "y1 = sigmoid(x)\n",
        "y2 = step_function_for_numpy(x)\n",
        "plt.plot(x, y1, 'r-', x, y2, 'b--')\n",
        "plt.show()"
      ],
      "execution_count": 18,
      "outputs": [
        {
          "output_type": "display_data",
          "data": {
            "image/png": "[encoded data removed]",
            "text/plain": [
              "<Figure size 432x288 with 1 Axes>"
            ]
          },
          "metadata": {
            "tags": [],
            "needs_background": "light"
          }
        }
      ]
    },
    {
      "cell_type": "markdown",
      "metadata": {
        "id": "9q3FQagJgJDs"
      },
      "source": [
        "\n",
        "### ReLU(Rectified Linear Unit)\n",
        "\n",
        "- 가장 많이 쓰이는 함수 중 하나  \n",
        "  \n",
        "  ### $ y = \\begin{cases}\n",
        "0 \\quad (x \\le 0) \\\\\n",
        "x \\quad (x > 0)\n",
        "\\end{cases} $\n",
        "\n",
        "\n",
        "<br /><sub>출처: https://machinelearningmastery.com/rectified-linear-activation-function-for-deep-learning-neural-networks/</sub>\n"
      ]
    },
    {
      "cell_type": "markdown",
      "metadata": {
        "id": "7oHiA_WuZezI"
      },
      "source": [
        "![image.png](data:image/png;base64,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)"
      ]
    },
    {
      "cell_type": "code",
      "metadata": {
        "id": "2cEsh_FqgHUr"
      },
      "source": [
        "def ReLU(x):\n",
        "  if x > 0:\n",
        "    return x\n",
        "  else:\n",
        "    return 0"
      ],
      "execution_count": 19,
      "outputs": []
    },
    {
      "cell_type": "code",
      "metadata": {
        "id": "nYbYYssSgLyP",
        "colab": {
          "base_uri": "https://localhost:8080/"
        },
        "outputId": "df5e5a60-d421-466f-9510-9ffe7a0431af"
      },
      "source": [
        "print(ReLU(5))\n",
        "print(ReLU(-3))"
      ],
      "execution_count": 20,
      "outputs": [
        {
          "output_type": "stream",
          "text": [
            "5\n",
            "0\n"
          ],
          "name": "stdout"
        }
      ]
    },
    {
      "cell_type": "markdown",
      "metadata": {
        "id": "GWXjAqjngPi0"
      },
      "source": [
        "\n",
        "### 하이퍼볼릭탄젠트 함수(Hyperbolic tangent function, tanh)\n",
        "\n",
        " ### $ \\quad y = \\frac{e^x - e^{-x}}{e^x + e^{-x}}$\n",
        "\n",
        "![](https://ww.namu.la/s/aeff20070260dc095f50d1ec74f1d4dd96bab65016ab1b01bed2145850e165e7c713734ff60047392c522e784bec9605782e4cacb2606725d782714917e2a47456d4c4a308c4b4bcc7f9a905b357556b912b404573385c42ba30e41a627dd31a)\n",
        "<br /><sub>출처: https://namu.wiki/w/%EC%8C%8D%EA%B3%A1%EC%84%A0%20%ED%95%A8%EC%88%98</sub>\n",
        "\n"
      ]
    },
    {
      "cell_type": "markdown",
      "metadata": {
        "id": "0__jJf-laSNg"
      },
      "source": [
        "![image.png](data:image/png;base64,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)"
      ]
    },
    {
      "cell_type": "code",
      "metadata": {
        "id": "iF3lGXSegNZJ"
      },
      "source": [
        "def tanh(x):\n",
        "  return (np.exp(x) - np.exp(-x)) / ((np.exp(x) + np.exp(-x)))"
      ],
      "execution_count": 21,
      "outputs": []
    },
    {
      "cell_type": "code",
      "metadata": {
        "id": "x6GCAu1DgSAw",
        "colab": {
          "base_uri": "https://localhost:8080/"
        },
        "outputId": "04bf0726-0b95-42ba-ae70-b5fb358db15e"
      },
      "source": [
        "print(tanh(3))\n",
        "print(tanh(-3))"
      ],
      "execution_count": 22,
      "outputs": [
        {
          "output_type": "stream",
          "text": [
            "0.9950547536867306\n",
            "-0.9950547536867306\n"
          ],
          "name": "stdout"
        }
      ]
    },
    {
      "cell_type": "markdown",
      "metadata": {
        "id": "i2bVEk3GgVDL"
      },
      "source": [
        "### Identify Function(항등 함수)\n",
        "- 회귀(Regression) 문제에서 주로 사용  \n",
        "  - 출력층의 활성화 함수로 활용\n",
        "\n",
        "- $y=x$\n",
        "\n",
        "- 입력값 그대로 출력하기 때문에 굳이 정의할 필요는 없지만  \n",
        "  신경망 중간 레이어 흐름과 통일하기 위해 사용\n",
        "\n",
        "![](https://math.info/image/394/identity_function.jpg)\n",
        "<br /><sub>출처: https://math.info/Algebra/Identity_Function/</sub>\n"
      ]
    },
    {
      "cell_type": "code",
      "metadata": {
        "id": "NC3M0oq_gTgY"
      },
      "source": [
        "def identify_function(x):\n",
        "  return x"
      ],
      "execution_count": 23,
      "outputs": []
    },
    {
      "cell_type": "code",
      "metadata": {
        "id": "V50HKDVMgXgh",
        "colab": {
          "base_uri": "https://localhost:8080/"
        },
        "outputId": "2c55e2aa-99ac-4cdc-a361-cfc746d854d3"
      },
      "source": [
        "print(identify_function(4))"
      ],
      "execution_count": 24,
      "outputs": [
        {
          "output_type": "stream",
          "text": [
            "4\n"
          ],
          "name": "stdout"
        }
      ]
    },
    {
      "cell_type": "markdown",
      "metadata": {
        "id": "npL99RRugad-"
      },
      "source": [
        "### Softmax\n",
        "\n",
        "- 다중 클래스 분류에 사용(Multi Class Classification)\n",
        "- 입력값의 영향을 크게 받음  \n",
        "  입력값이 크면 출력값도 큼\n",
        "- 출력값을 확률에 대응가능\n",
        "- 출력값의 **총합은 1**\n",
        "\n",
        "- 수식  \n",
        " ### $ y_k = \\frac{exp(a_k)}{\\sum_{i=1}{exp(a_i)}}$\n",
        "\n",
        "<br /><sub>출처: https://medium.com/data-science-bootcamp/understand-the-softmax-function-in-minutes-f3a59641e86d</sub>"
      ]
    },
    {
      "cell_type": "markdown",
      "metadata": {
        "id": "5zr3k6cUbIJq"
      },
      "source": [
        "![image.png](data:image/png;base64,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)"
      ]
    },
    {
      "cell_type": "code",
      "metadata": {
        "id": "6Ku0ucpygYrE"
      },
      "source": [
        "def softmax(a):\n",
        "  exp_a = np.exp(a)\n",
        "  sum_exp_a = np.sum(exp_a)\n",
        "  y = exp_a / sum_exp_a\n",
        "  return y"
      ],
      "execution_count": 25,
      "outputs": []
    },
    {
      "cell_type": "code",
      "metadata": {
        "id": "HikF6Peigdew",
        "colab": {
          "base_uri": "https://localhost:8080/"
        },
        "outputId": "3fa175e5-aaff-4900-c438-f89fa55902cf"
      },
      "source": [
        "a = np.array([0.3, 0.2, 4.0, -1.2])\n",
        "print(softmax(a))\n",
        "print(np.sum(softmax(a)))"
      ],
      "execution_count": 26,
      "outputs": [
        {
          "output_type": "stream",
          "text": [
            "[0.02348781 0.02125265 0.9500187  0.00524084]\n",
            "1.0\n"
          ],
          "name": "stdout"
        }
      ]
    },
    {
      "cell_type": "markdown",
      "metadata": {
        "id": "BYIgC71lghbo"
      },
      "source": [
        "#### 소프트맥스 함수 주의점\n",
        "- 오버플로우(overflow) 문제\n",
        "- 지수함수(exponential function)을 사용하기 때문에  \n",
        "  입력값이 너무 크면 무한대(inf)가 반환됨\n",
        "\n",
        "- 개선한 수식\n",
        " ## $y_k = \\frac{exp(a_k)}{\\sum_{i=1}{exp(a_i)}} = \\frac{Cexp(a_k)}{C\\sum_{i=1}{exp(a_i)}} \\\\\n",
        "  \\quad = \\frac{exp(a_k + logC)}{\\sum_{i=1}{exp(a_i + logC)}} \\\\\n",
        "  \\quad = \\frac{exp(a_k + C')}{\\sum_{i=1}{exp(a_i + C')}}\n",
        "  $"
      ]
    },
    {
      "cell_type": "code",
      "metadata": {
        "id": "tmuXmRY8gfWc",
        "colab": {
          "base_uri": "https://localhost:8080/"
        },
        "outputId": "423d78cd-762e-44b4-817e-19c13b5c4a58"
      },
      "source": [
        "A = np.array([1000, 900, 1050, 500])\n",
        "print(softmax(A))# overflow 문제"
      ],
      "execution_count": 27,
      "outputs": [
        {
          "output_type": "stream",
          "text": [
            "[nan nan nan  0.]\n"
          ],
          "name": "stdout"
        },
        {
          "output_type": "stream",
          "text": [
            "/usr/local/lib/python3.7/dist-packages/ipykernel_launcher.py:2: RuntimeWarning: overflow encountered in exp\n",
            "  \n",
            "/usr/local/lib/python3.7/dist-packages/ipykernel_launcher.py:4: RuntimeWarning: invalid value encountered in true_divide\n",
            "  after removing the cwd from sys.path.\n"
          ],
          "name": "stderr"
        }
      ]
    },
    {
      "cell_type": "code",
      "metadata": {
        "id": "RJADjg8Zgjab"
      },
      "source": [
        "def softmax(A):\n",
        "  c = np.max(a)\n",
        "  return (np.exp(a-c)) / np.sum(np.exp(a-c))"
      ],
      "execution_count": 28,
      "outputs": []
    },
    {
      "cell_type": "code",
      "metadata": {
        "id": "OQTWqn2fgk42",
        "colab": {
          "base_uri": "https://localhost:8080/"
        },
        "outputId": "fe69b733-67a7-4aaf-bdfd-14eed83ac026"
      },
      "source": [
        "A = np.array([1000, 900, 1050, 500])\n",
        "print(softmax(A))"
      ],
      "execution_count": 29,
      "outputs": [
        {
          "output_type": "stream",
          "text": [
            "[0.02348781 0.02125265 0.9500187  0.00524084]\n"
          ],
          "name": "stdout"
        }
      ]
    },
    {
      "cell_type": "markdown",
      "metadata": {
        "id": "-1cWHyPbgoaH"
      },
      "source": [
        "### 활성화 함수를 비선형 함수(non-linear function)로 사용하는 이유\n",
        "- 신경망을 깊게(deep) 하기 위함\n",
        "- 만약 활성화 함수를 선형함수(linear function)으로 하게 되면 은닉층의 갯수가 여러개이더라도 의미가 없어짐\n",
        "- 만약,$\\ h(x) = cx이고, 3개의 은닉층이 존재한다면 \n",
        "\\\\  \n",
        "y = h(h(h(x)))  \\\\\n",
        "\\ \\ = c*c*c*x \\\\\n",
        "\\ \\ = c^3x \\\\ $  \n",
        "이므로 결국에는 선형함수가 되어버림\n"
      ]
    },
    {
      "cell_type": "markdown",
      "metadata": {
        "id": "MD3C4UcVgrxk"
      },
      "source": [
        "### 그 외의 활성화 함수\n",
        "- LeakyReLU\n",
        "\n",
        "### $ \\ \\ f_a(x) = \\begin{cases}\n",
        "x \\quad (x \\ge 0) \\\\\n",
        "ax \\quad (x < 0)\n",
        "\\end{cases}$ \n"
      ]
    },
    {
      "cell_type": "markdown",
      "metadata": {
        "id": "r5AR8h40cZJu"
      },
      "source": [
        "![image.png](data:image/png;base64,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)\n",
        "\n",
        "\n",
        "<br /><sub>출처: https://knowhowspot.com/technology/ai-and-machine-learning/artificial-neural-network-activation-function/</sub>"
      ]
    },
    {
      "cell_type": "markdown",
      "metadata": {
        "id": "ZlDg_Nu1ck0X"
      },
      "source": [
        "기울기 소실 문제 때문에"
      ]
    },
    {
      "cell_type": "code",
      "metadata": {
        "id": "BigOia-QgmcF"
      },
      "source": [
        "def LeakyReLU(x):\n",
        "  a = 0.01\n",
        "  return np.maximum(a*x, x)"
      ],
      "execution_count": 30,
      "outputs": []
    },
    {
      "cell_type": "code",
      "metadata": {
        "id": "LY2YbDJ0g1Aw",
        "colab": {
          "base_uri": "https://localhost:8080/"
        },
        "outputId": "353d91d4-6e99-42aa-ed2b-2f2fa64d9bbc"
      },
      "source": [
        "x = np.array([0.5, -1.4, 3, 0, 5])\n",
        "print(LeakyReLU(x))"
      ],
      "execution_count": 31,
      "outputs": [
        {
          "output_type": "stream",
          "text": [
            "[ 0.5   -0.014  3.     0.     5.   ]\n"
          ],
          "name": "stdout"
        }
      ]
    },
    {
      "cell_type": "markdown",
      "metadata": {
        "id": "RDh7qyImg4me"
      },
      "source": [
        "- ELU(Exponential Linear Units)  \n",
        "\n",
        "  $ f(\\alpha, x) = \\begin{cases}\n",
        "\\alpha \\ (e^x - 1) \\quad (x \\le 0) \\\\\n",
        "x \\qquad \\qquad (x > 0)\n",
        "\\end{cases}$  \n"
      ]
    },
    {
      "cell_type": "markdown",
      "metadata": {
        "id": "HalXQzYKc_kx"
      },
      "source": [
        "![image.png](data:image/png;base64,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)\n",
        "\n",
        "<br /><sub>출처: https://www.researchgate.net/figure/Exponential-Linear-Unit-activation-function-input-output-mapping-The-activation-function_fig1_331794632</sub>"
      ]
    },
    {
      "cell_type": "code",
      "metadata": {
        "id": "1nImmUf9g2lV"
      },
      "source": [
        "def ELU(x):\n",
        "  alpha = 1.0\n",
        "  return (x >= 0 ) * x + (x < 0) * alpha * (np.exp(x) -1)"
      ],
      "execution_count": 32,
      "outputs": []
    },
    {
      "cell_type": "code",
      "metadata": {
        "id": "1kZVCKTxg_RX",
        "colab": {
          "base_uri": "https://localhost:8080/"
        },
        "outputId": "0bb24f7a-e0e5-4e22-986d-fa1aafb93e9c"
      },
      "source": [
        "print(ELU(4))\n",
        "print(ELU(-0.5))\n",
        "\n",
        "x = np.array([-2, 0.1, 4])\n",
        "print(ELU(x))"
      ],
      "execution_count": 33,
      "outputs": [
        {
          "output_type": "stream",
          "text": [
            "4.0\n",
            "-0.3934693402873666\n",
            "[-0.86466472  0.1         4.        ]\n"
          ],
          "name": "stdout"
        }
      ]
    },
    {
      "cell_type": "markdown",
      "metadata": {
        "id": "ir3K7hhLhCf2"
      },
      "source": [
        "### 활성화 함수 참고\n",
        "\n",
        "- 일반적인 사용 순서\n",
        "  1. ELU\n",
        "  2. LeakyReLU\n",
        "  3. ReLU\n",
        "  4. tanh \n",
        "  5. sigmoid 순으로 사용\n",
        "\n",
        "- 스탠포드 강의에서 언급한 사용 순서\n",
        "  1. ReLU\n",
        "  2. ReLU Family(LeakyReLU, ELU)\n",
        "  3. sigmoid는 사용 X  \n",
        "  "
      ]
    },
    {
      "cell_type": "markdown",
      "metadata": {
        "id": "XTL742Ogd-w9"
      },
      "source": [
        "![image.png](data:image/png;base64,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)"
      ]
    },
    {
      "cell_type": "markdown",
      "metadata": {
        "id": "UT27FzpXhJTF"
      },
      "source": [
        "## 3층 신경망 구현하기\n",
        "\n",
        "![](http://ufldl.stanford.edu/tutorial/images/Network3322.png)\n",
        "<br /><sub>출처: http://deeplearning.stanford.edu/tutorial/supervised/MultiLayerNeuralNetworks/</sub>\n",
        "\n",
        "\n",
        "- 2클래스 분류\n",
        "- 입력층(Input Layer)\n",
        "  - 뉴런수: 3\n",
        "\n",
        "- 은닉층(Hidden Layers)\n",
        "  - 첫번째 은닉층\n",
        "    - 뉴런수: 3\n",
        "  - 두번째 은닉층\n",
        "    - 뉴런수: 2\n",
        "- 출력층(Output Layer)\n",
        "  - 뉴런수: 2  \n"
      ]
    },
    {
      "cell_type": "markdown",
      "metadata": {
        "id": "B2uxTBC3hQVh"
      },
      "source": [
        "### 활성화 함수 정의"
      ]
    },
    {
      "cell_type": "code",
      "metadata": {
        "id": "8iEkt97EhPux"
      },
      "source": [
        "def sigmoid(X):\n",
        "  return 1 / (1 + np.exp(-X))"
      ],
      "execution_count": 34,
      "outputs": []
    },
    {
      "cell_type": "markdown",
      "metadata": {
        "id": "GgjFPw3DhUbO"
      },
      "source": [
        "### 레이어 정의"
      ]
    },
    {
      "cell_type": "code",
      "metadata": {
        "id": "JNygpfXRhS4q",
        "colab": {
          "base_uri": "https://localhost:8080/"
        },
        "outputId": "07c78622-1859-473a-d6b9-f57a7aab588b"
      },
      "source": [
        "X = np.array([1.0, 0.5, 0.4])\n",
        "# X = np.array([0.3, 1.3, -2.2])\n",
        "W1 = np.array([[0.1, 0.3, 0.5], [0.2, 0.4, 0.6], [0.3, 0.5, 0.7]])\n",
        "B1 = np.array([1, 1, 1])\n",
        "\n",
        "print(W1.shape)\n",
        "print(X.shape)\n",
        "print(B1.shape)\n",
        "\n",
        "A1 = np.dot(X, W1) + B1\n",
        "Z1 = sigmoid(A1)\n",
        "\n",
        "print(A1)\n",
        "print(Z1)"
      ],
      "execution_count": 35,
      "outputs": [
        {
          "output_type": "stream",
          "text": [
            "(3, 3)\n",
            "(3,)\n",
            "(3,)\n",
            "[1.32 1.7  2.08]\n",
            "[0.78918171 0.84553473 0.88894403]\n"
          ],
          "name": "stdout"
        }
      ]
    },
    {
      "cell_type": "code",
      "metadata": {
        "id": "7gW4luZ3hVqk",
        "colab": {
          "base_uri": "https://localhost:8080/"
        },
        "outputId": "d25daac8-6278-48f8-9cd8-965a52c9fcc0"
      },
      "source": [
        "W2 = np.array([[0.2, 0.4, 0.6],[0.1, 0.3, 0.5], [0.4, 0.6, 0.8]])\n",
        "B2 = np.array([1, 1, 1])\n",
        "\n",
        "print(W2.shape)\n",
        "print(B2.shape)\n",
        "\n",
        "A2 = np.dot(Z1, W2) + B2\n",
        "Z2 = sigmoid(A2)\n",
        "\n",
        "print(A2)\n",
        "print(Z2)"
      ],
      "execution_count": 44,
      "outputs": [
        {
          "output_type": "stream",
          "text": [
            "(3, 3)\n",
            "(3,)\n",
            "[1.59796743 2.10269952 2.60743162]\n",
            "[0.83173411 0.89116528 0.93133834]\n"
          ],
          "name": "stdout"
        }
      ]
    },
    {
      "cell_type": "code",
      "metadata": {
        "id": "b7cgikzahYYj",
        "colab": {
          "base_uri": "https://localhost:8080/"
        },
        "outputId": "7f646eac-297e-45b6-c001-dd1abeb9856d"
      },
      "source": [
        "W3 = np.array([[0.1, 0.3], [-0.1, -0.5], [0.3, 0.5]])\n",
        "B3 = np.array([1, 1])\n",
        "\n",
        "print(W3.shape)\n",
        "print(B3.shape)\n",
        "\n",
        "A3 = np.dot(Z2, W3) + B3\n",
        "Z3 = sigmoid(A3)\n",
        "\n",
        "print(A3)\n",
        "print(Z3)"
      ],
      "execution_count": 45,
      "outputs": [
        {
          "output_type": "stream",
          "text": [
            "(3, 2)\n",
            "(2,)\n",
            "[1.27345838 1.26960676]\n",
            "[0.78133419 0.78067542]\n"
          ],
          "name": "stdout"
        }
      ]
    },
    {
      "cell_type": "code",
      "metadata": {
        "id": "NhGH6HgvhZ7r",
        "colab": {
          "base_uri": "https://localhost:8080/"
        },
        "outputId": "0883b316-e8a4-4384-9e08-36a510ffdd5f"
      },
      "source": [
        "W4 = np.array([[0.1, 0.2], [0.3, 0.5]])\n",
        "B4 = np.array([1, 1])\n",
        "\n",
        "print(W4.shape)\n",
        "print(B4.shape)\n",
        "\n",
        "A4 = np.dot(Z3, W4) + B4\n",
        "Y = sigmoid(A4)\n",
        "\n",
        "print(A4)\n",
        "print(Y)"
      ],
      "execution_count": 46,
      "outputs": [
        {
          "output_type": "stream",
          "text": [
            "(2, 2)\n",
            "(2,)\n",
            "[1.31233605 1.54660455]\n",
            "[0.7879038  0.82442278]\n"
          ],
          "name": "stdout"
        }
      ]
    },
    {
      "cell_type": "code",
      "metadata": {
        "id": "NpTPdvrbhbja"
      },
      "source": [
        "def network():\n",
        "\n",
        "  network= {}\n",
        " \n",
        "  # 첫번째 레이어\n",
        "  network['W1'] = np.array([[0.1, 0.3, 0.5], [0.2, 0.4, 0.6], [0.3, 0.5, 0.7]])\n",
        "  network['B1'] = np.array([1, 1, 1])\n",
        "\n",
        "  # 두번째 레이어\n",
        "  network['W2'] = np.array([[0.2, 0.4, 0.6],[0.1, 0.3, 0.5], [0.4, 0.6, 0.8]])\n",
        "  network['B2'] = np.array([1, 1, 1])\n",
        "\n",
        "  # 세번째 레이어\n",
        "  network['W3'] = np.array([[0.1, 0.3], [-0.1, -0.5], [0.3, 0.5]])\n",
        "  network['B3'] = np.array([1, 1])\n",
        "\n",
        "  # 네번째 레이어\n",
        "  network['W4'] = np.array([[0.1, 0.2], [0.3, 0.5]])\n",
        "  network['B4'] = np.array([1, 1])\n",
        "\n",
        "  return network"
      ],
      "execution_count": 47,
      "outputs": []
    },
    {
      "cell_type": "code",
      "metadata": {
        "id": "xd2lyMzhwf7Y"
      },
      "source": [
        "def forward(network, x):\n",
        "  W1, W2, W3, W4 = network['W1'], network['W2'], network['W3'], network['W4']\n",
        "  B1, B2, B3, B4 = network['B1'], network['B2'], network['B3'], network['B4']\n",
        "\n",
        "  A1 = np.dot(x, W1) + B1\n",
        "  Z1 = sigmoid(A1)\n",
        "\n",
        "  A2 = np.dot(Z1, W2) + B2\n",
        "  Z2 = sigmoid(A2)\n",
        "\n",
        "  A3 = np.dot(Z2, W3) + B3\n",
        "  Z3 = sigmoid(A3)\n",
        "\n",
        "  A4 = np.dot(Z3, W4) + B4\n",
        "  y = sigmoid(A4)\n",
        "\n",
        "  return y"
      ],
      "execution_count": 48,
      "outputs": []
    },
    {
      "cell_type": "markdown",
      "metadata": {
        "id": "z_oQoRFYhf-4"
      },
      "source": [
        "### 신경망 추론 실행"
      ]
    },
    {
      "cell_type": "code",
      "metadata": {
        "id": "FFwxQXrShc-1",
        "colab": {
          "base_uri": "https://localhost:8080/"
        },
        "outputId": "da0915b0-20c6-4db0-c466-7b4450f6b20f"
      },
      "source": [
        "net = network()\n",
        "\n",
        "x = np.array([0.3, 1.3, -2.2])\n",
        "\n",
        "y = forward(net, x)\n",
        "print(y)"
      ],
      "execution_count": 49,
      "outputs": [
        {
          "output_type": "stream",
          "text": [
            "[0.78781193 0.82428264]\n"
          ],
          "name": "stdout"
        }
      ]
    },
    {
      "cell_type": "code",
      "metadata": {
        "colab": {
          "base_uri": "https://localhost:8080/"
        },
        "id": "PD-A2jGChmf9",
        "outputId": "d48fd927-6417-4185-8b5c-31dd48fdcd8b"
      },
      "source": [
        "X = np.array([1.0, 0.5, 0.4])\n",
        "y = forward(net, X)\n",
        "print(y)"
      ],
      "execution_count": 50,
      "outputs": [
        {
          "output_type": "stream",
          "text": [
            "[0.7879038  0.82442278]\n"
          ],
          "name": "stdout"
        }
      ]
    }
  ]
}