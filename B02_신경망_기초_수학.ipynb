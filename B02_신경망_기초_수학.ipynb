{
  "nbformat": 4,
  "nbformat_minor": 0,
  "metadata": {
    "colab": {
      "name": "B02_신경망 기초 수학",
      "provenance": [],
      "collapsed_sections": [
        "VlozpAHI9epU",
        "8L8-CoSw95RP",
        "DZpxldFb_gRt",
        "7EpNbQ7o_v5w",
        "cd2lfAH1hckk",
        "b08DMLsVAHiy",
        "S4zEKXvTAey8",
        "dy1dyV7hAhqe",
        "DNh2TtSwAuzl",
        "kE2ei5qYA1cF"
      ],
      "include_colab_link": true
    },
    "kernelspec": {
      "name": "python3",
      "display_name": "Python 3"
    }
  },
  "cells": [
    {
      "cell_type": "markdown",
      "metadata": {
        "id": "view-in-github",
        "colab_type": "text"
      },
      "source": [
        "<a href=\"https://colab.research.google.com/github/SeWonKwon/DeepLearning/blob/main/B02_%EC%8B%A0%EA%B2%BD%EB%A7%9D_%EA%B8%B0%EC%B4%88_%EC%88%98%ED%95%99.ipynb\" target=\"_parent\"><img src=\"https://colab.research.google.com/assets/colab-badge.svg\" alt=\"Open In Colab\"/></a>"
      ]
    },
    {
      "cell_type": "markdown",
      "metadata": {
        "id": "00cnU7trlPhw"
      },
      "source": [
        "# 신경망 기초 수학"
      ]
    },
    {
      "cell_type": "code",
      "metadata": {
        "id": "8u1CbzYh8hpc"
      },
      "source": [
        "import math\n",
        "import numpy as np \n",
        "import matplotlib.pyplot as plt\n",
        "plt.style.use(['seaborn-whitegrid'])"
      ],
      "execution_count": 6,
      "outputs": []
    },
    {
      "cell_type": "markdown",
      "metadata": {
        "id": "a7M6K7hrlUF0"
      },
      "source": [
        "## 일차함수\n",
        "* $y = ax + b$\n",
        "  + $a$: 기울기, $b$: y절편\n",
        "* 그래프 상에서 직선인 그래프(linear)"
      ]
    },
    {
      "cell_type": "code",
      "metadata": {
        "id": "JR7M75Zv8v7h"
      },
      "source": [
        "def linear_function(x):\n",
        "  a = 0.5\n",
        "  b = 2\n",
        "  return a*x+b"
      ],
      "execution_count": 7,
      "outputs": []
    },
    {
      "cell_type": "code",
      "metadata": {
        "id": "CujVzsDX8xcx",
        "colab": {
          "base_uri": "https://localhost:8080/"
        },
        "outputId": "7090f842-7520-4bb4-e704-bea03a87be78"
      },
      "source": [
        "print(linear_function(5))"
      ],
      "execution_count": 8,
      "outputs": [
        {
          "output_type": "stream",
          "text": [
            "4.5\n"
          ],
          "name": "stdout"
        }
      ]
    },
    {
      "cell_type": "code",
      "metadata": {
        "id": "2NBAAMqQjr_A",
        "colab": {
          "base_uri": "https://localhost:8080/",
          "height": 291
        },
        "outputId": "25d727e4-b7d6-41c8-d0c9-fb8c0525664e"
      },
      "source": [
        "x = np.arange(-5, 5, 0.1)\n",
        "y = linear_function(x)\n",
        "plt.plot(x,y)\n",
        "plt.xlabel('x')\n",
        "plt.ylabel('y')\n",
        "plt.title('Linear Function')\n",
        "plt.show()"
      ],
      "execution_count": 10,
      "outputs": [
        {
          "output_type": "display_data",
          "data": {
            "image/png": "[encoded data removed]",
            "text/plain": [
              "<Figure size 432x288 with 1 Axes>"
            ]
          },
          "metadata": {
            "tags": []
          }
        }
      ]
    },
    {
      "cell_type": "markdown",
      "metadata": {
        "id": "s8CVX7YUm4pr"
      },
      "source": [
        "## 이차함수\n",
        "* $y = ax^2 + bx + c$\n",
        "* 일반적으로 두 개의 실근을 가짐"
      ]
    },
    {
      "cell_type": "code",
      "metadata": {
        "id": "bctIOw-T8yyo"
      },
      "source": [
        "def quadratic_function(x):\n",
        "  a = 1\n",
        "  b = -1\n",
        "  c = -2\n",
        "\n",
        "  return a*x**2+b*x+c"
      ],
      "execution_count": 11,
      "outputs": []
    },
    {
      "cell_type": "code",
      "metadata": {
        "id": "n9Zc7d1l870D",
        "colab": {
          "base_uri": "https://localhost:8080/"
        },
        "outputId": "6cc5bd61-8a74-4397-c5a8-a81cf73d5bbe"
      },
      "source": [
        "quadratic_function(2)"
      ],
      "execution_count": 12,
      "outputs": [
        {
          "output_type": "execute_result",
          "data": {
            "text/plain": [
              "0"
            ]
          },
          "metadata": {
            "tags": []
          },
          "execution_count": 12
        }
      ]
    },
    {
      "cell_type": "code",
      "metadata": {
        "id": "ZatrHgOljlEj",
        "colab": {
          "base_uri": "https://localhost:8080/",
          "height": 291
        },
        "outputId": "6dd2c708-440b-4e73-f7ce-1530358d2aea"
      },
      "source": [
        "x = np.arange(-5, 5, 0.1)\n",
        "y = quadratic_function(x)\n",
        "plt.plot(x,y)\n",
        "plt.xlabel('x')\n",
        "plt.ylabel('y')\n",
        "plt.title('Quadratic Function')\n",
        "plt.show()"
      ],
      "execution_count": 14,
      "outputs": [
        {
          "output_type": "display_data",
          "data": {
            "image/png": "[encoded data removed]",
            "text/plain": [
              "<Figure size 432x288 with 1 Axes>"
            ]
          },
          "metadata": {
            "tags": []
          }
        }
      ]
    },
    {
      "cell_type": "markdown",
      "metadata": {
        "id": "nV_luTry6pAW"
      },
      "source": [
        "## 삼차함수(다항함수)  \n",
        "\n",
        "* $y = ax^3 + bx^2 + cx + d$"
      ]
    },
    {
      "cell_type": "code",
      "metadata": {
        "id": "Tw0-WtVP9Bcf"
      },
      "source": [
        "def cubic_function(x):\n",
        "  a = 4\n",
        "  b = 0\n",
        "  c = -1\n",
        "  d = -8\n",
        "\n",
        "  return a*x**3 + b*x**2 + c*x + d"
      ],
      "execution_count": 15,
      "outputs": []
    },
    {
      "cell_type": "code",
      "metadata": {
        "id": "tfKID_SZ9CIk",
        "colab": {
          "base_uri": "https://localhost:8080/"
        },
        "outputId": "7c684219-1d17-4b82-b3cf-f484b76e2093"
      },
      "source": [
        "print(cubic_function(3))"
      ],
      "execution_count": 16,
      "outputs": [
        {
          "output_type": "stream",
          "text": [
            "97\n"
          ],
          "name": "stdout"
        }
      ]
    },
    {
      "cell_type": "code",
      "metadata": {
        "id": "NRRU5pwf9DQD",
        "colab": {
          "base_uri": "https://localhost:8080/",
          "height": 291
        },
        "outputId": "3b71b231-f9e7-4462-eece-df1505a2c047"
      },
      "source": [
        "x = np.arange(-5, 5, 0.1)\n",
        "y = cubic_function(x)\n",
        "plt.plot(x,y)\n",
        "plt.xlabel('x')\n",
        "plt.ylabel('y')\n",
        "plt.title('Cubic Function')\n",
        "plt.show()"
      ],
      "execution_count": 17,
      "outputs": [
        {
          "output_type": "display_data",
          "data": {
            "image/png": "[encoded data removed]",
            "text/plain": [
              "<Figure size 432x288 with 1 Axes>"
            ]
          },
          "metadata": {
            "tags": []
          }
        }
      ]
    },
    {
      "cell_type": "markdown",
      "metadata": {
        "id": "STP-0M2f9Fuv"
      },
      "source": [
        "### 함수의 최소값/최대값\n"
      ]
    },
    {
      "cell_type": "code",
      "metadata": {
        "id": "jHch00DA9HXS"
      },
      "source": [
        "def my_func(x):\n",
        "  a = 1\n",
        "  b = -3\n",
        "  c = 10\n",
        "  return a*x**2 + b*x +c"
      ],
      "execution_count": 22,
      "outputs": []
    },
    {
      "cell_type": "code",
      "metadata": {
        "id": "bJQPJ_SV9Jhd",
        "colab": {
          "base_uri": "https://localhost:8080/",
          "height": 291
        },
        "outputId": "ae10fc26-d885-4690-a292-ad4e88aff631"
      },
      "source": [
        "x = np.arange(-10, 10, 0.1)\n",
        "y = my_func(x)\n",
        "\n",
        "plt.plot(x, y)\n",
        "plt.xlabel('x')\n",
        "plt.ylabel('y')\n",
        "plt.scatter(1.5, my_func(1.5))\n",
        "plt.text(1.5-1.5, my_func(1.5)+10, 'min value of f(x)\\n({}, {})'.format(1.5, my_func(1.5)), fontsize=10)\n",
        "plt.title('my_func')\n",
        "plt.show()"
      ],
      "execution_count": 28,
      "outputs": [
        {
          "output_type": "display_data",
          "data": {
            "image/png": "[encoded data removed]",
            "text/plain": [
              "<Figure size 432x288 with 1 Axes>"
            ]
          },
          "metadata": {
            "tags": []
          }
        }
      ]
    },
    {
      "cell_type": "code",
      "metadata": {
        "id": "09Nh3e3y9Kcw",
        "colab": {
          "base_uri": "https://localhost:8080/"
        },
        "outputId": "d00214ee-0bdc-4758-f7a4-04860994ce2a"
      },
      "source": [
        "min_value = min(y)\n",
        "min_value"
      ],
      "execution_count": 30,
      "outputs": [
        {
          "output_type": "execute_result",
          "data": {
            "text/plain": [
              "7.75"
            ]
          },
          "metadata": {
            "tags": []
          },
          "execution_count": 30
        }
      ]
    },
    {
      "cell_type": "markdown",
      "metadata": {
        "id": "AZlVs50-9Onr"
      },
      "source": [
        "### 특정 구간 내에서 최소값 구하기"
      ]
    },
    {
      "cell_type": "code",
      "metadata": {
        "id": "TPrV0Vu19Mdd"
      },
      "source": [
        "def get_minimum(x1, x2, f):\n",
        "  x = np.arange(x1, x2, 0.01)\n",
        "  y = f(x)\n",
        "\n",
        "  plt.plot(x,y)\n",
        "  plt.xlabel('x')\n",
        "  plt.ylabel('y')\n",
        "  plt.title('get_minimtm')\n",
        "  plt.show()\n",
        "\n",
        "  return min(y)"
      ],
      "execution_count": 31,
      "outputs": []
    },
    {
      "cell_type": "code",
      "metadata": {
        "id": "9y42Nkcz9QDo",
        "colab": {
          "base_uri": "https://localhost:8080/",
          "height": 308
        },
        "outputId": "d3296e52-e68e-4dd0-af63-4b8cca440be3"
      },
      "source": [
        "print(get_minimum(1, 4, my_func))"
      ],
      "execution_count": 32,
      "outputs": [
        {
          "output_type": "display_data",
          "data": {
            "image/png": "[encoded data removed]",
            "text/plain": [
              "<Figure size 432x288 with 1 Axes>"
            ]
          },
          "metadata": {
            "tags": []
          }
        },
        {
          "output_type": "stream",
          "text": [
            "7.75\n"
          ],
          "name": "stdout"
        }
      ]
    },
    {
      "cell_type": "markdown",
      "metadata": {
        "id": "VlozpAHI9epU"
      },
      "source": [
        "## 지수함수 / 로그함수\n",
        "\n",
        "- 지수함수-로그함수는 역함수 관계 ($y=x$ 직선 대칭 단, 밑이 같을 때)\n",
        "- 파이썬으로 직접 구현 가능"
      ]
    },
    {
      "cell_type": "markdown",
      "metadata": {
        "id": "c_cCnmRlnI8R"
      },
      "source": [
        "## 지수함수\n",
        "\n",
        "- $y = a^x$ ($a \\ne 0$) (기본형)\n",
        "- $y = e^x$ ($e = 2.71828...$)"
      ]
    },
    {
      "cell_type": "code",
      "metadata": {
        "id": "YmlBk-u29gkx"
      },
      "source": [
        "def exponential_function(x):\n",
        "  a = 4\n",
        "  return a**x"
      ],
      "execution_count": 33,
      "outputs": []
    },
    {
      "cell_type": "code",
      "metadata": {
        "id": "LVHiUmUI9iO2",
        "colab": {
          "base_uri": "https://localhost:8080/"
        },
        "outputId": "cad52399-404f-45ac-8283-cdb679a51f18"
      },
      "source": [
        "print(exponential_function(4))\n",
        "print(exponential_function(0))"
      ],
      "execution_count": 35,
      "outputs": [
        {
          "output_type": "stream",
          "text": [
            "256\n",
            "1\n"
          ],
          "name": "stdout"
        }
      ]
    },
    {
      "cell_type": "code",
      "metadata": {
        "id": "de0TQqLw9jam",
        "colab": {
          "base_uri": "https://localhost:8080/",
          "height": 291
        },
        "outputId": "6829a52b-8c68-4a88-c571-c87b2a2e6d67"
      },
      "source": [
        "x = np.arange(-3, 2, 0.1)\n",
        "y = exponential_function(x)\n",
        "\n",
        "plt.plot(x, y)\n",
        "plt.xlabel('x')\n",
        "plt.ylabel('y')\n",
        "plt.ylim(-1, 15)\n",
        "plt.xlim(-4, 3)\n",
        "plt.title('Exponential_function_4')\n",
        "plt.show()"
      ],
      "execution_count": 36,
      "outputs": [
        {
          "output_type": "display_data",
          "data": {
            "image/png": "[encoded data removed]",
            "text/plain": [
              "<Figure size 432x288 with 1 Axes>"
            ]
          },
          "metadata": {
            "tags": []
          }
        }
      ]
    },
    {
      "cell_type": "code",
      "metadata": {
        "id": "2o4szSgo9kZB"
      },
      "source": [
        "def exponential_function2(x):\n",
        "  a = 4\n",
        "  return math.pow(a, x)"
      ],
      "execution_count": 37,
      "outputs": []
    },
    {
      "cell_type": "code",
      "metadata": {
        "id": "xD6z17nk9luY",
        "colab": {
          "base_uri": "https://localhost:8080/"
        },
        "outputId": "84c68c00-f9db-4ecc-93d8-f2c882d904c8"
      },
      "source": [
        "print(exponential_function2(4))\n",
        "print(exponential_function2(0))"
      ],
      "execution_count": 39,
      "outputs": [
        {
          "output_type": "stream",
          "text": [
            "256.0\n",
            "1.0\n"
          ],
          "name": "stdout"
        }
      ]
    },
    {
      "cell_type": "markdown",
      "metadata": {
        "id": "6zH2mMgR9tBY"
      },
      "source": [
        "### 밑이 $e$인 지수함수 표현\n"
      ]
    },
    {
      "cell_type": "code",
      "metadata": {
        "id": "xTnAWxgH9sOr",
        "colab": {
          "base_uri": "https://localhost:8080/"
        },
        "outputId": "8fdc10e8-5252-4043-e5f1-4fd89967c788"
      },
      "source": [
        "print(math.exp(4))\n",
        "\n",
        "print(np.exp(4))"
      ],
      "execution_count": 40,
      "outputs": [
        {
          "output_type": "stream",
          "text": [
            "54.598150033144236\n",
            "54.598150033144236\n"
          ],
          "name": "stdout"
        }
      ]
    },
    {
      "cell_type": "markdown",
      "metadata": {
        "id": "CA-UVy3k9v8i"
      },
      "source": [
        "### 로그함수 \n",
        "\n",
        "  <img src=\"https://upload.wikimedia.org/wikipedia/commons/thumb/7/73/Logarithms.svg/630px-Logarithms.svg.png\" width=\"300\">\n",
        "\n",
        "- $y = log_a(x)$ ($a \\ne 1$) (기본형)\n",
        "- $y=log_{10}(x)$ (상용로그)\n",
        "- $y = ln(x)$ (밑이 $e$인 자연로그)"
      ]
    },
    {
      "cell_type": "code",
      "metadata": {
        "id": "lQh9kIaY9xSz",
        "colab": {
          "base_uri": "https://localhost:8080/"
        },
        "outputId": "93327546-156f-4545-8172-b595925e6dff"
      },
      "source": [
        "print(math.log(2, 4)) # 밑이 4\n",
        "print()\n",
        "print(np.log2(4))\n",
        "print()\n",
        "print(np.log(4)) # 밑이 e"
      ],
      "execution_count": 45,
      "outputs": [
        {
          "output_type": "stream",
          "text": [
            "0.5\n",
            "\n",
            "2.0\n",
            "\n",
            "1.3862943611198906\n"
          ],
          "name": "stdout"
        }
      ]
    },
    {
      "cell_type": "markdown",
      "metadata": {
        "id": "El2s8U9a90bP"
      },
      "source": [
        "### 역함수 관계\n",
        "- $y=x$ 대칭"
      ]
    },
    {
      "cell_type": "code",
      "metadata": {
        "id": "sSKK2zJc9zG9",
        "colab": {
          "base_uri": "https://localhost:8080/",
          "height": 280
        },
        "outputId": "e732ecb7-eaa8-4f82-e3fe-408b1377ddd5"
      },
      "source": [
        "x = np.arange(-1, 5, 0.01)\n",
        "y1 = np.exp(x)\n",
        "\n",
        "x2 = np.arange(0.000001, 5, 0.01)\n",
        "y2 = np.log(x2)\n",
        "\n",
        "y3 = x\n",
        "\n",
        "plt.plot(x,y1, 'r-', x2, y2, 'b-', x, y3, 'k--')\n",
        "\n",
        "plt.ylim(-2, 6)\n",
        "plt.xlim(-2, 7)\n",
        "plt.axvline(x= 0 , color='k')\n",
        "plt.axhline(y= 0 , color='k')\n",
        "\n",
        "plt.xlabel('x')\n",
        "plt.ylabel('y')\n",
        "plt.show()"
      ],
      "execution_count": 54,
      "outputs": [
        {
          "output_type": "display_data",
          "data": {
            "image/png": "[encoded data removed]",
            "text/plain": [
              "<Figure size 432x288 with 1 Axes>"
            ]
          },
          "metadata": {
            "tags": []
          }
        }
      ]
    },
    {
      "cell_type": "markdown",
      "metadata": {
        "id": "8L8-CoSw95RP"
      },
      "source": [
        "### 함수 조작\n",
        "- $y = -log_a(x)$와 $y = -log_a(1-x)$  \n",
        "  x=0.5 대칭\n",
        "- Logistic Regression을 위한 함수"
      ]
    },
    {
      "cell_type": "code",
      "metadata": {
        "id": "FVYLpUvz93Bd"
      },
      "source": [
        "26:50"
      ],
      "execution_count": 32,
      "outputs": []
    },
    {
      "cell_type": "markdown",
      "metadata": {
        "id": "KwTUKPFijOQW"
      },
      "source": [
        "## 극한\n",
        "- 극한에 대해서는 어떠한 식을 코드로 표현할 수 있다 정도로만 이해하며 참고\n",
        "- 극한에서 알아야 사실은 x가 어떤 값 a에 가까이 다가갈 때 a에 '한없이 가까이 간다'일 뿐, a에 도달하지 않는다는 점\n",
        "- 이를 표현할 때, 엡실론(epsilon)이라는 아주 작은 값(ex, 0.0001) 등으로 표현\n"
      ]
    },
    {
      "cell_type": "code",
      "metadata": {
        "id": "-nsOgiRA_F8T"
      },
      "source": [
        ""
      ],
      "execution_count": null,
      "outputs": []
    },
    {
      "cell_type": "markdown",
      "metadata": {
        "id": "kc3wHOt9_Jne"
      },
      "source": [
        "- $\\lim_{x \\to 1} \\left(\\frac{x^3-1}{x-1} \\right) = 3$"
      ]
    },
    {
      "cell_type": "code",
      "metadata": {
        "id": "meQajCbp_HLj"
      },
      "source": [
        ""
      ],
      "execution_count": null,
      "outputs": []
    },
    {
      "cell_type": "markdown",
      "metadata": {
        "id": "xcTaDhMq_P9l"
      },
      "source": [
        "- $\\lim_{x \\to \\infty} \\left(\\frac{1+x}{x} \\right)$"
      ]
    },
    {
      "cell_type": "code",
      "metadata": {
        "id": "UMeweKeb_HHu"
      },
      "source": [
        ""
      ],
      "execution_count": null,
      "outputs": []
    },
    {
      "cell_type": "markdown",
      "metadata": {
        "id": "i6fhgMiY_UiM"
      },
      "source": [
        "- $\\lim_{x \\to 1}\\frac{\\sqrt{x+3}-2}{x-1} = \\frac {1}{4}$"
      ]
    },
    {
      "cell_type": "code",
      "metadata": {
        "id": "f4yRpj9T_HGb"
      },
      "source": [
        ""
      ],
      "execution_count": null,
      "outputs": []
    },
    {
      "cell_type": "markdown",
      "metadata": {
        "id": "DZpxldFb_gRt"
      },
      "source": [
        "### 삼각함수의 극한\n",
        "\n",
        "- $\\lim_{x \\to \\frac{\\pi}{2} +0}\\ \\tan x = -\\infty$\n",
        "- $\\lim_{x \\to \\frac{\\pi}{2} -0}\\ \\tan x = \\infty$"
      ]
    },
    {
      "cell_type": "code",
      "metadata": {
        "id": "aU3AHChm_HFP"
      },
      "source": [
        ""
      ],
      "execution_count": null,
      "outputs": []
    },
    {
      "cell_type": "markdown",
      "metadata": {
        "id": "XI5VZ-Uo_lwh"
      },
      "source": [
        "- $\\lim_{x \\to 0} \\left(\\frac{\\sin x}{x} \\right) = 1$"
      ]
    },
    {
      "cell_type": "code",
      "metadata": {
        "id": "G1iDoAXN_HAt"
      },
      "source": [
        ""
      ],
      "execution_count": null,
      "outputs": []
    },
    {
      "cell_type": "markdown",
      "metadata": {
        "id": "mNRmB3Jt_r7u"
      },
      "source": [
        "- $\\lim_{x \\to 0} x \\sin \\left(\\frac{1}{x} \\right)$"
      ]
    },
    {
      "cell_type": "code",
      "metadata": {
        "id": "_zThiSYC_G_m"
      },
      "source": [
        ""
      ],
      "execution_count": null,
      "outputs": []
    },
    {
      "cell_type": "markdown",
      "metadata": {
        "id": "7EpNbQ7o_v5w"
      },
      "source": [
        "### 지수함수, 로그함수의 극한\n",
        "\n",
        "- $\\lim_{x \\to \\infty} \\left( \\frac{2^x - 2^{-x}}{2^x + 2^{-x}} \\right)$"
      ]
    },
    {
      "cell_type": "code",
      "metadata": {
        "id": "bMaFU3cS_G91"
      },
      "source": [
        ""
      ],
      "execution_count": null,
      "outputs": []
    },
    {
      "cell_type": "markdown",
      "metadata": {
        "id": "gAFc-MvC_52f"
      },
      "source": [
        "- $lim_{x \\to \\infty} \\left (\\ log_2(x+1) - log_2(x) \\ \\right) = 0$"
      ]
    },
    {
      "cell_type": "code",
      "metadata": {
        "id": "tgVOUmht_G44"
      },
      "source": [
        ""
      ],
      "execution_count": null,
      "outputs": []
    },
    {
      "cell_type": "markdown",
      "metadata": {
        "id": "lNqX2xM2__Bd"
      },
      "source": [
        "### 자연로그(e)의 밑\n",
        "(1) $lim_{x \\to \\infty} \\ (1 + \\frac{1}{x})^x \\ = e$  \n",
        "(2) $\\lim_{x \\to \\infty} \\ (1 + \\frac{2}{x}^x) \\ = e^2$  \n",
        "(3) $\\lim_{x \\to 0} \\ \\frac{(e^x - 1)}{x} = 1$  \n",
        "(4) $\\lim_{x \\to 0} \\ \\frac{ln(1 + x)}{x} = 1$"
      ]
    },
    {
      "cell_type": "code",
      "metadata": {
        "id": "lDchRaWv_-yb"
      },
      "source": [
        ""
      ],
      "execution_count": null,
      "outputs": []
    },
    {
      "cell_type": "markdown",
      "metadata": {
        "id": "tDIHF6k-ACiA"
      },
      "source": [
        "## 미분\n",
        "- 어떤 한 순간의 변화량을 표시한 것"
      ]
    },
    {
      "cell_type": "markdown",
      "metadata": {
        "id": "cd2lfAH1hckk"
      },
      "source": [
        "### 미분과 기울기\n",
        "\n",
        "- 어떤 함수를 나타내는 그래프에서 한 점의 미분값(미분계수)를 구하는 것은 해당 점에서의 접선을 의미\n",
        "\n",
        "![](https://upload.wikimedia.org/wikipedia/commons/thumb/0/0f/Tangent_to_a_curve.svg/440px-Tangent_to_a_curve.svg.png)\n",
        "<br /><sub>출처: https://ko.wikipedia.org/wiki/%EB%AF%B8%EB%B6%84</sub>\n",
        "\n",
        "* 기울기는 **방향성**을 가짐\n",
        "  + 이용할 미분 식 (수치 미분)  \n",
        "      $\\frac{df(x)}{dx} = \\lim_{x \\to \\infty} \\frac{f(x+h) - f(x-h)}{2h}$\n",
        "\n",
        "* [주의] $ \\ h \\ $는 아주 작은 수를 뜻하는데, 예를 들어 $\\ 10e-50 \\ $ 정도의 수를 하면 파이썬은 이를 $0.0$으로 인식\n",
        "* 따라서, 딥러닝에서 아주 작은 수를 정할 때 $\\ 1e-4\\ $ 정도로 설정해도 무방"
      ]
    },
    {
      "cell_type": "code",
      "metadata": {
        "id": "a4JMZezv_Gz2"
      },
      "source": [
        ""
      ],
      "execution_count": null,
      "outputs": []
    },
    {
      "cell_type": "markdown",
      "metadata": {
        "id": "b08DMLsVAHiy"
      },
      "source": [
        "### 함수 위의 점 $(a, b)$에서의 접선의 방정식\n",
        "\n",
        "  - 예제 : 점 (1, 7) 에서의 기울기\n"
      ]
    },
    {
      "cell_type": "code",
      "metadata": {
        "id": "2ilCobpGTT5J"
      },
      "source": [
        ""
      ],
      "execution_count": null,
      "outputs": []
    },
    {
      "cell_type": "code",
      "metadata": {
        "id": "e3xhpjyNTVtJ"
      },
      "source": [
        ""
      ],
      "execution_count": null,
      "outputs": []
    },
    {
      "cell_type": "code",
      "metadata": {
        "id": "RpmBem5Z_Gx7"
      },
      "source": [
        ""
      ],
      "execution_count": null,
      "outputs": []
    },
    {
      "cell_type": "markdown",
      "metadata": {
        "id": "S4zEKXvTAey8"
      },
      "source": [
        "### 미분 공식\n",
        "- $\\frac{d}{dx} (c) = 0\\ (c는 상수)$\n",
        "\n",
        "- $\\frac{d}{dx} [cf(x)] = cf^\\prime (x)$\n",
        "\n",
        "- $\\frac{d}{dx} [f(x) + g(x)] = f^\\prime(x) + g^\\prime(x)$\n",
        "\n",
        "- $\\frac{d}{dx} [f(x)-g(x)] = f^\\prime(x)\\ - \\ g^\\prime(x)$\n",
        "\n",
        "- $\\frac{d}{dx} [f(x)g(x)] = f(x)g^\\prime(x)\\ + \\ f^\\prime(x)g(x)\\ (곱셈공식)$\n",
        "\n",
        "- $\\frac{d}{dx} [\\frac{f(x)}{g(x)}] = \\frac{g(x)f^\\prime(x)\\ - \\ f(x)g^\\prime(x)}{[g(x)]^2}$\n",
        "\n",
        "- $\\frac{d}{dx} [x^n] = nx^n-1$"
      ]
    },
    {
      "cell_type": "markdown",
      "metadata": {
        "id": "dy1dyV7hAhqe"
      },
      "source": [
        "### 편미분\n",
        "- 변수가 1개짜리인 위의 수치미분과 달리, 변수가 2개 이상일 때의 미분법을 편미분이라 함\n",
        "- 다변수 함수에서 특정 변수를 제외한 나머지 변수는 상수로 처리하여 미분을 하는 것\n",
        "- 각 변수에 대해 미분 표시를 $\\sigma$를 통해 나타남\n",
        "- ex) $f(x_0, x_1) = x_0^2 + x_1^2$  \n"
      ]
    },
    {
      "cell_type": "code",
      "metadata": {
        "id": "P7Cchxfa_Gso"
      },
      "source": [
        ""
      ],
      "execution_count": null,
      "outputs": []
    },
    {
      "cell_type": "code",
      "metadata": {
        "id": "tOk4Z8hZ_GpT"
      },
      "source": [
        ""
      ],
      "execution_count": null,
      "outputs": []
    },
    {
      "cell_type": "markdown",
      "metadata": {
        "id": "tFAeJgghAnzt"
      },
      "source": [
        "- 예제1 : x0에 대한 편미분, $\\frac{\\sigma f}{\\sigma x_0}$"
      ]
    },
    {
      "cell_type": "code",
      "metadata": {
        "id": "TuQEesgO_Ggd"
      },
      "source": [
        ""
      ],
      "execution_count": null,
      "outputs": []
    },
    {
      "cell_type": "markdown",
      "metadata": {
        "id": "kC9BBcOPAqJ_"
      },
      "source": [
        "- 예제2 : x1에 대한 편미분, $\\frac{\\sigma f}{\\sigma x_1}$"
      ]
    },
    {
      "cell_type": "code",
      "metadata": {
        "id": "xli2kkOWApO5"
      },
      "source": [
        ""
      ],
      "execution_count": null,
      "outputs": []
    },
    {
      "cell_type": "markdown",
      "metadata": {
        "id": "DNh2TtSwAuzl"
      },
      "source": [
        "### 기울기(gradient)\n",
        "- 방향성을 가짐"
      ]
    },
    {
      "cell_type": "code",
      "metadata": {
        "id": "spMUYlpGAszI"
      },
      "source": [
        ""
      ],
      "execution_count": null,
      "outputs": []
    },
    {
      "cell_type": "code",
      "metadata": {
        "id": "jvZJxSGPAyAI"
      },
      "source": [
        ""
      ],
      "execution_count": null,
      "outputs": []
    },
    {
      "cell_type": "markdown",
      "metadata": {
        "id": "kE2ei5qYA1cF"
      },
      "source": [
        "### 기울기의 의미를 그래프로 확인\n",
        "* 기울기가 가장 낮은 장소(가운데)로부터 거리가 멀어질수록 기울기가 커짐\n",
        "* 기울기가 커진다는 것은 영향을 많이 받는다는 의미  \n",
        "* 기울기가 작다는 것은 영향을 적게 받는다는 의미"
      ]
    },
    {
      "cell_type": "code",
      "metadata": {
        "id": "zohJoPnHA0tH"
      },
      "source": [
        ""
      ],
      "execution_count": null,
      "outputs": []
    }
  ]
}