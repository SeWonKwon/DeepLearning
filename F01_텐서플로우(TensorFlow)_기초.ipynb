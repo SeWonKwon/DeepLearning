{
  "nbformat": 4,
  "nbformat_minor": 0,
  "metadata": {
    "colab": {
      "name": " F01_텐서플로우(TensorFlow) 기초.ipynb",
      "provenance": [],
      "collapsed_sections": [],
      "include_colab_link": true
    },
    "kernelspec": {
      "name": "python3",
      "display_name": "Python 3"
    },
    "accelerator": "GPU"
  },
  "cells": [
    {
      "cell_type": "markdown",
      "metadata": {
        "id": "view-in-github",
        "colab_type": "text"
      },
      "source": [
        "<a href=\"https://colab.research.google.com/github/SeWonKwon/DeepLearning/blob/main/F01_%ED%85%90%EC%84%9C%ED%94%8C%EB%A1%9C%EC%9A%B0(TensorFlow)_%EA%B8%B0%EC%B4%88.ipynb\" target=\"_parent\"><img src=\"https://colab.research.google.com/assets/colab-badge.svg\" alt=\"Open In Colab\"/></a>"
      ]
    },
    {
      "cell_type": "markdown",
      "metadata": {
        "id": "mpf4TRENWJMZ"
      },
      "source": [
        "# 텐서플로우 (Tensorflow)\n",
        "\n",
        "<img src=\"https://upload.wikimedia.org/wikipedia/commons/thumb/1/11/TensorFlowLogo.svg/1200px-TensorFlowLogo.svg.png\" width=\"300\">\n",
        "\n",
        "- 가장 널리 쓰이는 딥러닝 프레임워크 중 하나\n",
        "\n",
        "- 구글이 주도적으로 개발하는 플랫폼\n",
        "\n",
        "- 파이썬, C++ API를 기본적으로 제공하고,  \n",
        "  자바스크립트(JavaScript), 자바(Java), 고(Go), 스위프트(Swift) 등 다양한 프로그래밍 언어를 지원\n",
        "\n",
        "- tf.keras를 중심으로 고수준 API 통합 (2.x 버전)\n",
        "\n",
        "- TPU(Tensor Processing Unit) 지원\n",
        "  - TPU는 GPU보다 전력을 적게 소모, 경제적\n",
        "  \n",
        "  - 일반적으로 32비트(float32)로 수행되는 곱셈 연산을 16비트(float16)로 낮춤"
      ]
    },
    {
      "cell_type": "markdown",
      "metadata": {
        "id": "a9-NEf2BWd4M"
      },
      "source": [
        "## 텐서플로우 아키텍쳐\n",
        "\n",
        "<img src=\"https://developers.google.com/machine-learning/crash-course/images/TFHierarchy.svg\">\n",
        "\n",
        "<sub>출처: https://developers.google.com/machine-learning/crash-course/first-steps-with-tensorflow/toolkit</sub>"
      ]
    },
    {
      "cell_type": "markdown",
      "metadata": {
        "id": "wsUoHFDi06Vf"
      },
      "source": [
        "[이수안컴퓨터연구소 유튜브 출처](https://www.youtube.com/watch?v=B961QM47g64&t=1389s)\n"
      ]
    },
    {
      "cell_type": "markdown",
      "metadata": {
        "id": "c_ktVhFhYUiE"
      },
      "source": [
        "## 텐서플로우 시작하기"
      ]
    },
    {
      "cell_type": "code",
      "metadata": {
        "id": "SP9HL3ZvV0zR"
      },
      "source": [
        "import numpy as np\n",
        "import tensorflow as tf"
      ],
      "execution_count": null,
      "outputs": []
    },
    {
      "cell_type": "code",
      "metadata": {
        "id": "KvPQ0N4_YhDt",
        "colab": {
          "base_uri": "https://localhost:8080/"
        },
        "outputId": "7e9a34d1-7dfb-43cb-a108-b0cd7797ec6a"
      },
      "source": [
        "print(tf.__version__)"
      ],
      "execution_count": null,
      "outputs": [
        {
          "output_type": "stream",
          "text": [
            "2.4.1\n"
          ],
          "name": "stdout"
        }
      ]
    },
    {
      "cell_type": "markdown",
      "metadata": {
        "id": "d-9usyAXY7Gw"
      },
      "source": [
        "### 텐서(Tensor)의 객체\n",
        "- 타입(Type): `string`, `float32`, `float16`, `int32`, `int8` 등\n",
        "\n",
        "- 형상(Shape): 0, 1, 2차원 등의 데이터 차원 \n",
        "\n",
        "- 축(Rank): 차원의 개수"
      ]
    },
    {
      "cell_type": "markdown",
      "metadata": {
        "id": "dZeigiNEZODl"
      },
      "source": [
        "### 텐서의 차원과 연산"
      ]
    },
    {
      "cell_type": "code",
      "metadata": {
        "id": "GMVq68gUYksh",
        "colab": {
          "base_uri": "https://localhost:8080/"
        },
        "outputId": "34f583fc-ecae-4f42-ff67-3e3854782c1f"
      },
      "source": [
        "a  = tf.constant(2) # default dtype int32\n",
        "print(tf.rank(a)) # 0차원\n",
        "print(a)"
      ],
      "execution_count": null,
      "outputs": [
        {
          "output_type": "stream",
          "text": [
            "tf.Tensor(0, shape=(), dtype=int32)\n",
            "tf.Tensor(2, shape=(), dtype=int32)\n"
          ],
          "name": "stdout"
        }
      ]
    },
    {
      "cell_type": "code",
      "metadata": {
        "id": "MgOKILDqZZKP",
        "colab": {
          "base_uri": "https://localhost:8080/"
        },
        "outputId": "b4fe6176-a535-47ec-d87e-6af15f81e427"
      },
      "source": [
        "b = tf.constant([2,3])\n",
        "print(tf.rank(b)) # 1차원\n",
        "print(b)"
      ],
      "execution_count": null,
      "outputs": [
        {
          "output_type": "stream",
          "text": [
            "tf.Tensor(1, shape=(), dtype=int32)\n",
            "tf.Tensor([2 3], shape=(2,), dtype=int32)\n"
          ],
          "name": "stdout"
        }
      ]
    },
    {
      "cell_type": "code",
      "metadata": {
        "id": "k74H8ImTZbWi",
        "colab": {
          "base_uri": "https://localhost:8080/"
        },
        "outputId": "b7463c41-bb22-4834-aace-1df94ff87a3d"
      },
      "source": [
        "c = tf.constant([[2,3],[6,7]])\n",
        "print(tf.rank(c))\n",
        "print(c)"
      ],
      "execution_count": null,
      "outputs": [
        {
          "output_type": "stream",
          "text": [
            "tf.Tensor(2, shape=(), dtype=int32)\n",
            "tf.Tensor(\n",
            "[[2 3]\n",
            " [6 7]], shape=(2, 2), dtype=int32)\n"
          ],
          "name": "stdout"
        }
      ]
    },
    {
      "cell_type": "code",
      "metadata": {
        "id": "WmCCc587wkTy",
        "colab": {
          "base_uri": "https://localhost:8080/"
        },
        "outputId": "989099b3-d368-46f0-c469-a26d3c10b2dd"
      },
      "source": [
        "d = tf.constant(['Hello'])\n",
        "print(tf.rank(d))\n",
        "print(d)"
      ],
      "execution_count": null,
      "outputs": [
        {
          "output_type": "stream",
          "text": [
            "tf.Tensor(1, shape=(), dtype=int32)\n",
            "tf.Tensor([b'Hello'], shape=(1,), dtype=string)\n"
          ],
          "name": "stdout"
        }
      ]
    },
    {
      "cell_type": "markdown",
      "metadata": {
        "id": "z3mgwo7FZ_0S"
      },
      "source": [
        "### 난수 생성"
      ]
    },
    {
      "cell_type": "code",
      "metadata": {
        "id": "eaT2dUJlZ2Cd",
        "colab": {
          "base_uri": "https://localhost:8080/"
        },
        "outputId": "af02402e-ad20-43fc-c432-5645eee1efb5"
      },
      "source": [
        "rand = tf.random.uniform([1], 0, 1) # 동등한 확률 : uniform distribution\n",
        "print(rand.shape)\n",
        "print(tf.rank(rand))\n",
        "print(rand)\n",
        "rand"
      ],
      "execution_count": null,
      "outputs": [
        {
          "output_type": "stream",
          "text": [
            "(1,)\n",
            "tf.Tensor(1, shape=(), dtype=int32)\n",
            "tf.Tensor([0.8180095], shape=(1,), dtype=float32)\n"
          ],
          "name": "stdout"
        },
        {
          "output_type": "execute_result",
          "data": {
            "text/plain": [
              "<tf.Tensor: shape=(1,), dtype=float32, numpy=array([0.8180095], dtype=float32)>"
            ]
          },
          "metadata": {
            "tags": []
          },
          "execution_count": 7
        }
      ]
    },
    {
      "cell_type": "code",
      "metadata": {
        "id": "KfgimJg9aFgB",
        "colab": {
          "base_uri": "https://localhost:8080/"
        },
        "outputId": "120984f0-96da-4777-80e3-989ca7cc072f"
      },
      "source": [
        "rand2 = tf.random.normal([1,2], 0, 1) # 정규 분포 : normal distribution\n",
        "print(rand2.shape)\n",
        "print(rand2)"
      ],
      "execution_count": null,
      "outputs": [
        {
          "output_type": "stream",
          "text": [
            "(1, 2)\n",
            "tf.Tensor([[ 0.3033084  -0.01368132]], shape=(1, 2), dtype=float32)\n"
          ],
          "name": "stdout"
        }
      ]
    },
    {
      "cell_type": "code",
      "metadata": {
        "id": "R_xdzhG5aPxB",
        "colab": {
          "base_uri": "https://localhost:8080/"
        },
        "outputId": "1331e570-add3-4bc3-faed-716130806026"
      },
      "source": [
        "rand3 = tf.random.normal(shape=(3,2), mean=0, stddev=1)\n",
        "print(rand3.shape)\n",
        "rand3"
      ],
      "execution_count": null,
      "outputs": [
        {
          "output_type": "stream",
          "text": [
            "(3, 2)\n"
          ],
          "name": "stdout"
        },
        {
          "output_type": "execute_result",
          "data": {
            "text/plain": [
              "<tf.Tensor: shape=(3, 2), dtype=float32, numpy=\n",
              "array([[-1.4432796 , -0.13442995],\n",
              "       [-0.97235787,  0.34016377],\n",
              "       [ 1.616538  , -1.2032397 ]], dtype=float32)>"
            ]
          },
          "metadata": {
            "tags": []
          },
          "execution_count": 9
        }
      ]
    },
    {
      "cell_type": "markdown",
      "metadata": {
        "id": "Za7HlqVba5wD"
      },
      "source": [
        "### 즉시 실행 모드 (Eager Mode) 지원\n",
        "- 즉시 실행모드를 통해 텐서플로우를 파이썬처럼 사용할 수 있음\n",
        "\n",
        "- 1.x 버전에서는 '그래프'를 생성하고, 초기화 한 뒤에 세션을 통해 **값을 흐르게 하는 작업**을 진행해야함\n"
      ]
    },
    {
      "cell_type": "code",
      "metadata": {
        "id": "fVBqOSFrbQ1e"
      },
      "source": [
        "a = tf.constant(3)\n",
        "b = tf.constant(2)"
      ],
      "execution_count": null,
      "outputs": []
    },
    {
      "cell_type": "code",
      "metadata": {
        "id": "1btItwSEbdEO",
        "colab": {
          "base_uri": "https://localhost:8080/"
        },
        "outputId": "03b57530-ff2d-4a74-b1c3-bce0836e7d87"
      },
      "source": [
        "print(tf.add(a,b))\n",
        "print(a+b)"
      ],
      "execution_count": null,
      "outputs": [
        {
          "output_type": "stream",
          "text": [
            "tf.Tensor(5, shape=(), dtype=int32)\n",
            "tf.Tensor(5, shape=(), dtype=int32)\n"
          ],
          "name": "stdout"
        }
      ]
    },
    {
      "cell_type": "code",
      "metadata": {
        "id": "SaOXtxLpbfDC",
        "colab": {
          "base_uri": "https://localhost:8080/"
        },
        "outputId": "57dd35f3-b261-41f7-aad2-5c9a672e20e2"
      },
      "source": [
        "print(tf.subtract(a,b))\n",
        "print(a-b)"
      ],
      "execution_count": null,
      "outputs": [
        {
          "output_type": "stream",
          "text": [
            "tf.Tensor(1, shape=(), dtype=int32)\n",
            "tf.Tensor(1, shape=(), dtype=int32)\n"
          ],
          "name": "stdout"
        }
      ]
    },
    {
      "cell_type": "code",
      "metadata": {
        "id": "UCApXIDNbtLF",
        "colab": {
          "base_uri": "https://localhost:8080/"
        },
        "outputId": "83e93cff-e7a1-45e5-9e12-37869d0d6c09"
      },
      "source": [
        "print(tf.multiply(a,b))\n",
        "print(a*b)"
      ],
      "execution_count": null,
      "outputs": [
        {
          "output_type": "stream",
          "text": [
            "tf.Tensor(6, shape=(), dtype=int32)\n",
            "tf.Tensor(6, shape=(), dtype=int32)\n"
          ],
          "name": "stdout"
        }
      ]
    },
    {
      "cell_type": "markdown",
      "metadata": {
        "id": "XyLkPW4Db67W"
      },
      "source": [
        "### 텐서 플로우 ↔ 넘파이\n",
        "- `numpy()`\n",
        "- `tf.convet_to_tensor()`"
      ]
    },
    {
      "cell_type": "code",
      "metadata": {
        "id": "c9AWzdJRb4Ez",
        "colab": {
          "base_uri": "https://localhost:8080/"
        },
        "outputId": "f3eb8454-c79e-4a87-b5c5-75f44cbc972c"
      },
      "source": [
        "c = tf.add(a,b).numpy()\n",
        "print(type(c))\n",
        "c"
      ],
      "execution_count": null,
      "outputs": [
        {
          "output_type": "stream",
          "text": [
            "<class 'numpy.int32'>\n"
          ],
          "name": "stdout"
        },
        {
          "output_type": "execute_result",
          "data": {
            "text/plain": [
              "5"
            ]
          },
          "metadata": {
            "tags": []
          },
          "execution_count": 14
        }
      ]
    },
    {
      "cell_type": "code",
      "metadata": {
        "id": "ql4O755kcfnk",
        "colab": {
          "base_uri": "https://localhost:8080/"
        },
        "outputId": "614b9b47-a2e7-4bd7-b291-62d04306a2c5"
      },
      "source": [
        "c_square = np.square(c, dtype=np.float32)\n",
        "c_tensor= tf.convert_to_tensor(c_square)\n",
        "print(type(c_tensor))\n",
        "print(c_tensor)"
      ],
      "execution_count": null,
      "outputs": [
        {
          "output_type": "stream",
          "text": [
            "<class 'tensorflow.python.framework.ops.EagerTensor'>\n",
            "tf.Tensor(25.0, shape=(), dtype=float32)\n"
          ],
          "name": "stdout"
        }
      ]
    },
    {
      "cell_type": "markdown",
      "metadata": {
        "id": "LmWKhcWVk00O"
      },
      "source": [
        "### 넘파이처럼 사용하기\n"
      ]
    },
    {
      "cell_type": "code",
      "metadata": {
        "id": "0on9RGRllNnX",
        "colab": {
          "base_uri": "https://localhost:8080/"
        },
        "outputId": "848e1788-24a2-444d-b946-39eaf72a62c9"
      },
      "source": [
        "t = tf.constant([[1., 2., 3.],[4., 5., 6.]])\n",
        "print(t.shape)\n",
        "print(t.dtype)\n",
        "t"
      ],
      "execution_count": null,
      "outputs": [
        {
          "output_type": "stream",
          "text": [
            "(2, 3)\n",
            "<dtype: 'float32'>\n"
          ],
          "name": "stdout"
        },
        {
          "output_type": "execute_result",
          "data": {
            "text/plain": [
              "<tf.Tensor: shape=(2, 3), dtype=float32, numpy=\n",
              "array([[1., 2., 3.],\n",
              "       [4., 5., 6.]], dtype=float32)>"
            ]
          },
          "metadata": {
            "tags": []
          },
          "execution_count": 16
        }
      ]
    },
    {
      "cell_type": "code",
      "metadata": {
        "id": "lhlyV7oklUIh",
        "colab": {
          "base_uri": "https://localhost:8080/"
        },
        "outputId": "f109ae8b-f842-4d78-fc13-78d8db28889e"
      },
      "source": [
        "# numpy 처럼 slicing 역시 됩니다.\n",
        "print(t[:,1:])"
      ],
      "execution_count": null,
      "outputs": [
        {
          "output_type": "stream",
          "text": [
            "tf.Tensor(\n",
            "[[2. 3.]\n",
            " [5. 6.]], shape=(2, 2), dtype=float32)\n"
          ],
          "name": "stdout"
        }
      ]
    },
    {
      "cell_type": "markdown",
      "metadata": {
        "id": "kJCDpwgl9amQ"
      },
      "source": [
        "### newaxis\n",
        "\n",
        "resize 와  비슷 개념이다. \n",
        "\n",
        "new axis (새로 추가될 axis) 를 적어주는 곳에 생겨 나게 된다.  인덱싱을하듯이사용하면 된다."
      ]
    },
    {
      "cell_type": "code",
      "metadata": {
        "id": "wQJx7L5R-ZS3",
        "colab": {
          "base_uri": "https://localhost:8080/"
        },
        "outputId": "d8db0288-160c-4bc6-f02e-39b7769697f3"
      },
      "source": [
        "t"
      ],
      "execution_count": null,
      "outputs": [
        {
          "output_type": "execute_result",
          "data": {
            "text/plain": [
              "<tf.Tensor: shape=(2, 3), dtype=float32, numpy=\n",
              "array([[1., 2., 3.],\n",
              "       [4., 5., 6.]], dtype=float32)>"
            ]
          },
          "metadata": {
            "tags": []
          },
          "execution_count": 18
        }
      ]
    },
    {
      "cell_type": "code",
      "metadata": {
        "id": "lp22qvG4-alX",
        "colab": {
          "base_uri": "https://localhost:8080/"
        },
        "outputId": "17cc166e-7850-4616-f74a-101451649e52"
      },
      "source": [
        "t[tf.newaxis,...] # t 와 비교해 보면 0번 axis에 1이 추가 된것을 볼수 있다. "
      ],
      "execution_count": null,
      "outputs": [
        {
          "output_type": "execute_result",
          "data": {
            "text/plain": [
              "<tf.Tensor: shape=(1, 2, 3), dtype=float32, numpy=\n",
              "array([[[1., 2., 3.],\n",
              "        [4., 5., 6.]]], dtype=float32)>"
            ]
          },
          "metadata": {
            "tags": []
          },
          "execution_count": 19
        }
      ]
    },
    {
      "cell_type": "code",
      "metadata": {
        "id": "aJ0vNC2Z-rdf",
        "colab": {
          "base_uri": "https://localhost:8080/"
        },
        "outputId": "01590184-2559-4a31-9693-6876b5ee8072"
      },
      "source": [
        "t[:,tf.newaxis,...] # 1번 axis에 1이 추가 된것을 볼수 있다. "
      ],
      "execution_count": null,
      "outputs": [
        {
          "output_type": "execute_result",
          "data": {
            "text/plain": [
              "<tf.Tensor: shape=(2, 1, 3), dtype=float32, numpy=\n",
              "array([[[1., 2., 3.]],\n",
              "\n",
              "       [[4., 5., 6.]]], dtype=float32)>"
            ]
          },
          "metadata": {
            "tags": []
          },
          "execution_count": 20
        }
      ]
    },
    {
      "cell_type": "code",
      "metadata": {
        "id": "3SCf36nj9HVg",
        "colab": {
          "base_uri": "https://localhost:8080/"
        },
        "outputId": "6dd51f3f-cfad-441a-d105-c4808416ca1b"
      },
      "source": [
        "t[...,1] # 아래는 슬라이싱과 axis 추가 까지 같이 해준것이다."
      ],
      "execution_count": null,
      "outputs": [
        {
          "output_type": "execute_result",
          "data": {
            "text/plain": [
              "<tf.Tensor: shape=(2,), dtype=float32, numpy=array([2., 5.], dtype=float32)>"
            ]
          },
          "metadata": {
            "tags": []
          },
          "execution_count": 21
        }
      ]
    },
    {
      "cell_type": "code",
      "metadata": {
        "id": "tAenU-IL9zHL",
        "colab": {
          "base_uri": "https://localhost:8080/"
        },
        "outputId": "01552ff6-6959-416d-d883-cd8fa100f869"
      },
      "source": [
        "t[tf.newaxis,...,1]"
      ],
      "execution_count": null,
      "outputs": [
        {
          "output_type": "execute_result",
          "data": {
            "text/plain": [
              "<tf.Tensor: shape=(1, 2), dtype=float32, numpy=array([[2., 5.]], dtype=float32)>"
            ]
          },
          "metadata": {
            "tags": []
          },
          "execution_count": 22
        }
      ]
    },
    {
      "cell_type": "code",
      "metadata": {
        "id": "glWL8MITlo7H",
        "colab": {
          "base_uri": "https://localhost:8080/"
        },
        "outputId": "d95432f7-255d-43a0-807a-b4e47d2a2c97"
      },
      "source": [
        "t[..., 1, tf.newaxis]"
      ],
      "execution_count": null,
      "outputs": [
        {
          "output_type": "execute_result",
          "data": {
            "text/plain": [
              "<tf.Tensor: shape=(2, 1), dtype=float32, numpy=\n",
              "array([[2.],\n",
              "       [5.]], dtype=float32)>"
            ]
          },
          "metadata": {
            "tags": []
          },
          "execution_count": 23
        }
      ]
    },
    {
      "cell_type": "code",
      "metadata": {
        "id": "Y8oXZmTn9kwD",
        "colab": {
          "base_uri": "https://localhost:8080/"
        },
        "outputId": "7ef529e8-bd29-4665-890b-c6014c1f5e40"
      },
      "source": [
        "t[..., 1, tf.newaxis, tf.newaxis]"
      ],
      "execution_count": null,
      "outputs": [
        {
          "output_type": "execute_result",
          "data": {
            "text/plain": [
              "<tf.Tensor: shape=(2, 1, 1), dtype=float32, numpy=\n",
              "array([[[2.]],\n",
              "\n",
              "       [[5.]]], dtype=float32)>"
            ]
          },
          "metadata": {
            "tags": []
          },
          "execution_count": 24
        }
      ]
    },
    {
      "cell_type": "code",
      "metadata": {
        "id": "RtzQuhwnmRdu",
        "colab": {
          "base_uri": "https://localhost:8080/"
        },
        "outputId": "c6d812ea-f583-4dc6-bf96-8e06f7be9909"
      },
      "source": [
        "t[1, ..., tf.newaxis]"
      ],
      "execution_count": null,
      "outputs": [
        {
          "output_type": "execute_result",
          "data": {
            "text/plain": [
              "<tf.Tensor: shape=(3, 1), dtype=float32, numpy=\n",
              "array([[4.],\n",
              "       [5.],\n",
              "       [6.]], dtype=float32)>"
            ]
          },
          "metadata": {
            "tags": []
          },
          "execution_count": 25
        }
      ]
    },
    {
      "cell_type": "code",
      "metadata": {
        "id": "LGS0QSS763eQ",
        "colab": {
          "base_uri": "https://localhost:8080/"
        },
        "outputId": "c1e9cdc2-e056-4251-bf02-de1099b93ffe"
      },
      "source": [
        "t[1, tf.newaxis]"
      ],
      "execution_count": null,
      "outputs": [
        {
          "output_type": "execute_result",
          "data": {
            "text/plain": [
              "<tf.Tensor: shape=(1, 3), dtype=float32, numpy=array([[4., 5., 6.]], dtype=float32)>"
            ]
          },
          "metadata": {
            "tags": []
          },
          "execution_count": 26
        }
      ]
    },
    {
      "cell_type": "code",
      "metadata": {
        "id": "Z5wQhZ0xmRi6",
        "colab": {
          "base_uri": "https://localhost:8080/"
        },
        "outputId": "f64a5145-aa03-44eb-81e1-5351db2a7344"
      },
      "source": [
        "t+10 # 텐서 플로우 에서도 broadcast 가 가능하다."
      ],
      "execution_count": null,
      "outputs": [
        {
          "output_type": "execute_result",
          "data": {
            "text/plain": [
              "<tf.Tensor: shape=(2, 3), dtype=float32, numpy=\n",
              "array([[11., 12., 13.],\n",
              "       [14., 15., 16.]], dtype=float32)>"
            ]
          },
          "metadata": {
            "tags": []
          },
          "execution_count": 27
        }
      ]
    },
    {
      "cell_type": "code",
      "metadata": {
        "id": "Fj9RmYc6mRVh",
        "colab": {
          "base_uri": "https://localhost:8080/"
        },
        "outputId": "af7ebef4-fa39-47a2-8503-9e4e286ed18e"
      },
      "source": [
        "tf.square(t)"
      ],
      "execution_count": null,
      "outputs": [
        {
          "output_type": "execute_result",
          "data": {
            "text/plain": [
              "<tf.Tensor: shape=(2, 3), dtype=float32, numpy=\n",
              "array([[ 1.,  4.,  9.],\n",
              "       [16., 25., 36.]], dtype=float32)>"
            ]
          },
          "metadata": {
            "tags": []
          },
          "execution_count": 28
        }
      ]
    },
    {
      "cell_type": "code",
      "metadata": {
        "id": "LsqQ_VGi_KEI",
        "colab": {
          "base_uri": "https://localhost:8080/"
        },
        "outputId": "d5e8a49e-b4ed-4a37-b4eb-5e6bc296a7d6"
      },
      "source": [
        "t @ tf.transpose(t)"
      ],
      "execution_count": null,
      "outputs": [
        {
          "output_type": "execute_result",
          "data": {
            "text/plain": [
              "<tf.Tensor: shape=(2, 2), dtype=float32, numpy=\n",
              "array([[14., 32.],\n",
              "       [32., 77.]], dtype=float32)>"
            ]
          },
          "metadata": {
            "tags": []
          },
          "execution_count": 29
        }
      ]
    },
    {
      "cell_type": "markdown",
      "metadata": {
        "id": "8y5wUIfpuhzL"
      },
      "source": [
        "### 타입 변환\n",
        "- 텐서의 기본 dtype\n",
        "  - float형 텐서: `float32`\n",
        "  - int형 텐서: `int32`\n",
        "\n",
        "- 연산시 텐서의 타입을 맞춰줘야 함\n",
        "  - `float32` ~ `float32`\n",
        "  - `int32` ~ `int32`\n",
        "  - `flot32` ~ `int32` (x)\n",
        "\n",
        "- 타입변환에는 `tf.cast()` 사용"
      ]
    },
    {
      "cell_type": "markdown",
      "metadata": {
        "id": "R6smQk2z_fmI"
      },
      "source": [
        "#### int 정수형 표현\n",
        "- int8 => 1비트당 2개의 숫자를 표현할 수 있으므로 8비트면 2^8 = 256개의 정수를 표현할 수 있습니다. 즉 -128에서 127까지 표현가능합니다.\n",
        "\n",
        "- int16 => 2^16개의 정수표현 가능. -32,768에서 32,767까지.\n",
        "\n",
        "- int32 => 2^32개의 정수표현 가능. -2,147,483,648에서 2,147,483,647까지. \n",
        "\n",
        "- int64 => 2^64개의 정수표현 가능. -9,223,372,036,854,775,808에서 9,223,372,036,854,775,807"
      ]
    },
    {
      "cell_type": "markdown",
      "metadata": {
        "id": "UwY6CSkFAnax"
      },
      "source": [
        "#### unit 0 이상의 정수\n",
        "\n",
        "- uint8 => 2^8개의 부호없는 정수표현 가능. 0에서 255까지. 그레이스케일 또는 3채널 컬러 이미지를 담을 때 많이 사용됩니다. \n",
        "\n",
        "- uint16 => 2^16개의 부호없는 정수표현 가능. 0에서 65,535까지. \n",
        "\n",
        "- uint32 => 2^32개의 부호없는 정수표현 가능. 0에서 4,294,967,295까지.\n",
        "\n",
        "- uint64 => 2^64개의 부호없는 정수표현 가능. 0에서 18,446,744,073,709,551,615까지."
      ]
    },
    {
      "cell_type": "markdown",
      "metadata": {
        "id": "JB0PiiWKAnQv"
      },
      "source": [
        "#### float 소수\n",
        "\n",
        "- float16 => 1비트는 부호에, 5비트는 정수부분을 나타내는데, 10비트는 소수부분을 나타내는데 사용됩니다. 이에 대한 자세한 내용은 https://en.wikipedia.org/wiki/Single-precision_floating-point_format를 참고해주세요.^^\n",
        "\n",
        "- float32 => 1비트 부호, 8비트 정수, 23비트 소수.\n",
        "\n",
        "- float64 => 1비트 부호, 11비트 정수, 52비트 소수. "
      ]
    },
    {
      "cell_type": "markdown",
      "metadata": {
        "id": "5mFDwxlMAmw4"
      },
      "source": [
        "#### 논리형 자료형\n",
        "bool => 참(True)과 거짓(False)을 표현하기 위한 자료형입니다. 즉 uint2 겠죠.\n",
        "\n",
        "[출처](https://bskyvision.com/736)https://bskyvision.com/736"
      ]
    },
    {
      "cell_type": "code",
      "metadata": {
        "id": "6bB6n5Hk_8tY",
        "colab": {
          "base_uri": "https://localhost:8080/"
        },
        "outputId": "06824f54-3084-48e6-e70d-5625480ef07b"
      },
      "source": [
        "a = tf.constant(2)\n",
        "print(a)\n",
        "\n",
        "b = tf.constant(2.)\n",
        "print(b)"
      ],
      "execution_count": null,
      "outputs": [
        {
          "output_type": "stream",
          "text": [
            "tf.Tensor(2, shape=(), dtype=int32)\n",
            "tf.Tensor(2.0, shape=(), dtype=float32)\n"
          ],
          "name": "stdout"
        }
      ]
    },
    {
      "cell_type": "code",
      "metadata": {
        "id": "RMwFpHCAvEFG"
      },
      "source": [
        "# 'tf.constatnt(2.) + tf.constant(4) # data type  다르면 계산에 에러"
      ],
      "execution_count": null,
      "outputs": []
    },
    {
      "cell_type": "code",
      "metadata": {
        "id": "rVb9KZSKui_c"
      },
      "source": [
        "# tf.constatnt(2.) + tf.constant(30., dtyp=tf.float64)  # default 는 float32 이기 때문에 같은 float라도 32비트와 64비트는 계산 할수 없다."
      ],
      "execution_count": null,
      "outputs": []
    },
    {
      "cell_type": "code",
      "metadata": {
        "id": "-Lz79b8Fumsy",
        "colab": {
          "base_uri": "https://localhost:8080/"
        },
        "outputId": "f1b22ae0-0e96-4221-8dc8-0f8929bcabf4"
      },
      "source": [
        "t = tf.constant(30., dtype=tf.float64)\n",
        "t2 = tf.constant(4.)\n",
        "\n",
        "print(t2 + tf.cast(t, tf.float32))# cast method로 dtype 을 변환해서 같은 dtype으로 변환"
      ],
      "execution_count": null,
      "outputs": [
        {
          "output_type": "stream",
          "text": [
            "tf.Tensor(34.0, shape=(), dtype=float32)\n"
          ],
          "name": "stdout"
        }
      ]
    },
    {
      "cell_type": "markdown",
      "metadata": {
        "id": "E3IX5JwVZePH"
      },
      "source": [
        "### AutoGraph (오토그래프)\n",
        "\n",
        "- Tensorflow가 작업을 좀 더 빠르게 동작하게 하기 위한 방법으로 Graph로 만들어 연산을 진행\n",
        "\n",
        "- `tf.Graph`\n",
        "\n",
        "- 유연성이 있음\n",
        "\n",
        "  - 모바일 애플리케이션, 임베디드 기기, 백엔드 서버와 같이 Python 인터프리터가 없는 환경에서 Tensorflow 사용 가능 "
      ]
    },
    {
      "cell_type": "code",
      "metadata": {
        "id": "78VD-XWRaea5"
      },
      "source": [
        "import timeit"
      ],
      "execution_count": null,
      "outputs": []
    },
    {
      "cell_type": "markdown",
      "metadata": {
        "id": "YxNt6nejc8Ei"
      },
      "source": [
        "### @tf.function\n",
        "- 자동으로 그래프를 생성(Auto Graph)\n",
        "\n",
        "- 그래프로 변환하여 사용 -> GPU 연산 가능\n",
        "\n",
        "- 파이썬으로 구성된 함수를 텐서플로우의 그래프 형태로 다루고 싶을 때 사용가능\n",
        "\n",
        "\n",
        "- 원본 함수가 필요하다면 `(tf.function).python_function()`"
      ]
    },
    {
      "cell_type": "code",
      "metadata": {
        "id": "gq5NFuLjcukw",
        "colab": {
          "base_uri": "https://localhost:8080/"
        },
        "outputId": "8dfed35e-2316-4569-c7bd-f7e545fb23e8"
      },
      "source": [
        "@tf.function\n",
        "def my_function(x):\n",
        "  return x**2 - 10*x +3\n",
        "\n",
        "print(my_function(2))\n",
        "print(my_function(tf.constant(2)))"
      ],
      "execution_count": null,
      "outputs": [
        {
          "output_type": "stream",
          "text": [
            "tf.Tensor(-13, shape=(), dtype=int32)\n",
            "tf.Tensor(-13, shape=(), dtype=int32)\n"
          ],
          "name": "stdout"
        }
      ]
    },
    {
      "cell_type": "code",
      "metadata": {
        "id": "hR3RAAIQd8J7",
        "colab": {
          "base_uri": "https://localhost:8080/"
        },
        "outputId": "18c79a16-d665-4024-d1a6-7be4f708119b"
      },
      "source": [
        "def my_function2(x):\n",
        "  return x**2 - 10*x +3\n",
        "\n",
        "\n",
        "print(my_function2(2))\n",
        "print(my_function2(tf.constant(2)))"
      ],
      "execution_count": null,
      "outputs": [
        {
          "output_type": "stream",
          "text": [
            "-13\n",
            "tf.Tensor(-13, shape=(), dtype=int32)\n"
          ],
          "name": "stdout"
        }
      ]
    },
    {
      "cell_type": "markdown",
      "metadata": {
        "id": "jAHV3EuQEYPM"
      },
      "source": [
        "두개의 차이점은 텐서로 변환 하지 않게 된다. @tf.function 의 차이\n",
        "\n",
        "- 이 것이 Eager mode!!\n"
      ]
    },
    {
      "cell_type": "code",
      "metadata": {
        "id": "bsy3eabmy8X8",
        "colab": {
          "base_uri": "https://localhost:8080/"
        },
        "outputId": "77f87862-6f73-4c2e-fb4d-b86f97c15b0d"
      },
      "source": [
        "tf_my_function = tf.function(my_function2) # 일반 파이썬 함수를 tf function 으로\n",
        "\n",
        "print(tf_my_function(2))"
      ],
      "execution_count": null,
      "outputs": [
        {
          "output_type": "stream",
          "text": [
            "tf.Tensor(-13, shape=(), dtype=int32)\n"
          ],
          "name": "stdout"
        }
      ]
    },
    {
      "cell_type": "code",
      "metadata": {
        "id": "TgwwgQvjzKqn",
        "colab": {
          "base_uri": "https://localhost:8080/"
        },
        "outputId": "48557d9a-519a-44d5-b7db-92ae9b5cc497"
      },
      "source": [
        "tf_my_function.python_function(2) # 일반적인 파이썬 함수로 재 변환"
      ],
      "execution_count": null,
      "outputs": [
        {
          "output_type": "execute_result",
          "data": {
            "text/plain": [
              "-13"
            ]
          },
          "metadata": {
            "tags": []
          },
          "execution_count": 38
        }
      ]
    },
    {
      "cell_type": "code",
      "metadata": {
        "id": "1pkBOpWhaehO",
        "colab": {
          "base_uri": "https://localhost:8080/"
        },
        "outputId": "03d6621e-3c91-42cf-e981-052e72416317"
      },
      "source": [
        "def function_to_get_faster(x, y, b):\n",
        "  x = tf.matmul(x, y) # 행렬곱\n",
        "  x = x + b\n",
        "  return x\n",
        "\n",
        "a_function_that_uses_a_graph = tf.function(function_to_get_faster)\n",
        "\n",
        "x1 = tf.constant([[1.0, 2.0]])\n",
        "y1 = tf.constant([[2.0], [3.0]])\n",
        "b1 = tf.constant(4.0)\n",
        "\n",
        "a_function_that_uses_a_graph(x1,y1,b1).numpy()"
      ],
      "execution_count": null,
      "outputs": [
        {
          "output_type": "execute_result",
          "data": {
            "text/plain": [
              "array([[12.]], dtype=float32)"
            ]
          },
          "metadata": {
            "tags": []
          },
          "execution_count": 39
        }
      ]
    },
    {
      "cell_type": "code",
      "metadata": {
        "id": "rcLAgLKfaepn",
        "colab": {
          "base_uri": "https://localhost:8080/"
        },
        "outputId": "b4d16239-3189-481c-bbd2-3d25489eb276"
      },
      "source": [
        "def inner_function(x, y, b):\n",
        "  x = tf.matmul(x, y)\n",
        "  x = x + b\n",
        "  return x\n",
        "\n",
        "@tf.function\n",
        "def outer_function(x):\n",
        "  y = tf.constant([[2.0], [3.0]])\n",
        "  b = tf.constant(4.0)\n",
        "  return inner_function(x, y, b)\n",
        "\n",
        "outer_function(tf.constant([[1.0, 2.0]])).numpy()"
      ],
      "execution_count": null,
      "outputs": [
        {
          "output_type": "execute_result",
          "data": {
            "text/plain": [
              "array([[12.]], dtype=float32)"
            ]
          },
          "metadata": {
            "tags": []
          },
          "execution_count": 40
        }
      ]
    },
    {
      "cell_type": "markdown",
      "metadata": {
        "id": "KHXgmfl9HdcV"
      },
      "source": [
        "내외부 함수를 혼합해서 사용도 가능하다.\n"
      ]
    },
    {
      "cell_type": "markdown",
      "metadata": {
        "id": "mXLYEP4fbSYe"
      },
      "source": [
        "텐서플로우가 `tf.function`으로 변환한 코드"
      ]
    },
    {
      "cell_type": "code",
      "metadata": {
        "id": "i6cqueZuWN1g",
        "colab": {
          "base_uri": "https://localhost:8080/"
        },
        "outputId": "2dec1a88-f09d-4445-f1c9-f5a0baf29b08"
      },
      "source": [
        "print(tf.autograph.to_code(my_function.python_function))\n",
        "print(tf.autograph.to_code(tf_my_function.python_function))\n",
        "print(tf.autograph.to_code(outer_function.python_function))"
      ],
      "execution_count": null,
      "outputs": [
        {
          "output_type": "stream",
          "text": [
            "def tf__my_function(x):\n",
            "    with ag__.FunctionScope('my_function', 'fscope', ag__.ConversionOptions(recursive=True, user_requested=True, optional_features=(), internal_convert_user_code=True)) as fscope:\n",
            "        do_return = False\n",
            "        retval_ = ag__.UndefinedReturnValue()\n",
            "        try:\n",
            "            do_return = True\n",
            "            retval_ = (((ag__.ld(x) ** 2) - (10 * ag__.ld(x))) + 3)\n",
            "        except:\n",
            "            do_return = False\n",
            "            raise\n",
            "        return fscope.ret(retval_, do_return)\n",
            "\n",
            "def tf__my_function2(x):\n",
            "    with ag__.FunctionScope('my_function2', 'fscope', ag__.ConversionOptions(recursive=True, user_requested=True, optional_features=(), internal_convert_user_code=True)) as fscope:\n",
            "        do_return = False\n",
            "        retval_ = ag__.UndefinedReturnValue()\n",
            "        try:\n",
            "            do_return = True\n",
            "            retval_ = (((ag__.ld(x) ** 2) - (10 * ag__.ld(x))) + 3)\n",
            "        except:\n",
            "            do_return = False\n",
            "            raise\n",
            "        return fscope.ret(retval_, do_return)\n",
            "\n",
            "def tf__outer_function(x):\n",
            "    with ag__.FunctionScope('outer_function', 'fscope', ag__.ConversionOptions(recursive=True, user_requested=True, optional_features=(), internal_convert_user_code=True)) as fscope:\n",
            "        do_return = False\n",
            "        retval_ = ag__.UndefinedReturnValue()\n",
            "        y = ag__.converted_call(ag__.ld(tf).constant, ([[2.0], [3.0]],), None, fscope)\n",
            "        b = ag__.converted_call(ag__.ld(tf).constant, (4.0,), None, fscope)\n",
            "        try:\n",
            "            do_return = True\n",
            "            retval_ = ag__.converted_call(ag__.ld(inner_function), (ag__.ld(x), ag__.ld(y), ag__.ld(b)), None, fscope)\n",
            "        except:\n",
            "            do_return = False\n",
            "            raise\n",
            "        return fscope.ret(retval_, do_return)\n",
            "\n"
          ],
          "name": "stdout"
        }
      ]
    },
    {
      "cell_type": "markdown",
      "metadata": {
        "id": "hf2KCJu1bdg_"
      },
      "source": [
        "\n",
        " 속도 향상\n"
      ]
    },
    {
      "cell_type": "code",
      "metadata": {
        "id": "6GC4f2HvbfNT",
        "colab": {
          "base_uri": "https://localhost:8080/"
        },
        "outputId": "e7dd66a4-ebc8-486e-aaa8-5cd01c90a72b"
      },
      "source": [
        "class SequentialModel(tf.keras.Model):\n",
        "  def __init__(self, **kwargs):\n",
        "    super(SequentialModel, self).__init__(**kwargs)\n",
        "    self.flatten = tf.keras.layers.Flatten(input_shape=(28,28))\n",
        "    self.dense_1 = tf.keras.layers.Dense(128, activation='relu')\n",
        "    self.dropout = tf.keras.layers.Dropout(0.2)\n",
        "    self.dense_2 = tf.keras.layers.Dense(10)\n",
        "\n",
        "  def call(self, x):\n",
        "    x = self.flatten(x)\n",
        "    x = self.dense_1(x)\n",
        "    x = self.dropout(x)\n",
        "    x = self.dense_2(x)\n",
        "    return x\n",
        "\n",
        "input_data = tf.random.uniform([60,28,28])\n",
        "\n",
        "eager_model = SequentialModel()\n",
        "graph_model = tf.function(eager_model)\n",
        "\n",
        "print(\"Eager time\", timeit.timeit(lambda: eager_model(input_data), number=10000))\n",
        "print(\"Graph time\", timeit.timeit(lambda: graph_model(input_data), number=10000))"
      ],
      "execution_count": null,
      "outputs": [
        {
          "output_type": "stream",
          "text": [
            "Eager time 9.18929514499996\n",
            "Graph time 4.49694816300007\n"
          ],
          "name": "stdout"
        }
      ]
    },
    {
      "cell_type": "markdown",
      "metadata": {
        "id": "EizHAodregRR"
      },
      "source": [
        "### 변수 생성\n",
        "\n",
        "- `tf.Variable`\n",
        "- 딥러닝 모델 학습 시, 그래프 연산이 필요할 때 사용"
      ]
    },
    {
      "cell_type": "code",
      "metadata": {
        "id": "PybmfPcAeH-S",
        "colab": {
          "base_uri": "https://localhost:8080/"
        },
        "outputId": "3f1662f0-f0b2-490d-d924-7303f065b9c0"
      },
      "source": [
        "X = tf.Variable(20.0)\n",
        "X"
      ],
      "execution_count": null,
      "outputs": [
        {
          "output_type": "execute_result",
          "data": {
            "text/plain": [
              "<tf.Variable 'Variable:0' shape=() dtype=float32, numpy=20.0>"
            ]
          },
          "metadata": {
            "tags": []
          },
          "execution_count": 44
        }
      ]
    },
    {
      "cell_type": "markdown",
      "metadata": {
        "id": "qY_oUvVneiHH"
      },
      "source": [
        "### Autograd (자동 미분)\n",
        "\n",
        "- `tf.GradientTape` API를 사용\n",
        "- `tf.Variable` 같은 일부 입력에 대한 기울기 계산\n",
        "  - 기본적으로 한번만 사용됨 ( 1회성 )\n",
        "- 변수가 포함된 연산만 기록"
      ]
    },
    {
      "cell_type": "code",
      "metadata": {
        "id": "4_lrTYZfeiHO"
      },
      "source": [
        "x = tf.Variable(3.0)\n",
        "\n",
        "with tf.GradientTape() as tape:\n",
        "  y = x**2"
      ],
      "execution_count": null,
      "outputs": []
    },
    {
      "cell_type": "code",
      "metadata": {
        "id": "1Tq7MMJTeiHQ",
        "colab": {
          "base_uri": "https://localhost:8080/"
        },
        "outputId": "32b94652-c980-41b2-db7a-1ab401ad682b"
      },
      "source": [
        "dy_dx = tape.gradient(y, x)\n",
        "dy_dx.numpy()"
      ],
      "execution_count": null,
      "outputs": [
        {
          "output_type": "execute_result",
          "data": {
            "text/plain": [
              "6.0"
            ]
          },
          "metadata": {
            "tags": []
          },
          "execution_count": 46
        }
      ]
    },
    {
      "cell_type": "code",
      "metadata": {
        "id": "y0wty7V3eiHT"
      },
      "source": [
        "# x2 = tf.Variable(4)\n",
        "# dy_dx = tape.gradient(y,x2)\n",
        "# dy_dx.numpy() # 오류가 나는 이유는 1회성이기 때문에 위에서 이미 계산이 되었기 때문이다."
      ],
      "execution_count": null,
      "outputs": []
    },
    {
      "cell_type": "code",
      "metadata": {
        "id": "itJftqGlfWmy",
        "colab": {
          "base_uri": "https://localhost:8080/"
        },
        "outputId": "5fa7d8c3-c92e-4c12-a32f-db6de7ef6db1"
      },
      "source": [
        "x = tf.Variable(2.0)\n",
        "y = tf.Variable(3.0)\n",
        "\n",
        "with tf.GradientTape() as tape:\n",
        "  y_sq = y**2\n",
        "  z = x**2 + tf.stop_gradient(y_sq)\n",
        "\n",
        "grad = tape.gradient(z, {'x':x, 'y':y})\n",
        "\n",
        "print('dz/dx:', grad['x'])\n",
        "\n",
        "print('dz/dy:', grad['y'])"
      ],
      "execution_count": null,
      "outputs": [
        {
          "output_type": "stream",
          "text": [
            "dz/dx: tf.Tensor(4.0, shape=(), dtype=float32)\n",
            "dz/dy: None\n"
          ],
          "name": "stdout"
        }
      ]
    },
    {
      "cell_type": "code",
      "metadata": {
        "id": "Np-JoGSneiHW"
      },
      "source": [
        "weights = tf.Variable(tf.random.normal((3,2)), name='weights')\n",
        "biases = tf.Variable(tf.zeros(2, dtype=tf.float32), name='biases')\n",
        "x=[[1., 2., 3.,]]\n",
        "\n",
        "with tf.GradientTape(persistent=True) as tape:\n",
        "  y = x @ weights + biases\n",
        "  loss = tf.reduce_mean(y**2)\n"
      ],
      "execution_count": null,
      "outputs": []
    },
    {
      "cell_type": "code",
      "metadata": {
        "id": "OMhB1rONeiHY"
      },
      "source": [
        "[dl_dw, dl_db] = tape.gradient(loss, [weights, biases])"
      ],
      "execution_count": null,
      "outputs": []
    },
    {
      "cell_type": "code",
      "metadata": {
        "id": "7mS4UrqgeiHa",
        "colab": {
          "base_uri": "https://localhost:8080/"
        },
        "outputId": "f9f5e18a-c870-4a96-d120-ce22e5d081b6"
      },
      "source": [
        "print(weights.shape)\n",
        "print(dl_dw.shape)"
      ],
      "execution_count": null,
      "outputs": [
        {
          "output_type": "stream",
          "text": [
            "(3, 2)\n",
            "(3, 2)\n"
          ],
          "name": "stdout"
        }
      ]
    },
    {
      "cell_type": "code",
      "metadata": {
        "id": "UIFUed4yeiHc",
        "colab": {
          "base_uri": "https://localhost:8080/"
        },
        "outputId": "1cfcfb2d-e158-403a-8352-f4aacf5a1c64"
      },
      "source": [
        "weights2 = tf.Variable(tf.random.normal((3,2)), name='weights')\n",
        "biases2 = tf.Variable(tf.zeros(2, dtype=tf.float32), name='biases')\n",
        "\n",
        "[dl_dw2, dl_db2] = tape.gradient(loss, [weights2, biases2])\n",
        "\n",
        "print(weights2.shape)\n",
        "print(dl_dw.shape)"
      ],
      "execution_count": null,
      "outputs": [
        {
          "output_type": "stream",
          "text": [
            "(3, 2)\n",
            "(3, 2)\n"
          ],
          "name": "stdout"
        }
      ]
    },
    {
      "cell_type": "code",
      "metadata": {
        "id": "b1X3900EeiHd"
      },
      "source": [
        "del tape # persistent=True 이기 때문에 필요 없으면 지워준다."
      ],
      "execution_count": null,
      "outputs": []
    },
    {
      "cell_type": "markdown",
      "metadata": {
        "id": "FcG5ddWTgjMq"
      },
      "source": [
        "## 간단한 신경망 구조 "
      ]
    },
    {
      "cell_type": "markdown",
      "metadata": {
        "id": "fXE8tlU7gkrV"
      },
      "source": [
        "### 뉴런\n",
        "- 입력 → 연산 → 활성화함수 → 출력"
      ]
    },
    {
      "cell_type": "code",
      "metadata": {
        "id": "B-DUt6cZe7iD"
      },
      "source": [
        "def sigmoid(x):\n",
        "  return (1 / (1 + np.exp(-x)))\n",
        "\n",
        "def Neuron(x, W, bias=0):\n",
        "  z = x * W + bias\n",
        "  return sigmoid(z)"
      ],
      "execution_count": null,
      "outputs": []
    },
    {
      "cell_type": "code",
      "metadata": {
        "id": "r8baxM6mg_XQ",
        "colab": {
          "base_uri": "https://localhost:8080/"
        },
        "outputId": "be39e2a4-668f-47de-8374-d7b994bcc75d"
      },
      "source": [
        "x = tf.random.normal((1,2),0,1)\n",
        "W = tf.random.normal((1,2),0,1)\n",
        "\n",
        "print('x.shape :' , x.shape)\n",
        "print('W.shape :', W.shape)\n",
        "\n",
        "print(x)\n",
        "print(W)\n",
        "\n",
        "print(Neuron(x, W))"
      ],
      "execution_count": null,
      "outputs": [
        {
          "output_type": "stream",
          "text": [
            "x.shape : (1, 2)\n",
            "W.shape : (1, 2)\n",
            "tf.Tensor([[0.5742179 1.0535926]], shape=(1, 2), dtype=float32)\n",
            "tf.Tensor([[-0.04132206 -0.47060958]], shape=(1, 2), dtype=float32)\n",
            "[[0.49406832 0.37852097]]\n"
          ],
          "name": "stdout"
        }
      ]
    },
    {
      "cell_type": "code",
      "metadata": {
        "id": "I7D57W93htFt",
        "colab": {
          "base_uri": "https://localhost:8080/"
        },
        "outputId": "b08916ab-a92a-4b00-ecba-7a98d4c25c7c"
      },
      "source": [
        "x = tf.random.normal((2,1),0,1)\n",
        "W = tf.random.normal((2,1),0,1)\n",
        "\n",
        "print('x.shape :' , x.shape)\n",
        "print('W.shape :', W.shape)\n",
        "\n",
        "print(x)\n",
        "print(W)\n",
        "\n",
        "print(Neuron(x, W))"
      ],
      "execution_count": null,
      "outputs": [
        {
          "output_type": "stream",
          "text": [
            "x.shape : (2, 1)\n",
            "W.shape : (2, 1)\n",
            "tf.Tensor(\n",
            "[[-0.25799266]\n",
            " [-0.5250749 ]], shape=(2, 1), dtype=float32)\n",
            "tf.Tensor(\n",
            "[[ 1.3061728 ]\n",
            " [-0.03678753]], shape=(2, 1), dtype=float32)\n",
            "[[0.4165425]\n",
            " [0.5048289]]\n"
          ],
          "name": "stdout"
        }
      ]
    },
    {
      "cell_type": "code",
      "metadata": {
        "id": "IKeoXsJBhzPk",
        "colab": {
          "base_uri": "https://localhost:8080/"
        },
        "outputId": "159306da-5e66-47ef-d44d-b8242aaf0a7a"
      },
      "source": [
        "x = tf.random.normal((1,),0,1)\n",
        "W = tf.random.normal((2,1),0,1)\n",
        "\n",
        "print('x.shape :' , x.shape)\n",
        "print('W.shape :', W.shape)\n",
        "\n",
        "print(x)\n",
        "print(W)\n",
        "\n",
        "print(Neuron(x, W))"
      ],
      "execution_count": null,
      "outputs": [
        {
          "output_type": "stream",
          "text": [
            "x.shape : (1,)\n",
            "W.shape : (2, 1)\n",
            "tf.Tensor([0.403547], shape=(1,), dtype=float32)\n",
            "tf.Tensor(\n",
            "[[1.8132147]\n",
            " [0.5710572]], shape=(2, 1), dtype=float32)\n",
            "[[0.67518204]\n",
            " [0.5573585 ]]\n"
          ],
          "name": "stdout"
        }
      ]
    },
    {
      "cell_type": "markdown",
      "metadata": {
        "id": "ATmvx1utmmMl"
      },
      "source": [
        "### 퍼셉트론 학습 알고리즘 (가중치 업데이트)\n",
        "\n",
        "## $\\qquad w^{(next step)} = w + \\eta \\ (y - \\tilde{y}) \\ x$\n",
        "\n",
        "- $x $:입력값\n",
        "\n",
        "- $w \\ $: 가중치\n",
        "\n",
        "- $\\eta \\ $ : 학습률 ( leraning rate )\n",
        "\n",
        "- $y \\ $ : 정답 레이블\n",
        "\n",
        "- $\\tilde{y} \\ $: 예측 레이블\n"
      ]
    },
    {
      "cell_type": "code",
      "metadata": {
        "id": "7f-3qRCHXO9m",
        "colab": {
          "base_uri": "https://localhost:8080/"
        },
        "outputId": "cc5d5710-8004-4dbb-81de-3e1575e0c7bf"
      },
      "source": [
        "x = 1\n",
        "y = 0\n",
        "W = tf.random.normal([1], 0, 1)\n",
        "print(Neuron(x, W))\n",
        "print('y: ', y) "
      ],
      "execution_count": null,
      "outputs": [
        {
          "output_type": "stream",
          "text": [
            "[0.6182948]\n",
            "y:  0\n"
          ],
          "name": "stdout"
        }
      ]
    },
    {
      "cell_type": "code",
      "metadata": {
        "id": "S8JG-rbdml_v",
        "colab": {
          "base_uri": "https://localhost:8080/"
        },
        "outputId": "66e6013f-a931-42dd-fbc1-0aac6995a106"
      },
      "source": [
        "for i in range(1000):\n",
        "  output = Neuron(x,W)\n",
        "  error = y - output\n",
        "  W = W + x * 0.1 * error\n",
        "\n",
        "  if i % 100 == 99:\n",
        "    print(\"{}\\t{}\\t{}\".format(i+1, error, output))"
      ],
      "execution_count": null,
      "outputs": [
        {
          "output_type": "stream",
          "text": [
            "100\t[-0.11065189]\t[0.11065189]\n",
            "200\t[-0.05462752]\t[0.05462752]\n",
            "300\t[-0.03585991]\t[0.03585991]\n",
            "400\t[-0.02660071]\t[0.02660071]\n",
            "500\t[-0.02111139]\t[0.02111139]\n",
            "600\t[-0.01748705]\t[0.01748705]\n",
            "700\t[-0.01491834]\t[0.01491834]\n",
            "800\t[-0.01300406]\t[0.01300406]\n",
            "900\t[-0.01152303]\t[0.01152303]\n",
            "1000\t[-0.0103435]\t[0.0103435]\n"
          ],
          "name": "stdout"
        }
      ]
    },
    {
      "cell_type": "code",
      "metadata": {
        "id": "vrJKCpf0VyOR"
      },
      "source": [
        "def Neuron2 (x, W, bias = 0):\n",
        "  z = tf.matmul(x, W, transpose_b=True)     \n",
        "  return sigmoid(z)        "
      ],
      "execution_count": null,
      "outputs": []
    },
    {
      "cell_type": "code",
      "metadata": {
        "id": "dkLHtKQ8htRg",
        "colab": {
          "base_uri": "https://localhost:8080/"
        },
        "outputId": "8fc5ee44-6a90-41ae-a0c9-1fe2b3e7813c"
      },
      "source": [
        "x = tf.random.normal((1,3), 0, 1)\n",
        "y = tf.ones(1)\n",
        "W = tf.random.normal((1,3), 0 ,1)\n",
        "\n",
        "print(Neuron2(x, W))\n",
        "print(\"y:\", y)"
      ],
      "execution_count": null,
      "outputs": [
        {
          "output_type": "stream",
          "text": [
            "[[0.1119508]]\n",
            "y: tf.Tensor([1.], shape=(1,), dtype=float32)\n"
          ],
          "name": "stdout"
        }
      ]
    },
    {
      "cell_type": "code",
      "metadata": {
        "id": "udZu2_rQo1SH",
        "colab": {
          "base_uri": "https://localhost:8080/"
        },
        "outputId": "a770d6ee-6346-401f-a94a-93edd9ae1972"
      },
      "source": [
        "for i in range(1000):\n",
        "  output = Neuron2(x, W)\n",
        "  error = y - output\n",
        "  W = W + x * 0.1 * error\n",
        "\n",
        "  if i % 100 == 99:\n",
        "   print(\"{}\\t{}\\t{}\".format(i+1, error, output))"
      ],
      "execution_count": null,
      "outputs": [
        {
          "output_type": "stream",
          "text": [
            "100\t[[0.07843757]]\t[[0.92156243]]\n",
            "200\t[[0.03558797]]\t[[0.96441203]]\n",
            "300\t[[0.02283078]]\t[[0.9771692]]\n",
            "400\t[[0.01676929]]\t[[0.9832307]]\n",
            "500\t[[0.01323903]]\t[[0.986761]]\n",
            "600\t[[0.01093155]]\t[[0.98906845]]\n",
            "700\t[[0.00930661]]\t[[0.9906934]]\n",
            "800\t[[0.00810087]]\t[[0.99189913]]\n",
            "900\t[[0.00717086]]\t[[0.99282914]]\n",
            "1000\t[[0.00643188]]\t[[0.9935681]]\n"
          ],
          "name": "stdout"
        }
      ]
    },
    {
      "cell_type": "code",
      "metadata": {
        "id": "X7rw7DAxbCcu",
        "colab": {
          "base_uri": "https://localhost:8080/"
        },
        "outputId": "3e0213a8-f70a-4c28-8228-eda85624aee9"
      },
      "source": [
        "x = tf.random.normal((1,3), 0, 1)\n",
        "weights = tf.random.normal((1,3), 0, 1)\n",
        "bias = tf.zeros((1,1))\n",
        "\n",
        "y = tf.ones((1,))\n",
        "\n",
        "print(\"x\\t: {}\\nweights\\t:{}\\nbias\\t: {}\".format(x, weights, bias))"
      ],
      "execution_count": null,
      "outputs": [
        {
          "output_type": "stream",
          "text": [
            "x\t: [[-0.29843202 -0.41133973  0.91742796]]\n",
            "weights\t:[[ 0.37326902  0.36531574 -0.48002353]]\n",
            "bias\t: [[0.]]\n"
          ],
          "name": "stdout"
        }
      ]
    },
    {
      "cell_type": "code",
      "metadata": {
        "id": "Of-hjiq1pKF2",
        "colab": {
          "base_uri": "https://localhost:8080/"
        },
        "outputId": "aa7a607b-f702-43fc-f186-27d17b18e8f4"
      },
      "source": [
        "for i in range(1000):\n",
        "  output = Neuron2(x, weights, bias = bias)\n",
        "  error = y - output\n",
        "  weights = weights + x * 0.1 * error\n",
        "  bias = bias + 1 * 0.1 * error\n",
        "\n",
        "  if i % 100 == 99:\n",
        "    print(\"{}\\t{}\\t{}\".format(i+1, error, output))"
      ],
      "execution_count": null,
      "outputs": [
        {
          "output_type": "stream",
          "text": [
            "100\t[[0.10383683]]\t[[0.89616317]]\n",
            "200\t[[0.05028492]]\t[[0.9497151]]\n",
            "300\t[[0.03282475]]\t[[0.96717525]]\n",
            "400\t[[0.02428913]]\t[[0.97571087]]\n",
            "500\t[[0.01925099]]\t[[0.980749]]\n",
            "600\t[[0.01593304]]\t[[0.98406696]]\n",
            "700\t[[0.01358527]]\t[[0.98641473]]\n",
            "800\t[[0.01183766]]\t[[0.98816234]]\n",
            "900\t[[0.01048654]]\t[[0.98951346]]\n",
            "1000\t[[0.00941122]]\t[[0.9905888]]\n"
          ],
          "name": "stdout"
        }
      ]
    },
    {
      "cell_type": "code",
      "metadata": {
        "id": "KHVs1hALZ_bA",
        "colab": {
          "base_uri": "https://localhost:8080/"
        },
        "outputId": "a43d9ebe-8524-48d9-ca17-039f8cdf7ed9"
      },
      "source": [
        "print(\"x\\t: {}\\nweights\\t:{}\\nbias\\t: {}\".format(x, weights, bias))"
      ],
      "execution_count": null,
      "outputs": [
        {
          "output_type": "stream",
          "text": [
            "x\t: [[-0.29843202 -0.41133973  0.91742796]]\n",
            "weights\t:[[-1.0808512 -1.6389538  3.9901795]]\n",
            "bias\t: [[4.8725405]]\n"
          ],
          "name": "stdout"
        }
      ]
    },
    {
      "cell_type": "markdown",
      "metadata": {
        "id": "LQ-syOVwfjB9"
      },
      "source": [
        "### AND Gate"
      ]
    },
    {
      "cell_type": "code",
      "metadata": {
        "id": "HyRma3NorTRs",
        "colab": {
          "base_uri": "https://localhost:8080/"
        },
        "outputId": "c6a7e041-6230-4726-ce09-fa88af90d8cd"
      },
      "source": [
        "X = np.array([[1,1], [1,0], [0,1], [0, 0]])\n",
        "Y = np.array([[1], [0], [0], [0]])\n",
        "\n",
        "W = tf.random.normal([2], 0, 1)\n",
        "b = tf.random.normal([1], 0, 1)\n",
        "\n",
        "b_x = 1\n",
        "\n",
        "for i in range(2000):\n",
        "  error_sum = 0 \n",
        "\n",
        "  for j in range(4):\n",
        "    output = sigmoid(np.sum(X[j] * W) + b_x + b)\n",
        "    error = Y[j][0] - output\n",
        "    W = W + X[j] * 0.1 * error\n",
        "    b = b + b_x * 0.1 * error\n",
        "    error_sum += error\n",
        "\n",
        "  if i % 200 == 0:\n",
        "    print(\"Epoch {:4d}\\tError Sum {}\".format(i, error_sum))\n",
        "\n",
        "print(\"\\n가중치\\t: {}\".format(W))\n",
        "print(\"편향\\t: {}\".format(b))\n"
      ],
      "execution_count": null,
      "outputs": [
        {
          "output_type": "stream",
          "text": [
            "Epoch    0\tError Sum [-1.0820818]\n",
            "Epoch  200\tError Sum [-0.11568289]\n",
            "Epoch  400\tError Sum [-0.06755961]\n",
            "Epoch  600\tError Sum [-0.04761833]\n",
            "Epoch  800\tError Sum [-0.03665644]\n",
            "Epoch 1000\tError Sum [-0.02973955]\n",
            "Epoch 1200\tError Sum [-0.02499046]\n",
            "Epoch 1400\tError Sum [-0.02153127]\n",
            "Epoch 1600\tError Sum [-0.0189048]\n",
            "Epoch 1800\tError Sum [-0.01684062]\n",
            "\n",
            "가중치\t: [6.958681 6.961845]\n",
            "편향\t: [-11.617176]\n"
          ],
          "name": "stdout"
        }
      ]
    },
    {
      "cell_type": "code",
      "metadata": {
        "id": "OylWtem2stH0",
        "colab": {
          "base_uri": "https://localhost:8080/"
        },
        "outputId": "a8f8e9be-22ec-4d37-91a1-2816de2f6e57"
      },
      "source": [
        "for i in range(4):\n",
        "  print(\"X: {} Y: {} Output: {}\".format(X[i], Y[i], sigmoid(np.sum(X[i]*W) +b)))"
      ],
      "execution_count": null,
      "outputs": [
        {
          "output_type": "stream",
          "text": [
            "X: [1 1] Y: [1] Output: [0.9091541]\n",
            "X: [1 0] Y: [0] Output: [0.00939168]\n",
            "X: [0 1] Y: [0] Output: [0.00942116]\n",
            "X: [0 0] Y: [0] Output: [9.009914e-06]\n"
          ],
          "name": "stdout"
        }
      ]
    },
    {
      "cell_type": "markdown",
      "metadata": {
        "id": "pADtZrsagJ64"
      },
      "source": [
        "### OR Gate"
      ]
    },
    {
      "cell_type": "code",
      "metadata": {
        "id": "X1drqmeNuxIU",
        "colab": {
          "base_uri": "https://localhost:8080/"
        },
        "outputId": "6bbb0fa8-6f26-4566-b898-cc754a6b99bf"
      },
      "source": [
        "X2 = np.array([[1,1], [1,0], [0,1], [0, 0]])\n",
        "Y2 = np.array([[1], [1], [1], [0]])\n",
        "\n",
        "W2 = tf.random.normal([2], 0, 1)\n",
        "b2 = tf.random.normal([1], 0, 1)\n",
        "\n",
        "b_x = 1\n",
        "\n",
        "for i in range(2000):\n",
        "  error_sum2 = 0 \n",
        "\n",
        "  for j in range(4):\n",
        "    output = sigmoid(np.sum(X2[j] * W2) + b_x + b2)\n",
        "    error2 = Y2[j][0] - output\n",
        "    W2 = W2 + X2[j] * 0.1 * error2\n",
        "    b2 = b2 + b_x * 0.1 * error2\n",
        "    error_sum2 += error2\n",
        "\n",
        "  if i % 200 == 0:\n",
        "    print(\"Epoch {:4d}\\tError Sum {}\".format(i, error_sum2))\n",
        "\n",
        "print(\"\\n가중치\\t: {}\".format(W2))\n",
        "print(\"편향\\t: {}\".format(b2))"
      ],
      "execution_count": null,
      "outputs": [
        {
          "output_type": "stream",
          "text": [
            "Epoch    0\tError Sum [-0.33238637]\n",
            "Epoch  200\tError Sum [-0.04820783]\n",
            "Epoch  400\tError Sum [-0.02551039]\n",
            "Epoch  600\tError Sum [-0.01722982]\n",
            "Epoch  800\tError Sum [-0.01296239]\n",
            "Epoch 1000\tError Sum [-0.01037021]\n",
            "Epoch 1200\tError Sum [-0.00863373]\n",
            "Epoch 1400\tError Sum [-0.00739038]\n",
            "Epoch 1600\tError Sum [-0.00645664]\n",
            "Epoch 1800\tError Sum [-0.00573179]\n",
            "\n",
            "가중치\t: [8.213985 8.21289 ]\n",
            "편향\t: [-4.641185]\n"
          ],
          "name": "stdout"
        }
      ]
    },
    {
      "cell_type": "code",
      "metadata": {
        "id": "FGG4_ZXGgLNd",
        "colab": {
          "base_uri": "https://localhost:8080/"
        },
        "outputId": "be4d1048-d3c7-4cc7-ac83-f999fb2432e0"
      },
      "source": [
        "for i in range(4):\n",
        "  print(\"X: {} Y: {} Output: {}\".format(X2[i], Y2[i], sigmoid(np.sum(X2[i]*W2) +b2)))"
      ],
      "execution_count": null,
      "outputs": [
        {
          "output_type": "stream",
          "text": [
            "X: [1 1] Y: [1] Output: [0.9999924]\n",
            "X: [1 0] Y: [1] Output: [0.9726897]\n",
            "X: [0 1] Y: [1] Output: [0.9726606]\n",
            "X: [0 0] Y: [0] Output: [0.0095541]\n"
          ],
          "name": "stdout"
        }
      ]
    },
    {
      "cell_type": "markdown",
      "metadata": {
        "id": "IQyeNLdagPw1"
      },
      "source": [
        "### XOR Gate"
      ]
    },
    {
      "cell_type": "code",
      "metadata": {
        "id": "W-BYPnNBgNd9",
        "colab": {
          "base_uri": "https://localhost:8080/"
        },
        "outputId": "e3dfd268-8577-432d-9063-318c53091a90"
      },
      "source": [
        "X3 = np.array([[1,1], [1,0], [0,1], [0, 0]])\n",
        "Y3 = np.array([[0], [1], [1], [0]])\n",
        "\n",
        "W3 = tf.random.normal([2], 0, 1)\n",
        "b3 = tf.random.normal([1], 0, 1)\n",
        "\n",
        "b_x = 1\n",
        "\n",
        "for i in range(2000):\n",
        "  error_sum3 = 0 \n",
        "\n",
        "  for j in range(4):\n",
        "    output = sigmoid(np.sum(X3[j] * W3) + b_x + b3)\n",
        "    error3 = Y3[j][0] - output\n",
        "    W3 = W3 + X3[j] * 0.1 * error3\n",
        "    b3 = b3 + b_x * 0.1 * error3\n",
        "    error_sum3 += error3\n",
        "\n",
        "  if i % 200 == 0:\n",
        "    print(\"Epoch {:4d}\\tError Sum {}\".format(i, error_sum2))\n",
        "\n",
        "print(\"\\n가중치\\t: {}\".format(W3))\n",
        "print(\"편향\\t: {}\".format(b3))"
      ],
      "execution_count": null,
      "outputs": [
        {
          "output_type": "stream",
          "text": [
            "Epoch    0\tError Sum [-0.00515446]\n",
            "Epoch  200\tError Sum [-0.00515446]\n",
            "Epoch  400\tError Sum [-0.00515446]\n",
            "Epoch  600\tError Sum [-0.00515446]\n",
            "Epoch  800\tError Sum [-0.00515446]\n",
            "Epoch 1000\tError Sum [-0.00515446]\n",
            "Epoch 1200\tError Sum [-0.00515446]\n",
            "Epoch 1400\tError Sum [-0.00515446]\n",
            "Epoch 1600\tError Sum [-0.00515446]\n",
            "Epoch 1800\tError Sum [-0.00515446]\n",
            "\n",
            "가중치\t: [ 5.1279668e-02 -2.0824373e-06]\n",
            "편향\t: [-0.9999969]\n"
          ],
          "name": "stdout"
        }
      ]
    },
    {
      "cell_type": "code",
      "metadata": {
        "id": "z1EWz3N5gRfH",
        "colab": {
          "base_uri": "https://localhost:8080/"
        },
        "outputId": "be9b2d96-f2bd-4b6e-cb74-08fcc3f126a8"
      },
      "source": [
        "for i in range(4):\n",
        "  print(\"X: {} Y: {} Output: {}\".format(X3[i], Y3[i], sigmoid(np.sum(X3[i]*W3) +b3)))"
      ],
      "execution_count": null,
      "outputs": [
        {
          "output_type": "stream",
          "text": [
            "X: [1 1] Y: [0] Output: [0.27914244]\n",
            "X: [1 0] Y: [1] Output: [0.2791429]\n",
            "X: [0 1] Y: [1] Output: [0.2689416]\n",
            "X: [0 0] Y: [0] Output: [0.26894203]\n"
          ],
          "name": "stdout"
        }
      ]
    },
    {
      "cell_type": "markdown",
      "metadata": {
        "id": "NFAtm0EHhkQJ"
      },
      "source": [
        "단일로는 XOR 게이트를 학습 할수 없다. "
      ]
    },
    {
      "cell_type": "code",
      "metadata": {
        "id": "duXh8GGkgUET",
        "colab": {
          "base_uri": "https://localhost:8080/"
        },
        "outputId": "d1f52c4f-508a-4c3d-a40a-cd5c6f490541"
      },
      "source": [
        "from tensorflow.keras import Sequential\n",
        "from tensorflow.keras.layers import Dense\n",
        "\n",
        "np.random.seed(111)\n",
        "\n",
        "X4 = np.array([[1,1],[1,0],[0,1],[0,0]])\n",
        "Y4 = np.array([[0], [1], [1], [0]])\n",
        "\n",
        "model = Sequential([Dense(units=2, activation='sigmoid', input_shape=(2,)), \n",
        "                    Dense(units=1, activation='sigmoid')])\n",
        "\n",
        "model.compile(optimizer=tf.keras.optimizers.SGD(lr=0.1), loss='mse')\n",
        "\n",
        "model.summary()"
      ],
      "execution_count": null,
      "outputs": [
        {
          "output_type": "stream",
          "text": [
            "Model: \"sequential\"\n",
            "_________________________________________________________________\n",
            "Layer (type)                 Output Shape              Param #   \n",
            "=================================================================\n",
            "dense_4 (Dense)              (None, 2)                 6         \n",
            "_________________________________________________________________\n",
            "dense_5 (Dense)              (None, 1)                 3         \n",
            "=================================================================\n",
            "Total params: 9\n",
            "Trainable params: 9\n",
            "Non-trainable params: 0\n",
            "_________________________________________________________________\n"
          ],
          "name": "stdout"
        }
      ]
    },
    {
      "cell_type": "code",
      "metadata": {
        "id": "HYf3E6w6gV3z",
        "colab": {
          "base_uri": "https://localhost:8080/"
        },
        "outputId": "3d363b26-0dcb-43e5-d262-33bf4ab41864"
      },
      "source": [
        "history = model.fit(X4, Y4, epochs=2000, batch_size=1, verbose=1)"
      ],
      "execution_count": null,
      "outputs": [
        {
          "output_type": "stream",
          "text": [
            "Epoch 1/2000\n",
            "4/4 [==============================] - 0s 3ms/step - loss: 0.2570\n",
            "Epoch 2/2000\n",
            "4/4 [==============================] - 0s 3ms/step - loss: 0.2634\n",
            "Epoch 3/2000\n",
            "4/4 [==============================] - 0s 4ms/step - loss: 0.2652\n",
            "Epoch 4/2000\n",
            "4/4 [==============================] - 0s 3ms/step - loss: 0.2470\n",
            "Epoch 5/2000\n",
            "4/4 [==============================] - 0s 3ms/step - loss: 0.2554\n",
            "Epoch 6/2000\n",
            "4/4 [==============================] - 0s 3ms/step - loss: 0.2429\n",
            "Epoch 7/2000\n",
            "4/4 [==============================] - 0s 3ms/step - loss: 0.2469\n",
            "Epoch 8/2000\n",
            "4/4 [==============================] - 0s 4ms/step - loss: 0.2513\n",
            "Epoch 9/2000\n",
            "4/4 [==============================] - 0s 3ms/step - loss: 0.2628\n",
            "Epoch 10/2000\n",
            "4/4 [==============================] - 0s 4ms/step - loss: 0.2594\n",
            "Epoch 11/2000\n",
            "4/4 [==============================] - 0s 4ms/step - loss: 0.2471\n",
            "Epoch 12/2000\n",
            "4/4 [==============================] - 0s 3ms/step - loss: 0.2516\n",
            "Epoch 13/2000\n",
            "4/4 [==============================] - 0s 3ms/step - loss: 0.2597\n",
            "Epoch 14/2000\n",
            "4/4 [==============================] - 0s 4ms/step - loss: 0.2510\n",
            "Epoch 15/2000\n",
            "4/4 [==============================] - 0s 3ms/step - loss: 0.2538\n",
            "Epoch 16/2000\n",
            "4/4 [==============================] - 0s 3ms/step - loss: 0.2528\n",
            "Epoch 17/2000\n",
            "4/4 [==============================] - 0s 4ms/step - loss: 0.2590\n",
            "Epoch 18/2000\n",
            "4/4 [==============================] - 0s 4ms/step - loss: 0.2528\n",
            "Epoch 19/2000\n",
            "4/4 [==============================] - 0s 6ms/step - loss: 0.2511\n",
            "Epoch 20/2000\n",
            "4/4 [==============================] - 0s 6ms/step - loss: 0.2518\n",
            "Epoch 21/2000\n",
            "4/4 [==============================] - 0s 4ms/step - loss: 0.2611\n",
            "Epoch 22/2000\n",
            "4/4 [==============================] - 0s 3ms/step - loss: 0.2606\n",
            "Epoch 23/2000\n",
            "4/4 [==============================] - 0s 5ms/step - loss: 0.2609\n",
            "Epoch 24/2000\n",
            "4/4 [==============================] - 0s 4ms/step - loss: 0.2470\n",
            "Epoch 25/2000\n",
            "4/4 [==============================] - 0s 3ms/step - loss: 0.2588\n",
            "Epoch 26/2000\n",
            "4/4 [==============================] - 0s 5ms/step - loss: 0.2525\n",
            "Epoch 27/2000\n",
            "4/4 [==============================] - 0s 4ms/step - loss: 0.2587\n",
            "Epoch 28/2000\n",
            "4/4 [==============================] - 0s 3ms/step - loss: 0.2587\n",
            "Epoch 29/2000\n",
            "4/4 [==============================] - 0s 3ms/step - loss: 0.2586\n",
            "Epoch 30/2000\n",
            "4/4 [==============================] - 0s 3ms/step - loss: 0.2601\n",
            "Epoch 31/2000\n",
            "4/4 [==============================] - 0s 3ms/step - loss: 0.2530\n",
            "Epoch 32/2000\n",
            "4/4 [==============================] - 0s 4ms/step - loss: 0.2584\n",
            "Epoch 33/2000\n",
            "4/4 [==============================] - 0s 3ms/step - loss: 0.2493\n",
            "Epoch 34/2000\n",
            "4/4 [==============================] - 0s 3ms/step - loss: 0.2523\n",
            "Epoch 35/2000\n",
            "4/4 [==============================] - 0s 4ms/step - loss: 0.2518\n",
            "Epoch 36/2000\n",
            "4/4 [==============================] - 0s 4ms/step - loss: 0.2529\n",
            "Epoch 37/2000\n",
            "4/4 [==============================] - 0s 4ms/step - loss: 0.2524\n",
            "Epoch 38/2000\n",
            "4/4 [==============================] - 0s 5ms/step - loss: 0.2525\n",
            "Epoch 39/2000\n",
            "4/4 [==============================] - 0s 3ms/step - loss: 0.2532\n",
            "Epoch 40/2000\n",
            "4/4 [==============================] - 0s 5ms/step - loss: 0.2534\n",
            "Epoch 41/2000\n",
            "4/4 [==============================] - 0s 3ms/step - loss: 0.2494\n",
            "Epoch 42/2000\n",
            "4/4 [==============================] - 0s 4ms/step - loss: 0.2492\n",
            "Epoch 43/2000\n",
            "4/4 [==============================] - 0s 4ms/step - loss: 0.2492\n",
            "Epoch 44/2000\n",
            "4/4 [==============================] - 0s 3ms/step - loss: 0.2576\n",
            "Epoch 45/2000\n",
            "4/4 [==============================] - 0s 3ms/step - loss: 0.2521\n",
            "Epoch 46/2000\n",
            "4/4 [==============================] - 0s 6ms/step - loss: 0.2577\n",
            "Epoch 47/2000\n",
            "4/4 [==============================] - 0s 4ms/step - loss: 0.2537\n",
            "Epoch 48/2000\n",
            "4/4 [==============================] - 0s 4ms/step - loss: 0.2506\n",
            "Epoch 49/2000\n",
            "4/4 [==============================] - 0s 3ms/step - loss: 0.2504\n",
            "Epoch 50/2000\n",
            "4/4 [==============================] - 0s 3ms/step - loss: 0.2586\n",
            "Epoch 51/2000\n",
            "4/4 [==============================] - 0s 3ms/step - loss: 0.2586\n",
            "Epoch 52/2000\n",
            "4/4 [==============================] - 0s 6ms/step - loss: 0.2551\n",
            "Epoch 53/2000\n",
            "4/4 [==============================] - 0s 5ms/step - loss: 0.2577\n",
            "Epoch 54/2000\n",
            "4/4 [==============================] - 0s 4ms/step - loss: 0.2536\n",
            "Epoch 55/2000\n",
            "4/4 [==============================] - 0s 4ms/step - loss: 0.2540\n",
            "Epoch 56/2000\n",
            "4/4 [==============================] - 0s 3ms/step - loss: 0.2493\n",
            "Epoch 57/2000\n",
            "4/4 [==============================] - 0s 3ms/step - loss: 0.2506\n",
            "Epoch 58/2000\n",
            "4/4 [==============================] - 0s 4ms/step - loss: 0.2561\n",
            "Epoch 59/2000\n",
            "4/4 [==============================] - 0s 3ms/step - loss: 0.2537\n",
            "Epoch 60/2000\n",
            "4/4 [==============================] - 0s 3ms/step - loss: 0.2571\n",
            "Epoch 61/2000\n",
            "4/4 [==============================] - 0s 4ms/step - loss: 0.2527\n",
            "Epoch 62/2000\n",
            "4/4 [==============================] - 0s 3ms/step - loss: 0.2537\n",
            "Epoch 63/2000\n",
            "4/4 [==============================] - 0s 3ms/step - loss: 0.2578\n",
            "Epoch 64/2000\n",
            "4/4 [==============================] - 0s 6ms/step - loss: 0.2570\n",
            "Epoch 65/2000\n",
            "4/4 [==============================] - 0s 4ms/step - loss: 0.2506\n",
            "Epoch 66/2000\n",
            "4/4 [==============================] - 0s 4ms/step - loss: 0.2572\n",
            "Epoch 67/2000\n",
            "4/4 [==============================] - 0s 3ms/step - loss: 0.2581\n",
            "Epoch 68/2000\n",
            "4/4 [==============================] - 0s 5ms/step - loss: 0.2541\n",
            "Epoch 69/2000\n",
            "4/4 [==============================] - 0s 4ms/step - loss: 0.2507\n",
            "Epoch 70/2000\n",
            "4/4 [==============================] - 0s 4ms/step - loss: 0.2495\n",
            "Epoch 71/2000\n",
            "4/4 [==============================] - 0s 5ms/step - loss: 0.2527\n",
            "Epoch 72/2000\n",
            "4/4 [==============================] - 0s 3ms/step - loss: 0.2536\n",
            "Epoch 73/2000\n",
            "4/4 [==============================] - 0s 3ms/step - loss: 0.2547\n",
            "Epoch 74/2000\n",
            "4/4 [==============================] - 0s 4ms/step - loss: 0.2570\n",
            "Epoch 75/2000\n",
            "4/4 [==============================] - 0s 3ms/step - loss: 0.2497\n",
            "Epoch 76/2000\n",
            "4/4 [==============================] - 0s 6ms/step - loss: 0.2500\n",
            "Epoch 77/2000\n",
            "4/4 [==============================] - 0s 3ms/step - loss: 0.2534\n",
            "Epoch 78/2000\n",
            "4/4 [==============================] - 0s 3ms/step - loss: 0.2506\n",
            "Epoch 79/2000\n",
            "4/4 [==============================] - 0s 3ms/step - loss: 0.2521\n",
            "Epoch 80/2000\n",
            "4/4 [==============================] - 0s 3ms/step - loss: 0.2580\n",
            "Epoch 81/2000\n",
            "4/4 [==============================] - 0s 4ms/step - loss: 0.2510\n",
            "Epoch 82/2000\n",
            "4/4 [==============================] - 0s 4ms/step - loss: 0.2557\n",
            "Epoch 83/2000\n",
            "4/4 [==============================] - 0s 7ms/step - loss: 0.2508\n",
            "Epoch 84/2000\n",
            "4/4 [==============================] - 0s 3ms/step - loss: 0.2503\n",
            "Epoch 85/2000\n",
            "4/4 [==============================] - 0s 3ms/step - loss: 0.2499\n",
            "Epoch 86/2000\n",
            "4/4 [==============================] - 0s 4ms/step - loss: 0.2580\n",
            "Epoch 87/2000\n",
            "4/4 [==============================] - 0s 4ms/step - loss: 0.2505\n",
            "Epoch 88/2000\n",
            "4/4 [==============================] - 0s 3ms/step - loss: 0.2505\n",
            "Epoch 89/2000\n",
            "4/4 [==============================] - 0s 3ms/step - loss: 0.2514\n",
            "Epoch 90/2000\n",
            "4/4 [==============================] - 0s 4ms/step - loss: 0.2525\n",
            "Epoch 91/2000\n",
            "4/4 [==============================] - 0s 4ms/step - loss: 0.2503\n",
            "Epoch 92/2000\n",
            "4/4 [==============================] - 0s 3ms/step - loss: 0.2542\n",
            "Epoch 93/2000\n",
            "4/4 [==============================] - 0s 3ms/step - loss: 0.2523\n",
            "Epoch 94/2000\n",
            "4/4 [==============================] - 0s 5ms/step - loss: 0.2561\n",
            "Epoch 95/2000\n",
            "4/4 [==============================] - 0s 3ms/step - loss: 0.2541\n",
            "Epoch 96/2000\n",
            "4/4 [==============================] - 0s 4ms/step - loss: 0.2534\n",
            "Epoch 97/2000\n",
            "4/4 [==============================] - 0s 5ms/step - loss: 0.2493\n",
            "Epoch 98/2000\n",
            "4/4 [==============================] - 0s 3ms/step - loss: 0.2573\n",
            "Epoch 99/2000\n",
            "4/4 [==============================] - 0s 4ms/step - loss: 0.2527\n",
            "Epoch 100/2000\n",
            "4/4 [==============================] - 0s 5ms/step - loss: 0.2506\n",
            "Epoch 101/2000\n",
            "4/4 [==============================] - 0s 6ms/step - loss: 0.2573\n",
            "Epoch 102/2000\n",
            "4/4 [==============================] - 0s 4ms/step - loss: 0.2526\n",
            "Epoch 103/2000\n",
            "4/4 [==============================] - 0s 3ms/step - loss: 0.2511\n",
            "Epoch 104/2000\n",
            "4/4 [==============================] - 0s 4ms/step - loss: 0.2529\n",
            "Epoch 105/2000\n",
            "4/4 [==============================] - 0s 4ms/step - loss: 0.2563\n",
            "Epoch 106/2000\n",
            "4/4 [==============================] - 0s 3ms/step - loss: 0.2514\n",
            "Epoch 107/2000\n",
            "4/4 [==============================] - 0s 3ms/step - loss: 0.2566\n",
            "Epoch 108/2000\n",
            "4/4 [==============================] - 0s 4ms/step - loss: 0.2529\n",
            "Epoch 109/2000\n",
            "4/4 [==============================] - 0s 3ms/step - loss: 0.2543\n",
            "Epoch 110/2000\n",
            "4/4 [==============================] - 0s 3ms/step - loss: 0.2511\n",
            "Epoch 111/2000\n",
            "4/4 [==============================] - 0s 3ms/step - loss: 0.2519\n",
            "Epoch 112/2000\n",
            "4/4 [==============================] - 0s 5ms/step - loss: 0.2531\n",
            "Epoch 113/2000\n",
            "4/4 [==============================] - 0s 3ms/step - loss: 0.2528\n",
            "Epoch 114/2000\n",
            "4/4 [==============================] - 0s 3ms/step - loss: 0.2555\n",
            "Epoch 115/2000\n",
            "4/4 [==============================] - 0s 4ms/step - loss: 0.2504\n",
            "Epoch 116/2000\n",
            "4/4 [==============================] - 0s 4ms/step - loss: 0.2502\n",
            "Epoch 117/2000\n",
            "4/4 [==============================] - 0s 5ms/step - loss: 0.2502\n",
            "Epoch 118/2000\n",
            "4/4 [==============================] - 0s 3ms/step - loss: 0.2508\n",
            "Epoch 119/2000\n",
            "4/4 [==============================] - 0s 4ms/step - loss: 0.2535\n",
            "Epoch 120/2000\n",
            "4/4 [==============================] - 0s 4ms/step - loss: 0.2509\n",
            "Epoch 121/2000\n",
            "4/4 [==============================] - 0s 3ms/step - loss: 0.2542\n",
            "Epoch 122/2000\n",
            "4/4 [==============================] - 0s 4ms/step - loss: 0.2564\n",
            "Epoch 123/2000\n",
            "4/4 [==============================] - 0s 4ms/step - loss: 0.2509\n",
            "Epoch 124/2000\n",
            "4/4 [==============================] - 0s 4ms/step - loss: 0.2509\n",
            "Epoch 125/2000\n",
            "4/4 [==============================] - 0s 4ms/step - loss: 0.2512\n",
            "Epoch 126/2000\n",
            "4/4 [==============================] - 0s 5ms/step - loss: 0.2491\n",
            "Epoch 127/2000\n",
            "4/4 [==============================] - 0s 3ms/step - loss: 0.2556\n",
            "Epoch 128/2000\n",
            "4/4 [==============================] - 0s 4ms/step - loss: 0.2509\n",
            "Epoch 129/2000\n",
            "4/4 [==============================] - 0s 5ms/step - loss: 0.2556\n",
            "Epoch 130/2000\n",
            "4/4 [==============================] - 0s 4ms/step - loss: 0.2563\n",
            "Epoch 131/2000\n",
            "4/4 [==============================] - 0s 4ms/step - loss: 0.2504\n",
            "Epoch 132/2000\n",
            "4/4 [==============================] - 0s 3ms/step - loss: 0.2535\n",
            "Epoch 133/2000\n",
            "4/4 [==============================] - 0s 4ms/step - loss: 0.2511\n",
            "Epoch 134/2000\n",
            "4/4 [==============================] - 0s 4ms/step - loss: 0.2552\n",
            "Epoch 135/2000\n",
            "4/4 [==============================] - 0s 3ms/step - loss: 0.2566\n",
            "Epoch 136/2000\n",
            "4/4 [==============================] - 0s 3ms/step - loss: 0.2537\n",
            "Epoch 137/2000\n",
            "4/4 [==============================] - 0s 4ms/step - loss: 0.2507\n",
            "Epoch 138/2000\n",
            "4/4 [==============================] - 0s 3ms/step - loss: 0.2509\n",
            "Epoch 139/2000\n",
            "4/4 [==============================] - 0s 5ms/step - loss: 0.2503\n",
            "Epoch 140/2000\n",
            "4/4 [==============================] - 0s 4ms/step - loss: 0.2536\n",
            "Epoch 141/2000\n",
            "4/4 [==============================] - 0s 4ms/step - loss: 0.2554\n",
            "Epoch 142/2000\n",
            "4/4 [==============================] - 0s 4ms/step - loss: 0.2498\n",
            "Epoch 143/2000\n",
            "4/4 [==============================] - 0s 3ms/step - loss: 0.2514\n",
            "Epoch 144/2000\n",
            "4/4 [==============================] - 0s 3ms/step - loss: 0.2539\n",
            "Epoch 145/2000\n",
            "4/4 [==============================] - 0s 5ms/step - loss: 0.2558\n",
            "Epoch 146/2000\n",
            "4/4 [==============================] - 0s 3ms/step - loss: 0.2561\n",
            "Epoch 147/2000\n",
            "4/4 [==============================] - 0s 3ms/step - loss: 0.2506\n",
            "Epoch 148/2000\n",
            "4/4 [==============================] - 0s 3ms/step - loss: 0.2516\n",
            "Epoch 149/2000\n",
            "4/4 [==============================] - 0s 3ms/step - loss: 0.2508\n",
            "Epoch 150/2000\n",
            "4/4 [==============================] - 0s 4ms/step - loss: 0.2538\n",
            "Epoch 151/2000\n",
            "4/4 [==============================] - 0s 4ms/step - loss: 0.2516\n",
            "Epoch 152/2000\n",
            "4/4 [==============================] - 0s 3ms/step - loss: 0.2516\n",
            "Epoch 153/2000\n",
            "4/4 [==============================] - 0s 4ms/step - loss: 0.2513\n",
            "Epoch 154/2000\n",
            "4/4 [==============================] - 0s 3ms/step - loss: 0.2514\n",
            "Epoch 155/2000\n",
            "4/4 [==============================] - 0s 3ms/step - loss: 0.2532\n",
            "Epoch 156/2000\n",
            "4/4 [==============================] - 0s 3ms/step - loss: 0.2546\n",
            "Epoch 157/2000\n",
            "4/4 [==============================] - 0s 5ms/step - loss: 0.2556\n",
            "Epoch 158/2000\n",
            "4/4 [==============================] - 0s 4ms/step - loss: 0.2553\n",
            "Epoch 159/2000\n",
            "4/4 [==============================] - 0s 3ms/step - loss: 0.2531\n",
            "Epoch 160/2000\n",
            "4/4 [==============================] - 0s 3ms/step - loss: 0.2524\n",
            "Epoch 161/2000\n",
            "4/4 [==============================] - 0s 3ms/step - loss: 0.2519\n",
            "Epoch 162/2000\n",
            "4/4 [==============================] - 0s 3ms/step - loss: 0.2533\n",
            "Epoch 163/2000\n",
            "4/4 [==============================] - 0s 4ms/step - loss: 0.2516\n",
            "Epoch 164/2000\n",
            "4/4 [==============================] - 0s 4ms/step - loss: 0.2530\n",
            "Epoch 165/2000\n",
            "4/4 [==============================] - 0s 4ms/step - loss: 0.2512\n",
            "Epoch 166/2000\n",
            "4/4 [==============================] - 0s 5ms/step - loss: 0.2556\n",
            "Epoch 167/2000\n",
            "4/4 [==============================] - 0s 3ms/step - loss: 0.2524\n",
            "Epoch 168/2000\n",
            "4/4 [==============================] - 0s 4ms/step - loss: 0.2507\n",
            "Epoch 169/2000\n",
            "4/4 [==============================] - 0s 3ms/step - loss: 0.2537\n",
            "Epoch 170/2000\n",
            "4/4 [==============================] - 0s 4ms/step - loss: 0.2524\n",
            "Epoch 171/2000\n",
            "4/4 [==============================] - 0s 5ms/step - loss: 0.2530\n",
            "Epoch 172/2000\n",
            "4/4 [==============================] - 0s 4ms/step - loss: 0.2556\n",
            "Epoch 173/2000\n",
            "4/4 [==============================] - 0s 4ms/step - loss: 0.2523\n",
            "Epoch 174/2000\n",
            "4/4 [==============================] - 0s 6ms/step - loss: 0.2517\n",
            "Epoch 175/2000\n",
            "4/4 [==============================] - 0s 4ms/step - loss: 0.2557\n",
            "Epoch 176/2000\n",
            "4/4 [==============================] - 0s 4ms/step - loss: 0.2549\n",
            "Epoch 177/2000\n",
            "4/4 [==============================] - 0s 4ms/step - loss: 0.2546\n",
            "Epoch 178/2000\n",
            "4/4 [==============================] - 0s 5ms/step - loss: 0.2548\n",
            "Epoch 179/2000\n",
            "4/4 [==============================] - 0s 3ms/step - loss: 0.2509\n",
            "Epoch 180/2000\n",
            "4/4 [==============================] - 0s 5ms/step - loss: 0.2511\n",
            "Epoch 181/2000\n",
            "4/4 [==============================] - 0s 3ms/step - loss: 0.2531\n",
            "Epoch 182/2000\n",
            "4/4 [==============================] - 0s 4ms/step - loss: 0.2508\n",
            "Epoch 183/2000\n",
            "4/4 [==============================] - 0s 4ms/step - loss: 0.2502\n",
            "Epoch 184/2000\n",
            "4/4 [==============================] - 0s 4ms/step - loss: 0.2513\n",
            "Epoch 185/2000\n",
            "4/4 [==============================] - 0s 4ms/step - loss: 0.2505\n",
            "Epoch 186/2000\n",
            "4/4 [==============================] - 0s 5ms/step - loss: 0.2512\n",
            "Epoch 187/2000\n",
            "4/4 [==============================] - 0s 5ms/step - loss: 0.2513\n",
            "Epoch 188/2000\n",
            "4/4 [==============================] - 0s 5ms/step - loss: 0.2505\n",
            "Epoch 189/2000\n",
            "4/4 [==============================] - 0s 4ms/step - loss: 0.2512\n",
            "Epoch 190/2000\n",
            "4/4 [==============================] - 0s 9ms/step - loss: 0.2512\n",
            "Epoch 191/2000\n",
            "4/4 [==============================] - 0s 3ms/step - loss: 0.2525\n",
            "Epoch 192/2000\n",
            "4/4 [==============================] - 0s 3ms/step - loss: 0.2540\n",
            "Epoch 193/2000\n",
            "4/4 [==============================] - 0s 4ms/step - loss: 0.2555\n",
            "Epoch 194/2000\n",
            "4/4 [==============================] - 0s 4ms/step - loss: 0.2528\n",
            "Epoch 195/2000\n",
            "4/4 [==============================] - 0s 4ms/step - loss: 0.2504\n",
            "Epoch 196/2000\n",
            "4/4 [==============================] - 0s 3ms/step - loss: 0.2512\n",
            "Epoch 197/2000\n",
            "4/4 [==============================] - 0s 4ms/step - loss: 0.2520\n",
            "Epoch 198/2000\n",
            "4/4 [==============================] - 0s 3ms/step - loss: 0.2504\n",
            "Epoch 199/2000\n",
            "4/4 [==============================] - 0s 4ms/step - loss: 0.2499\n",
            "Epoch 200/2000\n",
            "4/4 [==============================] - 0s 3ms/step - loss: 0.2515\n",
            "Epoch 201/2000\n",
            "4/4 [==============================] - 0s 3ms/step - loss: 0.2539\n",
            "Epoch 202/2000\n",
            "4/4 [==============================] - 0s 3ms/step - loss: 0.2521\n",
            "Epoch 203/2000\n",
            "4/4 [==============================] - 0s 4ms/step - loss: 0.2503\n",
            "Epoch 204/2000\n",
            "4/4 [==============================] - 0s 5ms/step - loss: 0.2520\n",
            "Epoch 205/2000\n",
            "4/4 [==============================] - 0s 4ms/step - loss: 0.2508\n",
            "Epoch 206/2000\n",
            "4/4 [==============================] - 0s 3ms/step - loss: 0.2524\n",
            "Epoch 207/2000\n",
            "4/4 [==============================] - 0s 4ms/step - loss: 0.2526\n",
            "Epoch 208/2000\n",
            "4/4 [==============================] - 0s 3ms/step - loss: 0.2508\n",
            "Epoch 209/2000\n",
            "4/4 [==============================] - 0s 3ms/step - loss: 0.2518\n",
            "Epoch 210/2000\n",
            "4/4 [==============================] - 0s 4ms/step - loss: 0.2523\n",
            "Epoch 211/2000\n",
            "4/4 [==============================] - 0s 3ms/step - loss: 0.2520\n",
            "Epoch 212/2000\n",
            "4/4 [==============================] - 0s 3ms/step - loss: 0.2531\n",
            "Epoch 213/2000\n",
            "4/4 [==============================] - 0s 4ms/step - loss: 0.2499\n",
            "Epoch 214/2000\n",
            "4/4 [==============================] - 0s 4ms/step - loss: 0.2516\n",
            "Epoch 215/2000\n",
            "4/4 [==============================] - 0s 3ms/step - loss: 0.2511\n",
            "Epoch 216/2000\n",
            "4/4 [==============================] - 0s 3ms/step - loss: 0.2522\n",
            "Epoch 217/2000\n",
            "4/4 [==============================] - 0s 5ms/step - loss: 0.2512\n",
            "Epoch 218/2000\n",
            "4/4 [==============================] - 0s 5ms/step - loss: 0.2546\n",
            "Epoch 219/2000\n",
            "4/4 [==============================] - 0s 3ms/step - loss: 0.2513\n",
            "Epoch 220/2000\n",
            "4/4 [==============================] - 0s 3ms/step - loss: 0.2513\n",
            "Epoch 221/2000\n",
            "4/4 [==============================] - 0s 4ms/step - loss: 0.2524\n",
            "Epoch 222/2000\n",
            "4/4 [==============================] - 0s 4ms/step - loss: 0.2527\n",
            "Epoch 223/2000\n",
            "4/4 [==============================] - 0s 5ms/step - loss: 0.2512\n",
            "Epoch 224/2000\n",
            "4/4 [==============================] - 0s 3ms/step - loss: 0.2527\n",
            "Epoch 225/2000\n",
            "4/4 [==============================] - 0s 4ms/step - loss: 0.2503\n",
            "Epoch 226/2000\n",
            "4/4 [==============================] - 0s 4ms/step - loss: 0.2515\n",
            "Epoch 227/2000\n",
            "4/4 [==============================] - 0s 4ms/step - loss: 0.2508\n",
            "Epoch 228/2000\n",
            "4/4 [==============================] - 0s 4ms/step - loss: 0.2506\n",
            "Epoch 229/2000\n",
            "4/4 [==============================] - 0s 4ms/step - loss: 0.2535\n",
            "Epoch 230/2000\n",
            "4/4 [==============================] - 0s 3ms/step - loss: 0.2513\n",
            "Epoch 231/2000\n",
            "4/4 [==============================] - 0s 5ms/step - loss: 0.2513\n",
            "Epoch 232/2000\n",
            "4/4 [==============================] - 0s 4ms/step - loss: 0.2533\n",
            "Epoch 233/2000\n",
            "4/4 [==============================] - 0s 4ms/step - loss: 0.2518\n",
            "Epoch 234/2000\n",
            "4/4 [==============================] - 0s 5ms/step - loss: 0.2518\n",
            "Epoch 235/2000\n",
            "4/4 [==============================] - 0s 4ms/step - loss: 0.2512\n",
            "Epoch 236/2000\n",
            "4/4 [==============================] - 0s 4ms/step - loss: 0.2516\n",
            "Epoch 237/2000\n",
            "4/4 [==============================] - 0s 3ms/step - loss: 0.2517\n",
            "Epoch 238/2000\n",
            "4/4 [==============================] - 0s 4ms/step - loss: 0.2518\n",
            "Epoch 239/2000\n",
            "4/4 [==============================] - 0s 4ms/step - loss: 0.2535\n",
            "Epoch 240/2000\n",
            "4/4 [==============================] - 0s 5ms/step - loss: 0.2518\n",
            "Epoch 241/2000\n",
            "4/4 [==============================] - 0s 3ms/step - loss: 0.2543\n",
            "Epoch 242/2000\n",
            "4/4 [==============================] - 0s 4ms/step - loss: 0.2525\n",
            "Epoch 243/2000\n",
            "4/4 [==============================] - 0s 4ms/step - loss: 0.2539\n",
            "Epoch 244/2000\n",
            "4/4 [==============================] - 0s 7ms/step - loss: 0.2517\n",
            "Epoch 245/2000\n",
            "4/4 [==============================] - 0s 4ms/step - loss: 0.2517\n",
            "Epoch 246/2000\n",
            "4/4 [==============================] - 0s 4ms/step - loss: 0.2542\n",
            "Epoch 247/2000\n",
            "4/4 [==============================] - 0s 4ms/step - loss: 0.2515\n",
            "Epoch 248/2000\n",
            "4/4 [==============================] - 0s 4ms/step - loss: 0.2508\n",
            "Epoch 249/2000\n",
            "4/4 [==============================] - 0s 4ms/step - loss: 0.2518\n",
            "Epoch 250/2000\n",
            "4/4 [==============================] - 0s 4ms/step - loss: 0.2538\n",
            "Epoch 251/2000\n",
            "4/4 [==============================] - 0s 5ms/step - loss: 0.2525\n",
            "Epoch 252/2000\n",
            "4/4 [==============================] - 0s 4ms/step - loss: 0.2503\n",
            "Epoch 253/2000\n",
            "4/4 [==============================] - 0s 4ms/step - loss: 0.2518\n",
            "Epoch 254/2000\n",
            "4/4 [==============================] - 0s 4ms/step - loss: 0.2537\n",
            "Epoch 255/2000\n",
            "4/4 [==============================] - 0s 4ms/step - loss: 0.2538\n",
            "Epoch 256/2000\n",
            "4/4 [==============================] - 0s 4ms/step - loss: 0.2514\n",
            "Epoch 257/2000\n",
            "4/4 [==============================] - 0s 4ms/step - loss: 0.2518\n",
            "Epoch 258/2000\n",
            "4/4 [==============================] - 0s 3ms/step - loss: 0.2522\n",
            "Epoch 259/2000\n",
            "4/4 [==============================] - 0s 5ms/step - loss: 0.2532\n",
            "Epoch 260/2000\n",
            "4/4 [==============================] - 0s 4ms/step - loss: 0.2505\n",
            "Epoch 261/2000\n",
            "4/4 [==============================] - 0s 3ms/step - loss: 0.2533\n",
            "Epoch 262/2000\n",
            "4/4 [==============================] - 0s 4ms/step - loss: 0.2541\n",
            "Epoch 263/2000\n",
            "4/4 [==============================] - 0s 4ms/step - loss: 0.2529\n",
            "Epoch 264/2000\n",
            "4/4 [==============================] - 0s 3ms/step - loss: 0.2539\n",
            "Epoch 265/2000\n",
            "4/4 [==============================] - 0s 4ms/step - loss: 0.2514\n",
            "Epoch 266/2000\n",
            "4/4 [==============================] - 0s 3ms/step - loss: 0.2500\n",
            "Epoch 267/2000\n",
            "4/4 [==============================] - 0s 4ms/step - loss: 0.2503\n",
            "Epoch 268/2000\n",
            "4/4 [==============================] - 0s 4ms/step - loss: 0.2528\n",
            "Epoch 269/2000\n",
            "4/4 [==============================] - 0s 5ms/step - loss: 0.2516\n",
            "Epoch 270/2000\n",
            "4/4 [==============================] - 0s 5ms/step - loss: 0.2519\n",
            "Epoch 271/2000\n",
            "4/4 [==============================] - 0s 4ms/step - loss: 0.2494\n",
            "Epoch 272/2000\n",
            "4/4 [==============================] - 0s 5ms/step - loss: 0.2534\n",
            "Epoch 273/2000\n",
            "4/4 [==============================] - 0s 5ms/step - loss: 0.2529\n",
            "Epoch 274/2000\n",
            "4/4 [==============================] - 0s 4ms/step - loss: 0.2501\n",
            "Epoch 275/2000\n",
            "4/4 [==============================] - 0s 3ms/step - loss: 0.2514\n",
            "Epoch 276/2000\n",
            "4/4 [==============================] - 0s 4ms/step - loss: 0.2507\n",
            "Epoch 277/2000\n",
            "4/4 [==============================] - 0s 4ms/step - loss: 0.2525\n",
            "Epoch 278/2000\n",
            "4/4 [==============================] - 0s 3ms/step - loss: 0.2522\n",
            "Epoch 279/2000\n",
            "4/4 [==============================] - 0s 4ms/step - loss: 0.2515\n",
            "Epoch 280/2000\n",
            "4/4 [==============================] - 0s 3ms/step - loss: 0.2518\n",
            "Epoch 281/2000\n",
            "4/4 [==============================] - 0s 4ms/step - loss: 0.2524\n",
            "Epoch 282/2000\n",
            "4/4 [==============================] - 0s 4ms/step - loss: 0.2524\n",
            "Epoch 283/2000\n",
            "4/4 [==============================] - 0s 3ms/step - loss: 0.2523\n",
            "Epoch 284/2000\n",
            "4/4 [==============================] - 0s 3ms/step - loss: 0.2501\n",
            "Epoch 285/2000\n",
            "4/4 [==============================] - 0s 5ms/step - loss: 0.2538\n",
            "Epoch 286/2000\n",
            "4/4 [==============================] - 0s 4ms/step - loss: 0.2506\n",
            "Epoch 287/2000\n",
            "4/4 [==============================] - 0s 4ms/step - loss: 0.2514\n",
            "Epoch 288/2000\n",
            "4/4 [==============================] - 0s 3ms/step - loss: 0.2533\n",
            "Epoch 289/2000\n",
            "4/4 [==============================] - 0s 4ms/step - loss: 0.2510\n",
            "Epoch 290/2000\n",
            "4/4 [==============================] - 0s 4ms/step - loss: 0.2497\n",
            "Epoch 291/2000\n",
            "4/4 [==============================] - 0s 3ms/step - loss: 0.2513\n",
            "Epoch 292/2000\n",
            "4/4 [==============================] - 0s 3ms/step - loss: 0.2533\n",
            "Epoch 293/2000\n",
            "4/4 [==============================] - 0s 4ms/step - loss: 0.2528\n",
            "Epoch 294/2000\n",
            "4/4 [==============================] - 0s 4ms/step - loss: 0.2520\n",
            "Epoch 295/2000\n",
            "4/4 [==============================] - 0s 4ms/step - loss: 0.2501\n",
            "Epoch 296/2000\n",
            "4/4 [==============================] - 0s 4ms/step - loss: 0.2509\n",
            "Epoch 297/2000\n",
            "4/4 [==============================] - 0s 3ms/step - loss: 0.2514\n",
            "Epoch 298/2000\n",
            "4/4 [==============================] - 0s 5ms/step - loss: 0.2501\n",
            "Epoch 299/2000\n",
            "4/4 [==============================] - 0s 4ms/step - loss: 0.2531\n",
            "Epoch 300/2000\n",
            "4/4 [==============================] - 0s 3ms/step - loss: 0.2498\n",
            "Epoch 301/2000\n",
            "4/4 [==============================] - 0s 3ms/step - loss: 0.2514\n",
            "Epoch 302/2000\n",
            "4/4 [==============================] - 0s 4ms/step - loss: 0.2517\n",
            "Epoch 303/2000\n",
            "4/4 [==============================] - 0s 4ms/step - loss: 0.2509\n",
            "Epoch 304/2000\n",
            "4/4 [==============================] - 0s 3ms/step - loss: 0.2512\n",
            "Epoch 305/2000\n",
            "4/4 [==============================] - 0s 4ms/step - loss: 0.2493\n",
            "Epoch 306/2000\n",
            "4/4 [==============================] - 0s 5ms/step - loss: 0.2535\n",
            "Epoch 307/2000\n",
            "4/4 [==============================] - 0s 6ms/step - loss: 0.2523\n",
            "Epoch 308/2000\n",
            "4/4 [==============================] - 0s 5ms/step - loss: 0.2502\n",
            "Epoch 309/2000\n",
            "4/4 [==============================] - 0s 4ms/step - loss: 0.2534\n",
            "Epoch 310/2000\n",
            "4/4 [==============================] - 0s 4ms/step - loss: 0.2511\n",
            "Epoch 311/2000\n",
            "4/4 [==============================] - 0s 4ms/step - loss: 0.2525\n",
            "Epoch 312/2000\n",
            "4/4 [==============================] - 0s 4ms/step - loss: 0.2513\n",
            "Epoch 313/2000\n",
            "4/4 [==============================] - 0s 4ms/step - loss: 0.2493\n",
            "Epoch 314/2000\n",
            "4/4 [==============================] - 0s 7ms/step - loss: 0.2509\n",
            "Epoch 315/2000\n",
            "4/4 [==============================] - 0s 4ms/step - loss: 0.2531\n",
            "Epoch 316/2000\n",
            "4/4 [==============================] - 0s 4ms/step - loss: 0.2509\n",
            "Epoch 317/2000\n",
            "4/4 [==============================] - 0s 4ms/step - loss: 0.2514\n",
            "Epoch 318/2000\n",
            "4/4 [==============================] - 0s 3ms/step - loss: 0.2498\n",
            "Epoch 319/2000\n",
            "4/4 [==============================] - 0s 3ms/step - loss: 0.2533\n",
            "Epoch 320/2000\n",
            "4/4 [==============================] - 0s 4ms/step - loss: 0.2535\n",
            "Epoch 321/2000\n",
            "4/4 [==============================] - 0s 4ms/step - loss: 0.2515\n",
            "Epoch 322/2000\n",
            "4/4 [==============================] - 0s 4ms/step - loss: 0.2528\n",
            "Epoch 323/2000\n",
            "4/4 [==============================] - 0s 3ms/step - loss: 0.2533\n",
            "Epoch 324/2000\n",
            "4/4 [==============================] - 0s 5ms/step - loss: 0.2519\n",
            "Epoch 325/2000\n",
            "4/4 [==============================] - 0s 4ms/step - loss: 0.2520\n",
            "Epoch 326/2000\n",
            "4/4 [==============================] - 0s 4ms/step - loss: 0.2517\n",
            "Epoch 327/2000\n",
            "4/4 [==============================] - 0s 4ms/step - loss: 0.2491\n",
            "Epoch 328/2000\n",
            "4/4 [==============================] - 0s 4ms/step - loss: 0.2503\n",
            "Epoch 329/2000\n",
            "4/4 [==============================] - 0s 5ms/step - loss: 0.2486\n",
            "Epoch 330/2000\n",
            "4/4 [==============================] - 0s 3ms/step - loss: 0.2527\n",
            "Epoch 331/2000\n",
            "4/4 [==============================] - 0s 4ms/step - loss: 0.2536\n",
            "Epoch 332/2000\n",
            "4/4 [==============================] - 0s 3ms/step - loss: 0.2510\n",
            "Epoch 333/2000\n",
            "4/4 [==============================] - 0s 4ms/step - loss: 0.2512\n",
            "Epoch 334/2000\n",
            "4/4 [==============================] - 0s 3ms/step - loss: 0.2530\n",
            "Epoch 335/2000\n",
            "4/4 [==============================] - 0s 7ms/step - loss: 0.2528\n",
            "Epoch 336/2000\n",
            "4/4 [==============================] - 0s 4ms/step - loss: 0.2505\n",
            "Epoch 337/2000\n",
            "4/4 [==============================] - 0s 4ms/step - loss: 0.2527\n",
            "Epoch 338/2000\n",
            "4/4 [==============================] - 0s 4ms/step - loss: 0.2529\n",
            "Epoch 339/2000\n",
            "4/4 [==============================] - 0s 3ms/step - loss: 0.2513\n",
            "Epoch 340/2000\n",
            "4/4 [==============================] - 0s 4ms/step - loss: 0.2516\n",
            "Epoch 341/2000\n",
            "4/4 [==============================] - 0s 4ms/step - loss: 0.2517\n",
            "Epoch 342/2000\n",
            "4/4 [==============================] - 0s 4ms/step - loss: 0.2528\n",
            "Epoch 343/2000\n",
            "4/4 [==============================] - 0s 4ms/step - loss: 0.2535\n",
            "Epoch 344/2000\n",
            "4/4 [==============================] - 0s 3ms/step - loss: 0.2532\n",
            "Epoch 345/2000\n",
            "4/4 [==============================] - 0s 3ms/step - loss: 0.2492\n",
            "Epoch 346/2000\n",
            "4/4 [==============================] - 0s 4ms/step - loss: 0.2503\n",
            "Epoch 347/2000\n",
            "4/4 [==============================] - 0s 5ms/step - loss: 0.2507\n",
            "Epoch 348/2000\n",
            "4/4 [==============================] - 0s 7ms/step - loss: 0.2501\n",
            "Epoch 349/2000\n",
            "4/4 [==============================] - 0s 4ms/step - loss: 0.2528\n",
            "Epoch 350/2000\n",
            "4/4 [==============================] - 0s 4ms/step - loss: 0.2517\n",
            "Epoch 351/2000\n",
            "4/4 [==============================] - 0s 3ms/step - loss: 0.2513\n",
            "Epoch 352/2000\n",
            "4/4 [==============================] - 0s 4ms/step - loss: 0.2537\n",
            "Epoch 353/2000\n",
            "4/4 [==============================] - 0s 4ms/step - loss: 0.2532\n",
            "Epoch 354/2000\n",
            "4/4 [==============================] - 0s 4ms/step - loss: 0.2520\n",
            "Epoch 355/2000\n",
            "4/4 [==============================] - 0s 4ms/step - loss: 0.2534\n",
            "Epoch 356/2000\n",
            "4/4 [==============================] - 0s 4ms/step - loss: 0.2540\n",
            "Epoch 357/2000\n",
            "4/4 [==============================] - 0s 4ms/step - loss: 0.2493\n",
            "Epoch 358/2000\n",
            "4/4 [==============================] - 0s 5ms/step - loss: 0.2524\n",
            "Epoch 359/2000\n",
            "4/4 [==============================] - 0s 4ms/step - loss: 0.2532\n",
            "Epoch 360/2000\n",
            "4/4 [==============================] - 0s 6ms/step - loss: 0.2498\n",
            "Epoch 361/2000\n",
            "4/4 [==============================] - 0s 4ms/step - loss: 0.2529\n",
            "Epoch 362/2000\n",
            "4/4 [==============================] - 0s 4ms/step - loss: 0.2486\n",
            "Epoch 363/2000\n",
            "4/4 [==============================] - 0s 4ms/step - loss: 0.2514\n",
            "Epoch 364/2000\n",
            "4/4 [==============================] - 0s 4ms/step - loss: 0.2535\n",
            "Epoch 365/2000\n",
            "4/4 [==============================] - 0s 5ms/step - loss: 0.2528\n",
            "Epoch 366/2000\n",
            "4/4 [==============================] - 0s 4ms/step - loss: 0.2502\n",
            "Epoch 367/2000\n",
            "4/4 [==============================] - 0s 4ms/step - loss: 0.2502\n",
            "Epoch 368/2000\n",
            "4/4 [==============================] - 0s 4ms/step - loss: 0.2522\n",
            "Epoch 369/2000\n",
            "4/4 [==============================] - 0s 5ms/step - loss: 0.2526\n",
            "Epoch 370/2000\n",
            "4/4 [==============================] - 0s 2ms/step - loss: 0.2507\n",
            "Epoch 371/2000\n",
            "4/4 [==============================] - 0s 5ms/step - loss: 0.2504\n",
            "Epoch 372/2000\n",
            "4/4 [==============================] - 0s 4ms/step - loss: 0.2529\n",
            "Epoch 373/2000\n",
            "4/4 [==============================] - 0s 4ms/step - loss: 0.2533\n",
            "Epoch 374/2000\n",
            "4/4 [==============================] - 0s 4ms/step - loss: 0.2523\n",
            "Epoch 375/2000\n",
            "4/4 [==============================] - 0s 3ms/step - loss: 0.2516\n",
            "Epoch 376/2000\n",
            "4/4 [==============================] - 0s 5ms/step - loss: 0.2497\n",
            "Epoch 377/2000\n",
            "4/4 [==============================] - 0s 4ms/step - loss: 0.2527\n",
            "Epoch 378/2000\n",
            "4/4 [==============================] - 0s 4ms/step - loss: 0.2504\n",
            "Epoch 379/2000\n",
            "4/4 [==============================] - 0s 5ms/step - loss: 0.2514\n",
            "Epoch 380/2000\n",
            "4/4 [==============================] - 0s 5ms/step - loss: 0.2500\n",
            "Epoch 381/2000\n",
            "4/4 [==============================] - 0s 5ms/step - loss: 0.2532\n",
            "Epoch 382/2000\n",
            "4/4 [==============================] - 0s 2ms/step - loss: 0.2514\n",
            "Epoch 383/2000\n",
            "4/4 [==============================] - 0s 5ms/step - loss: 0.2515\n",
            "Epoch 384/2000\n",
            "4/4 [==============================] - 0s 4ms/step - loss: 0.2515\n",
            "Epoch 385/2000\n",
            "4/4 [==============================] - 0s 5ms/step - loss: 0.2499\n",
            "Epoch 386/2000\n",
            "4/4 [==============================] - 0s 3ms/step - loss: 0.2501\n",
            "Epoch 387/2000\n",
            "4/4 [==============================] - 0s 3ms/step - loss: 0.2500\n",
            "Epoch 388/2000\n",
            "4/4 [==============================] - 0s 3ms/step - loss: 0.2500\n",
            "Epoch 389/2000\n",
            "4/4 [==============================] - 0s 3ms/step - loss: 0.2505\n",
            "Epoch 390/2000\n",
            "4/4 [==============================] - 0s 5ms/step - loss: 0.2536\n",
            "Epoch 391/2000\n",
            "4/4 [==============================] - 0s 4ms/step - loss: 0.2531\n",
            "Epoch 392/2000\n",
            "4/4 [==============================] - 0s 4ms/step - loss: 0.2492\n",
            "Epoch 393/2000\n",
            "4/4 [==============================] - 0s 4ms/step - loss: 0.2492\n",
            "Epoch 394/2000\n",
            "4/4 [==============================] - 0s 7ms/step - loss: 0.2534\n",
            "Epoch 395/2000\n",
            "4/4 [==============================] - 0s 4ms/step - loss: 0.2509\n",
            "Epoch 396/2000\n",
            "4/4 [==============================] - 0s 5ms/step - loss: 0.2522\n",
            "Epoch 397/2000\n",
            "4/4 [==============================] - 0s 6ms/step - loss: 0.2506\n",
            "Epoch 398/2000\n",
            "4/4 [==============================] - 0s 4ms/step - loss: 0.2524\n",
            "Epoch 399/2000\n",
            "4/4 [==============================] - 0s 3ms/step - loss: 0.2536\n",
            "Epoch 400/2000\n",
            "4/4 [==============================] - 0s 4ms/step - loss: 0.2536\n",
            "Epoch 401/2000\n",
            "4/4 [==============================] - 0s 4ms/step - loss: 0.2495\n",
            "Epoch 402/2000\n",
            "4/4 [==============================] - 0s 5ms/step - loss: 0.2512\n",
            "Epoch 403/2000\n",
            "4/4 [==============================] - 0s 4ms/step - loss: 0.2480\n",
            "Epoch 404/2000\n",
            "4/4 [==============================] - 0s 5ms/step - loss: 0.2495\n",
            "Epoch 405/2000\n",
            "4/4 [==============================] - 0s 5ms/step - loss: 0.2527\n",
            "Epoch 406/2000\n",
            "4/4 [==============================] - 0s 4ms/step - loss: 0.2495\n",
            "Epoch 407/2000\n",
            "4/4 [==============================] - 0s 5ms/step - loss: 0.2524\n",
            "Epoch 408/2000\n",
            "4/4 [==============================] - 0s 4ms/step - loss: 0.2509\n",
            "Epoch 409/2000\n",
            "4/4 [==============================] - 0s 4ms/step - loss: 0.2496\n",
            "Epoch 410/2000\n",
            "4/4 [==============================] - 0s 4ms/step - loss: 0.2509\n",
            "Epoch 411/2000\n",
            "4/4 [==============================] - 0s 4ms/step - loss: 0.2525\n",
            "Epoch 412/2000\n",
            "4/4 [==============================] - 0s 4ms/step - loss: 0.2525\n",
            "Epoch 413/2000\n",
            "4/4 [==============================] - 0s 4ms/step - loss: 0.2510\n",
            "Epoch 414/2000\n",
            "4/4 [==============================] - 0s 5ms/step - loss: 0.2495\n",
            "Epoch 415/2000\n",
            "4/4 [==============================] - 0s 3ms/step - loss: 0.2531\n",
            "Epoch 416/2000\n",
            "4/4 [==============================] - 0s 4ms/step - loss: 0.2505\n",
            "Epoch 417/2000\n",
            "4/4 [==============================] - 0s 4ms/step - loss: 0.2497\n",
            "Epoch 418/2000\n",
            "4/4 [==============================] - 0s 4ms/step - loss: 0.2493\n",
            "Epoch 419/2000\n",
            "4/4 [==============================] - 0s 4ms/step - loss: 0.2479\n",
            "Epoch 420/2000\n",
            "4/4 [==============================] - 0s 4ms/step - loss: 0.2531\n",
            "Epoch 421/2000\n",
            "4/4 [==============================] - 0s 4ms/step - loss: 0.2529\n",
            "Epoch 422/2000\n",
            "4/4 [==============================] - 0s 4ms/step - loss: 0.2531\n",
            "Epoch 423/2000\n",
            "4/4 [==============================] - 0s 4ms/step - loss: 0.2512\n",
            "Epoch 424/2000\n",
            "4/4 [==============================] - 0s 4ms/step - loss: 0.2529\n",
            "Epoch 425/2000\n",
            "4/4 [==============================] - 0s 5ms/step - loss: 0.2506\n",
            "Epoch 426/2000\n",
            "4/4 [==============================] - 0s 4ms/step - loss: 0.2501\n",
            "Epoch 427/2000\n",
            "4/4 [==============================] - 0s 4ms/step - loss: 0.2504\n",
            "Epoch 428/2000\n",
            "4/4 [==============================] - 0s 4ms/step - loss: 0.2536\n",
            "Epoch 429/2000\n",
            "4/4 [==============================] - 0s 4ms/step - loss: 0.2483\n",
            "Epoch 430/2000\n",
            "4/4 [==============================] - 0s 4ms/step - loss: 0.2518\n",
            "Epoch 431/2000\n",
            "4/4 [==============================] - 0s 4ms/step - loss: 0.2503\n",
            "Epoch 432/2000\n",
            "4/4 [==============================] - 0s 3ms/step - loss: 0.2482\n",
            "Epoch 433/2000\n",
            "4/4 [==============================] - 0s 4ms/step - loss: 0.2496\n",
            "Epoch 434/2000\n",
            "4/4 [==============================] - 0s 4ms/step - loss: 0.2514\n",
            "Epoch 435/2000\n",
            "4/4 [==============================] - 0s 4ms/step - loss: 0.2533\n",
            "Epoch 436/2000\n",
            "4/4 [==============================] - 0s 4ms/step - loss: 0.2496\n",
            "Epoch 437/2000\n",
            "4/4 [==============================] - 0s 5ms/step - loss: 0.2523\n",
            "Epoch 438/2000\n",
            "4/4 [==============================] - 0s 4ms/step - loss: 0.2495\n",
            "Epoch 439/2000\n",
            "4/4 [==============================] - 0s 4ms/step - loss: 0.2505\n",
            "Epoch 440/2000\n",
            "4/4 [==============================] - 0s 6ms/step - loss: 0.2535\n",
            "Epoch 441/2000\n",
            "4/4 [==============================] - 0s 4ms/step - loss: 0.2492\n",
            "Epoch 442/2000\n",
            "4/4 [==============================] - 0s 5ms/step - loss: 0.2491\n",
            "Epoch 443/2000\n",
            "4/4 [==============================] - 0s 4ms/step - loss: 0.2495\n",
            "Epoch 444/2000\n",
            "4/4 [==============================] - 0s 4ms/step - loss: 0.2535\n",
            "Epoch 445/2000\n",
            "4/4 [==============================] - 0s 5ms/step - loss: 0.2487\n",
            "Epoch 446/2000\n",
            "4/4 [==============================] - 0s 4ms/step - loss: 0.2495\n",
            "Epoch 447/2000\n",
            "4/4 [==============================] - 0s 4ms/step - loss: 0.2491\n",
            "Epoch 448/2000\n",
            "4/4 [==============================] - 0s 5ms/step - loss: 0.2496\n",
            "Epoch 449/2000\n",
            "4/4 [==============================] - 0s 4ms/step - loss: 0.2500\n",
            "Epoch 450/2000\n",
            "4/4 [==============================] - 0s 5ms/step - loss: 0.2526\n",
            "Epoch 451/2000\n",
            "4/4 [==============================] - 0s 3ms/step - loss: 0.2484\n",
            "Epoch 452/2000\n",
            "4/4 [==============================] - 0s 4ms/step - loss: 0.2511\n",
            "Epoch 453/2000\n",
            "4/4 [==============================] - 0s 5ms/step - loss: 0.2492\n",
            "Epoch 454/2000\n",
            "4/4 [==============================] - 0s 4ms/step - loss: 0.2486\n",
            "Epoch 455/2000\n",
            "4/4 [==============================] - 0s 4ms/step - loss: 0.2485\n",
            "Epoch 456/2000\n",
            "4/4 [==============================] - 0s 5ms/step - loss: 0.2496\n",
            "Epoch 457/2000\n",
            "4/4 [==============================] - 0s 4ms/step - loss: 0.2530\n",
            "Epoch 458/2000\n",
            "4/4 [==============================] - 0s 4ms/step - loss: 0.2512\n",
            "Epoch 459/2000\n",
            "4/4 [==============================] - 0s 4ms/step - loss: 0.2509\n",
            "Epoch 460/2000\n",
            "4/4 [==============================] - 0s 4ms/step - loss: 0.2526\n",
            "Epoch 461/2000\n",
            "4/4 [==============================] - 0s 4ms/step - loss: 0.2512\n",
            "Epoch 462/2000\n",
            "4/4 [==============================] - 0s 4ms/step - loss: 0.2512\n",
            "Epoch 463/2000\n",
            "4/4 [==============================] - 0s 4ms/step - loss: 0.2494\n",
            "Epoch 464/2000\n",
            "4/4 [==============================] - 0s 4ms/step - loss: 0.2512\n",
            "Epoch 465/2000\n",
            "4/4 [==============================] - 0s 4ms/step - loss: 0.2481\n",
            "Epoch 466/2000\n",
            "4/4 [==============================] - 0s 4ms/step - loss: 0.2533\n",
            "Epoch 467/2000\n",
            "4/4 [==============================] - 0s 4ms/step - loss: 0.2496\n",
            "Epoch 468/2000\n",
            "4/4 [==============================] - 0s 3ms/step - loss: 0.2519\n",
            "Epoch 469/2000\n",
            "4/4 [==============================] - 0s 4ms/step - loss: 0.2468\n",
            "Epoch 470/2000\n",
            "4/4 [==============================] - 0s 4ms/step - loss: 0.2501\n",
            "Epoch 471/2000\n",
            "4/4 [==============================] - 0s 3ms/step - loss: 0.2493\n",
            "Epoch 472/2000\n",
            "4/4 [==============================] - 0s 7ms/step - loss: 0.2526\n",
            "Epoch 473/2000\n",
            "4/4 [==============================] - 0s 4ms/step - loss: 0.2526\n",
            "Epoch 474/2000\n",
            "4/4 [==============================] - 0s 5ms/step - loss: 0.2481\n",
            "Epoch 475/2000\n",
            "4/4 [==============================] - 0s 4ms/step - loss: 0.2507\n",
            "Epoch 476/2000\n",
            "4/4 [==============================] - 0s 4ms/step - loss: 0.2496\n",
            "Epoch 477/2000\n",
            "4/4 [==============================] - 0s 6ms/step - loss: 0.2533\n",
            "Epoch 478/2000\n",
            "4/4 [==============================] - 0s 4ms/step - loss: 0.2526\n",
            "Epoch 479/2000\n",
            "4/4 [==============================] - 0s 7ms/step - loss: 0.2482\n",
            "Epoch 480/2000\n",
            "4/4 [==============================] - 0s 5ms/step - loss: 0.2479\n",
            "Epoch 481/2000\n",
            "4/4 [==============================] - 0s 4ms/step - loss: 0.2481\n",
            "Epoch 482/2000\n",
            "4/4 [==============================] - 0s 4ms/step - loss: 0.2490\n",
            "Epoch 483/2000\n",
            "4/4 [==============================] - 0s 4ms/step - loss: 0.2467\n",
            "Epoch 484/2000\n",
            "4/4 [==============================] - 0s 4ms/step - loss: 0.2482\n",
            "Epoch 485/2000\n",
            "4/4 [==============================] - 0s 4ms/step - loss: 0.2534\n",
            "Epoch 486/2000\n",
            "4/4 [==============================] - 0s 4ms/step - loss: 0.2491\n",
            "Epoch 487/2000\n",
            "4/4 [==============================] - 0s 3ms/step - loss: 0.2528\n",
            "Epoch 488/2000\n",
            "4/4 [==============================] - 0s 3ms/step - loss: 0.2493\n",
            "Epoch 489/2000\n",
            "4/4 [==============================] - 0s 7ms/step - loss: 0.2511\n",
            "Epoch 490/2000\n",
            "4/4 [==============================] - 0s 5ms/step - loss: 0.2482\n",
            "Epoch 491/2000\n",
            "4/4 [==============================] - 0s 4ms/step - loss: 0.2516\n",
            "Epoch 492/2000\n",
            "4/4 [==============================] - 0s 5ms/step - loss: 0.2509\n",
            "Epoch 493/2000\n",
            "4/4 [==============================] - 0s 5ms/step - loss: 0.2498\n",
            "Epoch 494/2000\n",
            "4/4 [==============================] - 0s 6ms/step - loss: 0.2490\n",
            "Epoch 495/2000\n",
            "4/4 [==============================] - 0s 6ms/step - loss: 0.2476\n",
            "Epoch 496/2000\n",
            "4/4 [==============================] - 0s 4ms/step - loss: 0.2513\n",
            "Epoch 497/2000\n",
            "4/4 [==============================] - 0s 5ms/step - loss: 0.2478\n",
            "Epoch 498/2000\n",
            "4/4 [==============================] - 0s 6ms/step - loss: 0.2489\n",
            "Epoch 499/2000\n",
            "4/4 [==============================] - 0s 4ms/step - loss: 0.2513\n",
            "Epoch 500/2000\n",
            "4/4 [==============================] - 0s 4ms/step - loss: 0.2501\n",
            "Epoch 501/2000\n",
            "4/4 [==============================] - 0s 5ms/step - loss: 0.2528\n",
            "Epoch 502/2000\n",
            "4/4 [==============================] - 0s 4ms/step - loss: 0.2507\n",
            "Epoch 503/2000\n",
            "4/4 [==============================] - 0s 5ms/step - loss: 0.2490\n",
            "Epoch 504/2000\n",
            "4/4 [==============================] - 0s 4ms/step - loss: 0.2541\n",
            "Epoch 505/2000\n",
            "4/4 [==============================] - 0s 6ms/step - loss: 0.2504\n",
            "Epoch 506/2000\n",
            "4/4 [==============================] - 0s 5ms/step - loss: 0.2463\n",
            "Epoch 507/2000\n",
            "4/4 [==============================] - 0s 4ms/step - loss: 0.2491\n",
            "Epoch 508/2000\n",
            "4/4 [==============================] - 0s 4ms/step - loss: 0.2522\n",
            "Epoch 509/2000\n",
            "4/4 [==============================] - 0s 5ms/step - loss: 0.2450\n",
            "Epoch 510/2000\n",
            "4/4 [==============================] - 0s 8ms/step - loss: 0.2512\n",
            "Epoch 511/2000\n",
            "4/4 [==============================] - 0s 4ms/step - loss: 0.2467\n",
            "Epoch 512/2000\n",
            "4/4 [==============================] - 0s 4ms/step - loss: 0.2493\n",
            "Epoch 513/2000\n",
            "4/4 [==============================] - 0s 5ms/step - loss: 0.2501\n",
            "Epoch 514/2000\n",
            "4/4 [==============================] - 0s 5ms/step - loss: 0.2487\n",
            "Epoch 515/2000\n",
            "4/4 [==============================] - 0s 4ms/step - loss: 0.2541\n",
            "Epoch 516/2000\n",
            "4/4 [==============================] - 0s 4ms/step - loss: 0.2463\n",
            "Epoch 517/2000\n",
            "4/4 [==============================] - 0s 6ms/step - loss: 0.2501\n",
            "Epoch 518/2000\n",
            "4/4 [==============================] - 0s 4ms/step - loss: 0.2460\n",
            "Epoch 519/2000\n",
            "4/4 [==============================] - 0s 4ms/step - loss: 0.2488\n",
            "Epoch 520/2000\n",
            "4/4 [==============================] - 0s 4ms/step - loss: 0.2542\n",
            "Epoch 521/2000\n",
            "4/4 [==============================] - 0s 5ms/step - loss: 0.2488\n",
            "Epoch 522/2000\n",
            "4/4 [==============================] - 0s 4ms/step - loss: 0.2467\n",
            "Epoch 523/2000\n",
            "4/4 [==============================] - 0s 3ms/step - loss: 0.2490\n",
            "Epoch 524/2000\n",
            "4/4 [==============================] - 0s 4ms/step - loss: 0.2466\n",
            "Epoch 525/2000\n",
            "4/4 [==============================] - 0s 4ms/step - loss: 0.2458\n",
            "Epoch 526/2000\n",
            "4/4 [==============================] - 0s 3ms/step - loss: 0.2484\n",
            "Epoch 527/2000\n",
            "4/4 [==============================] - 0s 6ms/step - loss: 0.2523\n",
            "Epoch 528/2000\n",
            "4/4 [==============================] - 0s 4ms/step - loss: 0.2530\n",
            "Epoch 529/2000\n",
            "4/4 [==============================] - 0s 5ms/step - loss: 0.2501\n",
            "Epoch 530/2000\n",
            "4/4 [==============================] - 0s 5ms/step - loss: 0.2484\n",
            "Epoch 531/2000\n",
            "4/4 [==============================] - 0s 3ms/step - loss: 0.2511\n",
            "Epoch 532/2000\n",
            "4/4 [==============================] - 0s 3ms/step - loss: 0.2498\n",
            "Epoch 533/2000\n",
            "4/4 [==============================] - 0s 5ms/step - loss: 0.2527\n",
            "Epoch 534/2000\n",
            "4/4 [==============================] - 0s 6ms/step - loss: 0.2459\n",
            "Epoch 535/2000\n",
            "4/4 [==============================] - 0s 4ms/step - loss: 0.2537\n",
            "Epoch 536/2000\n",
            "4/4 [==============================] - 0s 4ms/step - loss: 0.2478\n",
            "Epoch 537/2000\n",
            "4/4 [==============================] - 0s 4ms/step - loss: 0.2478\n",
            "Epoch 538/2000\n",
            "4/4 [==============================] - 0s 4ms/step - loss: 0.2534\n",
            "Epoch 539/2000\n",
            "4/4 [==============================] - 0s 5ms/step - loss: 0.2480\n",
            "Epoch 540/2000\n",
            "4/4 [==============================] - 0s 5ms/step - loss: 0.2467\n",
            "Epoch 541/2000\n",
            "4/4 [==============================] - 0s 4ms/step - loss: 0.2529\n",
            "Epoch 542/2000\n",
            "4/4 [==============================] - 0s 5ms/step - loss: 0.2478\n",
            "Epoch 543/2000\n",
            "4/4 [==============================] - 0s 6ms/step - loss: 0.2441\n",
            "Epoch 544/2000\n",
            "4/4 [==============================] - 0s 4ms/step - loss: 0.2488\n",
            "Epoch 545/2000\n",
            "4/4 [==============================] - 0s 4ms/step - loss: 0.2449\n",
            "Epoch 546/2000\n",
            "4/4 [==============================] - 0s 7ms/step - loss: 0.2503\n",
            "Epoch 547/2000\n",
            "4/4 [==============================] - 0s 5ms/step - loss: 0.2491\n",
            "Epoch 548/2000\n",
            "4/4 [==============================] - 0s 4ms/step - loss: 0.2456\n",
            "Epoch 549/2000\n",
            "4/4 [==============================] - 0s 3ms/step - loss: 0.2489\n",
            "Epoch 550/2000\n",
            "4/4 [==============================] - 0s 4ms/step - loss: 0.2456\n",
            "Epoch 551/2000\n",
            "4/4 [==============================] - 0s 4ms/step - loss: 0.2503\n",
            "Epoch 552/2000\n",
            "4/4 [==============================] - 0s 4ms/step - loss: 0.2455\n",
            "Epoch 553/2000\n",
            "4/4 [==============================] - 0s 4ms/step - loss: 0.2536\n",
            "Epoch 554/2000\n",
            "4/4 [==============================] - 0s 4ms/step - loss: 0.2536\n",
            "Epoch 555/2000\n",
            "4/4 [==============================] - 0s 4ms/step - loss: 0.2447\n",
            "Epoch 556/2000\n",
            "4/4 [==============================] - 0s 6ms/step - loss: 0.2453\n",
            "Epoch 557/2000\n",
            "4/4 [==============================] - 0s 4ms/step - loss: 0.2537\n",
            "Epoch 558/2000\n",
            "4/4 [==============================] - 0s 4ms/step - loss: 0.2537\n",
            "Epoch 559/2000\n",
            "4/4 [==============================] - 0s 4ms/step - loss: 0.2462\n",
            "Epoch 560/2000\n",
            "4/4 [==============================] - 0s 6ms/step - loss: 0.2536\n",
            "Epoch 561/2000\n",
            "4/4 [==============================] - 0s 4ms/step - loss: 0.2488\n",
            "Epoch 562/2000\n",
            "4/4 [==============================] - 0s 5ms/step - loss: 0.2482\n",
            "Epoch 563/2000\n",
            "4/4 [==============================] - 0s 6ms/step - loss: 0.2528\n",
            "Epoch 564/2000\n",
            "4/4 [==============================] - 0s 4ms/step - loss: 0.2528\n",
            "Epoch 565/2000\n",
            "4/4 [==============================] - 0s 5ms/step - loss: 0.2502\n",
            "Epoch 566/2000\n",
            "4/4 [==============================] - 0s 7ms/step - loss: 0.2448\n",
            "Epoch 567/2000\n",
            "4/4 [==============================] - 0s 5ms/step - loss: 0.2502\n",
            "Epoch 568/2000\n",
            "4/4 [==============================] - 0s 3ms/step - loss: 0.2484\n",
            "Epoch 569/2000\n",
            "4/4 [==============================] - 0s 3ms/step - loss: 0.2497\n",
            "Epoch 570/2000\n",
            "4/4 [==============================] - 0s 4ms/step - loss: 0.2473\n",
            "Epoch 571/2000\n",
            "4/4 [==============================] - 0s 6ms/step - loss: 0.2495\n",
            "Epoch 572/2000\n",
            "4/4 [==============================] - 0s 4ms/step - loss: 0.2479\n",
            "Epoch 573/2000\n",
            "4/4 [==============================] - 0s 5ms/step - loss: 0.2487\n",
            "Epoch 574/2000\n",
            "4/4 [==============================] - 0s 4ms/step - loss: 0.2466\n",
            "Epoch 575/2000\n",
            "4/4 [==============================] - 0s 5ms/step - loss: 0.2460\n",
            "Epoch 576/2000\n",
            "4/4 [==============================] - 0s 4ms/step - loss: 0.2486\n",
            "Epoch 577/2000\n",
            "4/4 [==============================] - 0s 5ms/step - loss: 0.2533\n",
            "Epoch 578/2000\n",
            "4/4 [==============================] - 0s 5ms/step - loss: 0.2444\n",
            "Epoch 579/2000\n",
            "4/4 [==============================] - 0s 4ms/step - loss: 0.2478\n",
            "Epoch 580/2000\n",
            "4/4 [==============================] - 0s 4ms/step - loss: 0.2463\n",
            "Epoch 581/2000\n",
            "4/4 [==============================] - 0s 5ms/step - loss: 0.2447\n",
            "Epoch 582/2000\n",
            "4/4 [==============================] - 0s 6ms/step - loss: 0.2443\n",
            "Epoch 583/2000\n",
            "4/4 [==============================] - 0s 7ms/step - loss: 0.2496\n",
            "Epoch 584/2000\n",
            "4/4 [==============================] - 0s 5ms/step - loss: 0.2451\n",
            "Epoch 585/2000\n",
            "4/4 [==============================] - 0s 5ms/step - loss: 0.2445\n",
            "Epoch 586/2000\n",
            "4/4 [==============================] - 0s 5ms/step - loss: 0.2448\n",
            "Epoch 587/2000\n",
            "4/4 [==============================] - 0s 5ms/step - loss: 0.2531\n",
            "Epoch 588/2000\n",
            "4/4 [==============================] - 0s 4ms/step - loss: 0.2465\n",
            "Epoch 589/2000\n",
            "4/4 [==============================] - 0s 5ms/step - loss: 0.2531\n",
            "Epoch 590/2000\n",
            "4/4 [==============================] - 0s 5ms/step - loss: 0.2492\n",
            "Epoch 591/2000\n",
            "4/4 [==============================] - 0s 4ms/step - loss: 0.2442\n",
            "Epoch 592/2000\n",
            "4/4 [==============================] - 0s 5ms/step - loss: 0.2455\n",
            "Epoch 593/2000\n",
            "4/4 [==============================] - 0s 5ms/step - loss: 0.2504\n",
            "Epoch 594/2000\n",
            "4/4 [==============================] - 0s 5ms/step - loss: 0.2526\n",
            "Epoch 595/2000\n",
            "4/4 [==============================] - 0s 6ms/step - loss: 0.2492\n",
            "Epoch 596/2000\n",
            "4/4 [==============================] - 0s 5ms/step - loss: 0.2487\n",
            "Epoch 597/2000\n",
            "4/4 [==============================] - 0s 5ms/step - loss: 0.2479\n",
            "Epoch 598/2000\n",
            "4/4 [==============================] - 0s 4ms/step - loss: 0.2526\n",
            "Epoch 599/2000\n",
            "4/4 [==============================] - 0s 5ms/step - loss: 0.2456\n",
            "Epoch 600/2000\n",
            "4/4 [==============================] - 0s 4ms/step - loss: 0.2448\n",
            "Epoch 601/2000\n",
            "4/4 [==============================] - 0s 5ms/step - loss: 0.2447\n",
            "Epoch 602/2000\n",
            "4/4 [==============================] - 0s 5ms/step - loss: 0.2496\n",
            "Epoch 603/2000\n",
            "4/4 [==============================] - 0s 4ms/step - loss: 0.2504\n",
            "Epoch 604/2000\n",
            "4/4 [==============================] - 0s 5ms/step - loss: 0.2453\n",
            "Epoch 605/2000\n",
            "4/4 [==============================] - 0s 5ms/step - loss: 0.2492\n",
            "Epoch 606/2000\n",
            "4/4 [==============================] - 0s 7ms/step - loss: 0.2504\n",
            "Epoch 607/2000\n",
            "4/4 [==============================] - 0s 4ms/step - loss: 0.2471\n",
            "Epoch 608/2000\n",
            "4/4 [==============================] - 0s 3ms/step - loss: 0.2436\n",
            "Epoch 609/2000\n",
            "4/4 [==============================] - 0s 6ms/step - loss: 0.2481\n",
            "Epoch 610/2000\n",
            "4/4 [==============================] - 0s 5ms/step - loss: 0.2453\n",
            "Epoch 611/2000\n",
            "4/4 [==============================] - 0s 3ms/step - loss: 0.2495\n",
            "Epoch 612/2000\n",
            "4/4 [==============================] - 0s 4ms/step - loss: 0.2469\n",
            "Epoch 613/2000\n",
            "4/4 [==============================] - 0s 4ms/step - loss: 0.2425\n",
            "Epoch 614/2000\n",
            "4/4 [==============================] - 0s 3ms/step - loss: 0.2504\n",
            "Epoch 615/2000\n",
            "4/4 [==============================] - 0s 5ms/step - loss: 0.2495\n",
            "Epoch 616/2000\n",
            "4/4 [==============================] - 0s 3ms/step - loss: 0.2482\n",
            "Epoch 617/2000\n",
            "4/4 [==============================] - 0s 5ms/step - loss: 0.2447\n",
            "Epoch 618/2000\n",
            "4/4 [==============================] - 0s 3ms/step - loss: 0.2494\n",
            "Epoch 619/2000\n",
            "4/4 [==============================] - 0s 5ms/step - loss: 0.2426\n",
            "Epoch 620/2000\n",
            "4/4 [==============================] - 0s 5ms/step - loss: 0.2529\n",
            "Epoch 621/2000\n",
            "4/4 [==============================] - 0s 5ms/step - loss: 0.2419\n",
            "Epoch 622/2000\n",
            "4/4 [==============================] - 0s 5ms/step - loss: 0.2471\n",
            "Epoch 623/2000\n",
            "4/4 [==============================] - 0s 3ms/step - loss: 0.2466\n",
            "Epoch 624/2000\n",
            "4/4 [==============================] - 0s 6ms/step - loss: 0.2440\n",
            "Epoch 625/2000\n",
            "4/4 [==============================] - 0s 5ms/step - loss: 0.2441\n",
            "Epoch 626/2000\n",
            "4/4 [==============================] - 0s 6ms/step - loss: 0.2529\n",
            "Epoch 627/2000\n",
            "4/4 [==============================] - 0s 6ms/step - loss: 0.2469\n",
            "Epoch 628/2000\n",
            "4/4 [==============================] - 0s 6ms/step - loss: 0.2439\n",
            "Epoch 629/2000\n",
            "4/4 [==============================] - 0s 4ms/step - loss: 0.2530\n",
            "Epoch 630/2000\n",
            "4/4 [==============================] - 0s 6ms/step - loss: 0.2449\n",
            "Epoch 631/2000\n",
            "4/4 [==============================] - 0s 4ms/step - loss: 0.2515\n",
            "Epoch 632/2000\n",
            "4/4 [==============================] - 0s 6ms/step - loss: 0.2437\n",
            "Epoch 633/2000\n",
            "4/4 [==============================] - 0s 5ms/step - loss: 0.2422\n",
            "Epoch 634/2000\n",
            "4/4 [==============================] - 0s 5ms/step - loss: 0.2420\n",
            "Epoch 635/2000\n",
            "4/4 [==============================] - 0s 2ms/step - loss: 0.2497\n",
            "Epoch 636/2000\n",
            "4/4 [==============================] - 0s 2ms/step - loss: 0.2423\n",
            "Epoch 637/2000\n",
            "4/4 [==============================] - 0s 3ms/step - loss: 0.2531\n",
            "Epoch 638/2000\n",
            "4/4 [==============================] - 0s 4ms/step - loss: 0.2527\n",
            "Epoch 639/2000\n",
            "4/4 [==============================] - 0s 7ms/step - loss: 0.2422\n",
            "Epoch 640/2000\n",
            "4/4 [==============================] - 0s 4ms/step - loss: 0.2451\n",
            "Epoch 641/2000\n",
            "4/4 [==============================] - 0s 3ms/step - loss: 0.2459\n",
            "Epoch 642/2000\n",
            "4/4 [==============================] - 0s 6ms/step - loss: 0.2445\n",
            "Epoch 643/2000\n",
            "4/4 [==============================] - 0s 3ms/step - loss: 0.2419\n",
            "Epoch 644/2000\n",
            "4/4 [==============================] - 0s 4ms/step - loss: 0.2521\n",
            "Epoch 645/2000\n",
            "4/4 [==============================] - 0s 6ms/step - loss: 0.2497\n",
            "Epoch 646/2000\n",
            "4/4 [==============================] - 0s 8ms/step - loss: 0.2497\n",
            "Epoch 647/2000\n",
            "4/4 [==============================] - 0s 4ms/step - loss: 0.2428\n",
            "Epoch 648/2000\n",
            "4/4 [==============================] - 0s 8ms/step - loss: 0.2495\n",
            "Epoch 649/2000\n",
            "4/4 [==============================] - 0s 6ms/step - loss: 0.2454\n",
            "Epoch 650/2000\n",
            "4/4 [==============================] - 0s 4ms/step - loss: 0.2448\n",
            "Epoch 651/2000\n",
            "4/4 [==============================] - 0s 4ms/step - loss: 0.2413\n",
            "Epoch 652/2000\n",
            "4/4 [==============================] - 0s 4ms/step - loss: 0.2470\n",
            "Epoch 653/2000\n",
            "4/4 [==============================] - 0s 4ms/step - loss: 0.2412\n",
            "Epoch 654/2000\n",
            "4/4 [==============================] - 0s 4ms/step - loss: 0.2440\n",
            "Epoch 655/2000\n",
            "4/4 [==============================] - 0s 4ms/step - loss: 0.2520\n",
            "Epoch 656/2000\n",
            "4/4 [==============================] - 0s 5ms/step - loss: 0.2493\n",
            "Epoch 657/2000\n",
            "4/4 [==============================] - 0s 4ms/step - loss: 0.2493\n",
            "Epoch 658/2000\n",
            "4/4 [==============================] - 0s 4ms/step - loss: 0.2427\n",
            "Epoch 659/2000\n",
            "4/4 [==============================] - 0s 8ms/step - loss: 0.2482\n",
            "Epoch 660/2000\n",
            "4/4 [==============================] - 0s 7ms/step - loss: 0.2469\n",
            "Epoch 661/2000\n",
            "4/4 [==============================] - 0s 9ms/step - loss: 0.2407\n",
            "Epoch 662/2000\n",
            "4/4 [==============================] - 0s 4ms/step - loss: 0.2406\n",
            "Epoch 663/2000\n",
            "4/4 [==============================] - 0s 4ms/step - loss: 0.2516\n",
            "Epoch 664/2000\n",
            "4/4 [==============================] - 0s 5ms/step - loss: 0.2520\n",
            "Epoch 665/2000\n",
            "4/4 [==============================] - 0s 5ms/step - loss: 0.2436\n",
            "Epoch 666/2000\n",
            "4/4 [==============================] - 0s 5ms/step - loss: 0.2519\n",
            "Epoch 667/2000\n",
            "4/4 [==============================] - 0s 5ms/step - loss: 0.2480\n",
            "Epoch 668/2000\n",
            "4/4 [==============================] - 0s 5ms/step - loss: 0.2435\n",
            "Epoch 669/2000\n",
            "4/4 [==============================] - 0s 5ms/step - loss: 0.2487\n",
            "Epoch 670/2000\n",
            "4/4 [==============================] - 0s 6ms/step - loss: 0.2485\n",
            "Epoch 671/2000\n",
            "4/4 [==============================] - 0s 4ms/step - loss: 0.2503\n",
            "Epoch 672/2000\n",
            "4/4 [==============================] - 0s 4ms/step - loss: 0.2402\n",
            "Epoch 673/2000\n",
            "4/4 [==============================] - 0s 3ms/step - loss: 0.2491\n",
            "Epoch 674/2000\n",
            "4/4 [==============================] - 0s 6ms/step - loss: 0.2467\n",
            "Epoch 675/2000\n",
            "4/4 [==============================] - 0s 5ms/step - loss: 0.2514\n",
            "Epoch 676/2000\n",
            "4/4 [==============================] - 0s 6ms/step - loss: 0.2519\n",
            "Epoch 677/2000\n",
            "4/4 [==============================] - 0s 5ms/step - loss: 0.2442\n",
            "Epoch 678/2000\n",
            "4/4 [==============================] - 0s 5ms/step - loss: 0.2471\n",
            "Epoch 679/2000\n",
            "4/4 [==============================] - 0s 3ms/step - loss: 0.2426\n",
            "Epoch 680/2000\n",
            "4/4 [==============================] - 0s 4ms/step - loss: 0.2446\n",
            "Epoch 681/2000\n",
            "4/4 [==============================] - 0s 3ms/step - loss: 0.2445\n",
            "Epoch 682/2000\n",
            "4/4 [==============================] - 0s 4ms/step - loss: 0.2479\n",
            "Epoch 683/2000\n",
            "4/4 [==============================] - 0s 6ms/step - loss: 0.2394\n",
            "Epoch 684/2000\n",
            "4/4 [==============================] - 0s 3ms/step - loss: 0.2480\n",
            "Epoch 685/2000\n",
            "4/4 [==============================] - 0s 4ms/step - loss: 0.2475\n",
            "Epoch 686/2000\n",
            "4/4 [==============================] - 0s 5ms/step - loss: 0.2463\n",
            "Epoch 687/2000\n",
            "4/4 [==============================] - 0s 5ms/step - loss: 0.2409\n",
            "Epoch 688/2000\n",
            "4/4 [==============================] - 0s 5ms/step - loss: 0.2472\n",
            "Epoch 689/2000\n",
            "4/4 [==============================] - 0s 5ms/step - loss: 0.2467\n",
            "Epoch 690/2000\n",
            "4/4 [==============================] - 0s 4ms/step - loss: 0.2477\n",
            "Epoch 691/2000\n",
            "4/4 [==============================] - 0s 4ms/step - loss: 0.2392\n",
            "Epoch 692/2000\n",
            "4/4 [==============================] - 0s 2ms/step - loss: 0.2431\n",
            "Epoch 693/2000\n",
            "4/4 [==============================] - 0s 5ms/step - loss: 0.2451\n",
            "Epoch 694/2000\n",
            "4/4 [==============================] - 0s 6ms/step - loss: 0.2519\n",
            "Epoch 695/2000\n",
            "4/4 [==============================] - 0s 3ms/step - loss: 0.2400\n",
            "Epoch 696/2000\n",
            "4/4 [==============================] - 0s 3ms/step - loss: 0.2429\n",
            "Epoch 697/2000\n",
            "4/4 [==============================] - 0s 4ms/step - loss: 0.2447\n",
            "Epoch 698/2000\n",
            "4/4 [==============================] - 0s 4ms/step - loss: 0.2484\n",
            "Epoch 699/2000\n",
            "4/4 [==============================] - 0s 5ms/step - loss: 0.2457\n",
            "Epoch 700/2000\n",
            "4/4 [==============================] - 0s 4ms/step - loss: 0.2428\n",
            "Epoch 701/2000\n",
            "4/4 [==============================] - 0s 3ms/step - loss: 0.2399\n",
            "Epoch 702/2000\n",
            "4/4 [==============================] - 0s 5ms/step - loss: 0.2469\n",
            "Epoch 703/2000\n",
            "4/4 [==============================] - 0s 3ms/step - loss: 0.2385\n",
            "Epoch 704/2000\n",
            "4/4 [==============================] - 0s 5ms/step - loss: 0.2475\n",
            "Epoch 705/2000\n",
            "4/4 [==============================] - 0s 4ms/step - loss: 0.2483\n",
            "Epoch 706/2000\n",
            "4/4 [==============================] - 0s 3ms/step - loss: 0.2424\n",
            "Epoch 707/2000\n",
            "4/4 [==============================] - 0s 8ms/step - loss: 0.2513\n",
            "Epoch 708/2000\n",
            "4/4 [==============================] - 0s 7ms/step - loss: 0.2469\n",
            "Epoch 709/2000\n",
            "4/4 [==============================] - 0s 5ms/step - loss: 0.2378\n",
            "Epoch 710/2000\n",
            "4/4 [==============================] - 0s 4ms/step - loss: 0.2425\n",
            "Epoch 711/2000\n",
            "4/4 [==============================] - 0s 3ms/step - loss: 0.2466\n",
            "Epoch 712/2000\n",
            "4/4 [==============================] - 0s 5ms/step - loss: 0.2405\n",
            "Epoch 713/2000\n",
            "4/4 [==============================] - 0s 8ms/step - loss: 0.2393\n",
            "Epoch 714/2000\n",
            "4/4 [==============================] - 0s 4ms/step - loss: 0.2445\n",
            "Epoch 715/2000\n",
            "4/4 [==============================] - 0s 6ms/step - loss: 0.2372\n",
            "Epoch 716/2000\n",
            "4/4 [==============================] - 0s 6ms/step - loss: 0.2408\n",
            "Epoch 717/2000\n",
            "4/4 [==============================] - 0s 4ms/step - loss: 0.2388\n",
            "Epoch 718/2000\n",
            "4/4 [==============================] - 0s 6ms/step - loss: 0.2418\n",
            "Epoch 719/2000\n",
            "4/4 [==============================] - 0s 4ms/step - loss: 0.2508\n",
            "Epoch 720/2000\n",
            "4/4 [==============================] - 0s 5ms/step - loss: 0.2460\n",
            "Epoch 721/2000\n",
            "4/4 [==============================] - 0s 7ms/step - loss: 0.2394\n",
            "Epoch 722/2000\n",
            "4/4 [==============================] - 0s 4ms/step - loss: 0.2438\n",
            "Epoch 723/2000\n",
            "4/4 [==============================] - 0s 5ms/step - loss: 0.2443\n",
            "Epoch 724/2000\n",
            "4/4 [==============================] - 0s 5ms/step - loss: 0.2477\n",
            "Epoch 725/2000\n",
            "4/4 [==============================] - 0s 6ms/step - loss: 0.2382\n",
            "Epoch 726/2000\n",
            "4/4 [==============================] - 0s 6ms/step - loss: 0.2364\n",
            "Epoch 727/2000\n",
            "4/4 [==============================] - 0s 7ms/step - loss: 0.2452\n",
            "Epoch 728/2000\n",
            "4/4 [==============================] - 0s 4ms/step - loss: 0.2455\n",
            "Epoch 729/2000\n",
            "4/4 [==============================] - 0s 4ms/step - loss: 0.2437\n",
            "Epoch 730/2000\n",
            "4/4 [==============================] - 0s 5ms/step - loss: 0.2388\n",
            "Epoch 731/2000\n",
            "4/4 [==============================] - 0s 5ms/step - loss: 0.2475\n",
            "Epoch 732/2000\n",
            "4/4 [==============================] - 0s 4ms/step - loss: 0.2517\n",
            "Epoch 733/2000\n",
            "4/4 [==============================] - 0s 6ms/step - loss: 0.2371\n",
            "Epoch 734/2000\n",
            "4/4 [==============================] - 0s 8ms/step - loss: 0.2418\n",
            "Epoch 735/2000\n",
            "4/4 [==============================] - 0s 7ms/step - loss: 0.2421\n",
            "Epoch 736/2000\n",
            "4/4 [==============================] - 0s 4ms/step - loss: 0.2415\n",
            "Epoch 737/2000\n",
            "4/4 [==============================] - 0s 4ms/step - loss: 0.2383\n",
            "Epoch 738/2000\n",
            "4/4 [==============================] - 0s 4ms/step - loss: 0.2383\n",
            "Epoch 739/2000\n",
            "4/4 [==============================] - 0s 4ms/step - loss: 0.2371\n",
            "Epoch 740/2000\n",
            "4/4 [==============================] - 0s 2ms/step - loss: 0.2353\n",
            "Epoch 741/2000\n",
            "4/4 [==============================] - 0s 4ms/step - loss: 0.2401\n",
            "Epoch 742/2000\n",
            "4/4 [==============================] - 0s 4ms/step - loss: 0.2355\n",
            "Epoch 743/2000\n",
            "4/4 [==============================] - 0s 4ms/step - loss: 0.2495\n",
            "Epoch 744/2000\n",
            "4/4 [==============================] - 0s 7ms/step - loss: 0.2469\n",
            "Epoch 745/2000\n",
            "4/4 [==============================] - 0s 5ms/step - loss: 0.2462\n",
            "Epoch 746/2000\n",
            "4/4 [==============================] - 0s 5ms/step - loss: 0.2366\n",
            "Epoch 747/2000\n",
            "4/4 [==============================] - 0s 5ms/step - loss: 0.2497\n",
            "Epoch 748/2000\n",
            "4/4 [==============================] - 0s 3ms/step - loss: 0.2454\n",
            "Epoch 749/2000\n",
            "4/4 [==============================] - 0s 4ms/step - loss: 0.2446\n",
            "Epoch 750/2000\n",
            "4/4 [==============================] - 0s 3ms/step - loss: 0.2360\n",
            "Epoch 751/2000\n",
            "4/4 [==============================] - 0s 4ms/step - loss: 0.2412\n",
            "Epoch 752/2000\n",
            "4/4 [==============================] - 0s 3ms/step - loss: 0.2379\n",
            "Epoch 753/2000\n",
            "4/4 [==============================] - 0s 5ms/step - loss: 0.2466\n",
            "Epoch 754/2000\n",
            "4/4 [==============================] - 0s 7ms/step - loss: 0.2424\n",
            "Epoch 755/2000\n",
            "4/4 [==============================] - 0s 3ms/step - loss: 0.2410\n",
            "Epoch 756/2000\n",
            "4/4 [==============================] - 0s 6ms/step - loss: 0.2465\n",
            "Epoch 757/2000\n",
            "4/4 [==============================] - 0s 4ms/step - loss: 0.2448\n",
            "Epoch 758/2000\n",
            "4/4 [==============================] - 0s 8ms/step - loss: 0.2464\n",
            "Epoch 759/2000\n",
            "4/4 [==============================] - 0s 5ms/step - loss: 0.2428\n",
            "Epoch 760/2000\n",
            "4/4 [==============================] - 0s 5ms/step - loss: 0.2412\n",
            "Epoch 761/2000\n",
            "4/4 [==============================] - 0s 7ms/step - loss: 0.2349\n",
            "Epoch 762/2000\n",
            "4/4 [==============================] - 0s 4ms/step - loss: 0.2370\n",
            "Epoch 763/2000\n",
            "4/4 [==============================] - 0s 7ms/step - loss: 0.2343\n",
            "Epoch 764/2000\n",
            "4/4 [==============================] - 0s 3ms/step - loss: 0.2426\n",
            "Epoch 765/2000\n",
            "4/4 [==============================] - 0s 3ms/step - loss: 0.2436\n",
            "Epoch 766/2000\n",
            "4/4 [==============================] - 0s 3ms/step - loss: 0.2343\n",
            "Epoch 767/2000\n",
            "4/4 [==============================] - 0s 3ms/step - loss: 0.2341\n",
            "Epoch 768/2000\n",
            "4/4 [==============================] - 0s 4ms/step - loss: 0.2459\n",
            "Epoch 769/2000\n",
            "4/4 [==============================] - 0s 4ms/step - loss: 0.2439\n",
            "Epoch 770/2000\n",
            "4/4 [==============================] - 0s 5ms/step - loss: 0.2339\n",
            "Epoch 771/2000\n",
            "4/4 [==============================] - 0s 6ms/step - loss: 0.2356\n",
            "Epoch 772/2000\n",
            "4/4 [==============================] - 0s 6ms/step - loss: 0.2356\n",
            "Epoch 773/2000\n",
            "4/4 [==============================] - 0s 4ms/step - loss: 0.2360\n",
            "Epoch 774/2000\n",
            "4/4 [==============================] - 0s 6ms/step - loss: 0.2322\n",
            "Epoch 775/2000\n",
            "4/4 [==============================] - 0s 6ms/step - loss: 0.2329\n",
            "Epoch 776/2000\n",
            "4/4 [==============================] - 0s 5ms/step - loss: 0.2376\n",
            "Epoch 777/2000\n",
            "4/4 [==============================] - 0s 2ms/step - loss: 0.2454\n",
            "Epoch 778/2000\n",
            "4/4 [==============================] - 0s 4ms/step - loss: 0.2484\n",
            "Epoch 779/2000\n",
            "4/4 [==============================] - 0s 3ms/step - loss: 0.2451\n",
            "Epoch 780/2000\n",
            "4/4 [==============================] - 0s 3ms/step - loss: 0.2329\n",
            "Epoch 781/2000\n",
            "4/4 [==============================] - 0s 7ms/step - loss: 0.2417\n",
            "Epoch 782/2000\n",
            "4/4 [==============================] - 0s 5ms/step - loss: 0.2482\n",
            "Epoch 783/2000\n",
            "4/4 [==============================] - 0s 5ms/step - loss: 0.2361\n",
            "Epoch 784/2000\n",
            "4/4 [==============================] - 0s 6ms/step - loss: 0.2317\n",
            "Epoch 785/2000\n",
            "4/4 [==============================] - 0s 5ms/step - loss: 0.2415\n",
            "Epoch 786/2000\n",
            "4/4 [==============================] - 0s 2ms/step - loss: 0.2421\n",
            "Epoch 787/2000\n",
            "4/4 [==============================] - 0s 6ms/step - loss: 0.2438\n",
            "Epoch 788/2000\n",
            "4/4 [==============================] - 0s 4ms/step - loss: 0.2320\n",
            "Epoch 789/2000\n",
            "4/4 [==============================] - 0s 6ms/step - loss: 0.2415\n",
            "Epoch 790/2000\n",
            "4/4 [==============================] - 0s 6ms/step - loss: 0.2312\n",
            "Epoch 791/2000\n",
            "4/4 [==============================] - 0s 6ms/step - loss: 0.2311\n",
            "Epoch 792/2000\n",
            "4/4 [==============================] - 0s 7ms/step - loss: 0.2358\n",
            "Epoch 793/2000\n",
            "4/4 [==============================] - 0s 2ms/step - loss: 0.2318\n",
            "Epoch 794/2000\n",
            "4/4 [==============================] - 0s 4ms/step - loss: 0.2344\n",
            "Epoch 795/2000\n",
            "4/4 [==============================] - 0s 4ms/step - loss: 0.2343\n",
            "Epoch 796/2000\n",
            "4/4 [==============================] - 0s 4ms/step - loss: 0.2423\n",
            "Epoch 797/2000\n",
            "4/4 [==============================] - 0s 11ms/step - loss: 0.2310\n",
            "Epoch 798/2000\n",
            "4/4 [==============================] - 0s 4ms/step - loss: 0.2405\n",
            "Epoch 799/2000\n",
            "4/4 [==============================] - 0s 4ms/step - loss: 0.2407\n",
            "Epoch 800/2000\n",
            "4/4 [==============================] - 0s 4ms/step - loss: 0.2301\n",
            "Epoch 801/2000\n",
            "4/4 [==============================] - 0s 5ms/step - loss: 0.2303\n",
            "Epoch 802/2000\n",
            "4/4 [==============================] - 0s 3ms/step - loss: 0.2407\n",
            "Epoch 803/2000\n",
            "4/4 [==============================] - 0s 4ms/step - loss: 0.2475\n",
            "Epoch 804/2000\n",
            "4/4 [==============================] - 0s 5ms/step - loss: 0.2432\n",
            "Epoch 805/2000\n",
            "4/4 [==============================] - 0s 3ms/step - loss: 0.2294\n",
            "Epoch 806/2000\n",
            "4/4 [==============================] - 0s 3ms/step - loss: 0.2322\n",
            "Epoch 807/2000\n",
            "4/4 [==============================] - 0s 4ms/step - loss: 0.2302\n",
            "Epoch 808/2000\n",
            "4/4 [==============================] - 0s 3ms/step - loss: 0.2290\n",
            "Epoch 809/2000\n",
            "4/4 [==============================] - 0s 4ms/step - loss: 0.2413\n",
            "Epoch 810/2000\n",
            "4/4 [==============================] - 0s 3ms/step - loss: 0.2321\n",
            "Epoch 811/2000\n",
            "4/4 [==============================] - 0s 2ms/step - loss: 0.2435\n",
            "Epoch 812/2000\n",
            "4/4 [==============================] - 0s 5ms/step - loss: 0.2330\n",
            "Epoch 813/2000\n",
            "4/4 [==============================] - 0s 4ms/step - loss: 0.2285\n",
            "Epoch 814/2000\n",
            "4/4 [==============================] - 0s 4ms/step - loss: 0.2347\n",
            "Epoch 815/2000\n",
            "4/4 [==============================] - 0s 5ms/step - loss: 0.2450\n",
            "Epoch 816/2000\n",
            "4/4 [==============================] - 0s 2ms/step - loss: 0.2357\n",
            "Epoch 817/2000\n",
            "4/4 [==============================] - 0s 3ms/step - loss: 0.2416\n",
            "Epoch 818/2000\n",
            "4/4 [==============================] - 0s 5ms/step - loss: 0.2454\n",
            "Epoch 819/2000\n",
            "4/4 [==============================] - 0s 3ms/step - loss: 0.2412\n",
            "Epoch 820/2000\n",
            "4/4 [==============================] - 0s 3ms/step - loss: 0.2346\n",
            "Epoch 821/2000\n",
            "4/4 [==============================] - 0s 4ms/step - loss: 0.2329\n",
            "Epoch 822/2000\n",
            "4/4 [==============================] - 0s 4ms/step - loss: 0.2320\n",
            "Epoch 823/2000\n",
            "4/4 [==============================] - 0s 3ms/step - loss: 0.2410\n",
            "Epoch 824/2000\n",
            "4/4 [==============================] - 0s 3ms/step - loss: 0.2296\n",
            "Epoch 825/2000\n",
            "4/4 [==============================] - 0s 6ms/step - loss: 0.2273\n",
            "Epoch 826/2000\n",
            "4/4 [==============================] - 0s 3ms/step - loss: 0.2405\n",
            "Epoch 827/2000\n",
            "4/4 [==============================] - 0s 6ms/step - loss: 0.2348\n",
            "Epoch 828/2000\n",
            "4/4 [==============================] - 0s 4ms/step - loss: 0.2330\n",
            "Epoch 829/2000\n",
            "4/4 [==============================] - 0s 4ms/step - loss: 0.2307\n",
            "Epoch 830/2000\n",
            "4/4 [==============================] - 0s 7ms/step - loss: 0.2255\n",
            "Epoch 831/2000\n",
            "4/4 [==============================] - 0s 6ms/step - loss: 0.2443\n",
            "Epoch 832/2000\n",
            "4/4 [==============================] - 0s 5ms/step - loss: 0.2401\n",
            "Epoch 833/2000\n",
            "4/4 [==============================] - 0s 6ms/step - loss: 0.2304\n",
            "Epoch 834/2000\n",
            "4/4 [==============================] - 0s 5ms/step - loss: 0.2419\n",
            "Epoch 835/2000\n",
            "4/4 [==============================] - 0s 5ms/step - loss: 0.2356\n",
            "Epoch 836/2000\n",
            "4/4 [==============================] - 0s 6ms/step - loss: 0.2303\n",
            "Epoch 837/2000\n",
            "4/4 [==============================] - 0s 4ms/step - loss: 0.2329\n",
            "Epoch 838/2000\n",
            "4/4 [==============================] - 0s 5ms/step - loss: 0.2429\n",
            "Epoch 839/2000\n",
            "4/4 [==============================] - 0s 7ms/step - loss: 0.2283\n",
            "Epoch 840/2000\n",
            "4/4 [==============================] - 0s 5ms/step - loss: 0.2326\n",
            "Epoch 841/2000\n",
            "4/4 [==============================] - 0s 5ms/step - loss: 0.2292\n",
            "Epoch 842/2000\n",
            "4/4 [==============================] - 0s 8ms/step - loss: 0.2238\n",
            "Epoch 843/2000\n",
            "4/4 [==============================] - 0s 6ms/step - loss: 0.2408\n",
            "Epoch 844/2000\n",
            "4/4 [==============================] - 0s 6ms/step - loss: 0.2322\n",
            "Epoch 845/2000\n",
            "4/4 [==============================] - 0s 4ms/step - loss: 0.2430\n",
            "Epoch 846/2000\n",
            "4/4 [==============================] - 0s 6ms/step - loss: 0.2428\n",
            "Epoch 847/2000\n",
            "4/4 [==============================] - 0s 6ms/step - loss: 0.2313\n",
            "Epoch 848/2000\n",
            "4/4 [==============================] - 0s 3ms/step - loss: 0.2406\n",
            "Epoch 849/2000\n",
            "4/4 [==============================] - 0s 4ms/step - loss: 0.2409\n",
            "Epoch 850/2000\n",
            "4/4 [==============================] - 0s 6ms/step - loss: 0.2256\n",
            "Epoch 851/2000\n",
            "4/4 [==============================] - 0s 4ms/step - loss: 0.2390\n",
            "Epoch 852/2000\n",
            "4/4 [==============================] - 0s 5ms/step - loss: 0.2374\n",
            "Epoch 853/2000\n",
            "4/4 [==============================] - 0s 3ms/step - loss: 0.2304\n",
            "Epoch 854/2000\n",
            "4/4 [==============================] - 0s 4ms/step - loss: 0.2310\n",
            "Epoch 855/2000\n",
            "4/4 [==============================] - 0s 6ms/step - loss: 0.2236\n",
            "Epoch 856/2000\n",
            "4/4 [==============================] - 0s 4ms/step - loss: 0.2223\n",
            "Epoch 857/2000\n",
            "4/4 [==============================] - 0s 3ms/step - loss: 0.2231\n",
            "Epoch 858/2000\n",
            "4/4 [==============================] - 0s 4ms/step - loss: 0.2223\n",
            "Epoch 859/2000\n",
            "4/4 [==============================] - 0s 6ms/step - loss: 0.2368\n",
            "Epoch 860/2000\n",
            "4/4 [==============================] - 0s 3ms/step - loss: 0.2444\n",
            "Epoch 861/2000\n",
            "4/4 [==============================] - 0s 6ms/step - loss: 0.2377\n",
            "Epoch 862/2000\n",
            "4/4 [==============================] - 0s 4ms/step - loss: 0.2409\n",
            "Epoch 863/2000\n",
            "4/4 [==============================] - 0s 7ms/step - loss: 0.2366\n",
            "Epoch 864/2000\n",
            "4/4 [==============================] - 0s 3ms/step - loss: 0.2320\n",
            "Epoch 865/2000\n",
            "4/4 [==============================] - 0s 4ms/step - loss: 0.2372\n",
            "Epoch 866/2000\n",
            "4/4 [==============================] - 0s 6ms/step - loss: 0.2291\n",
            "Epoch 867/2000\n",
            "4/4 [==============================] - 0s 7ms/step - loss: 0.2257\n",
            "Epoch 868/2000\n",
            "4/4 [==============================] - 0s 6ms/step - loss: 0.2357\n",
            "Epoch 869/2000\n",
            "4/4 [==============================] - 0s 4ms/step - loss: 0.2368\n",
            "Epoch 870/2000\n",
            "4/4 [==============================] - 0s 6ms/step - loss: 0.2251\n",
            "Epoch 871/2000\n",
            "4/4 [==============================] - 0s 5ms/step - loss: 0.2249\n",
            "Epoch 872/2000\n",
            "4/4 [==============================] - 0s 7ms/step - loss: 0.2247\n",
            "Epoch 873/2000\n",
            "4/4 [==============================] - 0s 6ms/step - loss: 0.2348\n",
            "Epoch 874/2000\n",
            "4/4 [==============================] - 0s 6ms/step - loss: 0.2281\n",
            "Epoch 875/2000\n",
            "4/4 [==============================] - 0s 6ms/step - loss: 0.2243\n",
            "Epoch 876/2000\n",
            "4/4 [==============================] - 0s 6ms/step - loss: 0.2343\n",
            "Epoch 877/2000\n",
            "4/4 [==============================] - 0s 5ms/step - loss: 0.2379\n",
            "Epoch 878/2000\n",
            "4/4 [==============================] - 0s 5ms/step - loss: 0.2189\n",
            "Epoch 879/2000\n",
            "4/4 [==============================] - 0s 9ms/step - loss: 0.2268\n",
            "Epoch 880/2000\n",
            "4/4 [==============================] - 0s 6ms/step - loss: 0.2203\n",
            "Epoch 881/2000\n",
            "4/4 [==============================] - 0s 5ms/step - loss: 0.2296\n",
            "Epoch 882/2000\n",
            "4/4 [==============================] - 0s 5ms/step - loss: 0.2187\n",
            "Epoch 883/2000\n",
            "4/4 [==============================] - 0s 6ms/step - loss: 0.2304\n",
            "Epoch 884/2000\n",
            "4/4 [==============================] - 0s 5ms/step - loss: 0.2183\n",
            "Epoch 885/2000\n",
            "4/4 [==============================] - 0s 4ms/step - loss: 0.2379\n",
            "Epoch 886/2000\n",
            "4/4 [==============================] - 0s 4ms/step - loss: 0.2185\n",
            "Epoch 887/2000\n",
            "4/4 [==============================] - 0s 4ms/step - loss: 0.2229\n",
            "Epoch 888/2000\n",
            "4/4 [==============================] - 0s 4ms/step - loss: 0.2184\n",
            "Epoch 889/2000\n",
            "4/4 [==============================] - 0s 6ms/step - loss: 0.2212\n",
            "Epoch 890/2000\n",
            "4/4 [==============================] - 0s 3ms/step - loss: 0.2371\n",
            "Epoch 891/2000\n",
            "4/4 [==============================] - 0s 7ms/step - loss: 0.2247\n",
            "Epoch 892/2000\n",
            "4/4 [==============================] - 0s 7ms/step - loss: 0.2170\n",
            "Epoch 893/2000\n",
            "4/4 [==============================] - 0s 4ms/step - loss: 0.2179\n",
            "Epoch 894/2000\n",
            "4/4 [==============================] - 0s 7ms/step - loss: 0.2238\n",
            "Epoch 895/2000\n",
            "4/4 [==============================] - 0s 4ms/step - loss: 0.2343\n",
            "Epoch 896/2000\n",
            "4/4 [==============================] - 0s 4ms/step - loss: 0.2169\n",
            "Epoch 897/2000\n",
            "4/4 [==============================] - 0s 5ms/step - loss: 0.2160\n",
            "Epoch 898/2000\n",
            "4/4 [==============================] - 0s 4ms/step - loss: 0.2397\n",
            "Epoch 899/2000\n",
            "4/4 [==============================] - 0s 5ms/step - loss: 0.2202\n",
            "Epoch 900/2000\n",
            "4/4 [==============================] - 0s 5ms/step - loss: 0.2315\n",
            "Epoch 901/2000\n",
            "4/4 [==============================] - 0s 3ms/step - loss: 0.2398\n",
            "Epoch 902/2000\n",
            "4/4 [==============================] - 0s 5ms/step - loss: 0.2266\n",
            "Epoch 903/2000\n",
            "4/4 [==============================] - 0s 4ms/step - loss: 0.2260\n",
            "Epoch 904/2000\n",
            "4/4 [==============================] - 0s 6ms/step - loss: 0.2321\n",
            "Epoch 905/2000\n",
            "4/4 [==============================] - 0s 3ms/step - loss: 0.2391\n",
            "Epoch 906/2000\n",
            "4/4 [==============================] - 0s 4ms/step - loss: 0.2384\n",
            "Epoch 907/2000\n",
            "4/4 [==============================] - 0s 3ms/step - loss: 0.2137\n",
            "Epoch 908/2000\n",
            "4/4 [==============================] - 0s 7ms/step - loss: 0.2176\n",
            "Epoch 909/2000\n",
            "4/4 [==============================] - 0s 4ms/step - loss: 0.2174\n",
            "Epoch 910/2000\n",
            "4/4 [==============================] - 0s 5ms/step - loss: 0.2328\n",
            "Epoch 911/2000\n",
            "4/4 [==============================] - 0s 2ms/step - loss: 0.2286\n",
            "Epoch 912/2000\n",
            "4/4 [==============================] - 0s 2ms/step - loss: 0.2252\n",
            "Epoch 913/2000\n",
            "4/4 [==============================] - 0s 3ms/step - loss: 0.2136\n",
            "Epoch 914/2000\n",
            "4/4 [==============================] - 0s 7ms/step - loss: 0.2214\n",
            "Epoch 915/2000\n",
            "4/4 [==============================] - 0s 3ms/step - loss: 0.2280\n",
            "Epoch 916/2000\n",
            "4/4 [==============================] - 0s 4ms/step - loss: 0.2278\n",
            "Epoch 917/2000\n",
            "4/4 [==============================] - 0s 6ms/step - loss: 0.2212\n",
            "Epoch 918/2000\n",
            "4/4 [==============================] - 0s 4ms/step - loss: 0.2281\n",
            "Epoch 919/2000\n",
            "4/4 [==============================] - 0s 6ms/step - loss: 0.2313\n",
            "Epoch 920/2000\n",
            "4/4 [==============================] - 0s 4ms/step - loss: 0.2269\n",
            "Epoch 921/2000\n",
            "4/4 [==============================] - 0s 6ms/step - loss: 0.2196\n",
            "Epoch 922/2000\n",
            "4/4 [==============================] - 0s 5ms/step - loss: 0.2296\n",
            "Epoch 923/2000\n",
            "4/4 [==============================] - 0s 4ms/step - loss: 0.2360\n",
            "Epoch 924/2000\n",
            "4/4 [==============================] - 0s 3ms/step - loss: 0.2311\n",
            "Epoch 925/2000\n",
            "4/4 [==============================] - 0s 4ms/step - loss: 0.2258\n",
            "Epoch 926/2000\n",
            "4/4 [==============================] - 0s 6ms/step - loss: 0.2214\n",
            "Epoch 927/2000\n",
            "4/4 [==============================] - 0s 5ms/step - loss: 0.2181\n",
            "Epoch 928/2000\n",
            "4/4 [==============================] - 0s 5ms/step - loss: 0.2083\n",
            "Epoch 929/2000\n",
            "4/4 [==============================] - 0s 6ms/step - loss: 0.2308\n",
            "Epoch 930/2000\n",
            "4/4 [==============================] - 0s 6ms/step - loss: 0.2152\n",
            "Epoch 931/2000\n",
            "4/4 [==============================] - 0s 8ms/step - loss: 0.2078\n",
            "Epoch 932/2000\n",
            "4/4 [==============================] - 0s 10ms/step - loss: 0.2099\n",
            "Epoch 933/2000\n",
            "4/4 [==============================] - 0s 4ms/step - loss: 0.2225\n",
            "Epoch 934/2000\n",
            "4/4 [==============================] - 0s 5ms/step - loss: 0.2075\n",
            "Epoch 935/2000\n",
            "4/4 [==============================] - 0s 5ms/step - loss: 0.2302\n",
            "Epoch 936/2000\n",
            "4/4 [==============================] - 0s 5ms/step - loss: 0.2200\n",
            "Epoch 937/2000\n",
            "4/4 [==============================] - 0s 3ms/step - loss: 0.2238\n",
            "Epoch 938/2000\n",
            "4/4 [==============================] - 0s 3ms/step - loss: 0.2145\n",
            "Epoch 939/2000\n",
            "4/4 [==============================] - 0s 4ms/step - loss: 0.2242\n",
            "Epoch 940/2000\n",
            "4/4 [==============================] - 0s 7ms/step - loss: 0.2157\n",
            "Epoch 941/2000\n",
            "4/4 [==============================] - 0s 3ms/step - loss: 0.2145\n",
            "Epoch 942/2000\n",
            "4/4 [==============================] - 0s 3ms/step - loss: 0.2258\n",
            "Epoch 943/2000\n",
            "4/4 [==============================] - 0s 5ms/step - loss: 0.2047\n",
            "Epoch 944/2000\n",
            "4/4 [==============================] - 0s 8ms/step - loss: 0.2270\n",
            "Epoch 945/2000\n",
            "4/4 [==============================] - 0s 4ms/step - loss: 0.2093\n",
            "Epoch 946/2000\n",
            "4/4 [==============================] - 0s 4ms/step - loss: 0.2143\n",
            "Epoch 947/2000\n",
            "4/4 [==============================] - 0s 5ms/step - loss: 0.2274\n",
            "Epoch 948/2000\n",
            "4/4 [==============================] - 0s 5ms/step - loss: 0.2035\n",
            "Epoch 949/2000\n",
            "4/4 [==============================] - 0s 6ms/step - loss: 0.2137\n",
            "Epoch 950/2000\n",
            "4/4 [==============================] - 0s 4ms/step - loss: 0.2136\n",
            "Epoch 951/2000\n",
            "4/4 [==============================] - 0s 4ms/step - loss: 0.2251\n",
            "Epoch 952/2000\n",
            "4/4 [==============================] - 0s 5ms/step - loss: 0.2264\n",
            "Epoch 953/2000\n",
            "4/4 [==============================] - 0s 4ms/step - loss: 0.2262\n",
            "Epoch 954/2000\n",
            "4/4 [==============================] - 0s 3ms/step - loss: 0.2151\n",
            "Epoch 955/2000\n",
            "4/4 [==============================] - 0s 3ms/step - loss: 0.2258\n",
            "Epoch 956/2000\n",
            "4/4 [==============================] - 0s 4ms/step - loss: 0.2255\n",
            "Epoch 957/2000\n",
            "4/4 [==============================] - 0s 4ms/step - loss: 0.2227\n",
            "Epoch 958/2000\n",
            "4/4 [==============================] - 0s 4ms/step - loss: 0.2032\n",
            "Epoch 959/2000\n",
            "4/4 [==============================] - 0s 4ms/step - loss: 0.2009\n",
            "Epoch 960/2000\n",
            "4/4 [==============================] - 0s 4ms/step - loss: 0.2070\n",
            "Epoch 961/2000\n",
            "4/4 [==============================] - 0s 4ms/step - loss: 0.2067\n",
            "Epoch 962/2000\n",
            "4/4 [==============================] - 0s 4ms/step - loss: 0.2001\n",
            "Epoch 963/2000\n",
            "4/4 [==============================] - 0s 4ms/step - loss: 0.2109\n",
            "Epoch 964/2000\n",
            "4/4 [==============================] - 0s 4ms/step - loss: 0.2238\n",
            "Epoch 965/2000\n",
            "4/4 [==============================] - 0s 6ms/step - loss: 0.2057\n",
            "Epoch 966/2000\n",
            "4/4 [==============================] - 0s 5ms/step - loss: 0.2005\n",
            "Epoch 967/2000\n",
            "4/4 [==============================] - 0s 4ms/step - loss: 0.2086\n",
            "Epoch 968/2000\n",
            "4/4 [==============================] - 0s 4ms/step - loss: 0.2276\n",
            "Epoch 969/2000\n",
            "4/4 [==============================] - 0s 3ms/step - loss: 0.2230\n",
            "Epoch 970/2000\n",
            "4/4 [==============================] - 0s 4ms/step - loss: 0.1976\n",
            "Epoch 971/2000\n",
            "4/4 [==============================] - 0s 4ms/step - loss: 0.2106\n",
            "Epoch 972/2000\n",
            "4/4 [==============================] - 0s 4ms/step - loss: 0.2195\n",
            "Epoch 973/2000\n",
            "4/4 [==============================] - 0s 3ms/step - loss: 0.2072\n",
            "Epoch 974/2000\n",
            "4/4 [==============================] - 0s 3ms/step - loss: 0.2043\n",
            "Epoch 975/2000\n",
            "4/4 [==============================] - 0s 3ms/step - loss: 0.2201\n",
            "Epoch 976/2000\n",
            "4/4 [==============================] - 0s 4ms/step - loss: 0.2137\n",
            "Epoch 977/2000\n",
            "4/4 [==============================] - 0s 3ms/step - loss: 0.2204\n",
            "Epoch 978/2000\n",
            "4/4 [==============================] - 0s 4ms/step - loss: 0.2176\n",
            "Epoch 979/2000\n",
            "4/4 [==============================] - 0s 5ms/step - loss: 0.2009\n",
            "Epoch 980/2000\n",
            "4/4 [==============================] - 0s 3ms/step - loss: 0.2206\n",
            "Epoch 981/2000\n",
            "4/4 [==============================] - 0s 6ms/step - loss: 0.1962\n",
            "Epoch 982/2000\n",
            "4/4 [==============================] - 0s 4ms/step - loss: 0.2193\n",
            "Epoch 983/2000\n",
            "4/4 [==============================] - 0s 4ms/step - loss: 0.2249\n",
            "Epoch 984/2000\n",
            "4/4 [==============================] - 0s 4ms/step - loss: 0.2021\n",
            "Epoch 985/2000\n",
            "4/4 [==============================] - 0s 3ms/step - loss: 0.2018\n",
            "Epoch 986/2000\n",
            "4/4 [==============================] - 0s 4ms/step - loss: 0.2032\n",
            "Epoch 987/2000\n",
            "4/4 [==============================] - 0s 3ms/step - loss: 0.2037\n",
            "Epoch 988/2000\n",
            "4/4 [==============================] - 0s 3ms/step - loss: 0.2230\n",
            "Epoch 989/2000\n",
            "4/4 [==============================] - 0s 3ms/step - loss: 0.2034\n",
            "Epoch 990/2000\n",
            "4/4 [==============================] - 0s 5ms/step - loss: 0.1918\n",
            "Epoch 991/2000\n",
            "4/4 [==============================] - 0s 5ms/step - loss: 0.1938\n",
            "Epoch 992/2000\n",
            "4/4 [==============================] - 0s 5ms/step - loss: 0.2001\n",
            "Epoch 993/2000\n",
            "4/4 [==============================] - 0s 8ms/step - loss: 0.2155\n",
            "Epoch 994/2000\n",
            "4/4 [==============================] - 0s 5ms/step - loss: 0.2170\n",
            "Epoch 995/2000\n",
            "4/4 [==============================] - 0s 6ms/step - loss: 0.2035\n",
            "Epoch 996/2000\n",
            "4/4 [==============================] - 0s 4ms/step - loss: 0.1902\n",
            "Epoch 997/2000\n",
            "4/4 [==============================] - 0s 4ms/step - loss: 0.2010\n",
            "Epoch 998/2000\n",
            "4/4 [==============================] - 0s 4ms/step - loss: 0.2148\n",
            "Epoch 999/2000\n",
            "4/4 [==============================] - 0s 4ms/step - loss: 0.1892\n",
            "Epoch 1000/2000\n",
            "4/4 [==============================] - 0s 4ms/step - loss: 0.1890\n",
            "Epoch 1001/2000\n",
            "4/4 [==============================] - 0s 5ms/step - loss: 0.1888\n",
            "Epoch 1002/2000\n",
            "4/4 [==============================] - 0s 4ms/step - loss: 0.1903\n",
            "Epoch 1003/2000\n",
            "4/4 [==============================] - 0s 4ms/step - loss: 0.2144\n",
            "Epoch 1004/2000\n",
            "4/4 [==============================] - 0s 6ms/step - loss: 0.2058\n",
            "Epoch 1005/2000\n",
            "4/4 [==============================] - 0s 5ms/step - loss: 0.2095\n",
            "Epoch 1006/2000\n",
            "4/4 [==============================] - 0s 5ms/step - loss: 0.2126\n",
            "Epoch 1007/2000\n",
            "4/4 [==============================] - 0s 4ms/step - loss: 0.1983\n",
            "Epoch 1008/2000\n",
            "4/4 [==============================] - 0s 7ms/step - loss: 0.1982\n",
            "Epoch 1009/2000\n",
            "4/4 [==============================] - 0s 5ms/step - loss: 0.1991\n",
            "Epoch 1010/2000\n",
            "4/4 [==============================] - 0s 5ms/step - loss: 0.1877\n",
            "Epoch 1011/2000\n",
            "4/4 [==============================] - 0s 7ms/step - loss: 0.2110\n",
            "Epoch 1012/2000\n",
            "4/4 [==============================] - 0s 5ms/step - loss: 0.1853\n",
            "Epoch 1013/2000\n",
            "4/4 [==============================] - 0s 4ms/step - loss: 0.2096\n",
            "Epoch 1014/2000\n",
            "4/4 [==============================] - 0s 4ms/step - loss: 0.1964\n",
            "Epoch 1015/2000\n",
            "4/4 [==============================] - 0s 6ms/step - loss: 0.2157\n",
            "Epoch 1016/2000\n",
            "4/4 [==============================] - 0s 4ms/step - loss: 0.2155\n",
            "Epoch 1017/2000\n",
            "4/4 [==============================] - 0s 4ms/step - loss: 0.1858\n",
            "Epoch 1018/2000\n",
            "4/4 [==============================] - 0s 4ms/step - loss: 0.1987\n",
            "Epoch 1019/2000\n",
            "4/4 [==============================] - 0s 5ms/step - loss: 0.2081\n",
            "Epoch 1020/2000\n",
            "4/4 [==============================] - 0s 3ms/step - loss: 0.1936\n",
            "Epoch 1021/2000\n",
            "4/4 [==============================] - 0s 2ms/step - loss: 0.1985\n",
            "Epoch 1022/2000\n",
            "4/4 [==============================] - 0s 4ms/step - loss: 0.2042\n",
            "Epoch 1023/2000\n",
            "4/4 [==============================] - 0s 3ms/step - loss: 0.1977\n",
            "Epoch 1024/2000\n",
            "4/4 [==============================] - 0s 4ms/step - loss: 0.1944\n",
            "Epoch 1025/2000\n",
            "4/4 [==============================] - 0s 6ms/step - loss: 0.1926\n",
            "Epoch 1026/2000\n",
            "4/4 [==============================] - 0s 3ms/step - loss: 0.1906\n",
            "Epoch 1027/2000\n",
            "4/4 [==============================] - 0s 5ms/step - loss: 0.1843\n",
            "Epoch 1028/2000\n",
            "4/4 [==============================] - 0s 4ms/step - loss: 0.1890\n",
            "Epoch 1029/2000\n",
            "4/4 [==============================] - 0s 4ms/step - loss: 0.1822\n",
            "Epoch 1030/2000\n",
            "4/4 [==============================] - 0s 5ms/step - loss: 0.1871\n",
            "Epoch 1031/2000\n",
            "4/4 [==============================] - 0s 5ms/step - loss: 0.2103\n",
            "Epoch 1032/2000\n",
            "4/4 [==============================] - 0s 3ms/step - loss: 0.2040\n",
            "Epoch 1033/2000\n",
            "4/4 [==============================] - 0s 3ms/step - loss: 0.2024\n",
            "Epoch 1034/2000\n",
            "4/4 [==============================] - 0s 9ms/step - loss: 0.1856\n",
            "Epoch 1035/2000\n",
            "4/4 [==============================] - 0s 3ms/step - loss: 0.1871\n",
            "Epoch 1036/2000\n",
            "4/4 [==============================] - 0s 4ms/step - loss: 0.1868\n",
            "Epoch 1037/2000\n",
            "4/4 [==============================] - 0s 4ms/step - loss: 0.1769\n",
            "Epoch 1038/2000\n",
            "4/4 [==============================] - 0s 6ms/step - loss: 0.2037\n",
            "Epoch 1039/2000\n",
            "4/4 [==============================] - 0s 5ms/step - loss: 0.2018\n",
            "Epoch 1040/2000\n",
            "4/4 [==============================] - 0s 3ms/step - loss: 0.1783\n",
            "Epoch 1041/2000\n",
            "4/4 [==============================] - 0s 6ms/step - loss: 0.2028\n",
            "Epoch 1042/2000\n",
            "4/4 [==============================] - 0s 4ms/step - loss: 0.2024\n",
            "Epoch 1043/2000\n",
            "4/4 [==============================] - 0s 7ms/step - loss: 0.1843\n",
            "Epoch 1044/2000\n",
            "4/4 [==============================] - 0s 5ms/step - loss: 0.1771\n",
            "Epoch 1045/2000\n",
            "4/4 [==============================] - 0s 7ms/step - loss: 0.1755\n",
            "Epoch 1046/2000\n",
            "4/4 [==============================] - 0s 5ms/step - loss: 0.1862\n",
            "Epoch 1047/2000\n",
            "4/4 [==============================] - 0s 5ms/step - loss: 0.1771\n",
            "Epoch 1048/2000\n",
            "4/4 [==============================] - 0s 5ms/step - loss: 0.1960\n",
            "Epoch 1049/2000\n",
            "4/4 [==============================] - 0s 5ms/step - loss: 0.2046\n",
            "Epoch 1050/2000\n",
            "4/4 [==============================] - 0s 4ms/step - loss: 0.1794\n",
            "Epoch 1051/2000\n",
            "4/4 [==============================] - 0s 5ms/step - loss: 0.2037\n",
            "Epoch 1052/2000\n",
            "4/4 [==============================] - 0s 6ms/step - loss: 0.2035\n",
            "Epoch 1053/2000\n",
            "4/4 [==============================] - 0s 5ms/step - loss: 0.1708\n",
            "Epoch 1054/2000\n",
            "4/4 [==============================] - 0s 3ms/step - loss: 0.1731\n",
            "Epoch 1055/2000\n",
            "4/4 [==============================] - 0s 4ms/step - loss: 0.2023\n",
            "Epoch 1056/2000\n",
            "4/4 [==============================] - 0s 4ms/step - loss: 0.1775\n",
            "Epoch 1057/2000\n",
            "4/4 [==============================] - 0s 4ms/step - loss: 0.1775\n",
            "Epoch 1058/2000\n",
            "4/4 [==============================] - 0s 8ms/step - loss: 0.1947\n",
            "Epoch 1059/2000\n",
            "4/4 [==============================] - 0s 5ms/step - loss: 0.1787\n",
            "Epoch 1060/2000\n",
            "4/4 [==============================] - 0s 6ms/step - loss: 0.1706\n",
            "Epoch 1061/2000\n",
            "4/4 [==============================] - 0s 3ms/step - loss: 0.1934\n",
            "Epoch 1062/2000\n",
            "4/4 [==============================] - 0s 3ms/step - loss: 0.1765\n",
            "Epoch 1063/2000\n",
            "4/4 [==============================] - 0s 5ms/step - loss: 0.1926\n",
            "Epoch 1064/2000\n",
            "4/4 [==============================] - 0s 3ms/step - loss: 0.1747\n",
            "Epoch 1065/2000\n",
            "4/4 [==============================] - 0s 5ms/step - loss: 0.1843\n",
            "Epoch 1066/2000\n",
            "4/4 [==============================] - 0s 5ms/step - loss: 0.1915\n",
            "Epoch 1067/2000\n",
            "4/4 [==============================] - 0s 5ms/step - loss: 0.1696\n",
            "Epoch 1068/2000\n",
            "4/4 [==============================] - 0s 4ms/step - loss: 0.1780\n",
            "Epoch 1069/2000\n",
            "4/4 [==============================] - 0s 4ms/step - loss: 0.1651\n",
            "Epoch 1070/2000\n",
            "4/4 [==============================] - 0s 2ms/step - loss: 0.1810\n",
            "Epoch 1071/2000\n",
            "4/4 [==============================] - 0s 3ms/step - loss: 0.1637\n",
            "Epoch 1072/2000\n",
            "4/4 [==============================] - 0s 4ms/step - loss: 0.1804\n",
            "Epoch 1073/2000\n",
            "4/4 [==============================] - 0s 3ms/step - loss: 0.1721\n",
            "Epoch 1074/2000\n",
            "4/4 [==============================] - 0s 3ms/step - loss: 0.1948\n",
            "Epoch 1075/2000\n",
            "4/4 [==============================] - 0s 4ms/step - loss: 0.1903\n",
            "Epoch 1076/2000\n",
            "4/4 [==============================] - 0s 2ms/step - loss: 0.1704\n",
            "Epoch 1077/2000\n",
            "4/4 [==============================] - 0s 3ms/step - loss: 0.1732\n",
            "Epoch 1078/2000\n",
            "4/4 [==============================] - 0s 6ms/step - loss: 0.1864\n",
            "Epoch 1079/2000\n",
            "4/4 [==============================] - 0s 3ms/step - loss: 0.1633\n",
            "Epoch 1080/2000\n",
            "4/4 [==============================] - 0s 4ms/step - loss: 0.1873\n",
            "Epoch 1081/2000\n",
            "4/4 [==============================] - 0s 3ms/step - loss: 0.1726\n",
            "Epoch 1082/2000\n",
            "4/4 [==============================] - 0s 4ms/step - loss: 0.1624\n",
            "Epoch 1083/2000\n",
            "4/4 [==============================] - 0s 3ms/step - loss: 0.1914\n",
            "Epoch 1084/2000\n",
            "4/4 [==============================] - 0s 9ms/step - loss: 0.1592\n",
            "Epoch 1085/2000\n",
            "4/4 [==============================] - 0s 5ms/step - loss: 0.1837\n",
            "Epoch 1086/2000\n",
            "4/4 [==============================] - 0s 5ms/step - loss: 0.1580\n",
            "Epoch 1087/2000\n",
            "4/4 [==============================] - 0s 3ms/step - loss: 0.1702\n",
            "Epoch 1088/2000\n",
            "4/4 [==============================] - 0s 3ms/step - loss: 0.1665\n",
            "Epoch 1089/2000\n",
            "4/4 [==============================] - 0s 4ms/step - loss: 0.1838\n",
            "Epoch 1090/2000\n",
            "4/4 [==============================] - 0s 3ms/step - loss: 0.1590\n",
            "Epoch 1091/2000\n",
            "4/4 [==============================] - 0s 5ms/step - loss: 0.1810\n",
            "Epoch 1092/2000\n",
            "4/4 [==============================] - 0s 3ms/step - loss: 0.1588\n",
            "Epoch 1093/2000\n",
            "4/4 [==============================] - 0s 5ms/step - loss: 0.1656\n",
            "Epoch 1094/2000\n",
            "4/4 [==============================] - 0s 7ms/step - loss: 0.1632\n",
            "Epoch 1095/2000\n",
            "4/4 [==============================] - 0s 4ms/step - loss: 0.1806\n",
            "Epoch 1096/2000\n",
            "4/4 [==============================] - 0s 4ms/step - loss: 0.1572\n",
            "Epoch 1097/2000\n",
            "4/4 [==============================] - 0s 6ms/step - loss: 0.1542\n",
            "Epoch 1098/2000\n",
            "4/4 [==============================] - 0s 4ms/step - loss: 0.1618\n",
            "Epoch 1099/2000\n",
            "4/4 [==============================] - 0s 4ms/step - loss: 0.1662\n",
            "Epoch 1100/2000\n",
            "4/4 [==============================] - 0s 3ms/step - loss: 0.1629\n",
            "Epoch 1101/2000\n",
            "4/4 [==============================] - 0s 3ms/step - loss: 0.1687\n",
            "Epoch 1102/2000\n",
            "4/4 [==============================] - 0s 2ms/step - loss: 0.1622\n",
            "Epoch 1103/2000\n",
            "4/4 [==============================] - 0s 5ms/step - loss: 0.1597\n",
            "Epoch 1104/2000\n",
            "4/4 [==============================] - 0s 5ms/step - loss: 0.1507\n",
            "Epoch 1105/2000\n",
            "4/4 [==============================] - 0s 5ms/step - loss: 0.1765\n",
            "Epoch 1106/2000\n",
            "4/4 [==============================] - 0s 3ms/step - loss: 0.1610\n",
            "Epoch 1107/2000\n",
            "4/4 [==============================] - 0s 5ms/step - loss: 0.1496\n",
            "Epoch 1108/2000\n",
            "4/4 [==============================] - 0s 4ms/step - loss: 0.1532\n",
            "Epoch 1109/2000\n",
            "4/4 [==============================] - 0s 2ms/step - loss: 0.1512\n",
            "Epoch 1110/2000\n",
            "4/4 [==============================] - 0s 5ms/step - loss: 0.1729\n",
            "Epoch 1111/2000\n",
            "4/4 [==============================] - 0s 6ms/step - loss: 0.1512\n",
            "Epoch 1112/2000\n",
            "4/4 [==============================] - 0s 6ms/step - loss: 0.1482\n",
            "Epoch 1113/2000\n",
            "4/4 [==============================] - 0s 5ms/step - loss: 0.1575\n",
            "Epoch 1114/2000\n",
            "4/4 [==============================] - 0s 3ms/step - loss: 0.1551\n",
            "Epoch 1115/2000\n",
            "4/4 [==============================] - 0s 6ms/step - loss: 0.1777\n",
            "Epoch 1116/2000\n",
            "4/4 [==============================] - 0s 3ms/step - loss: 0.1460\n",
            "Epoch 1117/2000\n",
            "4/4 [==============================] - 0s 4ms/step - loss: 0.1562\n",
            "Epoch 1118/2000\n",
            "4/4 [==============================] - 0s 3ms/step - loss: 0.1621\n",
            "Epoch 1119/2000\n",
            "4/4 [==============================] - 0s 4ms/step - loss: 0.1549\n",
            "Epoch 1120/2000\n",
            "4/4 [==============================] - 0s 4ms/step - loss: 0.1686\n",
            "Epoch 1121/2000\n",
            "4/4 [==============================] - 0s 4ms/step - loss: 0.1682\n",
            "Epoch 1122/2000\n",
            "4/4 [==============================] - 0s 5ms/step - loss: 0.1537\n",
            "Epoch 1123/2000\n",
            "4/4 [==============================] - 0s 4ms/step - loss: 0.1559\n",
            "Epoch 1124/2000\n",
            "4/4 [==============================] - 0s 4ms/step - loss: 0.1455\n",
            "Epoch 1125/2000\n",
            "4/4 [==============================] - 0s 4ms/step - loss: 0.1532\n",
            "Epoch 1126/2000\n",
            "4/4 [==============================] - 0s 5ms/step - loss: 0.1425\n",
            "Epoch 1127/2000\n",
            "4/4 [==============================] - 0s 5ms/step - loss: 0.1657\n",
            "Epoch 1128/2000\n",
            "4/4 [==============================] - 0s 7ms/step - loss: 0.1718\n",
            "Epoch 1129/2000\n",
            "4/4 [==============================] - 0s 4ms/step - loss: 0.1676\n",
            "Epoch 1130/2000\n",
            "4/4 [==============================] - 0s 4ms/step - loss: 0.1423\n",
            "Epoch 1131/2000\n",
            "4/4 [==============================] - 0s 4ms/step - loss: 0.1482\n",
            "Epoch 1132/2000\n",
            "4/4 [==============================] - 0s 7ms/step - loss: 0.1395\n",
            "Epoch 1133/2000\n",
            "4/4 [==============================] - 0s 3ms/step - loss: 0.1513\n",
            "Epoch 1134/2000\n",
            "4/4 [==============================] - 0s 6ms/step - loss: 0.1622\n",
            "Epoch 1135/2000\n",
            "4/4 [==============================] - 0s 4ms/step - loss: 0.1419\n",
            "Epoch 1136/2000\n",
            "4/4 [==============================] - 0s 4ms/step - loss: 0.1614\n",
            "Epoch 1137/2000\n",
            "4/4 [==============================] - 0s 6ms/step - loss: 0.1402\n",
            "Epoch 1138/2000\n",
            "4/4 [==============================] - 0s 4ms/step - loss: 0.1495\n",
            "Epoch 1139/2000\n",
            "4/4 [==============================] - 0s 6ms/step - loss: 0.1446\n",
            "Epoch 1140/2000\n",
            "4/4 [==============================] - 0s 4ms/step - loss: 0.1591\n",
            "Epoch 1141/2000\n",
            "4/4 [==============================] - 0s 9ms/step - loss: 0.1382\n",
            "Epoch 1142/2000\n",
            "4/4 [==============================] - 0s 3ms/step - loss: 0.1390\n",
            "Epoch 1143/2000\n",
            "4/4 [==============================] - 0s 3ms/step - loss: 0.1590\n",
            "Epoch 1144/2000\n",
            "4/4 [==============================] - 0s 6ms/step - loss: 0.1576\n",
            "Epoch 1145/2000\n",
            "4/4 [==============================] - 0s 4ms/step - loss: 0.1499\n",
            "Epoch 1146/2000\n",
            "4/4 [==============================] - 0s 6ms/step - loss: 0.1360\n",
            "Epoch 1147/2000\n",
            "4/4 [==============================] - 0s 4ms/step - loss: 0.1443\n",
            "Epoch 1148/2000\n",
            "4/4 [==============================] - 0s 7ms/step - loss: 0.1353\n",
            "Epoch 1149/2000\n",
            "4/4 [==============================] - 0s 4ms/step - loss: 0.1324\n",
            "Epoch 1150/2000\n",
            "4/4 [==============================] - 0s 7ms/step - loss: 0.1560\n",
            "Epoch 1151/2000\n",
            "4/4 [==============================] - 0s 5ms/step - loss: 0.1617\n",
            "Epoch 1152/2000\n",
            "4/4 [==============================] - 0s 6ms/step - loss: 0.1406\n",
            "Epoch 1153/2000\n",
            "4/4 [==============================] - 0s 6ms/step - loss: 0.1381\n",
            "Epoch 1154/2000\n",
            "4/4 [==============================] - 0s 6ms/step - loss: 0.1532\n",
            "Epoch 1155/2000\n",
            "4/4 [==============================] - 0s 4ms/step - loss: 0.1335\n",
            "Epoch 1156/2000\n",
            "4/4 [==============================] - 0s 6ms/step - loss: 0.1531\n",
            "Epoch 1157/2000\n",
            "4/4 [==============================] - 0s 4ms/step - loss: 0.1376\n",
            "Epoch 1158/2000\n",
            "4/4 [==============================] - 0s 5ms/step - loss: 0.1373\n",
            "Epoch 1159/2000\n",
            "4/4 [==============================] - 0s 4ms/step - loss: 0.1351\n",
            "Epoch 1160/2000\n",
            "4/4 [==============================] - 0s 3ms/step - loss: 0.1505\n",
            "Epoch 1161/2000\n",
            "4/4 [==============================] - 0s 4ms/step - loss: 0.1428\n",
            "Epoch 1162/2000\n",
            "4/4 [==============================] - 0s 3ms/step - loss: 0.1375\n",
            "Epoch 1163/2000\n",
            "4/4 [==============================] - 0s 3ms/step - loss: 0.1267\n",
            "Epoch 1164/2000\n",
            "4/4 [==============================] - 0s 5ms/step - loss: 0.1299\n",
            "Epoch 1165/2000\n",
            "4/4 [==============================] - 0s 4ms/step - loss: 0.1505\n",
            "Epoch 1166/2000\n",
            "4/4 [==============================] - 0s 6ms/step - loss: 0.1322\n",
            "Epoch 1167/2000\n",
            "4/4 [==============================] - 0s 3ms/step - loss: 0.1356\n",
            "Epoch 1168/2000\n",
            "4/4 [==============================] - 0s 7ms/step - loss: 0.1398\n",
            "Epoch 1169/2000\n",
            "4/4 [==============================] - 0s 6ms/step - loss: 0.1382\n",
            "Epoch 1170/2000\n",
            "4/4 [==============================] - 0s 4ms/step - loss: 0.1319\n",
            "Epoch 1171/2000\n",
            "4/4 [==============================] - 0s 4ms/step - loss: 0.1462\n",
            "Epoch 1172/2000\n",
            "4/4 [==============================] - 0s 3ms/step - loss: 0.1255\n",
            "Epoch 1173/2000\n",
            "4/4 [==============================] - 0s 6ms/step - loss: 0.1263\n",
            "Epoch 1174/2000\n",
            "4/4 [==============================] - 0s 5ms/step - loss: 0.1357\n",
            "Epoch 1175/2000\n",
            "4/4 [==============================] - 0s 5ms/step - loss: 0.1323\n",
            "Epoch 1176/2000\n",
            "4/4 [==============================] - 0s 7ms/step - loss: 0.1362\n",
            "Epoch 1177/2000\n",
            "4/4 [==============================] - 0s 4ms/step - loss: 0.1428\n",
            "Epoch 1178/2000\n",
            "4/4 [==============================] - 0s 6ms/step - loss: 0.1337\n",
            "Epoch 1179/2000\n",
            "4/4 [==============================] - 0s 4ms/step - loss: 0.1484\n",
            "Epoch 1180/2000\n",
            "4/4 [==============================] - 0s 5ms/step - loss: 0.1408\n",
            "Epoch 1181/2000\n",
            "4/4 [==============================] - 0s 4ms/step - loss: 0.1284\n",
            "Epoch 1182/2000\n",
            "4/4 [==============================] - 0s 7ms/step - loss: 0.1402\n",
            "Epoch 1183/2000\n",
            "4/4 [==============================] - 0s 5ms/step - loss: 0.1276\n",
            "Epoch 1184/2000\n",
            "4/4 [==============================] - 0s 6ms/step - loss: 0.1206\n",
            "Epoch 1185/2000\n",
            "4/4 [==============================] - 0s 4ms/step - loss: 0.1388\n",
            "Epoch 1186/2000\n",
            "4/4 [==============================] - 0s 4ms/step - loss: 0.1306\n",
            "Epoch 1187/2000\n",
            "4/4 [==============================] - 0s 6ms/step - loss: 0.1194\n",
            "Epoch 1188/2000\n",
            "4/4 [==============================] - 0s 4ms/step - loss: 0.1406\n",
            "Epoch 1189/2000\n",
            "4/4 [==============================] - 0s 4ms/step - loss: 0.1163\n",
            "Epoch 1190/2000\n",
            "4/4 [==============================] - 0s 7ms/step - loss: 0.1247\n",
            "Epoch 1191/2000\n",
            "4/4 [==============================] - 0s 6ms/step - loss: 0.1225\n",
            "Epoch 1192/2000\n",
            "4/4 [==============================] - 0s 6ms/step - loss: 0.1243\n",
            "Epoch 1193/2000\n",
            "4/4 [==============================] - 0s 6ms/step - loss: 0.1152\n",
            "Epoch 1194/2000\n",
            "4/4 [==============================] - 0s 6ms/step - loss: 0.1174\n",
            "Epoch 1195/2000\n",
            "4/4 [==============================] - 0s 5ms/step - loss: 0.1351\n",
            "Epoch 1196/2000\n",
            "4/4 [==============================] - 0s 5ms/step - loss: 0.1234\n",
            "Epoch 1197/2000\n",
            "4/4 [==============================] - 0s 3ms/step - loss: 0.1205\n",
            "Epoch 1198/2000\n",
            "4/4 [==============================] - 0s 5ms/step - loss: 0.1160\n",
            "Epoch 1199/2000\n",
            "4/4 [==============================] - 0s 4ms/step - loss: 0.1349\n",
            "Epoch 1200/2000\n",
            "4/4 [==============================] - 0s 6ms/step - loss: 0.1203\n",
            "Epoch 1201/2000\n",
            "4/4 [==============================] - 0s 7ms/step - loss: 0.1222\n",
            "Epoch 1202/2000\n",
            "4/4 [==============================] - 0s 3ms/step - loss: 0.1240\n",
            "Epoch 1203/2000\n",
            "4/4 [==============================] - 0s 4ms/step - loss: 0.1108\n",
            "Epoch 1204/2000\n",
            "4/4 [==============================] - 0s 4ms/step - loss: 0.1125\n",
            "Epoch 1205/2000\n",
            "4/4 [==============================] - 0s 4ms/step - loss: 0.1175\n",
            "Epoch 1206/2000\n",
            "4/4 [==============================] - 0s 4ms/step - loss: 0.1180\n",
            "Epoch 1207/2000\n",
            "4/4 [==============================] - 0s 4ms/step - loss: 0.1320\n",
            "Epoch 1208/2000\n",
            "4/4 [==============================] - 0s 4ms/step - loss: 0.1316\n",
            "Epoch 1209/2000\n",
            "4/4 [==============================] - 0s 6ms/step - loss: 0.1148\n",
            "Epoch 1210/2000\n",
            "4/4 [==============================] - 0s 6ms/step - loss: 0.1105\n",
            "Epoch 1211/2000\n",
            "4/4 [==============================] - 0s 8ms/step - loss: 0.1100\n",
            "Epoch 1212/2000\n",
            "4/4 [==============================] - 0s 4ms/step - loss: 0.1076\n",
            "Epoch 1213/2000\n",
            "4/4 [==============================] - 0s 6ms/step - loss: 0.1162\n",
            "Epoch 1214/2000\n",
            "4/4 [==============================] - 0s 5ms/step - loss: 0.1259\n",
            "Epoch 1215/2000\n",
            "4/4 [==============================] - 0s 5ms/step - loss: 0.1084\n",
            "Epoch 1216/2000\n",
            "4/4 [==============================] - 0s 4ms/step - loss: 0.1153\n",
            "Epoch 1217/2000\n",
            "4/4 [==============================] - 0s 6ms/step - loss: 0.1272\n",
            "Epoch 1218/2000\n",
            "4/4 [==============================] - 0s 8ms/step - loss: 0.1109\n",
            "Epoch 1219/2000\n",
            "4/4 [==============================] - 0s 4ms/step - loss: 0.1120\n",
            "Epoch 1220/2000\n",
            "4/4 [==============================] - 0s 5ms/step - loss: 0.1067\n",
            "Epoch 1221/2000\n",
            "4/4 [==============================] - 0s 3ms/step - loss: 0.1097\n",
            "Epoch 1222/2000\n",
            "4/4 [==============================] - 0s 6ms/step - loss: 0.1111\n",
            "Epoch 1223/2000\n",
            "4/4 [==============================] - 0s 6ms/step - loss: 0.1218\n",
            "Epoch 1224/2000\n",
            "4/4 [==============================] - 0s 5ms/step - loss: 0.1047\n",
            "Epoch 1225/2000\n",
            "4/4 [==============================] - 0s 4ms/step - loss: 0.1026\n",
            "Epoch 1226/2000\n",
            "4/4 [==============================] - 0s 3ms/step - loss: 0.1115\n",
            "Epoch 1227/2000\n",
            "4/4 [==============================] - 0s 3ms/step - loss: 0.1094\n",
            "Epoch 1228/2000\n",
            "4/4 [==============================] - 0s 5ms/step - loss: 0.1098\n",
            "Epoch 1229/2000\n",
            "4/4 [==============================] - 0s 4ms/step - loss: 0.1085\n",
            "Epoch 1230/2000\n",
            "4/4 [==============================] - 0s 5ms/step - loss: 0.1083\n",
            "Epoch 1231/2000\n",
            "4/4 [==============================] - 0s 6ms/step - loss: 0.1071\n",
            "Epoch 1232/2000\n",
            "4/4 [==============================] - 0s 3ms/step - loss: 0.1076\n",
            "Epoch 1233/2000\n",
            "4/4 [==============================] - 0s 4ms/step - loss: 0.1234\n",
            "Epoch 1234/2000\n",
            "4/4 [==============================] - 0s 7ms/step - loss: 0.1059\n",
            "Epoch 1235/2000\n",
            "4/4 [==============================] - 0s 5ms/step - loss: 0.1047\n",
            "Epoch 1236/2000\n",
            "4/4 [==============================] - 0s 5ms/step - loss: 0.1174\n",
            "Epoch 1237/2000\n",
            "4/4 [==============================] - 0s 3ms/step - loss: 0.1066\n",
            "Epoch 1238/2000\n",
            "4/4 [==============================] - 0s 3ms/step - loss: 0.1166\n",
            "Epoch 1239/2000\n",
            "4/4 [==============================] - 0s 6ms/step - loss: 0.0994\n",
            "Epoch 1240/2000\n",
            "4/4 [==============================] - 0s 2ms/step - loss: 0.1060\n",
            "Epoch 1241/2000\n",
            "4/4 [==============================] - 0s 3ms/step - loss: 0.1156\n",
            "Epoch 1242/2000\n",
            "4/4 [==============================] - 0s 3ms/step - loss: 0.1036\n",
            "Epoch 1243/2000\n",
            "4/4 [==============================] - 0s 3ms/step - loss: 0.1193\n",
            "Epoch 1244/2000\n",
            "4/4 [==============================] - 0s 4ms/step - loss: 0.1130\n",
            "Epoch 1245/2000\n",
            "4/4 [==============================] - 0s 4ms/step - loss: 0.0975\n",
            "Epoch 1246/2000\n",
            "4/4 [==============================] - 0s 8ms/step - loss: 0.1180\n",
            "Epoch 1247/2000\n",
            "4/4 [==============================] - 0s 5ms/step - loss: 0.1149\n",
            "Epoch 1248/2000\n",
            "4/4 [==============================] - 0s 5ms/step - loss: 0.1010\n",
            "Epoch 1249/2000\n",
            "4/4 [==============================] - 0s 4ms/step - loss: 0.1030\n",
            "Epoch 1250/2000\n",
            "4/4 [==============================] - 0s 5ms/step - loss: 0.1105\n",
            "Epoch 1251/2000\n",
            "4/4 [==============================] - 0s 4ms/step - loss: 0.1035\n",
            "Epoch 1252/2000\n",
            "4/4 [==============================] - 0s 6ms/step - loss: 0.0957\n",
            "Epoch 1253/2000\n",
            "4/4 [==============================] - 0s 5ms/step - loss: 0.1108\n",
            "Epoch 1254/2000\n",
            "4/4 [==============================] - 0s 4ms/step - loss: 0.1025\n",
            "Epoch 1255/2000\n",
            "4/4 [==============================] - 0s 4ms/step - loss: 0.0939\n",
            "Epoch 1256/2000\n",
            "4/4 [==============================] - 0s 5ms/step - loss: 0.0992\n",
            "Epoch 1257/2000\n",
            "4/4 [==============================] - 0s 5ms/step - loss: 0.0913\n",
            "Epoch 1258/2000\n",
            "4/4 [==============================] - 0s 5ms/step - loss: 0.0910\n",
            "Epoch 1259/2000\n",
            "4/4 [==============================] - 0s 5ms/step - loss: 0.1096\n",
            "Epoch 1260/2000\n",
            "4/4 [==============================] - 0s 5ms/step - loss: 0.0971\n",
            "Epoch 1261/2000\n",
            "4/4 [==============================] - 0s 2ms/step - loss: 0.1072\n",
            "Epoch 1262/2000\n",
            "4/4 [==============================] - 0s 7ms/step - loss: 0.1057\n",
            "Epoch 1263/2000\n",
            "4/4 [==============================] - 0s 3ms/step - loss: 0.0890\n",
            "Epoch 1264/2000\n",
            "4/4 [==============================] - 0s 6ms/step - loss: 0.0903\n",
            "Epoch 1265/2000\n",
            "4/4 [==============================] - 0s 5ms/step - loss: 0.1059\n",
            "Epoch 1266/2000\n",
            "4/4 [==============================] - 0s 7ms/step - loss: 0.0950\n",
            "Epoch 1267/2000\n",
            "4/4 [==============================] - 0s 5ms/step - loss: 0.1094\n",
            "Epoch 1268/2000\n",
            "4/4 [==============================] - 0s 4ms/step - loss: 0.0878\n",
            "Epoch 1269/2000\n",
            "4/4 [==============================] - 0s 4ms/step - loss: 0.0981\n",
            "Epoch 1270/2000\n",
            "4/4 [==============================] - 0s 3ms/step - loss: 0.0868\n",
            "Epoch 1271/2000\n",
            "4/4 [==============================] - 0s 3ms/step - loss: 0.0964\n",
            "Epoch 1272/2000\n",
            "4/4 [==============================] - 0s 4ms/step - loss: 0.0944\n",
            "Epoch 1273/2000\n",
            "4/4 [==============================] - 0s 4ms/step - loss: 0.1068\n",
            "Epoch 1274/2000\n",
            "4/4 [==============================] - 0s 3ms/step - loss: 0.1064\n",
            "Epoch 1275/2000\n",
            "4/4 [==============================] - 0s 3ms/step - loss: 0.0960\n",
            "Epoch 1276/2000\n",
            "4/4 [==============================] - 0s 3ms/step - loss: 0.1004\n",
            "Epoch 1277/2000\n",
            "4/4 [==============================] - 0s 3ms/step - loss: 0.0919\n",
            "Epoch 1278/2000\n",
            "4/4 [==============================] - 0s 4ms/step - loss: 0.0997\n",
            "Epoch 1279/2000\n",
            "4/4 [==============================] - 0s 7ms/step - loss: 0.0906\n",
            "Epoch 1280/2000\n",
            "4/4 [==============================] - 0s 3ms/step - loss: 0.0918\n",
            "Epoch 1281/2000\n",
            "4/4 [==============================] - 0s 7ms/step - loss: 0.0932\n",
            "Epoch 1282/2000\n",
            "4/4 [==============================] - 0s 3ms/step - loss: 0.1033\n",
            "Epoch 1283/2000\n",
            "4/4 [==============================] - 0s 4ms/step - loss: 0.1030\n",
            "Epoch 1284/2000\n",
            "4/4 [==============================] - 0s 3ms/step - loss: 0.0986\n",
            "Epoch 1285/2000\n",
            "4/4 [==============================] - 0s 8ms/step - loss: 0.0892\n",
            "Epoch 1286/2000\n",
            "4/4 [==============================] - 0s 6ms/step - loss: 0.0969\n",
            "Epoch 1287/2000\n",
            "4/4 [==============================] - 0s 4ms/step - loss: 0.0894\n",
            "Epoch 1288/2000\n",
            "4/4 [==============================] - 0s 9ms/step - loss: 0.0873\n",
            "Epoch 1289/2000\n",
            "4/4 [==============================] - 0s 3ms/step - loss: 0.0958\n",
            "Epoch 1290/2000\n",
            "4/4 [==============================] - 0s 7ms/step - loss: 0.0808\n",
            "Epoch 1291/2000\n",
            "4/4 [==============================] - 0s 3ms/step - loss: 0.0880\n",
            "Epoch 1292/2000\n",
            "4/4 [==============================] - 0s 5ms/step - loss: 0.0946\n",
            "Epoch 1293/2000\n",
            "4/4 [==============================] - 0s 7ms/step - loss: 0.0822\n",
            "Epoch 1294/2000\n",
            "4/4 [==============================] - 0s 4ms/step - loss: 0.0871\n",
            "Epoch 1295/2000\n",
            "4/4 [==============================] - 0s 4ms/step - loss: 0.0961\n",
            "Epoch 1296/2000\n",
            "4/4 [==============================] - 0s 3ms/step - loss: 0.0863\n",
            "Epoch 1297/2000\n",
            "4/4 [==============================] - 0s 5ms/step - loss: 0.0847\n",
            "Epoch 1298/2000\n",
            "4/4 [==============================] - 0s 6ms/step - loss: 0.0843\n",
            "Epoch 1299/2000\n",
            "4/4 [==============================] - 0s 3ms/step - loss: 0.0947\n",
            "Epoch 1300/2000\n",
            "4/4 [==============================] - 0s 4ms/step - loss: 0.0930\n",
            "Epoch 1301/2000\n",
            "4/4 [==============================] - 0s 4ms/step - loss: 0.0859\n",
            "Epoch 1302/2000\n",
            "4/4 [==============================] - 0s 3ms/step - loss: 0.0848\n",
            "Epoch 1303/2000\n",
            "4/4 [==============================] - 0s 4ms/step - loss: 0.0771\n",
            "Epoch 1304/2000\n",
            "4/4 [==============================] - 0s 6ms/step - loss: 0.0918\n",
            "Epoch 1305/2000\n",
            "4/4 [==============================] - 0s 3ms/step - loss: 0.0788\n",
            "Epoch 1306/2000\n",
            "4/4 [==============================] - 0s 5ms/step - loss: 0.0945\n",
            "Epoch 1307/2000\n",
            "4/4 [==============================] - 0s 5ms/step - loss: 0.0812\n",
            "Epoch 1308/2000\n",
            "4/4 [==============================] - 0s 6ms/step - loss: 0.0812\n",
            "Epoch 1309/2000\n",
            "4/4 [==============================] - 0s 4ms/step - loss: 0.0887\n",
            "Epoch 1310/2000\n",
            "4/4 [==============================] - 0s 8ms/step - loss: 0.0894\n",
            "Epoch 1311/2000\n",
            "4/4 [==============================] - 0s 4ms/step - loss: 0.0805\n",
            "Epoch 1312/2000\n",
            "4/4 [==============================] - 0s 6ms/step - loss: 0.0878\n",
            "Epoch 1313/2000\n",
            "4/4 [==============================] - 0s 3ms/step - loss: 0.0752\n",
            "Epoch 1314/2000\n",
            "4/4 [==============================] - 0s 4ms/step - loss: 0.0881\n",
            "Epoch 1315/2000\n",
            "4/4 [==============================] - 0s 5ms/step - loss: 0.0749\n",
            "Epoch 1316/2000\n",
            "4/4 [==============================] - 0s 3ms/step - loss: 0.0746\n",
            "Epoch 1317/2000\n",
            "4/4 [==============================] - 0s 5ms/step - loss: 0.0785\n",
            "Epoch 1318/2000\n",
            "4/4 [==============================] - 0s 5ms/step - loss: 0.0739\n",
            "Epoch 1319/2000\n",
            "4/4 [==============================] - 0s 5ms/step - loss: 0.0879\n",
            "Epoch 1320/2000\n",
            "4/4 [==============================] - 0s 5ms/step - loss: 0.0735\n",
            "Epoch 1321/2000\n",
            "4/4 [==============================] - 0s 3ms/step - loss: 0.0773\n",
            "Epoch 1322/2000\n",
            "4/4 [==============================] - 0s 5ms/step - loss: 0.0732\n",
            "Epoch 1323/2000\n",
            "4/4 [==============================] - 0s 3ms/step - loss: 0.0866\n",
            "Epoch 1324/2000\n",
            "4/4 [==============================] - 0s 4ms/step - loss: 0.0841\n",
            "Epoch 1325/2000\n",
            "4/4 [==============================] - 0s 5ms/step - loss: 0.0789\n",
            "Epoch 1326/2000\n",
            "4/4 [==============================] - 0s 6ms/step - loss: 0.0844\n",
            "Epoch 1327/2000\n",
            "4/4 [==============================] - 0s 6ms/step - loss: 0.0854\n",
            "Epoch 1328/2000\n",
            "4/4 [==============================] - 0s 4ms/step - loss: 0.0849\n",
            "Epoch 1329/2000\n",
            "4/4 [==============================] - 0s 4ms/step - loss: 0.0847\n",
            "Epoch 1330/2000\n",
            "4/4 [==============================] - 0s 6ms/step - loss: 0.0746\n",
            "Epoch 1331/2000\n",
            "4/4 [==============================] - 0s 3ms/step - loss: 0.0758\n",
            "Epoch 1332/2000\n",
            "4/4 [==============================] - 0s 5ms/step - loss: 0.0740\n",
            "Epoch 1333/2000\n",
            "4/4 [==============================] - 0s 10ms/step - loss: 0.0740\n",
            "Epoch 1334/2000\n",
            "4/4 [==============================] - 0s 6ms/step - loss: 0.0832\n",
            "Epoch 1335/2000\n",
            "4/4 [==============================] - 0s 5ms/step - loss: 0.0767\n",
            "Epoch 1336/2000\n",
            "4/4 [==============================] - 0s 3ms/step - loss: 0.0697\n",
            "Epoch 1337/2000\n",
            "4/4 [==============================] - 0s 5ms/step - loss: 0.0753\n",
            "Epoch 1338/2000\n",
            "4/4 [==============================] - 0s 4ms/step - loss: 0.0751\n",
            "Epoch 1339/2000\n",
            "4/4 [==============================] - 0s 4ms/step - loss: 0.0721\n",
            "Epoch 1340/2000\n",
            "4/4 [==============================] - 0s 4ms/step - loss: 0.0733\n",
            "Epoch 1341/2000\n",
            "4/4 [==============================] - 0s 4ms/step - loss: 0.0799\n",
            "Epoch 1342/2000\n",
            "4/4 [==============================] - 0s 5ms/step - loss: 0.0721\n",
            "Epoch 1343/2000\n",
            "4/4 [==============================] - 0s 3ms/step - loss: 0.0804\n",
            "Epoch 1344/2000\n",
            "4/4 [==============================] - 0s 3ms/step - loss: 0.0709\n",
            "Epoch 1345/2000\n",
            "4/4 [==============================] - 0s 3ms/step - loss: 0.0787\n",
            "Epoch 1346/2000\n",
            "4/4 [==============================] - 0s 8ms/step - loss: 0.0710\n",
            "Epoch 1347/2000\n",
            "4/4 [==============================] - 0s 5ms/step - loss: 0.0706\n",
            "Epoch 1348/2000\n",
            "4/4 [==============================] - 0s 4ms/step - loss: 0.0704\n",
            "Epoch 1349/2000\n",
            "4/4 [==============================] - 0s 5ms/step - loss: 0.0697\n",
            "Epoch 1350/2000\n",
            "4/4 [==============================] - 0s 5ms/step - loss: 0.0785\n",
            "Epoch 1351/2000\n",
            "4/4 [==============================] - 0s 4ms/step - loss: 0.0652\n",
            "Epoch 1352/2000\n",
            "4/4 [==============================] - 0s 4ms/step - loss: 0.0694\n",
            "Epoch 1353/2000\n",
            "4/4 [==============================] - 0s 10ms/step - loss: 0.0692\n",
            "Epoch 1354/2000\n",
            "4/4 [==============================] - 0s 6ms/step - loss: 0.0752\n",
            "Epoch 1355/2000\n",
            "4/4 [==============================] - 0s 3ms/step - loss: 0.0645\n",
            "Epoch 1356/2000\n",
            "4/4 [==============================] - 0s 5ms/step - loss: 0.0641\n",
            "Epoch 1357/2000\n",
            "4/4 [==============================] - 0s 4ms/step - loss: 0.0681\n",
            "Epoch 1358/2000\n",
            "4/4 [==============================] - 0s 3ms/step - loss: 0.0781\n",
            "Epoch 1359/2000\n",
            "4/4 [==============================] - 0s 5ms/step - loss: 0.0749\n",
            "Epoch 1360/2000\n",
            "4/4 [==============================] - 0s 5ms/step - loss: 0.0747\n",
            "Epoch 1361/2000\n",
            "4/4 [==============================] - 0s 3ms/step - loss: 0.0671\n",
            "Epoch 1362/2000\n",
            "4/4 [==============================] - 0s 3ms/step - loss: 0.0639\n",
            "Epoch 1363/2000\n",
            "4/4 [==============================] - 0s 6ms/step - loss: 0.0667\n",
            "Epoch 1364/2000\n",
            "4/4 [==============================] - 0s 4ms/step - loss: 0.0671\n",
            "Epoch 1365/2000\n",
            "4/4 [==============================] - 0s 3ms/step - loss: 0.0762\n",
            "Epoch 1366/2000\n",
            "4/4 [==============================] - 0s 3ms/step - loss: 0.0729\n",
            "Epoch 1367/2000\n",
            "4/4 [==============================] - 0s 5ms/step - loss: 0.0663\n",
            "Epoch 1368/2000\n",
            "4/4 [==============================] - 0s 4ms/step - loss: 0.0661\n",
            "Epoch 1369/2000\n",
            "4/4 [==============================] - 0s 4ms/step - loss: 0.0613\n",
            "Epoch 1370/2000\n",
            "4/4 [==============================] - 0s 8ms/step - loss: 0.0719\n",
            "Epoch 1371/2000\n",
            "4/4 [==============================] - 0s 8ms/step - loss: 0.0744\n",
            "Epoch 1372/2000\n",
            "4/4 [==============================] - 0s 3ms/step - loss: 0.0743\n",
            "Epoch 1373/2000\n",
            "4/4 [==============================] - 0s 6ms/step - loss: 0.0741\n",
            "Epoch 1374/2000\n",
            "4/4 [==============================] - 0s 4ms/step - loss: 0.0636\n",
            "Epoch 1375/2000\n",
            "4/4 [==============================] - 0s 5ms/step - loss: 0.0734\n",
            "Epoch 1376/2000\n",
            "4/4 [==============================] - 0s 5ms/step - loss: 0.0633\n",
            "Epoch 1377/2000\n",
            "4/4 [==============================] - 0s 5ms/step - loss: 0.0644\n",
            "Epoch 1378/2000\n",
            "4/4 [==============================] - 0s 6ms/step - loss: 0.0627\n",
            "Epoch 1379/2000\n",
            "4/4 [==============================] - 0s 5ms/step - loss: 0.0596\n",
            "Epoch 1380/2000\n",
            "4/4 [==============================] - 0s 8ms/step - loss: 0.0704\n",
            "Epoch 1381/2000\n",
            "4/4 [==============================] - 0s 6ms/step - loss: 0.0681\n",
            "Epoch 1382/2000\n",
            "4/4 [==============================] - 0s 3ms/step - loss: 0.0589\n",
            "Epoch 1383/2000\n",
            "4/4 [==============================] - 0s 6ms/step - loss: 0.0605\n",
            "Epoch 1384/2000\n",
            "4/4 [==============================] - 0s 8ms/step - loss: 0.0710\n",
            "Epoch 1385/2000\n",
            "4/4 [==============================] - 0s 4ms/step - loss: 0.0672\n",
            "Epoch 1386/2000\n",
            "4/4 [==============================] - 0s 4ms/step - loss: 0.0621\n",
            "Epoch 1387/2000\n",
            "4/4 [==============================] - 0s 5ms/step - loss: 0.0610\n",
            "Epoch 1388/2000\n",
            "4/4 [==============================] - 0s 4ms/step - loss: 0.0605\n",
            "Epoch 1389/2000\n",
            "4/4 [==============================] - 0s 3ms/step - loss: 0.0575\n",
            "Epoch 1390/2000\n",
            "4/4 [==============================] - 0s 6ms/step - loss: 0.0670\n",
            "Epoch 1391/2000\n",
            "4/4 [==============================] - 0s 4ms/step - loss: 0.0614\n",
            "Epoch 1392/2000\n",
            "4/4 [==============================] - 0s 6ms/step - loss: 0.0585\n",
            "Epoch 1393/2000\n",
            "4/4 [==============================] - 0s 4ms/step - loss: 0.0604\n",
            "Epoch 1394/2000\n",
            "4/4 [==============================] - 0s 3ms/step - loss: 0.0686\n",
            "Epoch 1395/2000\n",
            "4/4 [==============================] - 0s 5ms/step - loss: 0.0548\n",
            "Epoch 1396/2000\n",
            "4/4 [==============================] - 0s 4ms/step - loss: 0.0557\n",
            "Epoch 1397/2000\n",
            "4/4 [==============================] - 0s 5ms/step - loss: 0.0589\n",
            "Epoch 1398/2000\n",
            "4/4 [==============================] - 0s 6ms/step - loss: 0.0546\n",
            "Epoch 1399/2000\n",
            "4/4 [==============================] - 0s 6ms/step - loss: 0.0675\n",
            "Epoch 1400/2000\n",
            "4/4 [==============================] - 0s 5ms/step - loss: 0.0671\n",
            "Epoch 1401/2000\n",
            "4/4 [==============================] - 0s 5ms/step - loss: 0.0583\n",
            "Epoch 1402/2000\n",
            "4/4 [==============================] - 0s 5ms/step - loss: 0.0603\n",
            "Epoch 1403/2000\n",
            "4/4 [==============================] - 0s 5ms/step - loss: 0.0578\n",
            "Epoch 1404/2000\n",
            "4/4 [==============================] - 0s 7ms/step - loss: 0.0587\n",
            "Epoch 1405/2000\n",
            "4/4 [==============================] - 0s 4ms/step - loss: 0.0662\n",
            "Epoch 1406/2000\n",
            "4/4 [==============================] - 0s 7ms/step - loss: 0.0543\n",
            "Epoch 1407/2000\n",
            "4/4 [==============================] - 0s 4ms/step - loss: 0.0623\n",
            "Epoch 1408/2000\n",
            "4/4 [==============================] - 0s 4ms/step - loss: 0.0640\n",
            "Epoch 1409/2000\n",
            "4/4 [==============================] - 0s 6ms/step - loss: 0.0571\n",
            "Epoch 1410/2000\n",
            "4/4 [==============================] - 0s 3ms/step - loss: 0.0561\n",
            "Epoch 1411/2000\n",
            "4/4 [==============================] - 0s 3ms/step - loss: 0.0631\n",
            "Epoch 1412/2000\n",
            "4/4 [==============================] - 0s 4ms/step - loss: 0.0631\n",
            "Epoch 1413/2000\n",
            "4/4 [==============================] - 0s 4ms/step - loss: 0.0534\n",
            "Epoch 1414/2000\n",
            "4/4 [==============================] - 0s 6ms/step - loss: 0.0606\n",
            "Epoch 1415/2000\n",
            "4/4 [==============================] - 0s 5ms/step - loss: 0.0614\n",
            "Epoch 1416/2000\n",
            "4/4 [==============================] - 0s 4ms/step - loss: 0.0514\n",
            "Epoch 1417/2000\n",
            "4/4 [==============================] - 0s 2ms/step - loss: 0.0552\n",
            "Epoch 1418/2000\n",
            "4/4 [==============================] - 0s 5ms/step - loss: 0.0609\n",
            "Epoch 1419/2000\n",
            "4/4 [==============================] - 0s 3ms/step - loss: 0.0614\n",
            "Epoch 1420/2000\n",
            "4/4 [==============================] - 0s 5ms/step - loss: 0.0507\n",
            "Epoch 1421/2000\n",
            "4/4 [==============================] - 0s 7ms/step - loss: 0.0591\n",
            "Epoch 1422/2000\n",
            "4/4 [==============================] - 0s 3ms/step - loss: 0.0591\n",
            "Epoch 1423/2000\n",
            "4/4 [==============================] - 0s 4ms/step - loss: 0.0508\n",
            "Epoch 1424/2000\n",
            "4/4 [==============================] - 0s 3ms/step - loss: 0.0549\n",
            "Epoch 1425/2000\n",
            "4/4 [==============================] - 0s 4ms/step - loss: 0.0531\n",
            "Epoch 1426/2000\n",
            "4/4 [==============================] - 0s 3ms/step - loss: 0.0520\n",
            "Epoch 1427/2000\n",
            "4/4 [==============================] - 0s 3ms/step - loss: 0.0581\n",
            "Epoch 1428/2000\n",
            "4/4 [==============================] - 0s 9ms/step - loss: 0.0545\n",
            "Epoch 1429/2000\n",
            "4/4 [==============================] - 0s 2ms/step - loss: 0.0584\n",
            "Epoch 1430/2000\n",
            "4/4 [==============================] - 0s 3ms/step - loss: 0.0524\n",
            "Epoch 1431/2000\n",
            "4/4 [==============================] - 0s 4ms/step - loss: 0.0494\n",
            "Epoch 1432/2000\n",
            "4/4 [==============================] - 0s 6ms/step - loss: 0.0589\n",
            "Epoch 1433/2000\n",
            "4/4 [==============================] - 0s 4ms/step - loss: 0.0599\n",
            "Epoch 1434/2000\n",
            "4/4 [==============================] - 0s 5ms/step - loss: 0.0566\n",
            "Epoch 1435/2000\n",
            "4/4 [==============================] - 0s 7ms/step - loss: 0.0478\n",
            "Epoch 1436/2000\n",
            "4/4 [==============================] - 0s 9ms/step - loss: 0.0513\n",
            "Epoch 1437/2000\n",
            "4/4 [==============================] - 0s 6ms/step - loss: 0.0484\n",
            "Epoch 1438/2000\n",
            "4/4 [==============================] - 0s 6ms/step - loss: 0.0575\n",
            "Epoch 1439/2000\n",
            "4/4 [==============================] - 0s 6ms/step - loss: 0.0565\n",
            "Epoch 1440/2000\n",
            "4/4 [==============================] - 0s 6ms/step - loss: 0.0507\n",
            "Epoch 1441/2000\n",
            "4/4 [==============================] - 0s 4ms/step - loss: 0.0505\n",
            "Epoch 1442/2000\n",
            "4/4 [==============================] - 0s 3ms/step - loss: 0.0508\n",
            "Epoch 1443/2000\n",
            "4/4 [==============================] - 0s 4ms/step - loss: 0.0580\n",
            "Epoch 1444/2000\n",
            "4/4 [==============================] - 0s 7ms/step - loss: 0.0467\n",
            "Epoch 1445/2000\n",
            "4/4 [==============================] - 0s 5ms/step - loss: 0.0472\n",
            "Epoch 1446/2000\n",
            "4/4 [==============================] - 0s 6ms/step - loss: 0.0474\n",
            "Epoch 1447/2000\n",
            "4/4 [==============================] - 0s 5ms/step - loss: 0.0503\n",
            "Epoch 1448/2000\n",
            "4/4 [==============================] - 0s 5ms/step - loss: 0.0474\n",
            "Epoch 1449/2000\n",
            "4/4 [==============================] - 0s 7ms/step - loss: 0.0509\n",
            "Epoch 1450/2000\n",
            "4/4 [==============================] - 0s 5ms/step - loss: 0.0467\n",
            "Epoch 1451/2000\n",
            "4/4 [==============================] - 0s 5ms/step - loss: 0.0480\n",
            "Epoch 1452/2000\n",
            "4/4 [==============================] - 0s 4ms/step - loss: 0.0487\n",
            "Epoch 1453/2000\n",
            "4/4 [==============================] - 0s 5ms/step - loss: 0.0548\n",
            "Epoch 1454/2000\n",
            "4/4 [==============================] - 0s 6ms/step - loss: 0.0491\n",
            "Epoch 1455/2000\n",
            "4/4 [==============================] - 0s 6ms/step - loss: 0.0528\n",
            "Epoch 1456/2000\n",
            "4/4 [==============================] - 0s 6ms/step - loss: 0.0485\n",
            "Epoch 1457/2000\n",
            "4/4 [==============================] - 0s 6ms/step - loss: 0.0457\n",
            "Epoch 1458/2000\n",
            "4/4 [==============================] - 0s 6ms/step - loss: 0.0452\n",
            "Epoch 1459/2000\n",
            "4/4 [==============================] - 0s 3ms/step - loss: 0.0476\n",
            "Epoch 1460/2000\n",
            "4/4 [==============================] - 0s 6ms/step - loss: 0.0440\n",
            "Epoch 1461/2000\n",
            "4/4 [==============================] - 0s 3ms/step - loss: 0.0476\n",
            "Epoch 1462/2000\n",
            "4/4 [==============================] - 0s 4ms/step - loss: 0.0475\n",
            "Epoch 1463/2000\n",
            "4/4 [==============================] - 0s 3ms/step - loss: 0.0452\n",
            "Epoch 1464/2000\n",
            "4/4 [==============================] - 0s 5ms/step - loss: 0.0451\n",
            "Epoch 1465/2000\n",
            "4/4 [==============================] - 0s 3ms/step - loss: 0.0526\n",
            "Epoch 1466/2000\n",
            "4/4 [==============================] - 0s 5ms/step - loss: 0.0537\n",
            "Epoch 1467/2000\n",
            "4/4 [==============================] - 0s 5ms/step - loss: 0.0439\n",
            "Epoch 1468/2000\n",
            "4/4 [==============================] - 0s 6ms/step - loss: 0.0438\n",
            "Epoch 1469/2000\n",
            "4/4 [==============================] - 0s 3ms/step - loss: 0.0431\n",
            "Epoch 1470/2000\n",
            "4/4 [==============================] - 0s 6ms/step - loss: 0.0510\n",
            "Epoch 1471/2000\n",
            "4/4 [==============================] - 0s 5ms/step - loss: 0.0438\n",
            "Epoch 1472/2000\n",
            "4/4 [==============================] - 0s 4ms/step - loss: 0.0469\n",
            "Epoch 1473/2000\n",
            "4/4 [==============================] - 0s 8ms/step - loss: 0.0430\n",
            "Epoch 1474/2000\n",
            "4/4 [==============================] - 0s 4ms/step - loss: 0.0469\n",
            "Epoch 1475/2000\n",
            "4/4 [==============================] - 0s 7ms/step - loss: 0.0468\n",
            "Epoch 1476/2000\n",
            "4/4 [==============================] - 0s 4ms/step - loss: 0.0507\n",
            "Epoch 1477/2000\n",
            "4/4 [==============================] - 0s 3ms/step - loss: 0.0449\n",
            "Epoch 1478/2000\n",
            "4/4 [==============================] - 0s 3ms/step - loss: 0.0454\n",
            "Epoch 1479/2000\n",
            "4/4 [==============================] - 0s 3ms/step - loss: 0.0450\n",
            "Epoch 1480/2000\n",
            "4/4 [==============================] - 0s 6ms/step - loss: 0.0445\n",
            "Epoch 1481/2000\n",
            "4/4 [==============================] - 0s 4ms/step - loss: 0.0444\n",
            "Epoch 1482/2000\n",
            "4/4 [==============================] - 0s 7ms/step - loss: 0.0511\n",
            "Epoch 1483/2000\n",
            "4/4 [==============================] - 0s 5ms/step - loss: 0.0424\n",
            "Epoch 1484/2000\n",
            "4/4 [==============================] - 0s 6ms/step - loss: 0.0440\n",
            "Epoch 1485/2000\n",
            "4/4 [==============================] - 0s 7ms/step - loss: 0.0444\n",
            "Epoch 1486/2000\n",
            "4/4 [==============================] - 0s 4ms/step - loss: 0.0478\n",
            "Epoch 1487/2000\n",
            "4/4 [==============================] - 0s 4ms/step - loss: 0.0484\n",
            "Epoch 1488/2000\n",
            "4/4 [==============================] - 0s 3ms/step - loss: 0.0445\n",
            "Epoch 1489/2000\n",
            "4/4 [==============================] - 0s 3ms/step - loss: 0.0432\n",
            "Epoch 1490/2000\n",
            "4/4 [==============================] - 0s 3ms/step - loss: 0.0473\n",
            "Epoch 1491/2000\n",
            "4/4 [==============================] - 0s 4ms/step - loss: 0.0486\n",
            "Epoch 1492/2000\n",
            "4/4 [==============================] - 0s 8ms/step - loss: 0.0428\n",
            "Epoch 1493/2000\n",
            "4/4 [==============================] - 0s 5ms/step - loss: 0.0433\n",
            "Epoch 1494/2000\n",
            "4/4 [==============================] - 0s 5ms/step - loss: 0.0473\n",
            "Epoch 1495/2000\n",
            "4/4 [==============================] - 0s 4ms/step - loss: 0.0444\n",
            "Epoch 1496/2000\n",
            "4/4 [==============================] - 0s 3ms/step - loss: 0.0438\n",
            "Epoch 1497/2000\n",
            "4/4 [==============================] - 0s 4ms/step - loss: 0.0407\n",
            "Epoch 1498/2000\n",
            "4/4 [==============================] - 0s 7ms/step - loss: 0.0402\n",
            "Epoch 1499/2000\n",
            "4/4 [==============================] - 0s 8ms/step - loss: 0.0423\n",
            "Epoch 1500/2000\n",
            "4/4 [==============================] - 0s 3ms/step - loss: 0.0396\n",
            "Epoch 1501/2000\n",
            "4/4 [==============================] - 0s 5ms/step - loss: 0.0436\n",
            "Epoch 1502/2000\n",
            "4/4 [==============================] - 0s 3ms/step - loss: 0.0429\n",
            "Epoch 1503/2000\n",
            "4/4 [==============================] - 0s 3ms/step - loss: 0.0388\n",
            "Epoch 1504/2000\n",
            "4/4 [==============================] - 0s 7ms/step - loss: 0.0417\n",
            "Epoch 1505/2000\n",
            "4/4 [==============================] - 0s 7ms/step - loss: 0.0404\n",
            "Epoch 1506/2000\n",
            "4/4 [==============================] - 0s 7ms/step - loss: 0.0462\n",
            "Epoch 1507/2000\n",
            "4/4 [==============================] - 0s 3ms/step - loss: 0.0421\n",
            "Epoch 1508/2000\n",
            "4/4 [==============================] - 0s 4ms/step - loss: 0.0454\n",
            "Epoch 1509/2000\n",
            "4/4 [==============================] - 0s 5ms/step - loss: 0.0446\n",
            "Epoch 1510/2000\n",
            "4/4 [==============================] - 0s 3ms/step - loss: 0.0405\n",
            "Epoch 1511/2000\n",
            "4/4 [==============================] - 0s 3ms/step - loss: 0.0379\n",
            "Epoch 1512/2000\n",
            "4/4 [==============================] - 0s 4ms/step - loss: 0.0395\n",
            "Epoch 1513/2000\n",
            "4/4 [==============================] - 0s 5ms/step - loss: 0.0463\n",
            "Epoch 1514/2000\n",
            "4/4 [==============================] - 0s 3ms/step - loss: 0.0451\n",
            "Epoch 1515/2000\n",
            "4/4 [==============================] - 0s 4ms/step - loss: 0.0378\n",
            "Epoch 1516/2000\n",
            "4/4 [==============================] - 0s 5ms/step - loss: 0.0391\n",
            "Epoch 1517/2000\n",
            "4/4 [==============================] - 0s 6ms/step - loss: 0.0383\n",
            "Epoch 1518/2000\n",
            "4/4 [==============================] - 0s 5ms/step - loss: 0.0440\n",
            "Epoch 1519/2000\n",
            "4/4 [==============================] - 0s 4ms/step - loss: 0.0394\n",
            "Epoch 1520/2000\n",
            "4/4 [==============================] - 0s 4ms/step - loss: 0.0438\n",
            "Epoch 1521/2000\n",
            "4/4 [==============================] - 0s 6ms/step - loss: 0.0444\n",
            "Epoch 1522/2000\n",
            "4/4 [==============================] - 0s 6ms/step - loss: 0.0404\n",
            "Epoch 1523/2000\n",
            "4/4 [==============================] - 0s 3ms/step - loss: 0.0449\n",
            "Epoch 1524/2000\n",
            "4/4 [==============================] - 0s 5ms/step - loss: 0.0393\n",
            "Epoch 1525/2000\n",
            "4/4 [==============================] - 0s 5ms/step - loss: 0.0389\n",
            "Epoch 1526/2000\n",
            "4/4 [==============================] - 0s 7ms/step - loss: 0.0435\n",
            "Epoch 1527/2000\n",
            "4/4 [==============================] - 0s 4ms/step - loss: 0.0385\n",
            "Epoch 1528/2000\n",
            "4/4 [==============================] - 0s 2ms/step - loss: 0.0422\n",
            "Epoch 1529/2000\n",
            "4/4 [==============================] - 0s 3ms/step - loss: 0.0370\n",
            "Epoch 1530/2000\n",
            "4/4 [==============================] - 0s 5ms/step - loss: 0.0387\n",
            "Epoch 1531/2000\n",
            "4/4 [==============================] - 0s 6ms/step - loss: 0.0439\n",
            "Epoch 1532/2000\n",
            "4/4 [==============================] - 0s 4ms/step - loss: 0.0356\n",
            "Epoch 1533/2000\n",
            "4/4 [==============================] - 0s 4ms/step - loss: 0.0428\n",
            "Epoch 1534/2000\n",
            "4/4 [==============================] - 0s 3ms/step - loss: 0.0364\n",
            "Epoch 1535/2000\n",
            "4/4 [==============================] - 0s 5ms/step - loss: 0.0349\n",
            "Epoch 1536/2000\n",
            "4/4 [==============================] - 0s 7ms/step - loss: 0.0393\n",
            "Epoch 1537/2000\n",
            "4/4 [==============================] - 0s 4ms/step - loss: 0.0416\n",
            "Epoch 1538/2000\n",
            "4/4 [==============================] - 0s 5ms/step - loss: 0.0378\n",
            "Epoch 1539/2000\n",
            "4/4 [==============================] - 0s 3ms/step - loss: 0.0372\n",
            "Epoch 1540/2000\n",
            "4/4 [==============================] - 0s 5ms/step - loss: 0.0388\n",
            "Epoch 1541/2000\n",
            "4/4 [==============================] - 0s 5ms/step - loss: 0.0371\n",
            "Epoch 1542/2000\n",
            "4/4 [==============================] - 0s 6ms/step - loss: 0.0368\n",
            "Epoch 1543/2000\n",
            "4/4 [==============================] - 0s 4ms/step - loss: 0.0410\n",
            "Epoch 1544/2000\n",
            "4/4 [==============================] - 0s 5ms/step - loss: 0.0354\n",
            "Epoch 1545/2000\n",
            "4/4 [==============================] - 0s 6ms/step - loss: 0.0351\n",
            "Epoch 1546/2000\n",
            "4/4 [==============================] - 0s 5ms/step - loss: 0.0357\n",
            "Epoch 1547/2000\n",
            "4/4 [==============================] - 0s 5ms/step - loss: 0.0405\n",
            "Epoch 1548/2000\n",
            "4/4 [==============================] - 0s 6ms/step - loss: 0.0419\n",
            "Epoch 1549/2000\n",
            "4/4 [==============================] - 0s 6ms/step - loss: 0.0402\n",
            "Epoch 1550/2000\n",
            "4/4 [==============================] - 0s 4ms/step - loss: 0.0335\n",
            "Epoch 1551/2000\n",
            "4/4 [==============================] - 0s 5ms/step - loss: 0.0340\n",
            "Epoch 1552/2000\n",
            "4/4 [==============================] - 0s 4ms/step - loss: 0.0392\n",
            "Epoch 1553/2000\n",
            "4/4 [==============================] - 0s 4ms/step - loss: 0.0398\n",
            "Epoch 1554/2000\n",
            "4/4 [==============================] - 0s 7ms/step - loss: 0.0361\n",
            "Epoch 1555/2000\n",
            "4/4 [==============================] - 0s 4ms/step - loss: 0.0336\n",
            "Epoch 1556/2000\n",
            "4/4 [==============================] - 0s 5ms/step - loss: 0.0347\n",
            "Epoch 1557/2000\n",
            "4/4 [==============================] - 0s 6ms/step - loss: 0.0386\n",
            "Epoch 1558/2000\n",
            "4/4 [==============================] - 0s 6ms/step - loss: 0.0354\n",
            "Epoch 1559/2000\n",
            "4/4 [==============================] - 0s 5ms/step - loss: 0.0363\n",
            "Epoch 1560/2000\n",
            "4/4 [==============================] - 0s 3ms/step - loss: 0.0329\n",
            "Epoch 1561/2000\n",
            "4/4 [==============================] - 0s 6ms/step - loss: 0.0395\n",
            "Epoch 1562/2000\n",
            "4/4 [==============================] - 0s 4ms/step - loss: 0.0348\n",
            "Epoch 1563/2000\n",
            "4/4 [==============================] - 0s 7ms/step - loss: 0.0348\n",
            "Epoch 1564/2000\n",
            "4/4 [==============================] - 0s 7ms/step - loss: 0.0350\n",
            "Epoch 1565/2000\n",
            "4/4 [==============================] - 0s 4ms/step - loss: 0.0385\n",
            "Epoch 1566/2000\n",
            "4/4 [==============================] - 0s 5ms/step - loss: 0.0348\n",
            "Epoch 1567/2000\n",
            "4/4 [==============================] - 0s 6ms/step - loss: 0.0343\n",
            "Epoch 1568/2000\n",
            "4/4 [==============================] - 0s 4ms/step - loss: 0.0353\n",
            "Epoch 1569/2000\n",
            "4/4 [==============================] - 0s 5ms/step - loss: 0.0324\n",
            "Epoch 1570/2000\n",
            "4/4 [==============================] - 0s 3ms/step - loss: 0.0351\n",
            "Epoch 1571/2000\n",
            "4/4 [==============================] - 0s 6ms/step - loss: 0.0373\n",
            "Epoch 1572/2000\n",
            "4/4 [==============================] - 0s 4ms/step - loss: 0.0325\n",
            "Epoch 1573/2000\n",
            "4/4 [==============================] - 0s 4ms/step - loss: 0.0371\n",
            "Epoch 1574/2000\n",
            "4/4 [==============================] - 0s 4ms/step - loss: 0.0379\n",
            "Epoch 1575/2000\n",
            "4/4 [==============================] - 0s 4ms/step - loss: 0.0374\n",
            "Epoch 1576/2000\n",
            "4/4 [==============================] - 0s 4ms/step - loss: 0.0335\n",
            "Epoch 1577/2000\n",
            "4/4 [==============================] - 0s 3ms/step - loss: 0.0372\n",
            "Epoch 1578/2000\n",
            "4/4 [==============================] - 0s 5ms/step - loss: 0.0333\n",
            "Epoch 1579/2000\n",
            "4/4 [==============================] - 0s 4ms/step - loss: 0.0337\n",
            "Epoch 1580/2000\n",
            "4/4 [==============================] - 0s 6ms/step - loss: 0.0347\n",
            "Epoch 1581/2000\n",
            "4/4 [==============================] - 0s 4ms/step - loss: 0.0381\n",
            "Epoch 1582/2000\n",
            "4/4 [==============================] - 0s 4ms/step - loss: 0.0333\n",
            "Epoch 1583/2000\n",
            "4/4 [==============================] - 0s 5ms/step - loss: 0.0366\n",
            "Epoch 1584/2000\n",
            "4/4 [==============================] - 0s 6ms/step - loss: 0.0311\n",
            "Epoch 1585/2000\n",
            "4/4 [==============================] - 0s 5ms/step - loss: 0.0331\n",
            "Epoch 1586/2000\n",
            "4/4 [==============================] - 0s 5ms/step - loss: 0.0309\n",
            "Epoch 1587/2000\n",
            "4/4 [==============================] - 0s 6ms/step - loss: 0.0356\n",
            "Epoch 1588/2000\n",
            "4/4 [==============================] - 0s 5ms/step - loss: 0.0374\n",
            "Epoch 1589/2000\n",
            "4/4 [==============================] - 0s 5ms/step - loss: 0.0306\n",
            "Epoch 1590/2000\n",
            "4/4 [==============================] - 0s 3ms/step - loss: 0.0324\n",
            "Epoch 1591/2000\n",
            "4/4 [==============================] - 0s 5ms/step - loss: 0.0372\n",
            "Epoch 1592/2000\n",
            "4/4 [==============================] - 0s 4ms/step - loss: 0.0371\n",
            "Epoch 1593/2000\n",
            "4/4 [==============================] - 0s 4ms/step - loss: 0.0310\n",
            "Epoch 1594/2000\n",
            "4/4 [==============================] - 0s 3ms/step - loss: 0.0297\n",
            "Epoch 1595/2000\n",
            "4/4 [==============================] - 0s 4ms/step - loss: 0.0321\n",
            "Epoch 1596/2000\n",
            "4/4 [==============================] - 0s 4ms/step - loss: 0.0295\n",
            "Epoch 1597/2000\n",
            "4/4 [==============================] - 0s 2ms/step - loss: 0.0353\n",
            "Epoch 1598/2000\n",
            "4/4 [==============================] - 0s 4ms/step - loss: 0.0297\n",
            "Epoch 1599/2000\n",
            "4/4 [==============================] - 0s 6ms/step - loss: 0.0350\n",
            "Epoch 1600/2000\n",
            "4/4 [==============================] - 0s 3ms/step - loss: 0.0363\n",
            "Epoch 1601/2000\n",
            "4/4 [==============================] - 0s 3ms/step - loss: 0.0349\n",
            "Epoch 1602/2000\n",
            "4/4 [==============================] - 0s 3ms/step - loss: 0.0317\n",
            "Epoch 1603/2000\n",
            "4/4 [==============================] - 0s 3ms/step - loss: 0.0361\n",
            "Epoch 1604/2000\n",
            "4/4 [==============================] - 0s 4ms/step - loss: 0.0341\n",
            "Epoch 1605/2000\n",
            "4/4 [==============================] - 0s 4ms/step - loss: 0.0310\n",
            "Epoch 1606/2000\n",
            "4/4 [==============================] - 0s 7ms/step - loss: 0.0338\n",
            "Epoch 1607/2000\n",
            "4/4 [==============================] - 0s 6ms/step - loss: 0.0308\n",
            "Epoch 1608/2000\n",
            "4/4 [==============================] - 0s 5ms/step - loss: 0.0286\n",
            "Epoch 1609/2000\n",
            "4/4 [==============================] - 0s 4ms/step - loss: 0.0285\n",
            "Epoch 1610/2000\n",
            "4/4 [==============================] - 0s 5ms/step - loss: 0.0290\n",
            "Epoch 1611/2000\n",
            "4/4 [==============================] - 0s 4ms/step - loss: 0.0305\n",
            "Epoch 1612/2000\n",
            "4/4 [==============================] - 0s 6ms/step - loss: 0.0289\n",
            "Epoch 1613/2000\n",
            "4/4 [==============================] - 0s 6ms/step - loss: 0.0337\n",
            "Epoch 1614/2000\n",
            "4/4 [==============================] - 0s 6ms/step - loss: 0.0307\n",
            "Epoch 1615/2000\n",
            "4/4 [==============================] - 0s 3ms/step - loss: 0.0312\n",
            "Epoch 1616/2000\n",
            "4/4 [==============================] - 0s 4ms/step - loss: 0.0331\n",
            "Epoch 1617/2000\n",
            "4/4 [==============================] - 0s 5ms/step - loss: 0.0285\n",
            "Epoch 1618/2000\n",
            "4/4 [==============================] - 0s 3ms/step - loss: 0.0304\n",
            "Epoch 1619/2000\n",
            "4/4 [==============================] - 0s 4ms/step - loss: 0.0336\n",
            "Epoch 1620/2000\n",
            "4/4 [==============================] - 0s 4ms/step - loss: 0.0286\n",
            "Epoch 1621/2000\n",
            "4/4 [==============================] - 0s 9ms/step - loss: 0.0288\n",
            "Epoch 1622/2000\n",
            "4/4 [==============================] - 0s 3ms/step - loss: 0.0298\n",
            "Epoch 1623/2000\n",
            "4/4 [==============================] - 0s 4ms/step - loss: 0.0305\n",
            "Epoch 1624/2000\n",
            "4/4 [==============================] - 0s 5ms/step - loss: 0.0297\n",
            "Epoch 1625/2000\n",
            "4/4 [==============================] - 0s 5ms/step - loss: 0.0274\n",
            "Epoch 1626/2000\n",
            "4/4 [==============================] - 0s 4ms/step - loss: 0.0279\n",
            "Epoch 1627/2000\n",
            "4/4 [==============================] - 0s 4ms/step - loss: 0.0284\n",
            "Epoch 1628/2000\n",
            "4/4 [==============================] - 0s 4ms/step - loss: 0.0277\n",
            "Epoch 1629/2000\n",
            "4/4 [==============================] - 0s 6ms/step - loss: 0.0294\n",
            "Epoch 1630/2000\n",
            "4/4 [==============================] - 0s 3ms/step - loss: 0.0281\n",
            "Epoch 1631/2000\n",
            "4/4 [==============================] - 0s 7ms/step - loss: 0.0275\n",
            "Epoch 1632/2000\n",
            "4/4 [==============================] - 0s 3ms/step - loss: 0.0278\n",
            "Epoch 1633/2000\n",
            "4/4 [==============================] - 0s 3ms/step - loss: 0.0317\n",
            "Epoch 1634/2000\n",
            "4/4 [==============================] - 0s 4ms/step - loss: 0.0282\n",
            "Epoch 1635/2000\n",
            "4/4 [==============================] - 0s 3ms/step - loss: 0.0301\n",
            "Epoch 1636/2000\n",
            "4/4 [==============================] - 0s 7ms/step - loss: 0.0287\n",
            "Epoch 1637/2000\n",
            "4/4 [==============================] - 0s 4ms/step - loss: 0.0289\n",
            "Epoch 1638/2000\n",
            "4/4 [==============================] - 0s 5ms/step - loss: 0.0295\n",
            "Epoch 1639/2000\n",
            "4/4 [==============================] - 0s 4ms/step - loss: 0.0328\n",
            "Epoch 1640/2000\n",
            "4/4 [==============================] - 0s 6ms/step - loss: 0.0264\n",
            "Epoch 1641/2000\n",
            "4/4 [==============================] - 0s 8ms/step - loss: 0.0274\n",
            "Epoch 1642/2000\n",
            "4/4 [==============================] - 0s 4ms/step - loss: 0.0313\n",
            "Epoch 1643/2000\n",
            "4/4 [==============================] - 0s 4ms/step - loss: 0.0262\n",
            "Epoch 1644/2000\n",
            "4/4 [==============================] - 0s 5ms/step - loss: 0.0323\n",
            "Epoch 1645/2000\n",
            "4/4 [==============================] - 0s 4ms/step - loss: 0.0282\n",
            "Epoch 1646/2000\n",
            "4/4 [==============================] - 0s 5ms/step - loss: 0.0260\n",
            "Epoch 1647/2000\n",
            "4/4 [==============================] - 0s 5ms/step - loss: 0.0292\n",
            "Epoch 1648/2000\n",
            "4/4 [==============================] - 0s 9ms/step - loss: 0.0264\n",
            "Epoch 1649/2000\n",
            "4/4 [==============================] - 0s 3ms/step - loss: 0.0308\n",
            "Epoch 1650/2000\n",
            "4/4 [==============================] - 0s 6ms/step - loss: 0.0307\n",
            "Epoch 1651/2000\n",
            "4/4 [==============================] - 0s 6ms/step - loss: 0.0286\n",
            "Epoch 1652/2000\n",
            "4/4 [==============================] - 0s 4ms/step - loss: 0.0279\n",
            "Epoch 1653/2000\n",
            "4/4 [==============================] - 0s 6ms/step - loss: 0.0266\n",
            "Epoch 1654/2000\n",
            "4/4 [==============================] - 0s 6ms/step - loss: 0.0316\n",
            "Epoch 1655/2000\n",
            "4/4 [==============================] - 0s 5ms/step - loss: 0.0309\n",
            "Epoch 1656/2000\n",
            "4/4 [==============================] - 0s 6ms/step - loss: 0.0299\n",
            "Epoch 1657/2000\n",
            "4/4 [==============================] - 0s 4ms/step - loss: 0.0281\n",
            "Epoch 1658/2000\n",
            "4/4 [==============================] - 0s 5ms/step - loss: 0.0298\n",
            "Epoch 1659/2000\n",
            "4/4 [==============================] - 0s 5ms/step - loss: 0.0280\n",
            "Epoch 1660/2000\n",
            "4/4 [==============================] - 0s 7ms/step - loss: 0.0311\n",
            "Epoch 1661/2000\n",
            "4/4 [==============================] - 0s 5ms/step - loss: 0.0264\n",
            "Epoch 1662/2000\n",
            "4/4 [==============================] - 0s 4ms/step - loss: 0.0310\n",
            "Epoch 1663/2000\n",
            "4/4 [==============================] - 0s 4ms/step - loss: 0.0268\n",
            "Epoch 1664/2000\n",
            "4/4 [==============================] - 0s 4ms/step - loss: 0.0254\n",
            "Epoch 1665/2000\n",
            "4/4 [==============================] - 0s 5ms/step - loss: 0.0257\n",
            "Epoch 1666/2000\n",
            "4/4 [==============================] - 0s 3ms/step - loss: 0.0291\n",
            "Epoch 1667/2000\n",
            "4/4 [==============================] - 0s 5ms/step - loss: 0.0267\n",
            "Epoch 1668/2000\n",
            "4/4 [==============================] - 0s 6ms/step - loss: 0.0300\n",
            "Epoch 1669/2000\n",
            "4/4 [==============================] - 0s 6ms/step - loss: 0.0266\n",
            "Epoch 1670/2000\n",
            "4/4 [==============================] - 0s 8ms/step - loss: 0.0272\n",
            "Epoch 1671/2000\n",
            "4/4 [==============================] - 0s 5ms/step - loss: 0.0303\n",
            "Epoch 1672/2000\n",
            "4/4 [==============================] - 0s 5ms/step - loss: 0.0244\n",
            "Epoch 1673/2000\n",
            "4/4 [==============================] - 0s 4ms/step - loss: 0.0301\n",
            "Epoch 1674/2000\n",
            "4/4 [==============================] - 0s 6ms/step - loss: 0.0291\n",
            "Epoch 1675/2000\n",
            "4/4 [==============================] - 0s 4ms/step - loss: 0.0256\n",
            "Epoch 1676/2000\n",
            "4/4 [==============================] - 0s 6ms/step - loss: 0.0260\n",
            "Epoch 1677/2000\n",
            "4/4 [==============================] - 0s 4ms/step - loss: 0.0249\n",
            "Epoch 1678/2000\n",
            "4/4 [==============================] - 0s 3ms/step - loss: 0.0284\n",
            "Epoch 1679/2000\n",
            "4/4 [==============================] - 0s 7ms/step - loss: 0.0267\n",
            "Epoch 1680/2000\n",
            "4/4 [==============================] - 0s 3ms/step - loss: 0.0261\n",
            "Epoch 1681/2000\n",
            "4/4 [==============================] - 0s 3ms/step - loss: 0.0239\n",
            "Epoch 1682/2000\n",
            "4/4 [==============================] - 0s 3ms/step - loss: 0.0268\n",
            "Epoch 1683/2000\n",
            "4/4 [==============================] - 0s 8ms/step - loss: 0.0256\n",
            "Epoch 1684/2000\n",
            "4/4 [==============================] - 0s 4ms/step - loss: 0.0255\n",
            "Epoch 1685/2000\n",
            "4/4 [==============================] - 0s 5ms/step - loss: 0.0288\n",
            "Epoch 1686/2000\n",
            "4/4 [==============================] - 0s 7ms/step - loss: 0.0262\n",
            "Epoch 1687/2000\n",
            "4/4 [==============================] - 0s 4ms/step - loss: 0.0262\n",
            "Epoch 1688/2000\n",
            "4/4 [==============================] - 0s 7ms/step - loss: 0.0265\n",
            "Epoch 1689/2000\n",
            "4/4 [==============================] - 0s 4ms/step - loss: 0.0244\n",
            "Epoch 1690/2000\n",
            "4/4 [==============================] - 0s 5ms/step - loss: 0.0247\n",
            "Epoch 1691/2000\n",
            "4/4 [==============================] - 0s 6ms/step - loss: 0.0274\n",
            "Epoch 1692/2000\n",
            "4/4 [==============================] - 0s 5ms/step - loss: 0.0236\n",
            "Epoch 1693/2000\n",
            "4/4 [==============================] - 0s 4ms/step - loss: 0.0250\n",
            "Epoch 1694/2000\n",
            "4/4 [==============================] - 0s 5ms/step - loss: 0.0273\n",
            "Epoch 1695/2000\n",
            "4/4 [==============================] - 0s 4ms/step - loss: 0.0244\n",
            "Epoch 1696/2000\n",
            "4/4 [==============================] - 0s 3ms/step - loss: 0.0281\n",
            "Epoch 1697/2000\n",
            "4/4 [==============================] - 0s 4ms/step - loss: 0.0250\n",
            "Epoch 1698/2000\n",
            "4/4 [==============================] - 0s 4ms/step - loss: 0.0255\n",
            "Epoch 1699/2000\n",
            "4/4 [==============================] - 0s 4ms/step - loss: 0.0248\n",
            "Epoch 1700/2000\n",
            "4/4 [==============================] - 0s 3ms/step - loss: 0.0276\n",
            "Epoch 1701/2000\n",
            "4/4 [==============================] - 0s 3ms/step - loss: 0.0276\n",
            "Epoch 1702/2000\n",
            "4/4 [==============================] - 0s 5ms/step - loss: 0.0236\n",
            "Epoch 1703/2000\n",
            "4/4 [==============================] - 0s 6ms/step - loss: 0.0252\n",
            "Epoch 1704/2000\n",
            "4/4 [==============================] - 0s 4ms/step - loss: 0.0227\n",
            "Epoch 1705/2000\n",
            "4/4 [==============================] - 0s 4ms/step - loss: 0.0265\n",
            "Epoch 1706/2000\n",
            "4/4 [==============================] - 0s 3ms/step - loss: 0.0273\n",
            "Epoch 1707/2000\n",
            "4/4 [==============================] - 0s 6ms/step - loss: 0.0237\n",
            "Epoch 1708/2000\n",
            "4/4 [==============================] - 0s 6ms/step - loss: 0.0265\n",
            "Epoch 1709/2000\n",
            "4/4 [==============================] - 0s 5ms/step - loss: 0.0244\n",
            "Epoch 1710/2000\n",
            "4/4 [==============================] - 0s 6ms/step - loss: 0.0241\n",
            "Epoch 1711/2000\n",
            "4/4 [==============================] - 0s 5ms/step - loss: 0.0231\n",
            "Epoch 1712/2000\n",
            "4/4 [==============================] - 0s 4ms/step - loss: 0.0271\n",
            "Epoch 1713/2000\n",
            "4/4 [==============================] - 0s 8ms/step - loss: 0.0239\n",
            "Epoch 1714/2000\n",
            "4/4 [==============================] - 0s 5ms/step - loss: 0.0261\n",
            "Epoch 1715/2000\n",
            "4/4 [==============================] - 0s 6ms/step - loss: 0.0246\n",
            "Epoch 1716/2000\n",
            "4/4 [==============================] - 0s 6ms/step - loss: 0.0240\n",
            "Epoch 1717/2000\n",
            "4/4 [==============================] - 0s 6ms/step - loss: 0.0272\n",
            "Epoch 1718/2000\n",
            "4/4 [==============================] - 0s 4ms/step - loss: 0.0258\n",
            "Epoch 1719/2000\n",
            "4/4 [==============================] - 0s 3ms/step - loss: 0.0238\n",
            "Epoch 1720/2000\n",
            "4/4 [==============================] - 0s 5ms/step - loss: 0.0258\n",
            "Epoch 1721/2000\n",
            "4/4 [==============================] - 0s 6ms/step - loss: 0.0246\n",
            "Epoch 1722/2000\n",
            "4/4 [==============================] - 0s 6ms/step - loss: 0.0237\n",
            "Epoch 1723/2000\n",
            "4/4 [==============================] - 0s 4ms/step - loss: 0.0269\n",
            "Epoch 1724/2000\n",
            "4/4 [==============================] - 0s 5ms/step - loss: 0.0221\n",
            "Epoch 1725/2000\n",
            "4/4 [==============================] - 0s 6ms/step - loss: 0.0221\n",
            "Epoch 1726/2000\n",
            "4/4 [==============================] - 0s 4ms/step - loss: 0.0225\n",
            "Epoch 1727/2000\n",
            "4/4 [==============================] - 0s 8ms/step - loss: 0.0231\n",
            "Epoch 1728/2000\n",
            "4/4 [==============================] - 0s 6ms/step - loss: 0.0231\n",
            "Epoch 1729/2000\n",
            "4/4 [==============================] - 0s 5ms/step - loss: 0.0232\n",
            "Epoch 1730/2000\n",
            "4/4 [==============================] - 0s 7ms/step - loss: 0.0241\n",
            "Epoch 1731/2000\n",
            "4/4 [==============================] - 0s 8ms/step - loss: 0.0233\n",
            "Epoch 1732/2000\n",
            "4/4 [==============================] - 0s 3ms/step - loss: 0.0233\n",
            "Epoch 1733/2000\n",
            "4/4 [==============================] - 0s 4ms/step - loss: 0.0224\n",
            "Epoch 1734/2000\n",
            "4/4 [==============================] - 0s 5ms/step - loss: 0.0263\n",
            "Epoch 1735/2000\n",
            "4/4 [==============================] - 0s 4ms/step - loss: 0.0262\n",
            "Epoch 1736/2000\n",
            "4/4 [==============================] - 0s 5ms/step - loss: 0.0230\n",
            "Epoch 1737/2000\n",
            "4/4 [==============================] - 0s 5ms/step - loss: 0.0215\n",
            "Epoch 1738/2000\n",
            "4/4 [==============================] - 0s 3ms/step - loss: 0.0254\n",
            "Epoch 1739/2000\n",
            "4/4 [==============================] - 0s 6ms/step - loss: 0.0228\n",
            "Epoch 1740/2000\n",
            "4/4 [==============================] - 0s 7ms/step - loss: 0.0251\n",
            "Epoch 1741/2000\n",
            "4/4 [==============================] - 0s 4ms/step - loss: 0.0249\n",
            "Epoch 1742/2000\n",
            "4/4 [==============================] - 0s 6ms/step - loss: 0.0246\n",
            "Epoch 1743/2000\n",
            "4/4 [==============================] - 0s 5ms/step - loss: 0.0226\n",
            "Epoch 1744/2000\n",
            "4/4 [==============================] - 0s 7ms/step - loss: 0.0226\n",
            "Epoch 1745/2000\n",
            "4/4 [==============================] - 0s 4ms/step - loss: 0.0230\n",
            "Epoch 1746/2000\n",
            "4/4 [==============================] - 0s 6ms/step - loss: 0.0250\n",
            "Epoch 1747/2000\n",
            "4/4 [==============================] - 0s 4ms/step - loss: 0.0209\n",
            "Epoch 1748/2000\n",
            "4/4 [==============================] - 0s 5ms/step - loss: 0.0255\n",
            "Epoch 1749/2000\n",
            "4/4 [==============================] - 0s 6ms/step - loss: 0.0221\n",
            "Epoch 1750/2000\n",
            "4/4 [==============================] - 0s 6ms/step - loss: 0.0221\n",
            "Epoch 1751/2000\n",
            "4/4 [==============================] - 0s 7ms/step - loss: 0.0223\n",
            "Epoch 1752/2000\n",
            "4/4 [==============================] - 0s 4ms/step - loss: 0.0240\n",
            "Epoch 1753/2000\n",
            "4/4 [==============================] - 0s 3ms/step - loss: 0.0222\n",
            "Epoch 1754/2000\n",
            "4/4 [==============================] - 0s 4ms/step - loss: 0.0243\n",
            "Epoch 1755/2000\n",
            "4/4 [==============================] - 0s 4ms/step - loss: 0.0212\n",
            "Epoch 1756/2000\n",
            "4/4 [==============================] - 0s 4ms/step - loss: 0.0246\n",
            "Epoch 1757/2000\n",
            "4/4 [==============================] - 0s 4ms/step - loss: 0.0209\n",
            "Epoch 1758/2000\n",
            "4/4 [==============================] - 0s 4ms/step - loss: 0.0220\n",
            "Epoch 1759/2000\n",
            "4/4 [==============================] - 0s 4ms/step - loss: 0.0219\n",
            "Epoch 1760/2000\n",
            "4/4 [==============================] - 0s 5ms/step - loss: 0.0208\n",
            "Epoch 1761/2000\n",
            "4/4 [==============================] - 0s 4ms/step - loss: 0.0249\n",
            "Epoch 1762/2000\n",
            "4/4 [==============================] - 0s 4ms/step - loss: 0.0240\n",
            "Epoch 1763/2000\n",
            "4/4 [==============================] - 0s 3ms/step - loss: 0.0210\n",
            "Epoch 1764/2000\n",
            "4/4 [==============================] - 0s 11ms/step - loss: 0.0240\n",
            "Epoch 1765/2000\n",
            "4/4 [==============================] - 0s 4ms/step - loss: 0.0234\n",
            "Epoch 1766/2000\n",
            "4/4 [==============================] - 0s 3ms/step - loss: 0.0241\n",
            "Epoch 1767/2000\n",
            "4/4 [==============================] - 0s 9ms/step - loss: 0.0220\n",
            "Epoch 1768/2000\n",
            "4/4 [==============================] - 0s 6ms/step - loss: 0.0214\n",
            "Epoch 1769/2000\n",
            "4/4 [==============================] - 0s 3ms/step - loss: 0.0208\n",
            "Epoch 1770/2000\n",
            "4/4 [==============================] - 0s 9ms/step - loss: 0.0215\n",
            "Epoch 1771/2000\n",
            "4/4 [==============================] - 0s 3ms/step - loss: 0.0215\n",
            "Epoch 1772/2000\n",
            "4/4 [==============================] - 0s 5ms/step - loss: 0.0234\n",
            "Epoch 1773/2000\n",
            "4/4 [==============================] - 0s 5ms/step - loss: 0.0210\n",
            "Epoch 1774/2000\n",
            "4/4 [==============================] - 0s 6ms/step - loss: 0.0234\n",
            "Epoch 1775/2000\n",
            "4/4 [==============================] - 0s 5ms/step - loss: 0.0219\n",
            "Epoch 1776/2000\n",
            "4/4 [==============================] - 0s 5ms/step - loss: 0.0201\n",
            "Epoch 1777/2000\n",
            "4/4 [==============================] - 0s 5ms/step - loss: 0.0194\n",
            "Epoch 1778/2000\n",
            "4/4 [==============================] - 0s 3ms/step - loss: 0.0196\n",
            "Epoch 1779/2000\n",
            "4/4 [==============================] - 0s 3ms/step - loss: 0.0230\n",
            "Epoch 1780/2000\n",
            "4/4 [==============================] - 0s 4ms/step - loss: 0.0210\n",
            "Epoch 1781/2000\n",
            "4/4 [==============================] - 0s 8ms/step - loss: 0.0225\n",
            "Epoch 1782/2000\n",
            "4/4 [==============================] - 0s 4ms/step - loss: 0.0216\n",
            "Epoch 1783/2000\n",
            "4/4 [==============================] - 0s 4ms/step - loss: 0.0208\n",
            "Epoch 1784/2000\n",
            "4/4 [==============================] - 0s 4ms/step - loss: 0.0208\n",
            "Epoch 1785/2000\n",
            "4/4 [==============================] - 0s 4ms/step - loss: 0.0236\n",
            "Epoch 1786/2000\n",
            "4/4 [==============================] - 0s 5ms/step - loss: 0.0199\n",
            "Epoch 1787/2000\n",
            "4/4 [==============================] - 0s 5ms/step - loss: 0.0211\n",
            "Epoch 1788/2000\n",
            "4/4 [==============================] - 0s 5ms/step - loss: 0.0190\n",
            "Epoch 1789/2000\n",
            "4/4 [==============================] - 0s 5ms/step - loss: 0.0196\n",
            "Epoch 1790/2000\n",
            "4/4 [==============================] - 0s 4ms/step - loss: 0.0205\n",
            "Epoch 1791/2000\n",
            "4/4 [==============================] - 0s 5ms/step - loss: 0.0191\n",
            "Epoch 1792/2000\n",
            "4/4 [==============================] - 0s 4ms/step - loss: 0.0195\n",
            "Epoch 1793/2000\n",
            "4/4 [==============================] - 0s 5ms/step - loss: 0.0226\n",
            "Epoch 1794/2000\n",
            "4/4 [==============================] - 0s 6ms/step - loss: 0.0194\n",
            "Epoch 1795/2000\n",
            "4/4 [==============================] - 0s 4ms/step - loss: 0.0201\n",
            "Epoch 1796/2000\n",
            "4/4 [==============================] - 0s 6ms/step - loss: 0.0195\n",
            "Epoch 1797/2000\n",
            "4/4 [==============================] - 0s 6ms/step - loss: 0.0219\n",
            "Epoch 1798/2000\n",
            "4/4 [==============================] - 0s 7ms/step - loss: 0.0224\n",
            "Epoch 1799/2000\n",
            "4/4 [==============================] - 0s 7ms/step - loss: 0.0203\n",
            "Epoch 1800/2000\n",
            "4/4 [==============================] - 0s 4ms/step - loss: 0.0189\n",
            "Epoch 1801/2000\n",
            "4/4 [==============================] - 0s 4ms/step - loss: 0.0201\n",
            "Epoch 1802/2000\n",
            "4/4 [==============================] - 0s 6ms/step - loss: 0.0198\n",
            "Epoch 1803/2000\n",
            "4/4 [==============================] - 0s 5ms/step - loss: 0.0199\n",
            "Epoch 1804/2000\n",
            "4/4 [==============================] - 0s 5ms/step - loss: 0.0188\n",
            "Epoch 1805/2000\n",
            "4/4 [==============================] - 0s 4ms/step - loss: 0.0219\n",
            "Epoch 1806/2000\n",
            "4/4 [==============================] - 0s 7ms/step - loss: 0.0183\n",
            "Epoch 1807/2000\n",
            "4/4 [==============================] - 0s 4ms/step - loss: 0.0222\n",
            "Epoch 1808/2000\n",
            "4/4 [==============================] - 0s 3ms/step - loss: 0.0186\n",
            "Epoch 1809/2000\n",
            "4/4 [==============================] - 0s 3ms/step - loss: 0.0202\n",
            "Epoch 1810/2000\n",
            "4/4 [==============================] - 0s 5ms/step - loss: 0.0184\n",
            "Epoch 1811/2000\n",
            "4/4 [==============================] - 0s 4ms/step - loss: 0.0221\n",
            "Epoch 1812/2000\n",
            "4/4 [==============================] - 0s 5ms/step - loss: 0.0224\n",
            "Epoch 1813/2000\n",
            "4/4 [==============================] - 0s 6ms/step - loss: 0.0212\n",
            "Epoch 1814/2000\n",
            "4/4 [==============================] - 0s 4ms/step - loss: 0.0223\n",
            "Epoch 1815/2000\n",
            "4/4 [==============================] - 0s 7ms/step - loss: 0.0189\n",
            "Epoch 1816/2000\n",
            "4/4 [==============================] - 0s 4ms/step - loss: 0.0222\n",
            "Epoch 1817/2000\n",
            "4/4 [==============================] - 0s 5ms/step - loss: 0.0196\n",
            "Epoch 1818/2000\n",
            "4/4 [==============================] - 0s 5ms/step - loss: 0.0185\n",
            "Epoch 1819/2000\n",
            "4/4 [==============================] - 0s 4ms/step - loss: 0.0220\n",
            "Epoch 1820/2000\n",
            "4/4 [==============================] - 0s 4ms/step - loss: 0.0193\n",
            "Epoch 1821/2000\n",
            "4/4 [==============================] - 0s 6ms/step - loss: 0.0198\n",
            "Epoch 1822/2000\n",
            "4/4 [==============================] - 0s 5ms/step - loss: 0.0200\n",
            "Epoch 1823/2000\n",
            "4/4 [==============================] - 0s 5ms/step - loss: 0.0180\n",
            "Epoch 1824/2000\n",
            "4/4 [==============================] - 0s 6ms/step - loss: 0.0180\n",
            "Epoch 1825/2000\n",
            "4/4 [==============================] - 0s 4ms/step - loss: 0.0213\n",
            "Epoch 1826/2000\n",
            "4/4 [==============================] - 0s 3ms/step - loss: 0.0214\n",
            "Epoch 1827/2000\n",
            "4/4 [==============================] - 0s 6ms/step - loss: 0.0189\n",
            "Epoch 1828/2000\n",
            "4/4 [==============================] - 0s 3ms/step - loss: 0.0216\n",
            "Epoch 1829/2000\n",
            "4/4 [==============================] - 0s 4ms/step - loss: 0.0190\n",
            "Epoch 1830/2000\n",
            "4/4 [==============================] - 0s 4ms/step - loss: 0.0178\n",
            "Epoch 1831/2000\n",
            "4/4 [==============================] - 0s 5ms/step - loss: 0.0189\n",
            "Epoch 1832/2000\n",
            "4/4 [==============================] - 0s 6ms/step - loss: 0.0191\n",
            "Epoch 1833/2000\n",
            "4/4 [==============================] - 0s 5ms/step - loss: 0.0177\n",
            "Epoch 1834/2000\n",
            "4/4 [==============================] - 0s 3ms/step - loss: 0.0188\n",
            "Epoch 1835/2000\n",
            "4/4 [==============================] - 0s 5ms/step - loss: 0.0173\n",
            "Epoch 1836/2000\n",
            "4/4 [==============================] - 0s 4ms/step - loss: 0.0187\n",
            "Epoch 1837/2000\n",
            "4/4 [==============================] - 0s 4ms/step - loss: 0.0187\n",
            "Epoch 1838/2000\n",
            "4/4 [==============================] - 0s 4ms/step - loss: 0.0210\n",
            "Epoch 1839/2000\n",
            "4/4 [==============================] - 0s 5ms/step - loss: 0.0175\n",
            "Epoch 1840/2000\n",
            "4/4 [==============================] - 0s 3ms/step - loss: 0.0174\n",
            "Epoch 1841/2000\n",
            "4/4 [==============================] - 0s 6ms/step - loss: 0.0179\n",
            "Epoch 1842/2000\n",
            "4/4 [==============================] - 0s 6ms/step - loss: 0.0192\n",
            "Epoch 1843/2000\n",
            "4/4 [==============================] - 0s 5ms/step - loss: 0.0206\n",
            "Epoch 1844/2000\n",
            "4/4 [==============================] - 0s 4ms/step - loss: 0.0207\n",
            "Epoch 1845/2000\n",
            "4/4 [==============================] - 0s 4ms/step - loss: 0.0184\n",
            "Epoch 1846/2000\n",
            "4/4 [==============================] - 0s 4ms/step - loss: 0.0177\n",
            "Epoch 1847/2000\n",
            "4/4 [==============================] - 0s 5ms/step - loss: 0.0202\n",
            "Epoch 1848/2000\n",
            "4/4 [==============================] - 0s 4ms/step - loss: 0.0209\n",
            "Epoch 1849/2000\n",
            "4/4 [==============================] - 0s 3ms/step - loss: 0.0183\n",
            "Epoch 1850/2000\n",
            "4/4 [==============================] - 0s 5ms/step - loss: 0.0183\n",
            "Epoch 1851/2000\n",
            "4/4 [==============================] - 0s 4ms/step - loss: 0.0168\n",
            "Epoch 1852/2000\n",
            "4/4 [==============================] - 0s 3ms/step - loss: 0.0180\n",
            "Epoch 1853/2000\n",
            "4/4 [==============================] - 0s 4ms/step - loss: 0.0186\n",
            "Epoch 1854/2000\n",
            "4/4 [==============================] - 0s 4ms/step - loss: 0.0196\n",
            "Epoch 1855/2000\n",
            "4/4 [==============================] - 0s 5ms/step - loss: 0.0174\n",
            "Epoch 1856/2000\n",
            "4/4 [==============================] - 0s 4ms/step - loss: 0.0185\n",
            "Epoch 1857/2000\n",
            "4/4 [==============================] - 0s 3ms/step - loss: 0.0178\n",
            "Epoch 1858/2000\n",
            "4/4 [==============================] - 0s 4ms/step - loss: 0.0206\n",
            "Epoch 1859/2000\n",
            "4/4 [==============================] - 0s 7ms/step - loss: 0.0172\n",
            "Epoch 1860/2000\n",
            "4/4 [==============================] - 0s 5ms/step - loss: 0.0181\n",
            "Epoch 1861/2000\n",
            "4/4 [==============================] - 0s 5ms/step - loss: 0.0179\n",
            "Epoch 1862/2000\n",
            "4/4 [==============================] - 0s 6ms/step - loss: 0.0194\n",
            "Epoch 1863/2000\n",
            "4/4 [==============================] - 0s 9ms/step - loss: 0.0178\n",
            "Epoch 1864/2000\n",
            "4/4 [==============================] - 0s 4ms/step - loss: 0.0197\n",
            "Epoch 1865/2000\n",
            "4/4 [==============================] - 0s 4ms/step - loss: 0.0196\n",
            "Epoch 1866/2000\n",
            "4/4 [==============================] - 0s 4ms/step - loss: 0.0177\n",
            "Epoch 1867/2000\n",
            "4/4 [==============================] - 0s 4ms/step - loss: 0.0177\n",
            "Epoch 1868/2000\n",
            "4/4 [==============================] - 0s 5ms/step - loss: 0.0198\n",
            "Epoch 1869/2000\n",
            "4/4 [==============================] - 0s 4ms/step - loss: 0.0163\n",
            "Epoch 1870/2000\n",
            "4/4 [==============================] - 0s 5ms/step - loss: 0.0200\n",
            "Epoch 1871/2000\n",
            "4/4 [==============================] - 0s 5ms/step - loss: 0.0171\n",
            "Epoch 1872/2000\n",
            "4/4 [==============================] - 0s 7ms/step - loss: 0.0200\n",
            "Epoch 1873/2000\n",
            "4/4 [==============================] - 0s 5ms/step - loss: 0.0164\n",
            "Epoch 1874/2000\n",
            "4/4 [==============================] - 0s 7ms/step - loss: 0.0180\n",
            "Epoch 1875/2000\n",
            "4/4 [==============================] - 0s 4ms/step - loss: 0.0188\n",
            "Epoch 1876/2000\n",
            "4/4 [==============================] - 0s 5ms/step - loss: 0.0191\n",
            "Epoch 1877/2000\n",
            "4/4 [==============================] - 0s 9ms/step - loss: 0.0163\n",
            "Epoch 1878/2000\n",
            "4/4 [==============================] - 0s 6ms/step - loss: 0.0175\n",
            "Epoch 1879/2000\n",
            "4/4 [==============================] - 0s 5ms/step - loss: 0.0197\n",
            "Epoch 1880/2000\n",
            "4/4 [==============================] - 0s 8ms/step - loss: 0.0162\n",
            "Epoch 1881/2000\n",
            "4/4 [==============================] - 0s 3ms/step - loss: 0.0173\n",
            "Epoch 1882/2000\n",
            "4/4 [==============================] - 0s 4ms/step - loss: 0.0189\n",
            "Epoch 1883/2000\n",
            "4/4 [==============================] - 0s 3ms/step - loss: 0.0165\n",
            "Epoch 1884/2000\n",
            "4/4 [==============================] - 0s 4ms/step - loss: 0.0193\n",
            "Epoch 1885/2000\n",
            "4/4 [==============================] - 0s 4ms/step - loss: 0.0172\n",
            "Epoch 1886/2000\n",
            "4/4 [==============================] - 0s 6ms/step - loss: 0.0189\n",
            "Epoch 1887/2000\n",
            "4/4 [==============================] - 0s 4ms/step - loss: 0.0171\n",
            "Epoch 1888/2000\n",
            "4/4 [==============================] - 0s 3ms/step - loss: 0.0188\n",
            "Epoch 1889/2000\n",
            "4/4 [==============================] - 0s 3ms/step - loss: 0.0170\n",
            "Epoch 1890/2000\n",
            "4/4 [==============================] - 0s 5ms/step - loss: 0.0187\n",
            "Epoch 1891/2000\n",
            "4/4 [==============================] - 0s 3ms/step - loss: 0.0193\n",
            "Epoch 1892/2000\n",
            "4/4 [==============================] - 0s 4ms/step - loss: 0.0160\n",
            "Epoch 1893/2000\n",
            "4/4 [==============================] - 0s 5ms/step - loss: 0.0162\n",
            "Epoch 1894/2000\n",
            "4/4 [==============================] - 0s 3ms/step - loss: 0.0169\n",
            "Epoch 1895/2000\n",
            "4/4 [==============================] - 0s 6ms/step - loss: 0.0182\n",
            "Epoch 1896/2000\n",
            "4/4 [==============================] - 0s 6ms/step - loss: 0.0168\n",
            "Epoch 1897/2000\n",
            "4/4 [==============================] - 0s 7ms/step - loss: 0.0185\n",
            "Epoch 1898/2000\n",
            "4/4 [==============================] - 0s 4ms/step - loss: 0.0163\n",
            "Epoch 1899/2000\n",
            "4/4 [==============================] - 0s 5ms/step - loss: 0.0158\n",
            "Epoch 1900/2000\n",
            "4/4 [==============================] - 0s 4ms/step - loss: 0.0191\n",
            "Epoch 1901/2000\n",
            "4/4 [==============================] - 0s 4ms/step - loss: 0.0165\n",
            "Epoch 1902/2000\n",
            "4/4 [==============================] - 0s 8ms/step - loss: 0.0189\n",
            "Epoch 1903/2000\n",
            "4/4 [==============================] - 0s 3ms/step - loss: 0.0183\n",
            "Epoch 1904/2000\n",
            "4/4 [==============================] - 0s 6ms/step - loss: 0.0153\n",
            "Epoch 1905/2000\n",
            "4/4 [==============================] - 0s 5ms/step - loss: 0.0166\n",
            "Epoch 1906/2000\n",
            "4/4 [==============================] - 0s 4ms/step - loss: 0.0189\n",
            "Epoch 1907/2000\n",
            "4/4 [==============================] - 0s 3ms/step - loss: 0.0183\n",
            "Epoch 1908/2000\n",
            "4/4 [==============================] - 0s 6ms/step - loss: 0.0165\n",
            "Epoch 1909/2000\n",
            "4/4 [==============================] - 0s 4ms/step - loss: 0.0165\n",
            "Epoch 1910/2000\n",
            "4/4 [==============================] - 0s 5ms/step - loss: 0.0155\n",
            "Epoch 1911/2000\n",
            "4/4 [==============================] - 0s 4ms/step - loss: 0.0164\n",
            "Epoch 1912/2000\n",
            "4/4 [==============================] - 0s 4ms/step - loss: 0.0154\n",
            "Epoch 1913/2000\n",
            "4/4 [==============================] - 0s 3ms/step - loss: 0.0183\n",
            "Epoch 1914/2000\n",
            "4/4 [==============================] - 0s 7ms/step - loss: 0.0153\n",
            "Epoch 1915/2000\n",
            "4/4 [==============================] - 0s 4ms/step - loss: 0.0164\n",
            "Epoch 1916/2000\n",
            "4/4 [==============================] - 0s 5ms/step - loss: 0.0163\n",
            "Epoch 1917/2000\n",
            "4/4 [==============================] - 0s 4ms/step - loss: 0.0152\n",
            "Epoch 1918/2000\n",
            "4/4 [==============================] - 0s 7ms/step - loss: 0.0184\n",
            "Epoch 1919/2000\n",
            "4/4 [==============================] - 0s 4ms/step - loss: 0.0155\n",
            "Epoch 1920/2000\n",
            "4/4 [==============================] - 0s 6ms/step - loss: 0.0183\n",
            "Epoch 1921/2000\n",
            "4/4 [==============================] - 0s 5ms/step - loss: 0.0160\n",
            "Epoch 1922/2000\n",
            "4/4 [==============================] - 0s 5ms/step - loss: 0.0159\n",
            "Epoch 1923/2000\n",
            "4/4 [==============================] - 0s 5ms/step - loss: 0.0151\n",
            "Epoch 1924/2000\n",
            "4/4 [==============================] - 0s 5ms/step - loss: 0.0173\n",
            "Epoch 1925/2000\n",
            "4/4 [==============================] - 0s 4ms/step - loss: 0.0150\n",
            "Epoch 1926/2000\n",
            "4/4 [==============================] - 0s 3ms/step - loss: 0.0182\n",
            "Epoch 1927/2000\n",
            "4/4 [==============================] - 0s 7ms/step - loss: 0.0147\n",
            "Epoch 1928/2000\n",
            "4/4 [==============================] - 0s 5ms/step - loss: 0.0181\n",
            "Epoch 1929/2000\n",
            "4/4 [==============================] - 0s 3ms/step - loss: 0.0175\n",
            "Epoch 1930/2000\n",
            "4/4 [==============================] - 0s 5ms/step - loss: 0.0180\n",
            "Epoch 1931/2000\n",
            "4/4 [==============================] - 0s 9ms/step - loss: 0.0146\n",
            "Epoch 1932/2000\n",
            "4/4 [==============================] - 0s 5ms/step - loss: 0.0152\n",
            "Epoch 1933/2000\n",
            "4/4 [==============================] - 0s 7ms/step - loss: 0.0175\n",
            "Epoch 1934/2000\n",
            "4/4 [==============================] - 0s 3ms/step - loss: 0.0171\n",
            "Epoch 1935/2000\n",
            "4/4 [==============================] - 0s 3ms/step - loss: 0.0171\n",
            "Epoch 1936/2000\n",
            "4/4 [==============================] - 0s 9ms/step - loss: 0.0170\n",
            "Epoch 1937/2000\n",
            "4/4 [==============================] - 0s 7ms/step - loss: 0.0179\n",
            "Epoch 1938/2000\n",
            "4/4 [==============================] - 0s 4ms/step - loss: 0.0157\n",
            "Epoch 1939/2000\n",
            "4/4 [==============================] - 0s 4ms/step - loss: 0.0160\n",
            "Epoch 1940/2000\n",
            "4/4 [==============================] - 0s 3ms/step - loss: 0.0156\n",
            "Epoch 1941/2000\n",
            "4/4 [==============================] - 0s 8ms/step - loss: 0.0172\n",
            "Epoch 1942/2000\n",
            "4/4 [==============================] - 0s 5ms/step - loss: 0.0156\n",
            "Epoch 1943/2000\n",
            "4/4 [==============================] - 0s 4ms/step - loss: 0.0161\n",
            "Epoch 1944/2000\n",
            "4/4 [==============================] - 0s 3ms/step - loss: 0.0170\n",
            "Epoch 1945/2000\n",
            "4/4 [==============================] - 0s 4ms/step - loss: 0.0156\n",
            "Epoch 1946/2000\n",
            "4/4 [==============================] - 0s 3ms/step - loss: 0.0176\n",
            "Epoch 1947/2000\n",
            "4/4 [==============================] - 0s 5ms/step - loss: 0.0153\n",
            "Epoch 1948/2000\n",
            "4/4 [==============================] - 0s 3ms/step - loss: 0.0148\n",
            "Epoch 1949/2000\n",
            "4/4 [==============================] - 0s 4ms/step - loss: 0.0148\n",
            "Epoch 1950/2000\n",
            "4/4 [==============================] - 0s 7ms/step - loss: 0.0175\n",
            "Epoch 1951/2000\n",
            "4/4 [==============================] - 0s 5ms/step - loss: 0.0144\n",
            "Epoch 1952/2000\n",
            "4/4 [==============================] - 0s 8ms/step - loss: 0.0165\n",
            "Epoch 1953/2000\n",
            "4/4 [==============================] - 0s 4ms/step - loss: 0.0157\n",
            "Epoch 1954/2000\n",
            "4/4 [==============================] - 0s 4ms/step - loss: 0.0144\n",
            "Epoch 1955/2000\n",
            "4/4 [==============================] - 0s 4ms/step - loss: 0.0153\n",
            "Epoch 1956/2000\n",
            "4/4 [==============================] - 0s 6ms/step - loss: 0.0151\n",
            "Epoch 1957/2000\n",
            "4/4 [==============================] - 0s 4ms/step - loss: 0.0173\n",
            "Epoch 1958/2000\n",
            "4/4 [==============================] - 0s 3ms/step - loss: 0.0150\n",
            "Epoch 1959/2000\n",
            "4/4 [==============================] - 0s 6ms/step - loss: 0.0147\n",
            "Epoch 1960/2000\n",
            "4/4 [==============================] - 0s 6ms/step - loss: 0.0164\n",
            "Epoch 1961/2000\n",
            "4/4 [==============================] - 0s 8ms/step - loss: 0.0163\n",
            "Epoch 1962/2000\n",
            "4/4 [==============================] - 0s 4ms/step - loss: 0.0139\n",
            "Epoch 1963/2000\n",
            "4/4 [==============================] - 0s 5ms/step - loss: 0.0151\n",
            "Epoch 1964/2000\n",
            "4/4 [==============================] - 0s 6ms/step - loss: 0.0149\n",
            "Epoch 1965/2000\n",
            "4/4 [==============================] - 0s 4ms/step - loss: 0.0162\n",
            "Epoch 1966/2000\n",
            "4/4 [==============================] - 0s 4ms/step - loss: 0.0148\n",
            "Epoch 1967/2000\n",
            "4/4 [==============================] - 0s 7ms/step - loss: 0.0148\n",
            "Epoch 1968/2000\n",
            "4/4 [==============================] - 0s 4ms/step - loss: 0.0140\n",
            "Epoch 1969/2000\n",
            "4/4 [==============================] - 0s 6ms/step - loss: 0.0149\n",
            "Epoch 1970/2000\n",
            "4/4 [==============================] - 0s 4ms/step - loss: 0.0147\n",
            "Epoch 1971/2000\n",
            "4/4 [==============================] - 0s 7ms/step - loss: 0.0152\n",
            "Epoch 1972/2000\n",
            "4/4 [==============================] - 0s 4ms/step - loss: 0.0150\n",
            "Epoch 1973/2000\n",
            "4/4 [==============================] - 0s 4ms/step - loss: 0.0149\n",
            "Epoch 1974/2000\n",
            "4/4 [==============================] - 0s 3ms/step - loss: 0.0166\n",
            "Epoch 1975/2000\n",
            "4/4 [==============================] - 0s 6ms/step - loss: 0.0165\n",
            "Epoch 1976/2000\n",
            "4/4 [==============================] - 0s 3ms/step - loss: 0.0160\n",
            "Epoch 1977/2000\n",
            "4/4 [==============================] - 0s 6ms/step - loss: 0.0163\n",
            "Epoch 1978/2000\n",
            "4/4 [==============================] - 0s 6ms/step - loss: 0.0162\n",
            "Epoch 1979/2000\n",
            "4/4 [==============================] - 0s 5ms/step - loss: 0.0141\n",
            "Epoch 1980/2000\n",
            "4/4 [==============================] - 0s 6ms/step - loss: 0.0150\n",
            "Epoch 1981/2000\n",
            "4/4 [==============================] - 0s 4ms/step - loss: 0.0145\n",
            "Epoch 1982/2000\n",
            "4/4 [==============================] - 0s 5ms/step - loss: 0.0146\n",
            "Epoch 1983/2000\n",
            "4/4 [==============================] - 0s 4ms/step - loss: 0.0162\n",
            "Epoch 1984/2000\n",
            "4/4 [==============================] - 0s 5ms/step - loss: 0.0140\n",
            "Epoch 1985/2000\n",
            "4/4 [==============================] - 0s 4ms/step - loss: 0.0139\n",
            "Epoch 1986/2000\n",
            "4/4 [==============================] - 0s 3ms/step - loss: 0.0145\n",
            "Epoch 1987/2000\n",
            "4/4 [==============================] - 0s 6ms/step - loss: 0.0145\n",
            "Epoch 1988/2000\n",
            "4/4 [==============================] - 0s 6ms/step - loss: 0.0136\n",
            "Epoch 1989/2000\n",
            "4/4 [==============================] - 0s 6ms/step - loss: 0.0144\n",
            "Epoch 1990/2000\n",
            "4/4 [==============================] - 0s 4ms/step - loss: 0.0144\n",
            "Epoch 1991/2000\n",
            "4/4 [==============================] - 0s 5ms/step - loss: 0.0148\n",
            "Epoch 1992/2000\n",
            "4/4 [==============================] - 0s 6ms/step - loss: 0.0133\n",
            "Epoch 1993/2000\n",
            "4/4 [==============================] - 0s 5ms/step - loss: 0.0155\n",
            "Epoch 1994/2000\n",
            "4/4 [==============================] - 0s 11ms/step - loss: 0.0145\n",
            "Epoch 1995/2000\n",
            "4/4 [==============================] - 0s 6ms/step - loss: 0.0141\n",
            "Epoch 1996/2000\n",
            "4/4 [==============================] - 0s 5ms/step - loss: 0.0147\n",
            "Epoch 1997/2000\n",
            "4/4 [==============================] - 0s 4ms/step - loss: 0.0154\n",
            "Epoch 1998/2000\n",
            "4/4 [==============================] - 0s 4ms/step - loss: 0.0162\n",
            "Epoch 1999/2000\n",
            "4/4 [==============================] - 0s 4ms/step - loss: 0.0131\n",
            "Epoch 2000/2000\n",
            "4/4 [==============================] - 0s 6ms/step - loss: 0.0142\n"
          ],
          "name": "stdout"
        }
      ]
    },
    {
      "cell_type": "code",
      "metadata": {
        "id": "0ZuQIfAZgXzD",
        "colab": {
          "base_uri": "https://localhost:8080/"
        },
        "outputId": "5e104c5f-5d06-4746-ccbe-85d9b80f6182"
      },
      "source": [
        "model.predict(X4)"
      ],
      "execution_count": null,
      "outputs": [
        {
          "output_type": "execute_result",
          "data": {
            "text/plain": [
              "array([[0.10670046],\n",
              "       [0.8884891 ],\n",
              "       [0.8619171 ],\n",
              "       [0.12251947]], dtype=float32)"
            ]
          },
          "metadata": {
            "tags": []
          },
          "execution_count": 88
        }
      ]
    },
    {
      "cell_type": "markdown",
      "metadata": {
        "id": "NgHTUlX68Fyk"
      },
      "source": [
        "## 시각화 사용"
      ]
    },
    {
      "cell_type": "code",
      "metadata": {
        "id": "a8azIYHQ8H16",
        "colab": {
          "base_uri": "https://localhost:8080/",
          "height": 262
        },
        "outputId": "4f99d7fa-9b2a-4c1a-fdc1-f2e1119194c0"
      },
      "source": [
        "import matplotlib.pyplot as plt\n",
        "plt.style.use('seaborn-white')\n",
        "\n",
        "x= range(50)\n",
        "y = tf.random.normal([50], 0, 1)\n",
        "plt.plot(x, y)\n",
        "plt.show()"
      ],
      "execution_count": null,
      "outputs": [
        {
          "output_type": "display_data",
          "data": {
            "image/png": "[encoded data removed]",
            "text/plain": [
              "<Figure size 432x288 with 1 Axes>"
            ]
          },
          "metadata": {
            "tags": []
          }
        }
      ]
    },
    {
      "cell_type": "code",
      "metadata": {
        "id": "hX-S0ZvF8Hq6",
        "colab": {
          "base_uri": "https://localhost:8080/",
          "height": 262
        },
        "outputId": "a9f2c2ce-f364-4789-b145-9aa3839543d4"
      },
      "source": [
        "x= range(50)\n",
        "y = tf.random.normal([50], 0, 1)\n",
        "plt.plot(x, y, 'ro')\n",
        "plt.show()"
      ],
      "execution_count": null,
      "outputs": [
        {
          "output_type": "display_data",
          "data": {
            "image/png": "[encoded data removed]",
            "text/plain": [
              "<Figure size 432x288 with 1 Axes>"
            ]
          },
          "metadata": {
            "tags": []
          }
        }
      ]
    },
    {
      "cell_type": "code",
      "metadata": {
        "id": "2teBa4878XEI",
        "colab": {
          "base_uri": "https://localhost:8080/",
          "height": 262
        },
        "outputId": "79457670-5388-406e-8f7a-bf29769ad1ed"
      },
      "source": [
        "x= range(30)\n",
        "y = tf.random.normal([30], 0, 1)\n",
        "plt.plot(x, y, 'g-')\n",
        "plt.show()"
      ],
      "execution_count": null,
      "outputs": [
        {
          "output_type": "display_data",
          "data": {
            "image/png": "[encoded data removed]",
            "text/plain": [
              "<Figure size 432x288 with 1 Axes>"
            ]
          },
          "metadata": {
            "tags": []
          }
        }
      ]
    },
    {
      "cell_type": "code",
      "metadata": {
        "id": "43W0ygJj8XA1",
        "colab": {
          "base_uri": "https://localhost:8080/",
          "height": 262
        },
        "outputId": "b9aac8ca-f687-4ad0-964b-f766f35fc596"
      },
      "source": [
        "x= range(50)\n",
        "y = tf.random.normal([50], 0, 1)\n",
        "plt.plot(x, y, 'b--')\n",
        "plt.show()"
      ],
      "execution_count": null,
      "outputs": [
        {
          "output_type": "display_data",
          "data": {
            "image/png": "[encoded data removed]",
            "text/plain": [
              "<Figure size 432x288 with 1 Axes>"
            ]
          },
          "metadata": {
            "tags": []
          }
        }
      ]
    },
    {
      "cell_type": "code",
      "metadata": {
        "id": "HkF8DN5a8fWR",
        "colab": {
          "base_uri": "https://localhost:8080/",
          "height": 262
        },
        "outputId": "83d2c7a0-d3b1-4746-d721-998c1462513b"
      },
      "source": [
        "random_normal = tf.random.normal([10000], 0, 1)\n",
        "plt.hist(random_normal, bins = 100)\n",
        "plt.show()"
      ],
      "execution_count": null,
      "outputs": [
        {
          "output_type": "display_data",
          "data": {
            "image/png": "[encoded data removed]",
            "text/plain": [
              "<Figure size 432x288 with 1 Axes>"
            ]
          },
          "metadata": {
            "tags": []
          }
        }
      ]
    },
    {
      "cell_type": "markdown",
      "metadata": {
        "id": "aL-QTl5Q8mdB"
      },
      "source": [
        "### XOR Gate의 'LOSS' 시각화\n"
      ]
    },
    {
      "cell_type": "code",
      "metadata": {
        "id": "vs8dlY1o8iby",
        "colab": {
          "base_uri": "https://localhost:8080/",
          "height": 262
        },
        "outputId": "b29b53c4-db92-4f38-bee1-3dd49376a49a"
      },
      "source": [
        "plt.plot(history.history['loss']); # 위에서 XOR 게이트 한것을 시각화함 로쓰 함수를 시각화 한 것임"
      ],
      "execution_count": null,
      "outputs": [
        {
          "output_type": "display_data",
          "data": {
            "image/png": "[encoded data removed]",
            "text/plain": [
              "<Figure size 432x288 with 1 Axes>"
            ]
          },
          "metadata": {
            "tags": []
          }
        }
      ]
    },
    {
      "cell_type": "code",
      "metadata": {
        "id": "OB6dP1FTknnQ"
      },
      "source": [
        ""
      ],
      "execution_count": null,
      "outputs": []
    }
  ]
}